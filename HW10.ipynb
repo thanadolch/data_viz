{
  "nbformat": 4,
  "nbformat_minor": 0,
  "metadata": {
    "colab": {
      "name": "Untitled49.ipynb",
      "provenance": [],
      "authorship_tag": "ABX9TyO5OZUo3PtbBolZIkgfjFRC",
      "include_colab_link": true
    },
    "kernelspec": {
      "display_name": "Python 3",
      "name": "python3"
    },
    "language_info": {
      "name": "python"
    }
  },
  "cells": [
    {
      "cell_type": "markdown",
      "metadata": {
        "id": "view-in-github",
        "colab_type": "text"
      },
      "source": [
        "<a href=\"https://colab.research.google.com/github/thanadolch/data_viz/blob/main/HW10.ipynb\" target=\"_parent\"><img src=\"https://colab.research.google.com/assets/colab-badge.svg\" alt=\"Open In Colab\"/></a>"
      ]
    },
    {
      "cell_type": "code",
      "metadata": {
        "id": "wDBr6w3yWybs",
        "colab": {
          "base_uri": "https://localhost:8080/"
        },
        "outputId": "34db51c0-1557-4c94-eb40-204d413f570a"
      },
      "source": [
        "from google.colab import drive\n",
        "drive.mount('/content/drive')"
      ],
      "execution_count": 1,
      "outputs": [
        {
          "output_type": "stream",
          "text": [
            "Mounted at /content/drive\n"
          ],
          "name": "stdout"
        }
      ]
    },
    {
      "cell_type": "code",
      "metadata": {
        "id": "IEqaivizW8m4"
      },
      "source": [
        "import pandas as pd\n",
        "import os\n",
        "import datetime as dt\n",
        "import matplotlib.pyplot as plt\n",
        "from datetime import datetime\n",
        "from datetime import time"
      ],
      "execution_count": 2,
      "outputs": []
    },
    {
      "cell_type": "code",
      "metadata": {
        "id": "tjbRXCu-X6IQ"
      },
      "source": [
        "path = '/content/drive/My Drive/DVZ'"
      ],
      "execution_count": 3,
      "outputs": []
    },
    {
      "cell_type": "code",
      "metadata": {
        "colab": {
          "base_uri": "https://localhost:8080/",
          "height": 534
        },
        "id": "CP8XmZ0RYHi2",
        "outputId": "cb48c121-24fb-4cdf-87aa-adf05b96c2e0"
      },
      "source": [
        "search_request = pd.read_csv(os.path.join(path,'search_request.csv'))\n",
        "search_request.head()"
      ],
      "execution_count": 4,
      "outputs": [
        {
          "output_type": "stream",
          "text": [
            "/usr/local/lib/python3.7/dist-packages/IPython/core/interactiveshell.py:2718: DtypeWarning: Columns (7,8,9) have mixed types.Specify dtype option on import or set low_memory=False.\n",
            "  interactivity=interactivity, compiler=compiler, result=result)\n"
          ],
          "name": "stderr"
        },
        {
          "output_type": "execute_result",
          "data": {
            "text/html": [
              "<div>\n",
              "<style scoped>\n",
              "    .dataframe tbody tr th:only-of-type {\n",
              "        vertical-align: middle;\n",
              "    }\n",
              "\n",
              "    .dataframe tbody tr th {\n",
              "        vertical-align: top;\n",
              "    }\n",
              "\n",
              "    .dataframe thead th {\n",
              "        text-align: right;\n",
              "    }\n",
              "</style>\n",
              "<table border=\"1\" class=\"dataframe\">\n",
              "  <thead>\n",
              "    <tr style=\"text-align: right;\">\n",
              "      <th></th>\n",
              "      <th>Unnamed: 0</th>\n",
              "      <th>search_id</th>\n",
              "      <th>search_timestamp</th>\n",
              "      <th>user_agent</th>\n",
              "      <th>q</th>\n",
              "      <th>user_id</th>\n",
              "      <th>session_id</th>\n",
              "      <th>number_of_result</th>\n",
              "      <th>lat</th>\n",
              "      <th>long</th>\n",
              "    </tr>\n",
              "  </thead>\n",
              "  <tbody>\n",
              "    <tr>\n",
              "      <th>0</th>\n",
              "      <td>0</td>\n",
              "      <td>683de889-f923-494e-9d46-44a3d67b7259</td>\n",
              "      <td>2018-06-14 12:34:35.449</td>\n",
              "      <td>Wongnai/8.17.3 rv:8.17.3.3921 (iPhone5,4; iOS;...</td>\n",
              "      <td>NaN</td>\n",
              "      <td>NaN</td>\n",
              "      <td>5lqjjikta19d296mo7g2h1k86p</td>\n",
              "      <td>18</td>\n",
              "      <td>12.6347</td>\n",
              "      <td>101.463</td>\n",
              "    </tr>\n",
              "    <tr>\n",
              "      <th>1</th>\n",
              "      <td>1</td>\n",
              "      <td>4a811230-ffa4-4631-a4c8-5d0394137d02</td>\n",
              "      <td>2018-06-14 17:11:19.469</td>\n",
              "      <td>Mozilla/5.0 (iPhone; CPU iPhone OS 11_4 like M...</td>\n",
              "      <td>NaN</td>\n",
              "      <td>NaN</td>\n",
              "      <td>1r3iotmp0o9slom91stdt9vivc</td>\n",
              "      <td>10</td>\n",
              "      <td>14.8009</td>\n",
              "      <td>102.534</td>\n",
              "    </tr>\n",
              "    <tr>\n",
              "      <th>2</th>\n",
              "      <td>2</td>\n",
              "      <td>7ad6ee8e-438e-4bea-9183-74dcef9e358e</td>\n",
              "      <td>2018-06-14 13:22:31.736</td>\n",
              "      <td>Mozilla/5.0 (Linux; Android 7.0; SAMSUNG SM-J7...</td>\n",
              "      <td>NaN</td>\n",
              "      <td>NaN</td>\n",
              "      <td>5ci1eo4v5u9dha4ppgu94ue7p6</td>\n",
              "      <td>8</td>\n",
              "      <td>13.7383</td>\n",
              "      <td>100.371</td>\n",
              "    </tr>\n",
              "    <tr>\n",
              "      <th>3</th>\n",
              "      <td>3</td>\n",
              "      <td>0c17a5f5-fa89-40f4-ae94-a8659268f827</td>\n",
              "      <td>2018-06-02 12:37:27.331</td>\n",
              "      <td>Mozilla/5.0 (Linux; Android 7.1.1; SM-N950F Bu...</td>\n",
              "      <td>NaN</td>\n",
              "      <td>NaN</td>\n",
              "      <td>39n535qgje9kpojp0grhfj8umk</td>\n",
              "      <td>12</td>\n",
              "      <td>12.6669</td>\n",
              "      <td>101.861</td>\n",
              "    </tr>\n",
              "    <tr>\n",
              "      <th>4</th>\n",
              "      <td>4</td>\n",
              "      <td>6870dc3a-5602-44fc-80ed-df0a7783df9d</td>\n",
              "      <td>2018-06-02 11:19:22.404</td>\n",
              "      <td>Mozilla/5.0 (iPhone; CPU iPhone OS 11_3_1 like...</td>\n",
              "      <td>NaN</td>\n",
              "      <td>NaN</td>\n",
              "      <td>5pa03h6lj691to60erver1l8o4</td>\n",
              "      <td>14</td>\n",
              "      <td>12.2372</td>\n",
              "      <td>99.88</td>\n",
              "    </tr>\n",
              "  </tbody>\n",
              "</table>\n",
              "</div>"
            ],
            "text/plain": [
              "   Unnamed: 0                             search_id  ...      lat     long\n",
              "0           0  683de889-f923-494e-9d46-44a3d67b7259  ...  12.6347  101.463\n",
              "1           1  4a811230-ffa4-4631-a4c8-5d0394137d02  ...  14.8009  102.534\n",
              "2           2  7ad6ee8e-438e-4bea-9183-74dcef9e358e  ...  13.7383  100.371\n",
              "3           3  0c17a5f5-fa89-40f4-ae94-a8659268f827  ...  12.6669  101.861\n",
              "4           4  6870dc3a-5602-44fc-80ed-df0a7783df9d  ...  12.2372    99.88\n",
              "\n",
              "[5 rows x 10 columns]"
            ]
          },
          "metadata": {
            "tags": []
          },
          "execution_count": 4
        }
      ]
    },
    {
      "cell_type": "code",
      "metadata": {
        "colab": {
          "base_uri": "https://localhost:8080/"
        },
        "id": "u7g3jb6xak62",
        "outputId": "03038dca-5867-4d3f-8d25-fecf45f33cce"
      },
      "source": [
        "search_request['search_timestamp'] = [i.strftime('%Y-%m-%d') if isinstance(i,datetime) else i for i in search_request['search_timestamp']]\n",
        "type(search_request.iloc[2,2])"
      ],
      "execution_count": 5,
      "outputs": [
        {
          "output_type": "execute_result",
          "data": {
            "text/plain": [
              "str"
            ]
          },
          "metadata": {
            "tags": []
          },
          "execution_count": 5
        }
      ]
    },
    {
      "cell_type": "code",
      "metadata": {
        "colab": {
          "base_uri": "https://localhost:8080/",
          "height": 501
        },
        "id": "lbFD2JdQYbXL",
        "outputId": "b46ec8e3-4f39-48c0-873d-a3c78d87ed99"
      },
      "source": [
        "search_request['search_timestamp'] = pd.to_datetime(search_request['search_timestamp'],format ='%Y/%m/%d %H:%M:%S.%f',errors='coerce')\n",
        "search_request.head()"
      ],
      "execution_count": 6,
      "outputs": [
        {
          "output_type": "execute_result",
          "data": {
            "text/html": [
              "<div>\n",
              "<style scoped>\n",
              "    .dataframe tbody tr th:only-of-type {\n",
              "        vertical-align: middle;\n",
              "    }\n",
              "\n",
              "    .dataframe tbody tr th {\n",
              "        vertical-align: top;\n",
              "    }\n",
              "\n",
              "    .dataframe thead th {\n",
              "        text-align: right;\n",
              "    }\n",
              "</style>\n",
              "<table border=\"1\" class=\"dataframe\">\n",
              "  <thead>\n",
              "    <tr style=\"text-align: right;\">\n",
              "      <th></th>\n",
              "      <th>Unnamed: 0</th>\n",
              "      <th>search_id</th>\n",
              "      <th>search_timestamp</th>\n",
              "      <th>user_agent</th>\n",
              "      <th>q</th>\n",
              "      <th>user_id</th>\n",
              "      <th>session_id</th>\n",
              "      <th>number_of_result</th>\n",
              "      <th>lat</th>\n",
              "      <th>long</th>\n",
              "    </tr>\n",
              "  </thead>\n",
              "  <tbody>\n",
              "    <tr>\n",
              "      <th>0</th>\n",
              "      <td>0</td>\n",
              "      <td>683de889-f923-494e-9d46-44a3d67b7259</td>\n",
              "      <td>2018-06-14 12:34:35.449</td>\n",
              "      <td>Wongnai/8.17.3 rv:8.17.3.3921 (iPhone5,4; iOS;...</td>\n",
              "      <td>NaN</td>\n",
              "      <td>NaN</td>\n",
              "      <td>5lqjjikta19d296mo7g2h1k86p</td>\n",
              "      <td>18</td>\n",
              "      <td>12.6347</td>\n",
              "      <td>101.463</td>\n",
              "    </tr>\n",
              "    <tr>\n",
              "      <th>1</th>\n",
              "      <td>1</td>\n",
              "      <td>4a811230-ffa4-4631-a4c8-5d0394137d02</td>\n",
              "      <td>2018-06-14 17:11:19.469</td>\n",
              "      <td>Mozilla/5.0 (iPhone; CPU iPhone OS 11_4 like M...</td>\n",
              "      <td>NaN</td>\n",
              "      <td>NaN</td>\n",
              "      <td>1r3iotmp0o9slom91stdt9vivc</td>\n",
              "      <td>10</td>\n",
              "      <td>14.8009</td>\n",
              "      <td>102.534</td>\n",
              "    </tr>\n",
              "    <tr>\n",
              "      <th>2</th>\n",
              "      <td>2</td>\n",
              "      <td>7ad6ee8e-438e-4bea-9183-74dcef9e358e</td>\n",
              "      <td>2018-06-14 13:22:31.736</td>\n",
              "      <td>Mozilla/5.0 (Linux; Android 7.0; SAMSUNG SM-J7...</td>\n",
              "      <td>NaN</td>\n",
              "      <td>NaN</td>\n",
              "      <td>5ci1eo4v5u9dha4ppgu94ue7p6</td>\n",
              "      <td>8</td>\n",
              "      <td>13.7383</td>\n",
              "      <td>100.371</td>\n",
              "    </tr>\n",
              "    <tr>\n",
              "      <th>3</th>\n",
              "      <td>3</td>\n",
              "      <td>0c17a5f5-fa89-40f4-ae94-a8659268f827</td>\n",
              "      <td>2018-06-02 12:37:27.331</td>\n",
              "      <td>Mozilla/5.0 (Linux; Android 7.1.1; SM-N950F Bu...</td>\n",
              "      <td>NaN</td>\n",
              "      <td>NaN</td>\n",
              "      <td>39n535qgje9kpojp0grhfj8umk</td>\n",
              "      <td>12</td>\n",
              "      <td>12.6669</td>\n",
              "      <td>101.861</td>\n",
              "    </tr>\n",
              "    <tr>\n",
              "      <th>4</th>\n",
              "      <td>4</td>\n",
              "      <td>6870dc3a-5602-44fc-80ed-df0a7783df9d</td>\n",
              "      <td>2018-06-02 11:19:22.404</td>\n",
              "      <td>Mozilla/5.0 (iPhone; CPU iPhone OS 11_3_1 like...</td>\n",
              "      <td>NaN</td>\n",
              "      <td>NaN</td>\n",
              "      <td>5pa03h6lj691to60erver1l8o4</td>\n",
              "      <td>14</td>\n",
              "      <td>12.2372</td>\n",
              "      <td>99.88</td>\n",
              "    </tr>\n",
              "  </tbody>\n",
              "</table>\n",
              "</div>"
            ],
            "text/plain": [
              "   Unnamed: 0                             search_id  ...      lat     long\n",
              "0           0  683de889-f923-494e-9d46-44a3d67b7259  ...  12.6347  101.463\n",
              "1           1  4a811230-ffa4-4631-a4c8-5d0394137d02  ...  14.8009  102.534\n",
              "2           2  7ad6ee8e-438e-4bea-9183-74dcef9e358e  ...  13.7383  100.371\n",
              "3           3  0c17a5f5-fa89-40f4-ae94-a8659268f827  ...  12.6669  101.861\n",
              "4           4  6870dc3a-5602-44fc-80ed-df0a7783df9d  ...  12.2372    99.88\n",
              "\n",
              "[5 rows x 10 columns]"
            ]
          },
          "metadata": {
            "tags": []
          },
          "execution_count": 6
        }
      ]
    },
    {
      "cell_type": "code",
      "metadata": {
        "colab": {
          "base_uri": "https://localhost:8080/"
        },
        "id": "5qKCkawaZvdg",
        "outputId": "676c589b-1ccc-4507-cf26-9e98e55f2e70"
      },
      "source": [
        "type(search_request.iloc[2,2])"
      ],
      "execution_count": 7,
      "outputs": [
        {
          "output_type": "execute_result",
          "data": {
            "text/plain": [
              "pandas._libs.tslibs.timestamps.Timestamp"
            ]
          },
          "metadata": {
            "tags": []
          },
          "execution_count": 7
        }
      ]
    },
    {
      "cell_type": "code",
      "metadata": {
        "id": "crzDW_NFeXp9"
      },
      "source": [
        "times = search_request['search_timestamp'].dt.time"
      ],
      "execution_count": 8,
      "outputs": []
    },
    {
      "cell_type": "code",
      "metadata": {
        "colab": {
          "base_uri": "https://localhost:8080/"
        },
        "id": "islPcTLLej-p",
        "outputId": "36a8071e-5fab-47a5-ef9c-793358f794c0"
      },
      "source": [
        "type(times[2])"
      ],
      "execution_count": 9,
      "outputs": [
        {
          "output_type": "execute_result",
          "data": {
            "text/plain": [
              "datetime.time"
            ]
          },
          "metadata": {
            "tags": []
          },
          "execution_count": 9
        }
      ]
    },
    {
      "cell_type": "code",
      "metadata": {
        "id": "KuO9jcdUfREW"
      },
      "source": [
        "search_request['times'] = times"
      ],
      "execution_count": 10,
      "outputs": []
    },
    {
      "cell_type": "code",
      "metadata": {
        "id": "dQJ2uJtmeMRN"
      },
      "source": [
        "from datetime import time"
      ],
      "execution_count": 11,
      "outputs": []
    },
    {
      "cell_type": "code",
      "metadata": {
        "id": "IZF7b-xccnNp"
      },
      "source": [
        "search1 = search_request[search_request['times'] >= time(hour=11,minute=00,second=00)]\n",
        "search2 = search1[search1['times'] < time(hour=12,minute=00,second=00)]\n",
        "search3 = search_request[search_request['times'] >= time(hour=23,minute=00,second=00)]\n",
        "search23 = search3[search3['times'] <= time(hour=23,minute=59,second=59)]"
      ],
      "execution_count": 12,
      "outputs": []
    },
    {
      "cell_type": "code",
      "metadata": {
        "id": "1bsUw5bP6_G-"
      },
      "source": [
        "if search2[\"search_timestamp\"].count() > search23[\"search_timestamp\"].count():\n",
        "    word = 'มากกว่า'\n",
        "elif search2[\"search_timestamp\"].count() < search23[\"search_timestamp\"].count():\n",
        "    word ='น้อยกว่า'\n",
        "else :\n",
        "    word = 'เท่ากับ'"
      ],
      "execution_count": 29,
      "outputs": []
    },
    {
      "cell_type": "code",
      "metadata": {
        "id": "ZvaCSft67rH8",
        "outputId": "bb7ee65f-6ff9-4f2d-d47b-875b7e12f8f9",
        "colab": {
          "base_uri": "https://localhost:8080/",
          "height": 52
        }
      },
      "source": [
        "f'จำนวนครั้งในการค้นหาของช่วงเวลาตั้งแต่ 11:00น.-11:59น. เท่ากับ {search2[\"search_timestamp\"].count()} ครั้ง ซึ่ง{word}จำนวนครั้งในการค้นหาของช่วงเวลาตั้งแต่ 23:00น.-23:59น. เท่ากับ {search23[\"search_timestamp\"].count()} ครั้ง ซึ่งต่างกันเท่ากับ {abs(search2[\"search_timestamp\"].count() - search23[\"search_timestamp\"].count())}'"
      ],
      "execution_count": 31,
      "outputs": [
        {
          "output_type": "execute_result",
          "data": {
            "application/vnd.google.colaboratory.intrinsic+json": {
              "type": "string"
            },
            "text/plain": [
              "'จำนวนครั้งในการค้นหาของช่วงเวลาตั้งแต่ 11:00น.-11:59น. เท่ากับ 738397 ครั้ง ซึ่งมากกว่าจำนวนครั้งในการค้นหาของช่วงเวลาตั้งแต่ 23:00น.-23:59น. เท่ากับ 278459 ครั้ง ซึ่งต่างกันเท่ากับ 459938'"
            ]
          },
          "metadata": {
            "tags": []
          },
          "execution_count": 31
        }
      ]
    },
    {
      "cell_type": "markdown",
      "metadata": {
        "id": "4fOviFdT9tX-"
      },
      "source": [
        "#inline"
      ]
    },
    {
      "cell_type": "code",
      "metadata": {
        "id": "uZVZtQT_8ovi",
        "outputId": "44eaa7de-6a2c-4b7a-c4b1-63dfbf079bcb",
        "colab": {
          "base_uri": "https://localhost:8080/",
          "height": 52
        }
      },
      "source": [
        "f'จำนวนครั้งในการค้นหาของช่วงเวลาตั้งแต่ 11:00น.-11:59น. เท่ากับ {search2[\"search_timestamp\"].count()} ครั้ง ซึ่ง{\"มากกว่า\" if search2[\"search_timestamp\"].count() > search23[\"search_timestamp\"].count() else \"น้อยกว่า\"} จำนวนครั้งในการค้นหาของช่วงเวลาตั้งแต่ 23:00น.-23:59น. เท่ากับ {search23[\"search_timestamp\"].count()} ครั้ง ซึ่งต่างกันเท่ากับ {abs(search2[\"search_timestamp\"].count() - search23[\"search_timestamp\"].count())}'"
      ],
      "execution_count": 33,
      "outputs": [
        {
          "output_type": "execute_result",
          "data": {
            "application/vnd.google.colaboratory.intrinsic+json": {
              "type": "string"
            },
            "text/plain": [
              "'จำนวนครั้งในการค้นหาของช่วงเวลาตั้งแต่ 11:00น.-11:59น. เท่ากับ 738397 ครั้ง ซึ่งมากกว่า จำนวนครั้งในการค้นหาของช่วงเวลาตั้งแต่ 23:00น.-23:59น. เท่ากับ 278459 ครั้ง ซึ่งต่างกันเท่ากับ 459938'"
            ]
          },
          "metadata": {
            "tags": []
          },
          "execution_count": 33
        }
      ]
    },
    {
      "cell_type": "code",
      "metadata": {
        "id": "mtP9TtM9g8vQ",
        "colab": {
          "base_uri": "https://localhost:8080/",
          "height": 35
        },
        "outputId": "50239251-ee1f-4192-88e5-fc26a963d3f6"
      },
      "source": [
        "f'จำนวนครั้งในการค้นหาของช่วงเวลาตั้งแต่ 11:00น.-11:59น. เท่ากับ {search2[\"search_timestamp\"].count()} ครั้ง'"
      ],
      "execution_count": 13,
      "outputs": [
        {
          "output_type": "execute_result",
          "data": {
            "application/vnd.google.colaboratory.intrinsic+json": {
              "type": "string"
            },
            "text/plain": [
              "'จำนวนครั้งในการค้นหาของช่วงเวลาตั้งแต่ 11:00น.-11:59น. เท่ากับ 738397 ครั้ง'"
            ]
          },
          "metadata": {
            "tags": []
          },
          "execution_count": 13
        }
      ]
    },
    {
      "cell_type": "code",
      "metadata": {
        "id": "b8tZmzAlifxF",
        "colab": {
          "base_uri": "https://localhost:8080/",
          "height": 35
        },
        "outputId": "7b5b799e-abab-41cd-a5a5-7a0bef63b593"
      },
      "source": [
        "f'จำนวนครั้งในการค้นหาของช่วงเวลาตั้งแต่ 23:00น.-23:59น. เท่ากับ {search23[\"search_timestamp\"].count()} ครั้ง'"
      ],
      "execution_count": 14,
      "outputs": [
        {
          "output_type": "execute_result",
          "data": {
            "application/vnd.google.colaboratory.intrinsic+json": {
              "type": "string"
            },
            "text/plain": [
              "'จำนวนครั้งในการค้นหาของช่วงเวลาตั้งแต่ 23:00น.-23:59น. เท่ากับ 278459 ครั้ง'"
            ]
          },
          "metadata": {
            "tags": []
          },
          "execution_count": 14
        }
      ]
    },
    {
      "cell_type": "code",
      "metadata": {
        "colab": {
          "base_uri": "https://localhost:8080/",
          "height": 35
        },
        "id": "A_oTUVxVjbbw",
        "outputId": "00c6a9ff-6c55-4078-f276-e3f7ceb5f7ad"
      },
      "source": [
        "monday_thuresday = search_request[search_request['search_timestamp'].dt.dayofweek <=3]\n",
        "f'จำนวนครั้งในการค้นหาของช่วงเวลาตั้งแต่ วันจันทร์-วันพฤหัสบดี เท่ากับ {monday_thuresday[\"search_timestamp\"].count()} ครั้ง'"
      ],
      "execution_count": 15,
      "outputs": [
        {
          "output_type": "execute_result",
          "data": {
            "application/vnd.google.colaboratory.intrinsic+json": {
              "type": "string"
            },
            "text/plain": [
              "'จำนวนครั้งในการค้นหาของช่วงเวลาตั้งแต่ วันจันทร์-วันพฤหัสบดี เท่ากับ 4220697 ครั้ง'"
            ]
          },
          "metadata": {
            "tags": []
          },
          "execution_count": 15
        }
      ]
    },
    {
      "cell_type": "code",
      "metadata": {
        "colab": {
          "base_uri": "https://localhost:8080/",
          "height": 35
        },
        "id": "WfE2iTW-k6NH",
        "outputId": "87aa4aa5-2593-4a3b-ed20-3f6eb12f539d"
      },
      "source": [
        "friday_sunday = search_request[search_request['search_timestamp'].dt.dayofweek >3]\n",
        "f'จำนวนครั้งในการค้นหาของช่วงเวลาตั้งแต่ วันศุกร์-วันอาทิตย์ เท่ากับ {friday_sunday[\"search_timestamp\"].count()} ครั้ง'"
      ],
      "execution_count": 16,
      "outputs": [
        {
          "output_type": "execute_result",
          "data": {
            "application/vnd.google.colaboratory.intrinsic+json": {
              "type": "string"
            },
            "text/plain": [
              "'จำนวนครั้งในการค้นหาของช่วงเวลาตั้งแต่ วันศุกร์-วันอาทิตย์ เท่ากับ 5783659 ครั้ง'"
            ]
          },
          "metadata": {
            "tags": []
          },
          "execution_count": 16
        }
      ]
    },
    {
      "cell_type": "code",
      "metadata": {
        "id": "iW5ifo8Ilmxv"
      },
      "source": [
        "day_of_week = search_request['search_timestamp'].dt.dayofweek\n",
        "search_request['day_of_week'] = day_of_week"
      ],
      "execution_count": 17,
      "outputs": []
    },
    {
      "cell_type": "code",
      "metadata": {
        "id": "psBQHwWglAOh"
      },
      "source": [
        "graph = search_request.groupby('day_of_week')['search_timestamp'].count()"
      ],
      "execution_count": 18,
      "outputs": []
    },
    {
      "cell_type": "code",
      "metadata": {
        "colab": {
          "base_uri": "https://localhost:8080/",
          "height": 312
        },
        "id": "X7VOnctujaY2",
        "outputId": "82602630-b7a7-4f8d-e869-4b3d30306b48"
      },
      "source": [
        "GG = pd.DataFrame(graph)\n",
        "GG['day_of_week'] = [0,1,2,3,4,5,6]\n",
        "plt.bar(GG['day_of_week'],GG['search_timestamp'])\n",
        "plt.ylabel('Count of searchclick')\n",
        "plt.xlabel('Day of Week')\n",
        "plt.title('Number of each day of week')"
      ],
      "execution_count": 19,
      "outputs": [
        {
          "output_type": "execute_result",
          "data": {
            "text/plain": [
              "Text(0.5, 1.0, 'Number of each day of week')"
            ]
          },
          "metadata": {
            "tags": []
          },
          "execution_count": 19
        },
        {
          "output_type": "display_data",
          "data": {
            "image/png": "[encoded data removed]",
            "text/plain": [
              "<Figure size 432x288 with 1 Axes>"
            ]
          },
          "metadata": {
            "tags": [],
            "needs_background": "light"
          }
        }
      ]
    },
    {
      "cell_type": "code",
      "metadata": {
        "id": "_d2HQRnNj3G1"
      },
      "source": [
        "adout = []\n",
        "for i in search_request['day_of_week']:\n",
        "    if i <=3 :\n",
        "        dr =1\n",
        "    elif i > 3:\n",
        "        dr =2\n",
        "    adout.append(dr)"
      ],
      "execution_count": 20,
      "outputs": []
    },
    {
      "cell_type": "code",
      "metadata": {
        "id": "o2D3O68YhC09"
      },
      "source": [
        "search_request['password'] = adout"
      ],
      "execution_count": 21,
      "outputs": []
    },
    {
      "cell_type": "code",
      "metadata": {
        "id": "PIYG0P0KiZVt"
      },
      "source": [
        "rt = search_request.groupby('password')['search_timestamp'].count()\n",
        "table = pd.DataFrame(rt)\n",
        "table['group'] = ['mon-thu','fri-sun']"
      ],
      "execution_count": 22,
      "outputs": []
    },
    {
      "cell_type": "code",
      "metadata": {
        "colab": {
          "base_uri": "https://localhost:8080/",
          "height": 312
        },
        "id": "lt0nVScIfGIz",
        "outputId": "5317dc66-76b8-41fc-ca2e-27d932f7b40f"
      },
      "source": [
        "plt.bar(table['group'],table['search_timestamp'])\n",
        "plt.ylabel('Count of searchclick')\n",
        "plt.xlabel('Group')\n",
        "plt.title('Number of each day of week')"
      ],
      "execution_count": 23,
      "outputs": [
        {
          "output_type": "execute_result",
          "data": {
            "text/plain": [
              "Text(0.5, 1.0, 'Number of each day of week')"
            ]
          },
          "metadata": {
            "tags": []
          },
          "execution_count": 23
        },
        {
          "output_type": "display_data",
          "data": {
            "image/png": "[encoded data removed]",
            "text/plain": [
              "<Figure size 432x288 with 1 Axes>"
            ]
          },
          "metadata": {
            "tags": [],
            "needs_background": "light"
          }
        }
      ]
    },
    {
      "cell_type": "code",
      "metadata": {
        "colab": {
          "base_uri": "https://localhost:8080/",
          "height": 586
        },
        "id": "p9G_XJ2nfd1U",
        "outputId": "6875c528-1d1c-43ff-aed7-d31e9cefd126"
      },
      "source": [
        "times_pair = pd.concat([search2,search23])\n",
        "times_pair"
      ],
      "execution_count": 24,
      "outputs": [
        {
          "output_type": "execute_result",
          "data": {
            "text/html": [
              "<div>\n",
              "<style scoped>\n",
              "    .dataframe tbody tr th:only-of-type {\n",
              "        vertical-align: middle;\n",
              "    }\n",
              "\n",
              "    .dataframe tbody tr th {\n",
              "        vertical-align: top;\n",
              "    }\n",
              "\n",
              "    .dataframe thead th {\n",
              "        text-align: right;\n",
              "    }\n",
              "</style>\n",
              "<table border=\"1\" class=\"dataframe\">\n",
              "  <thead>\n",
              "    <tr style=\"text-align: right;\">\n",
              "      <th></th>\n",
              "      <th>Unnamed: 0</th>\n",
              "      <th>search_id</th>\n",
              "      <th>search_timestamp</th>\n",
              "      <th>user_agent</th>\n",
              "      <th>q</th>\n",
              "      <th>user_id</th>\n",
              "      <th>session_id</th>\n",
              "      <th>number_of_result</th>\n",
              "      <th>lat</th>\n",
              "      <th>long</th>\n",
              "      <th>times</th>\n",
              "    </tr>\n",
              "  </thead>\n",
              "  <tbody>\n",
              "    <tr>\n",
              "      <th>4</th>\n",
              "      <td>4</td>\n",
              "      <td>6870dc3a-5602-44fc-80ed-df0a7783df9d</td>\n",
              "      <td>2018-06-02 11:19:22.404</td>\n",
              "      <td>Mozilla/5.0 (iPhone; CPU iPhone OS 11_3_1 like...</td>\n",
              "      <td>NaN</td>\n",
              "      <td>NaN</td>\n",
              "      <td>5pa03h6lj691to60erver1l8o4</td>\n",
              "      <td>14</td>\n",
              "      <td>12.2372</td>\n",
              "      <td>99.88</td>\n",
              "      <td>11:19:22.404000</td>\n",
              "    </tr>\n",
              "    <tr>\n",
              "      <th>6</th>\n",
              "      <td>6</td>\n",
              "      <td>3ecf13ba-be4d-4eb9-9374-a1cca09d1614</td>\n",
              "      <td>2018-06-22 11:26:40.836</td>\n",
              "      <td>Wongnai/8.17.3 rv:8.17.3.3921 (iPhone8,4; iOS;...</td>\n",
              "      <td>ผัดไท</td>\n",
              "      <td>NaN</td>\n",
              "      <td>1m91ertp1g9a09agkl7dqtej30</td>\n",
              "      <td>17</td>\n",
              "      <td>12.4511</td>\n",
              "      <td>102.249</td>\n",
              "      <td>11:26:40.836000</td>\n",
              "    </tr>\n",
              "    <tr>\n",
              "      <th>15</th>\n",
              "      <td>15</td>\n",
              "      <td>abbf59dd-9631-4b3d-aa57-0bebda18b039</td>\n",
              "      <td>2018-06-22 11:48:00.258</td>\n",
              "      <td>Wongnai/10.0 (iPhone10,6; iOS; 11.4; en_TH@cal...</td>\n",
              "      <td>yum &amp; tum</td>\n",
              "      <td>6967.0</td>\n",
              "      <td>668o57pjfa8tpp19ob5de4be8t</td>\n",
              "      <td>14</td>\n",
              "      <td>13.7209</td>\n",
              "      <td>100.527</td>\n",
              "      <td>11:48:00.258000</td>\n",
              "    </tr>\n",
              "    <tr>\n",
              "      <th>16</th>\n",
              "      <td>16</td>\n",
              "      <td>4cda5a26-93a8-4e5c-85ce-7895646bde8c</td>\n",
              "      <td>2018-06-22 11:51:55.019</td>\n",
              "      <td>Wongnai/8.17.5 (iPhone9,4; iOS; 11.4; en_TH@ca...</td>\n",
              "      <td>Godiva</td>\n",
              "      <td>71411.0</td>\n",
              "      <td>1b47msi6le9ci8nltjo817m443</td>\n",
              "      <td>10</td>\n",
              "      <td>13.7483</td>\n",
              "      <td>100.54</td>\n",
              "      <td>11:51:55.019000</td>\n",
              "    </tr>\n",
              "    <tr>\n",
              "      <th>36</th>\n",
              "      <td>36</td>\n",
              "      <td>7647c7f2-02d3-4475-b207-fb7ca3daba90</td>\n",
              "      <td>2018-06-18 11:48:21.744</td>\n",
              "      <td>Wongnai/8.17.5 (iPhone9,4; iOS; 11.4; en_TH;)</td>\n",
              "      <td>ชานมไข่มุก square one</td>\n",
              "      <td>22432.0</td>\n",
              "      <td>5gbhu646p89t2rvm9t9026h6dj</td>\n",
              "      <td>11</td>\n",
              "      <td>13.719</td>\n",
              "      <td>100.52</td>\n",
              "      <td>11:48:21.744000</td>\n",
              "    </tr>\n",
              "    <tr>\n",
              "      <th>...</th>\n",
              "      <td>...</td>\n",
              "      <td>...</td>\n",
              "      <td>...</td>\n",
              "      <td>...</td>\n",
              "      <td>...</td>\n",
              "      <td>...</td>\n",
              "      <td>...</td>\n",
              "      <td>...</td>\n",
              "      <td>...</td>\n",
              "      <td>...</td>\n",
              "      <td>...</td>\n",
              "    </tr>\n",
              "    <tr>\n",
              "      <th>10003293</th>\n",
              "      <td>10004166</td>\n",
              "      <td>c2671f83-e92a-4252-9d21-2fd898271f9b</td>\n",
              "      <td>2018-06-15 23:09:43.328</td>\n",
              "      <td>okhttp/3.9.0;WongnaiAndroid 8.16.6;samsung;SM-...</td>\n",
              "      <td>NaN</td>\n",
              "      <td>NaN</td>\n",
              "      <td>22kfoqlo0u90ur84b19nt201lg</td>\n",
              "      <td>22</td>\n",
              "      <td>NaN</td>\n",
              "      <td>NaN</td>\n",
              "      <td>23:09:43.328000</td>\n",
              "    </tr>\n",
              "    <tr>\n",
              "      <th>10003310</th>\n",
              "      <td>10004183</td>\n",
              "      <td>bebb851e-1e8f-44db-8506-ccbb885beb79</td>\n",
              "      <td>2018-06-15 23:09:48.517</td>\n",
              "      <td>okhttp/3.9.0;WongnaiAndroid 8.16.6;samsung;SM-...</td>\n",
              "      <td>NaN</td>\n",
              "      <td>NaN</td>\n",
              "      <td>trmfmbb4v8i8qpj2c8ec1r73c</td>\n",
              "      <td>22</td>\n",
              "      <td>NaN</td>\n",
              "      <td>NaN</td>\n",
              "      <td>23:09:48.517000</td>\n",
              "    </tr>\n",
              "    <tr>\n",
              "      <th>10003318</th>\n",
              "      <td>10004191</td>\n",
              "      <td>ac9d3a26-d3fb-4525-aae1-19eed4436b72</td>\n",
              "      <td>2018-06-15 23:26:20.494</td>\n",
              "      <td>okhttp/3.9.0;WongnaiAndroid 8.16.6;samsung;SM-...</td>\n",
              "      <td>NaN</td>\n",
              "      <td>NaN</td>\n",
              "      <td>5s15ptlf328j795ha8abd28a9f</td>\n",
              "      <td>22</td>\n",
              "      <td>NaN</td>\n",
              "      <td>NaN</td>\n",
              "      <td>23:26:20.494000</td>\n",
              "    </tr>\n",
              "    <tr>\n",
              "      <th>10003337</th>\n",
              "      <td>10004210</td>\n",
              "      <td>7a6c52a4-3976-44e2-aa23-1349fd299454</td>\n",
              "      <td>2018-06-15 23:41:48.134</td>\n",
              "      <td>okhttp/3.9.0;WongnaiAndroid 8.16.6;samsung;SM-...</td>\n",
              "      <td>NaN</td>\n",
              "      <td>92807.0</td>\n",
              "      <td>116oc2qtqc9psptj9tu02e8tfl</td>\n",
              "      <td>22</td>\n",
              "      <td>NaN</td>\n",
              "      <td>NaN</td>\n",
              "      <td>23:41:48.134000</td>\n",
              "    </tr>\n",
              "    <tr>\n",
              "      <th>10003338</th>\n",
              "      <td>10004211</td>\n",
              "      <td>afd93871-13d9-4655-8c15-560f0e6a1a6b</td>\n",
              "      <td>2018-06-15 23:42:18.067</td>\n",
              "      <td>okhttp/3.9.0;WongnaiAndroid 8.16.6;samsung;SM-...</td>\n",
              "      <td>NaN</td>\n",
              "      <td>92807.0</td>\n",
              "      <td>116oc2qtqc9psptj9tu02e8tfl</td>\n",
              "      <td>22</td>\n",
              "      <td>NaN</td>\n",
              "      <td>NaN</td>\n",
              "      <td>23:42:18.067000</td>\n",
              "    </tr>\n",
              "  </tbody>\n",
              "</table>\n",
              "<p>1016856 rows × 11 columns</p>\n",
              "</div>"
            ],
            "text/plain": [
              "          Unnamed: 0  ...            times\n",
              "4                  4  ...  11:19:22.404000\n",
              "6                  6  ...  11:26:40.836000\n",
              "15                15  ...  11:48:00.258000\n",
              "16                16  ...  11:51:55.019000\n",
              "36                36  ...  11:48:21.744000\n",
              "...              ...  ...              ...\n",
              "10003293    10004166  ...  23:09:43.328000\n",
              "10003310    10004183  ...  23:09:48.517000\n",
              "10003318    10004191  ...  23:26:20.494000\n",
              "10003337    10004210  ...  23:41:48.134000\n",
              "10003338    10004211  ...  23:42:18.067000\n",
              "\n",
              "[1016856 rows x 11 columns]"
            ]
          },
          "metadata": {
            "tags": []
          },
          "execution_count": 24
        }
      ]
    },
    {
      "cell_type": "code",
      "metadata": {
        "id": "ap24KXk1kWoL"
      },
      "source": [
        "adout1 = []\n",
        "for i in times_pair['times']:\n",
        "    if i < time(hour=12,minute=00,second=00) :\n",
        "        dr =1\n",
        "    elif i > time(hour=12,minute=00,second=00) :\n",
        "        dr =2\n",
        "    adout1.append(dr)"
      ],
      "execution_count": 25,
      "outputs": []
    },
    {
      "cell_type": "code",
      "metadata": {
        "id": "YkgP3tBIlP6L"
      },
      "source": [
        "times_pair['group_times'] = adout1\n",
        "times_pair.head()\n",
        "pair_times = times_pair.groupby('group_times')['search_timestamp'].count()\n",
        "pt = pd.DataFrame(pair_times)\n",
        "pt['group_times'] = ['11:00-11.59','23:00-23.59']"
      ],
      "execution_count": 26,
      "outputs": []
    },
    {
      "cell_type": "code",
      "metadata": {
        "colab": {
          "base_uri": "https://localhost:8080/",
          "height": 312
        },
        "id": "iGxSqfK2lVMR",
        "outputId": "d72cb256-0e43-4b89-a675-d064a0fe90e8"
      },
      "source": [
        "plt.bar(pt['group_times'],pt['search_timestamp'])\n",
        "plt.ylabel('Count of searchclick')\n",
        "plt.xlabel('Group')\n",
        "plt.title('Number of each day of week')\n",
        "plt.show()\n",
        "plt.legend"
      ],
      "execution_count": 27,
      "outputs": [
        {
          "output_type": "display_data",
          "data": {
            "image/png": "[encoded data removed]",
            "text/plain": [
              "<Figure size 432x288 with 1 Axes>"
            ]
          },
          "metadata": {
            "tags": [],
            "needs_background": "light"
          }
        },
        {
          "output_type": "execute_result",
          "data": {
            "text/plain": [
              "<function matplotlib.pyplot.legend>"
            ]
          },
          "metadata": {
            "tags": []
          },
          "execution_count": 27
        }
      ]
    },
    {
      "cell_type": "code",
      "metadata": {
        "colab": {
          "base_uri": "https://localhost:8080/",
          "height": 431
        },
        "id": "FDekkeQ3PYgc",
        "outputId": "2c20da3e-ea7e-43bd-da35-bc55ab0c611d"
      },
      "source": [
        "Group_webside = search_request.groupby('user_agent')['search_timestamp'].count().sort_values(ascending=False)\n",
        "table_group_webside = pd.DataFrame(Group_webside)\n",
        "table_group_webside[table_group_webside['search_timestamp']>100]"
      ],
      "execution_count": 28,
      "outputs": [
        {
          "output_type": "execute_result",
          "data": {
            "text/html": [
              "<div>\n",
              "<style scoped>\n",
              "    .dataframe tbody tr th:only-of-type {\n",
              "        vertical-align: middle;\n",
              "    }\n",
              "\n",
              "    .dataframe tbody tr th {\n",
              "        vertical-align: top;\n",
              "    }\n",
              "\n",
              "    .dataframe thead th {\n",
              "        text-align: right;\n",
              "    }\n",
              "</style>\n",
              "<table border=\"1\" class=\"dataframe\">\n",
              "  <thead>\n",
              "    <tr style=\"text-align: right;\">\n",
              "      <th></th>\n",
              "      <th>search_timestamp</th>\n",
              "    </tr>\n",
              "    <tr>\n",
              "      <th>user_agent</th>\n",
              "      <th></th>\n",
              "    </tr>\n",
              "  </thead>\n",
              "  <tbody>\n",
              "    <tr>\n",
              "      <th>okhttp/3.9.0;WongnaiAndroid 8.16.6;samsung;SM-N950F</th>\n",
              "      <td>142490</td>\n",
              "    </tr>\n",
              "    <tr>\n",
              "      <th>okhttp/3.9.0;WongnaiAndroid 8.16.5.1;samsung;SM-N950F</th>\n",
              "      <td>125077</td>\n",
              "    </tr>\n",
              "    <tr>\n",
              "      <th>Wongnai/10.0 (iPhone9,4; iOS; 11.4; th_TH;)</th>\n",
              "      <td>81524</td>\n",
              "    </tr>\n",
              "    <tr>\n",
              "      <th>okhttp/3.9.0;WongnaiAndroid 8.16.6;samsung;SM-N920C</th>\n",
              "      <td>74557</td>\n",
              "    </tr>\n",
              "    <tr>\n",
              "      <th>okhttp/3.9.0;WongnaiAndroid 8.16.7.1;samsung;SM-N950F</th>\n",
              "      <td>72845</td>\n",
              "    </tr>\n",
              "    <tr>\n",
              "      <th>...</th>\n",
              "      <td>...</td>\n",
              "    </tr>\n",
              "    <tr>\n",
              "      <th>Wongnai/8.15.4 (iPhone8,1; iOS; 11.4; th_TH;)</th>\n",
              "      <td>101</td>\n",
              "    </tr>\n",
              "    <tr>\n",
              "      <th>Wongnai/8.17 (iPhone9,4; iOS; 11.3.1; en_TH@calendar=gregorian;)</th>\n",
              "      <td>101</td>\n",
              "    </tr>\n",
              "    <tr>\n",
              "      <th>okhttp/3.9.0;WongnaiAndroid 8.16.7.1;HUAWEI;PE-TL10</th>\n",
              "      <td>101</td>\n",
              "    </tr>\n",
              "    <tr>\n",
              "      <th>okhttp/3.9.0;WongnaiAndroid 8.16.7.1;i-mobile;i-mobile_IQ_BIG2</th>\n",
              "      <td>101</td>\n",
              "    </tr>\n",
              "    <tr>\n",
              "      <th>okhttp/3.9.0;WongnaiAndroid 8.15.15;samsung;SM-C900F</th>\n",
              "      <td>101</td>\n",
              "    </tr>\n",
              "  </tbody>\n",
              "</table>\n",
              "<p>6294 rows × 1 columns</p>\n",
              "</div>"
            ],
            "text/plain": [
              "                                                    search_timestamp\n",
              "user_agent                                                          \n",
              "okhttp/3.9.0;WongnaiAndroid 8.16.6;samsung;SM-N...            142490\n",
              "okhttp/3.9.0;WongnaiAndroid 8.16.5.1;samsung;SM...            125077\n",
              "Wongnai/10.0 (iPhone9,4; iOS; 11.4; th_TH;)                    81524\n",
              "okhttp/3.9.0;WongnaiAndroid 8.16.6;samsung;SM-N...             74557\n",
              "okhttp/3.9.0;WongnaiAndroid 8.16.7.1;samsung;SM...             72845\n",
              "...                                                              ...\n",
              "Wongnai/8.15.4 (iPhone8,1; iOS; 11.4; th_TH;)                    101\n",
              "Wongnai/8.17 (iPhone9,4; iOS; 11.3.1; en_TH@cal...               101\n",
              "okhttp/3.9.0;WongnaiAndroid 8.16.7.1;HUAWEI;PE-...               101\n",
              "okhttp/3.9.0;WongnaiAndroid 8.16.7.1;i-mobile;i...               101\n",
              "okhttp/3.9.0;WongnaiAndroid 8.15.15;samsung;SM-...               101\n",
              "\n",
              "[6294 rows x 1 columns]"
            ]
          },
          "metadata": {
            "tags": []
          },
          "execution_count": 28
        }
      ]
    },
    {
      "cell_type": "code",
      "metadata": {
        "id": "UGRlyZJ7VzAf"
      },
      "source": [
        ""
      ],
      "execution_count": 28,
      "outputs": []
    }
  ]
}