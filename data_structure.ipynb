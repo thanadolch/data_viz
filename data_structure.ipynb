{
  "nbformat": 4,
  "nbformat_minor": 0,
  "metadata": {
    "colab": {
      "name": "data_structure.ipynb",
      "provenance": [],
      "authorship_tag": "ABX9TyNxwbdavVRvupfekfH3o6kY",
      "include_colab_link": true
    },
    "kernelspec": {
      "name": "python3",
      "display_name": "Python 3"
    }
  },
  "cells": [
    {
      "cell_type": "markdown",
      "metadata": {
        "id": "view-in-github",
        "colab_type": "text"
      },
      "source": [
        "<a href=\"https://colab.research.google.com/github/thanadolch/data_viz/blob/main/data_structure.ipynb\" target=\"_parent\"><img src=\"https://colab.research.google.com/assets/colab-badge.svg\" alt=\"Open In Colab\"/></a>"
      ]
    },
    {
      "cell_type": "markdown",
      "metadata": {
        "id": "-u8pB2a4oiTV"
      },
      "source": [
        "#Dictionary"
      ]
    },
    {
      "cell_type": "code",
      "metadata": {
        "id": "Nln7-xi-m54H"
      },
      "source": [
        "ex_dict = {'a':10,'1':1,'stat':5} #curly brackets ในการบอกว่าเป็น dict"
      ],
      "execution_count": 1,
      "outputs": []
    },
    {
      "cell_type": "code",
      "metadata": {
        "colab": {
          "base_uri": "https://localhost:8080/"
        },
        "id": "pb1Q6bdno5Lq",
        "outputId": "b7950367-9629-49e3-eb37-e6df49a28112"
      },
      "source": [
        "ex_dict['a']"
      ],
      "execution_count": 4,
      "outputs": [
        {
          "output_type": "execute_result",
          "data": {
            "text/plain": [
              "10"
            ]
          },
          "metadata": {
            "tags": []
          },
          "execution_count": 4
        }
      ]
    },
    {
      "cell_type": "code",
      "metadata": {
        "id": "o8lfn3--pICJ"
      },
      "source": [
        "ex2_dict = {1:'one',2:'two',3:'three'}"
      ],
      "execution_count": 6,
      "outputs": []
    },
    {
      "cell_type": "code",
      "metadata": {
        "colab": {
          "base_uri": "https://localhost:8080/"
        },
        "id": "7llFt1W0pkxX",
        "outputId": "3b9fe665-214f-40cf-d170-883a2b8dbd88"
      },
      "source": [
        "print(ex2_dict[2])"
      ],
      "execution_count": 8,
      "outputs": [
        {
          "output_type": "stream",
          "text": [
            "two\n"
          ],
          "name": "stdout"
        }
      ]
    },
    {
      "cell_type": "markdown",
      "metadata": {
        "id": "hEyVzeXrqY4E"
      },
      "source": [
        "###การเพิ่มสมาชิก"
      ]
    },
    {
      "cell_type": "code",
      "metadata": {
        "id": "w7lwD_n0p6QH"
      },
      "source": [
        "ex2_dict[0] = 'zero'"
      ],
      "execution_count": 10,
      "outputs": []
    },
    {
      "cell_type": "code",
      "metadata": {
        "colab": {
          "base_uri": "https://localhost:8080/"
        },
        "id": "0TIDnwCeqXTB",
        "outputId": "2fbd96a3-d4d0-4b6d-8470-2748b87b1e7d"
      },
      "source": [
        "ex2_dict"
      ],
      "execution_count": 11,
      "outputs": [
        {
          "output_type": "execute_result",
          "data": {
            "text/plain": [
              "{0: 'zero', 1: 'one', 2: 'two', 3: 'three'}"
            ]
          },
          "metadata": {
            "tags": []
          },
          "execution_count": 11
        }
      ]
    },
    {
      "cell_type": "markdown",
      "metadata": {
        "id": "8SDGNpF8qy4Z"
      },
      "source": [
        "#คำสั่ง"
      ]
    },
    {
      "cell_type": "code",
      "metadata": {
        "colab": {
          "base_uri": "https://localhost:8080/"
        },
        "id": "LtPPDR2-qw71",
        "outputId": "34c14568-6d93-4bd7-f5d2-6b1d881766c3"
      },
      "source": [
        "ex2_dict.keys()"
      ],
      "execution_count": 12,
      "outputs": [
        {
          "output_type": "execute_result",
          "data": {
            "text/plain": [
              "dict_keys([1, 2, 3, 0])"
            ]
          },
          "metadata": {
            "tags": []
          },
          "execution_count": 12
        }
      ]
    },
    {
      "cell_type": "code",
      "metadata": {
        "colab": {
          "base_uri": "https://localhost:8080/"
        },
        "id": "ZD5Ch10Sq9Un",
        "outputId": "58ea3643-ef93-4708-b767-09c25fb229f8"
      },
      "source": [
        "for index in ex2_dict.keys():\r\n",
        "    print(index)"
      ],
      "execution_count": 13,
      "outputs": [
        {
          "output_type": "stream",
          "text": [
            "1\n",
            "2\n",
            "3\n",
            "0\n"
          ],
          "name": "stdout"
        }
      ]
    },
    {
      "cell_type": "code",
      "metadata": {
        "colab": {
          "base_uri": "https://localhost:8080/"
        },
        "id": "2kFeO2Z_rNZi",
        "outputId": "13d5a40e-08e3-43eb-feb3-ab9169db33d5"
      },
      "source": [
        "ex2_dict.values()"
      ],
      "execution_count": 14,
      "outputs": [
        {
          "output_type": "execute_result",
          "data": {
            "text/plain": [
              "dict_values(['one', 'two', 'three', 'zero'])"
            ]
          },
          "metadata": {
            "tags": []
          },
          "execution_count": 14
        }
      ]
    },
    {
      "cell_type": "markdown",
      "metadata": {
        "id": "Mul6lEn_sur1"
      },
      "source": [
        "dict เอาไปใช้ร่วมกับ Dataframe ของ pandas"
      ]
    },
    {
      "cell_type": "markdown",
      "metadata": {
        "id": "emYOQ3brtADG"
      },
      "source": [
        "# Numpy Array (array n มิติ)"
      ]
    },
    {
      "cell_type": "code",
      "metadata": {
        "id": "jttspqyxrayq"
      },
      "source": [
        "import numpy as np #วิธีเรียกใช้ numpy"
      ],
      "execution_count": 17,
      "outputs": []
    },
    {
      "cell_type": "code",
      "metadata": {
        "colab": {
          "base_uri": "https://localhost:8080/"
        },
        "id": "lypa4MWlt-3b",
        "outputId": "415afe68-05db-4879-c5e1-073e6f6cc66a"
      },
      "source": [
        "ex_2d_array = np.array([[5.2,3.0,4.5],[9.1,0.1,0.3]])\r\n",
        "print(ex_2d_array)"
      ],
      "execution_count": 22,
      "outputs": [
        {
          "output_type": "stream",
          "text": [
            "[[5.2 3.  4.5]\n",
            " [9.1 0.1 0.3]]\n"
          ],
          "name": "stdout"
        }
      ]
    },
    {
      "cell_type": "markdown",
      "metadata": {
        "id": "HdG_Or3evDBn"
      },
      "source": [
        "การชี้ค่าใน numpy array"
      ]
    },
    {
      "cell_type": "code",
      "metadata": {
        "colab": {
          "base_uri": "https://localhost:8080/"
        },
        "id": "mosDnaUIu0u5",
        "outputId": "8dc9adb9-0ec4-4882-8c76-3e26b0553179"
      },
      "source": [
        "ex_2d_array[1,1]"
      ],
      "execution_count": 24,
      "outputs": [
        {
          "output_type": "execute_result",
          "data": {
            "text/plain": [
              "0.1"
            ]
          },
          "metadata": {
            "tags": []
          },
          "execution_count": 24
        }
      ]
    },
    {
      "cell_type": "code",
      "metadata": {
        "id": "POhXZxU3vNoR"
      },
      "source": [
        "list_x = [[5.2,3.0,4.5],[9.1,0.1,0.3]]"
      ],
      "execution_count": 25,
      "outputs": []
    },
    {
      "cell_type": "code",
      "metadata": {
        "colab": {
          "base_uri": "https://localhost:8080/"
        },
        "id": "mMcxcuN0v1OW",
        "outputId": "119f612a-b826-4add-81f1-979b76c6c5ca"
      },
      "source": [
        "list_x[0]\r\n",
        "list_x[1][2]"
      ],
      "execution_count": 29,
      "outputs": [
        {
          "output_type": "execute_result",
          "data": {
            "text/plain": [
              "0.3"
            ]
          },
          "metadata": {
            "tags": []
          },
          "execution_count": 29
        }
      ]
    },
    {
      "cell_type": "markdown",
      "metadata": {
        "id": "d3IlUDUNx4N6"
      },
      "source": [
        "## operations"
      ]
    },
    {
      "cell_type": "code",
      "metadata": {
        "colab": {
          "base_uri": "https://localhost:8080/"
        },
        "id": "2EWiDL0Sv7KI",
        "outputId": "cc13ef09-422a-47f0-8c08-e283a6bf8234"
      },
      "source": [
        "ex2_2d_array = np.array([[1,0,0],[0,0,1]])\r\n",
        "print(ex2_2d_array)"
      ],
      "execution_count": 31,
      "outputs": [
        {
          "output_type": "stream",
          "text": [
            "[[1 0 0]\n",
            " [0 0 1]]\n"
          ],
          "name": "stdout"
        }
      ]
    },
    {
      "cell_type": "code",
      "metadata": {
        "colab": {
          "base_uri": "https://localhost:8080/"
        },
        "id": "v5zxcwxdyMYN",
        "outputId": "17537256-608d-4b2c-acbc-8d2fd0c90da3"
      },
      "source": [
        "ex_2d_array.shape #ตรวจขนาดของ matrix"
      ],
      "execution_count": 32,
      "outputs": [
        {
          "output_type": "execute_result",
          "data": {
            "text/plain": [
              "(2, 3)"
            ]
          },
          "metadata": {
            "tags": []
          },
          "execution_count": 32
        }
      ]
    },
    {
      "cell_type": "code",
      "metadata": {
        "colab": {
          "base_uri": "https://localhost:8080/"
        },
        "id": "lruwzI_kyhvG",
        "outputId": "f825ea3b-a740-4ddd-aef3-ce33e61308fa"
      },
      "source": [
        "ex_2d_array + ex2_2d_array"
      ],
      "execution_count": 33,
      "outputs": [
        {
          "output_type": "execute_result",
          "data": {
            "text/plain": [
              "array([[6.2, 3. , 4.5],\n",
              "       [9.1, 0.1, 1.3]])"
            ]
          },
          "metadata": {
            "tags": []
          },
          "execution_count": 33
        }
      ]
    },
    {
      "cell_type": "code",
      "metadata": {
        "colab": {
          "base_uri": "https://localhost:8080/"
        },
        "id": "krFEqBtYyyP9",
        "outputId": "ac1fcd03-e485-45ec-ab40-36c054112a4a"
      },
      "source": [
        "ex_2d_array * ex2_2d_array #การคูณ Array"
      ],
      "execution_count": 35,
      "outputs": [
        {
          "output_type": "execute_result",
          "data": {
            "text/plain": [
              "array([[5.2, 0. , 0. ],\n",
              "       [0. , 0. , 0.3]])"
            ]
          },
          "metadata": {
            "tags": []
          },
          "execution_count": 35
        }
      ]
    },
    {
      "cell_type": "code",
      "metadata": {
        "colab": {
          "base_uri": "https://localhost:8080/"
        },
        "id": "Lod6aOUZ16zJ",
        "outputId": "16eac728-8406-4f15-ed08-bfd138c52f7a"
      },
      "source": [
        "print(ex2_2d_array.T)"
      ],
      "execution_count": 36,
      "outputs": [
        {
          "output_type": "stream",
          "text": [
            "[[1 0]\n",
            " [0 0]\n",
            " [0 1]]\n"
          ],
          "name": "stdout"
        }
      ]
    },
    {
      "cell_type": "code",
      "metadata": {
        "id": "_c3KkCeh0PB3"
      },
      "source": [
        "m = np.dot(ex_2d_array,ex2_2d_array.T)"
      ],
      "execution_count": 38,
      "outputs": []
    },
    {
      "cell_type": "code",
      "metadata": {
        "colab": {
          "base_uri": "https://localhost:8080/"
        },
        "id": "wiHgvsfe3BMC",
        "outputId": "8c83f935-4807-47f8-ecda-3ef68b8a0b7c"
      },
      "source": [
        "np.linalg.det(m)"
      ],
      "execution_count": 39,
      "outputs": [
        {
          "output_type": "execute_result",
          "data": {
            "text/plain": [
              "-39.389999999999986"
            ]
          },
          "metadata": {
            "tags": []
          },
          "execution_count": 39
        }
      ]
    },
    {
      "cell_type": "markdown",
      "metadata": {
        "id": "gm-15CWy16Nd"
      },
      "source": [
        "### matrix slicing"
      ]
    },
    {
      "cell_type": "code",
      "metadata": {
        "colab": {
          "base_uri": "https://localhost:8080/"
        },
        "id": "tU33twJv5YTq",
        "outputId": "1c1c9dc1-88a0-49da-a239-f8af4738f25a"
      },
      "source": [
        "print(ex_2d_array)"
      ],
      "execution_count": 40,
      "outputs": [
        {
          "output_type": "stream",
          "text": [
            "[[5.2 3.  4.5]\n",
            " [9.1 0.1 0.3]]\n"
          ],
          "name": "stdout"
        }
      ]
    },
    {
      "cell_type": "code",
      "metadata": {
        "colab": {
          "base_uri": "https://localhost:8080/"
        },
        "id": "_O_4oVTp5nsB",
        "outputId": "97da9b21-7e9f-4735-c752-b01dbfb00b8e"
      },
      "source": [
        "ex_2d_array[1,1:]"
      ],
      "execution_count": 41,
      "outputs": [
        {
          "output_type": "execute_result",
          "data": {
            "text/plain": [
              "array([0.1, 0.3])"
            ]
          },
          "metadata": {
            "tags": []
          },
          "execution_count": 41
        }
      ]
    },
    {
      "cell_type": "markdown",
      "metadata": {
        "id": "0kSfUmji4XQu"
      },
      "source": [
        "HW 5 เขียน function คูณ matrix\r\n",
        "\r\n",
        "แล้ว testbกับ matrix \r\n",
        "\r\n",
        "- (2,3)*(3,2)\r\n",
        "- (4,4)*(4,1)\r\n",
        "- (2,2)*(2,2)"
      ]
    },
    {
      "cell_type": "code",
      "metadata": {
        "id": "IQp5dFIT4yPt"
      },
      "source": [
        ""
      ],
      "execution_count": null,
      "outputs": []
    }
  ]
}