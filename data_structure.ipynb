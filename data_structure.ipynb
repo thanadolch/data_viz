{
  "nbformat": 4,
  "nbformat_minor": 0,
  "metadata": {
    "colab": {
      "name": "data_structure.ipynb",
      "provenance": [],
      "authorship_tag": "ABX9TyMK1jSgqkAloQxb9oCzeP0O",
      "include_colab_link": true
    },
    "kernelspec": {
      "name": "python3",
      "display_name": "Python 3"
    }
  },
  "cells": [
    {
      "cell_type": "markdown",
      "metadata": {
        "id": "view-in-github",
        "colab_type": "text"
      },
      "source": [
        "<a href=\"https://colab.research.google.com/github/thanadolch/data_viz/blob/main/data_structure.ipynb\" target=\"_parent\"><img src=\"https://colab.research.google.com/assets/colab-badge.svg\" alt=\"Open In Colab\"/></a>"
      ]
    },
    {
      "cell_type": "markdown",
      "metadata": {
        "id": "-u8pB2a4oiTV"
      },
      "source": [
        "#Dictionary"
      ]
    },
    {
      "cell_type": "code",
      "metadata": {
        "id": "Nln7-xi-m54H"
      },
      "source": [
        "ex_dict = {'a':10,'1':1,'stat':5} #curly brackets ในการบอกว่าเป็น dict"
      ],
      "execution_count": 1,
      "outputs": []
    },
    {
      "cell_type": "code",
      "metadata": {
        "colab": {
          "base_uri": "https://localhost:8080/"
        },
        "id": "pb1Q6bdno5Lq",
        "outputId": "c94548de-4a98-4d9e-8238-ec4da00ebe6c"
      },
      "source": [
        "ex_dict['a']"
      ],
      "execution_count": 2,
      "outputs": [
        {
          "output_type": "execute_result",
          "data": {
            "text/plain": [
              "10"
            ]
          },
          "metadata": {
            "tags": []
          },
          "execution_count": 2
        }
      ]
    },
    {
      "cell_type": "code",
      "metadata": {
        "id": "o8lfn3--pICJ"
      },
      "source": [
        "ex2_dict = {1:'one',2:'two',3:'three'}"
      ],
      "execution_count": 3,
      "outputs": []
    },
    {
      "cell_type": "code",
      "metadata": {
        "colab": {
          "base_uri": "https://localhost:8080/"
        },
        "id": "7llFt1W0pkxX",
        "outputId": "d49406b0-9f85-4eee-9bda-91241b632736"
      },
      "source": [
        "print(ex2_dict[2])"
      ],
      "execution_count": 4,
      "outputs": [
        {
          "output_type": "stream",
          "text": [
            "two\n"
          ],
          "name": "stdout"
        }
      ]
    },
    {
      "cell_type": "markdown",
      "metadata": {
        "id": "hEyVzeXrqY4E"
      },
      "source": [
        "###การเพิ่มสมาชิก"
      ]
    },
    {
      "cell_type": "code",
      "metadata": {
        "id": "w7lwD_n0p6QH"
      },
      "source": [
        "ex2_dict[0] = 'zero'"
      ],
      "execution_count": 5,
      "outputs": []
    },
    {
      "cell_type": "code",
      "metadata": {
        "colab": {
          "base_uri": "https://localhost:8080/"
        },
        "id": "0TIDnwCeqXTB",
        "outputId": "a7684fa1-1089-4c58-f519-029cd47294a7"
      },
      "source": [
        "ex2_dict"
      ],
      "execution_count": 6,
      "outputs": [
        {
          "output_type": "execute_result",
          "data": {
            "text/plain": [
              "{0: 'zero', 1: 'one', 2: 'two', 3: 'three'}"
            ]
          },
          "metadata": {
            "tags": []
          },
          "execution_count": 6
        }
      ]
    },
    {
      "cell_type": "markdown",
      "metadata": {
        "id": "8SDGNpF8qy4Z"
      },
      "source": [
        "#คำสั่ง"
      ]
    },
    {
      "cell_type": "code",
      "metadata": {
        "colab": {
          "base_uri": "https://localhost:8080/"
        },
        "id": "LtPPDR2-qw71",
        "outputId": "cc771d67-d46f-4160-cf91-099a808dc1d3"
      },
      "source": [
        "ex2_dict.keys()"
      ],
      "execution_count": 7,
      "outputs": [
        {
          "output_type": "execute_result",
          "data": {
            "text/plain": [
              "dict_keys([1, 2, 3, 0])"
            ]
          },
          "metadata": {
            "tags": []
          },
          "execution_count": 7
        }
      ]
    },
    {
      "cell_type": "code",
      "metadata": {
        "colab": {
          "base_uri": "https://localhost:8080/"
        },
        "id": "ZD5Ch10Sq9Un",
        "outputId": "8ce899d5-dc40-4a0e-ca56-0010fdf08b36"
      },
      "source": [
        "for index in ex2_dict.keys():\r\n",
        "    print(index)"
      ],
      "execution_count": 8,
      "outputs": [
        {
          "output_type": "stream",
          "text": [
            "1\n",
            "2\n",
            "3\n",
            "0\n"
          ],
          "name": "stdout"
        }
      ]
    },
    {
      "cell_type": "code",
      "metadata": {
        "colab": {
          "base_uri": "https://localhost:8080/"
        },
        "id": "2kFeO2Z_rNZi",
        "outputId": "cdcf9404-b7ac-4531-f745-ff58627944c4"
      },
      "source": [
        "ex2_dict.values()"
      ],
      "execution_count": 9,
      "outputs": [
        {
          "output_type": "execute_result",
          "data": {
            "text/plain": [
              "dict_values(['one', 'two', 'three', 'zero'])"
            ]
          },
          "metadata": {
            "tags": []
          },
          "execution_count": 9
        }
      ]
    },
    {
      "cell_type": "markdown",
      "metadata": {
        "id": "Mul6lEn_sur1"
      },
      "source": [
        "dict เอาไปใช้ร่วมกับ Dataframe ของ pandas"
      ]
    },
    {
      "cell_type": "markdown",
      "metadata": {
        "id": "emYOQ3brtADG"
      },
      "source": [
        "# Numpy Array (array n มิติ)"
      ]
    },
    {
      "cell_type": "code",
      "metadata": {
        "id": "jttspqyxrayq"
      },
      "source": [
        "import numpy as np #วิธีเรียกใช้ numpy"
      ],
      "execution_count": 10,
      "outputs": []
    },
    {
      "cell_type": "code",
      "metadata": {
        "colab": {
          "base_uri": "https://localhost:8080/"
        },
        "id": "lypa4MWlt-3b",
        "outputId": "ccb7e180-8a16-420b-a309-74c7381883bf"
      },
      "source": [
        "ex_2d_array = np.array([[5.2,3.0,4.5],[9.1,0.1,0.3]])\r\n",
        "print(ex_2d_array)"
      ],
      "execution_count": 11,
      "outputs": [
        {
          "output_type": "stream",
          "text": [
            "[[5.2 3.  4.5]\n",
            " [9.1 0.1 0.3]]\n"
          ],
          "name": "stdout"
        }
      ]
    },
    {
      "cell_type": "markdown",
      "metadata": {
        "id": "HdG_Or3evDBn"
      },
      "source": [
        "การชี้ค่าใน numpy array"
      ]
    },
    {
      "cell_type": "code",
      "metadata": {
        "colab": {
          "base_uri": "https://localhost:8080/"
        },
        "id": "mosDnaUIu0u5",
        "outputId": "249aee4b-31dc-4119-d24a-0fa94baec013"
      },
      "source": [
        "ex_2d_array[1,1]"
      ],
      "execution_count": 12,
      "outputs": [
        {
          "output_type": "execute_result",
          "data": {
            "text/plain": [
              "0.1"
            ]
          },
          "metadata": {
            "tags": []
          },
          "execution_count": 12
        }
      ]
    },
    {
      "cell_type": "code",
      "metadata": {
        "id": "POhXZxU3vNoR"
      },
      "source": [
        "list_x = [[5.2,3.0,4.5],[9.1,0.1,0.3]]"
      ],
      "execution_count": 13,
      "outputs": []
    },
    {
      "cell_type": "code",
      "metadata": {
        "colab": {
          "base_uri": "https://localhost:8080/"
        },
        "id": "mMcxcuN0v1OW",
        "outputId": "c56e49d3-b491-47c3-9bdf-35543116fdd0"
      },
      "source": [
        "list_x[0]\r\n",
        "list_x[1][2]"
      ],
      "execution_count": 14,
      "outputs": [
        {
          "output_type": "execute_result",
          "data": {
            "text/plain": [
              "0.3"
            ]
          },
          "metadata": {
            "tags": []
          },
          "execution_count": 14
        }
      ]
    },
    {
      "cell_type": "markdown",
      "metadata": {
        "id": "d3IlUDUNx4N6"
      },
      "source": [
        "## operations"
      ]
    },
    {
      "cell_type": "code",
      "metadata": {
        "colab": {
          "base_uri": "https://localhost:8080/"
        },
        "id": "2EWiDL0Sv7KI",
        "outputId": "0ed1f056-fb8b-45a6-ad04-87b3823ed820"
      },
      "source": [
        "ex2_2d_array = np.array([[1,0,0],[0,0,1]])\r\n",
        "print(ex2_2d_array)"
      ],
      "execution_count": 15,
      "outputs": [
        {
          "output_type": "stream",
          "text": [
            "[[1 0 0]\n",
            " [0 0 1]]\n"
          ],
          "name": "stdout"
        }
      ]
    },
    {
      "cell_type": "code",
      "metadata": {
        "colab": {
          "base_uri": "https://localhost:8080/"
        },
        "id": "v5zxcwxdyMYN",
        "outputId": "b8359ab7-1d8c-4164-df5e-92edfdb0edc9"
      },
      "source": [
        "ex_2d_array.shape #ตรวจขนาดของ matrix"
      ],
      "execution_count": 16,
      "outputs": [
        {
          "output_type": "execute_result",
          "data": {
            "text/plain": [
              "(2, 3)"
            ]
          },
          "metadata": {
            "tags": []
          },
          "execution_count": 16
        }
      ]
    },
    {
      "cell_type": "code",
      "metadata": {
        "colab": {
          "base_uri": "https://localhost:8080/"
        },
        "id": "lruwzI_kyhvG",
        "outputId": "e2f6f170-b1e1-4ccc-8855-ea149af39752"
      },
      "source": [
        "ex_2d_array + ex2_2d_array"
      ],
      "execution_count": 17,
      "outputs": [
        {
          "output_type": "execute_result",
          "data": {
            "text/plain": [
              "array([[6.2, 3. , 4.5],\n",
              "       [9.1, 0.1, 1.3]])"
            ]
          },
          "metadata": {
            "tags": []
          },
          "execution_count": 17
        }
      ]
    },
    {
      "cell_type": "code",
      "metadata": {
        "colab": {
          "base_uri": "https://localhost:8080/"
        },
        "id": "krFEqBtYyyP9",
        "outputId": "05fe1fe4-185a-4304-8cb1-b0be113c1b31"
      },
      "source": [
        "ex_2d_array * ex2_2d_array #การคูณ Array"
      ],
      "execution_count": 18,
      "outputs": [
        {
          "output_type": "execute_result",
          "data": {
            "text/plain": [
              "array([[5.2, 0. , 0. ],\n",
              "       [0. , 0. , 0.3]])"
            ]
          },
          "metadata": {
            "tags": []
          },
          "execution_count": 18
        }
      ]
    },
    {
      "cell_type": "code",
      "metadata": {
        "colab": {
          "base_uri": "https://localhost:8080/"
        },
        "id": "Lod6aOUZ16zJ",
        "outputId": "cafd2110-32e4-4ad2-ec63-7ba28081099d"
      },
      "source": [
        "print(ex2_2d_array.T)"
      ],
      "execution_count": 19,
      "outputs": [
        {
          "output_type": "stream",
          "text": [
            "[[1 0]\n",
            " [0 0]\n",
            " [0 1]]\n"
          ],
          "name": "stdout"
        }
      ]
    },
    {
      "cell_type": "code",
      "metadata": {
        "id": "_c3KkCeh0PB3"
      },
      "source": [
        "m = np.dot(ex_2d_array,ex2_2d_array.T)"
      ],
      "execution_count": 20,
      "outputs": []
    },
    {
      "cell_type": "code",
      "metadata": {
        "colab": {
          "base_uri": "https://localhost:8080/"
        },
        "id": "wiHgvsfe3BMC",
        "outputId": "20a8d701-4ebd-4e8f-8648-684a24b04aea"
      },
      "source": [
        "np.linalg.det(m)"
      ],
      "execution_count": 21,
      "outputs": [
        {
          "output_type": "execute_result",
          "data": {
            "text/plain": [
              "-39.389999999999986"
            ]
          },
          "metadata": {
            "tags": []
          },
          "execution_count": 21
        }
      ]
    },
    {
      "cell_type": "markdown",
      "metadata": {
        "id": "gm-15CWy16Nd"
      },
      "source": [
        "### matrix slicing"
      ]
    },
    {
      "cell_type": "code",
      "metadata": {
        "colab": {
          "base_uri": "https://localhost:8080/"
        },
        "id": "tU33twJv5YTq",
        "outputId": "9d9e6b34-f72d-4606-a9aa-1ef9d318980e"
      },
      "source": [
        "print(ex_2d_array)"
      ],
      "execution_count": 22,
      "outputs": [
        {
          "output_type": "stream",
          "text": [
            "[[5.2 3.  4.5]\n",
            " [9.1 0.1 0.3]]\n"
          ],
          "name": "stdout"
        }
      ]
    },
    {
      "cell_type": "code",
      "metadata": {
        "colab": {
          "base_uri": "https://localhost:8080/"
        },
        "id": "_O_4oVTp5nsB",
        "outputId": "e6f86a99-ea7a-4047-ce5a-39e2fc0176ae"
      },
      "source": [
        "ex_2d_array[1,1:]"
      ],
      "execution_count": 23,
      "outputs": [
        {
          "output_type": "execute_result",
          "data": {
            "text/plain": [
              "array([0.1, 0.3])"
            ]
          },
          "metadata": {
            "tags": []
          },
          "execution_count": 23
        }
      ]
    },
    {
      "cell_type": "markdown",
      "metadata": {
        "id": "0kSfUmji4XQu"
      },
      "source": [
        "HW 5 เขียน function คูณ matrix\r\n",
        "\r\n",
        "แล้ว testbกับ matrix \r\n",
        "\r\n",
        "- (2,3)*(3,2)\r\n",
        "- (4,4)*(4,1)\r\n",
        "- (2,2)*(2,2)"
      ]
    },
    {
      "cell_type": "markdown",
      "metadata": {
        "id": "TgcFLKYnS_an"
      },
      "source": [
        "Zeros,Ones,Randoms"
      ]
    },
    {
      "cell_type": "code",
      "metadata": {
        "id": "IQp5dFIT4yPt",
        "outputId": "7df20865-7adc-4325-985e-cd83180b5ad7",
        "colab": {
          "base_uri": "https://localhost:8080/"
        }
      },
      "source": [
        "np.zeros(2)"
      ],
      "execution_count": 24,
      "outputs": [
        {
          "output_type": "execute_result",
          "data": {
            "text/plain": [
              "array([0., 0.])"
            ]
          },
          "metadata": {
            "tags": []
          },
          "execution_count": 24
        }
      ]
    },
    {
      "cell_type": "code",
      "metadata": {
        "id": "yyrCSADZWWkq",
        "outputId": "bce58c00-8d3a-4006-ff16-57eeeff3a6ce",
        "colab": {
          "base_uri": "https://localhost:8080/"
        }
      },
      "source": [
        "np.zeros((2,1))"
      ],
      "execution_count": 26,
      "outputs": [
        {
          "output_type": "execute_result",
          "data": {
            "text/plain": [
              "array([[0.],\n",
              "       [0.]])"
            ]
          },
          "metadata": {
            "tags": []
          },
          "execution_count": 26
        }
      ]
    },
    {
      "cell_type": "markdown",
      "metadata": {
        "id": "JA9rewPCXZPO"
      },
      "source": [
        "# Ones"
      ]
    },
    {
      "cell_type": "code",
      "metadata": {
        "id": "yC408V2bWdtp",
        "outputId": "c14e02b2-9190-47e8-bbab-bc61bf14705c",
        "colab": {
          "base_uri": "https://localhost:8080/"
        }
      },
      "source": [
        "np.ones((3,3))"
      ],
      "execution_count": 27,
      "outputs": [
        {
          "output_type": "execute_result",
          "data": {
            "text/plain": [
              "array([[1., 1., 1.],\n",
              "       [1., 1., 1.],\n",
              "       [1., 1., 1.]])"
            ]
          },
          "metadata": {
            "tags": []
          },
          "execution_count": 27
        }
      ]
    },
    {
      "cell_type": "markdown",
      "metadata": {
        "id": "ixrRvaEsX8xw"
      },
      "source": [
        "#Matrix Operation (Scalar multiplication)"
      ]
    },
    {
      "cell_type": "code",
      "metadata": {
        "id": "3L6X_2R3XkEk",
        "outputId": "0cf01bfc-e73d-40a1-8e90-9273c660f117",
        "colab": {
          "base_uri": "https://localhost:8080/"
        }
      },
      "source": [
        "one = np.ones((3,3))\r\n",
        "\r\n",
        "one*2"
      ],
      "execution_count": 28,
      "outputs": [
        {
          "output_type": "execute_result",
          "data": {
            "text/plain": [
              "array([[2., 2., 2.],\n",
              "       [2., 2., 2.],\n",
              "       [2., 2., 2.]])"
            ]
          },
          "metadata": {
            "tags": []
          },
          "execution_count": 28
        }
      ]
    },
    {
      "cell_type": "code",
      "metadata": {
        "id": "AOjuEEnQY3ca",
        "outputId": "d7cecf40-84e7-4780-834a-20735ba41ae0",
        "colab": {
          "base_uri": "https://localhost:8080/"
        }
      },
      "source": [
        "np.random.rand(3,2) #uniform random"
      ],
      "execution_count": 31,
      "outputs": [
        {
          "output_type": "execute_result",
          "data": {
            "text/plain": [
              "array([[0.67650958, 0.68470592],\n",
              "       [0.46847155, 0.26760561],\n",
              "       [0.61045853, 0.30479397]])"
            ]
          },
          "metadata": {
            "tags": []
          },
          "execution_count": 31
        }
      ]
    },
    {
      "cell_type": "code",
      "metadata": {
        "id": "7PKd836VZGoP",
        "outputId": "c702528a-0bf3-40d6-8638-25c1b0411467",
        "colab": {
          "base_uri": "https://localhost:8080/"
        }
      },
      "source": [
        "np.random.randn(3,2) #normal distibution"
      ],
      "execution_count": 32,
      "outputs": [
        {
          "output_type": "execute_result",
          "data": {
            "text/plain": [
              "array([[-0.78034769, -0.67548269],\n",
              "       [-0.21542736,  0.30677391],\n",
              "       [ 0.40429461, -0.54166231]])"
            ]
          },
          "metadata": {
            "tags": []
          },
          "execution_count": 32
        }
      ]
    },
    {
      "cell_type": "code",
      "metadata": {
        "id": "rffpyYqYcVFb",
        "outputId": "81fb8e84-cc46-4044-978d-85577ca19d81",
        "colab": {
          "base_uri": "https://localhost:8080/"
        }
      },
      "source": [
        "np.random.choice([1,2,3,4,5],size=25,p = [0.1,0.2,0.4,0.2,0.1])"
      ],
      "execution_count": 40,
      "outputs": [
        {
          "output_type": "execute_result",
          "data": {
            "text/plain": [
              "array([5, 2, 2, 3, 2, 4, 2, 3, 3, 3, 3, 3, 4, 4, 2, 5, 4, 3, 2, 1, 2, 3,\n",
              "       3, 4, 5])"
            ]
          },
          "metadata": {
            "tags": []
          },
          "execution_count": 40
        }
      ]
    },
    {
      "cell_type": "markdown",
      "metadata": {
        "id": "XN7VTZHpg8Gk"
      },
      "source": [
        "# เฉลย HW5"
      ]
    },
    {
      "cell_type": "code",
      "metadata": {
        "id": "Uw2ZH6o0doOg"
      },
      "source": [
        "def mul_mat(A,B):\r\n",
        "    c = np.zeros((A.shape[0],B.shape[1]))\r\n",
        "    for r_a in range(A.shape[0]):\r\n",
        "        for c_b in range(B.shape[1]):\r\n",
        "            for every_element in range(A.shape[1]):\r\n",
        "                c[r_a,c_b] = c[r_a,c_b]+(A[r_a,every_element]*B[every_element,c_b])\r\n",
        "    return c"
      ],
      "execution_count": 52,
      "outputs": []
    },
    {
      "cell_type": "code",
      "metadata": {
        "id": "p-5mJgMqiZ5Q"
      },
      "source": [
        "mat1 = np.array([[1,2,3],[5,6,9]])\r\n",
        "mat2 = np.array([[9,8],[5,4],[7,5]])"
      ],
      "execution_count": 53,
      "outputs": []
    },
    {
      "cell_type": "code",
      "metadata": {
        "id": "z0zbn2nMkBSE",
        "outputId": "3abaeb26-9b77-4568-f79f-9817f10d565f",
        "colab": {
          "base_uri": "https://localhost:8080/"
        }
      },
      "source": [
        "mat1.shape[1]"
      ],
      "execution_count": 54,
      "outputs": [
        {
          "output_type": "execute_result",
          "data": {
            "text/plain": [
              "3"
            ]
          },
          "metadata": {
            "tags": []
          },
          "execution_count": 54
        }
      ]
    },
    {
      "cell_type": "code",
      "metadata": {
        "id": "vDFEo2d0jAGa",
        "outputId": "7d224fd2-6404-449b-81bc-f878f90a8f0a",
        "colab": {
          "base_uri": "https://localhost:8080/"
        }
      },
      "source": [
        "mul_mat(mat1,mat2)"
      ],
      "execution_count": 55,
      "outputs": [
        {
          "output_type": "execute_result",
          "data": {
            "text/plain": [
              "array([[ 40.,  31.],\n",
              "       [138., 109.]])"
            ]
          },
          "metadata": {
            "tags": []
          },
          "execution_count": 55
        }
      ]
    },
    {
      "cell_type": "code",
      "metadata": {
        "id": "LVFsUaZejCsx"
      },
      "source": [
        ""
      ],
      "execution_count": null,
      "outputs": []
    }
  ]
}