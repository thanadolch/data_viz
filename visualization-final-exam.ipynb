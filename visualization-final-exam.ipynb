{
  "nbformat": 4,
  "nbformat_minor": 0,
  "metadata": {
    "colab": {
      "name": "Untitled56.ipynb",
      "provenance": [],
      "authorship_tag": "ABX9TyP08+8cxw5OqkZ8IAR8dawp",
      "include_colab_link": true
    },
    "kernelspec": {
      "name": "python3",
      "display_name": "Python 3"
    },
    "language_info": {
      "name": "python"
    }
  },
  "cells": [
    {
      "cell_type": "markdown",
      "metadata": {
        "id": "view-in-github",
        "colab_type": "text"
      },
      "source": [
        "<a href=\"https://colab.research.google.com/github/thanadolch/data_viz/blob/main/visualization-final-exam.ipynb\" target=\"_parent\"><img src=\"https://colab.research.google.com/assets/colab-badge.svg\" alt=\"Open In Colab\"/></a>"
      ]
    },
    {
      "cell_type": "code",
      "metadata": {
        "colab": {
          "base_uri": "https://localhost:8080/"
        },
        "id": "DLCDUbf2GCS-",
        "outputId": "71bf661b-ea2e-4579-dbf2-be19a8a636a0"
      },
      "source": [
        "from google.colab import drive\n",
        "drive.mount('/content/drive')"
      ],
      "execution_count": 21,
      "outputs": [
        {
          "output_type": "stream",
          "text": [
            "Drive already mounted at /content/drive; to attempt to forcibly remount, call drive.mount(\"/content/drive\", force_remount=True).\n"
          ],
          "name": "stdout"
        }
      ]
    },
    {
      "cell_type": "code",
      "metadata": {
        "id": "EjUKiNCAGfsh"
      },
      "source": [
        "import pandas as pd\n",
        "import os\n",
        "import numpy as np\n",
        "import matplotlib.pyplot as plt\n",
        "import datetime as datetime\n",
        "from datetime import datetime\n",
        "from datetime import time"
      ],
      "execution_count": 22,
      "outputs": []
    },
    {
      "cell_type": "code",
      "metadata": {
        "id": "snpmR6D3H7KN"
      },
      "source": [
        "path = '/content/drive/My Drive/DVZ'"
      ],
      "execution_count": 23,
      "outputs": []
    },
    {
      "cell_type": "markdown",
      "metadata": {
        "id": "bwSOpxkddjD4"
      },
      "source": [
        "##ดึงข้อมูล Data 63-64"
      ]
    },
    {
      "cell_type": "code",
      "metadata": {
        "colab": {
          "base_uri": "https://localhost:8080/",
          "height": 681
        },
        "id": "m69B2tCxHb-3",
        "outputId": "0005768e-3e09-471f-998f-fcb02ac52d76"
      },
      "source": [
        "Covid_19 = pd.read_excel(os.path.join(path,'passenger-covid19.xlsx'),sheet_name='Data63-64')\n",
        "Covid_19.head()"
      ],
      "execution_count": 24,
      "outputs": [
        {
          "output_type": "execute_result",
          "data": {
            "text/html": [
              "<div>\n",
              "<style scoped>\n",
              "    .dataframe tbody tr th:only-of-type {\n",
              "        vertical-align: middle;\n",
              "    }\n",
              "\n",
              "    .dataframe tbody tr th {\n",
              "        vertical-align: top;\n",
              "    }\n",
              "\n",
              "    .dataframe thead th {\n",
              "        text-align: right;\n",
              "    }\n",
              "</style>\n",
              "<table border=\"1\" class=\"dataframe\">\n",
              "  <thead>\n",
              "    <tr style=\"text-align: right;\">\n",
              "      <th></th>\n",
              "      <th>ขนคน/ขนสินค้า</th>\n",
              "      <th>โหมดการเดินทาง</th>\n",
              "      <th>รูปแบบการเดินทาง</th>\n",
              "      <th>สาธารณะ/ส่วนบุคคล</th>\n",
              "      <th>หน่วยงาน</th>\n",
              "      <th>ยานพาหนะ/ท่า</th>\n",
              "      <th>2020-01-01 00:00:00</th>\n",
              "      <th>2020-01-02 00:00:00</th>\n",
              "      <th>2020-01-03 00:00:00</th>\n",
              "      <th>2020-01-04 00:00:00</th>\n",
              "      <th>2020-01-05 00:00:00</th>\n",
              "      <th>2020-01-06 00:00:00</th>\n",
              "      <th>2020-01-07 00:00:00</th>\n",
              "      <th>2020-01-08 00:00:00</th>\n",
              "      <th>2020-01-09 00:00:00</th>\n",
              "      <th>2020-01-10 00:00:00</th>\n",
              "      <th>2020-01-11 00:00:00</th>\n",
              "      <th>2020-01-12 00:00:00</th>\n",
              "      <th>2020-01-13 00:00:00</th>\n",
              "      <th>2020-01-14 00:00:00</th>\n",
              "      <th>2020-01-15 00:00:00</th>\n",
              "      <th>2020-01-16 00:00:00</th>\n",
              "      <th>2020-01-17 00:00:00</th>\n",
              "      <th>2020-01-18 00:00:00</th>\n",
              "      <th>2020-01-19 00:00:00</th>\n",
              "      <th>2020-01-20 00:00:00</th>\n",
              "      <th>2020-01-21 00:00:00</th>\n",
              "      <th>2020-01-22 00:00:00</th>\n",
              "      <th>2020-01-23 00:00:00</th>\n",
              "      <th>2020-01-24 00:00:00</th>\n",
              "      <th>2020-01-25 00:00:00</th>\n",
              "      <th>2020-01-26 00:00:00</th>\n",
              "      <th>2020-01-27 00:00:00</th>\n",
              "      <th>2020-01-28 00:00:00</th>\n",
              "      <th>2020-01-29 00:00:00</th>\n",
              "      <th>2020-01-30 00:00:00</th>\n",
              "      <th>2020-01-31 00:00:00</th>\n",
              "      <th>2020-02-01 00:00:00</th>\n",
              "      <th>2020-02-02 00:00:00</th>\n",
              "      <th>2020-02-03 00:00:00</th>\n",
              "      <th>...</th>\n",
              "      <th>2021-03-18 00:00:00</th>\n",
              "      <th>2021-03-19 00:00:00</th>\n",
              "      <th>2021-03-20 00:00:00</th>\n",
              "      <th>2021-03-21 00:00:00</th>\n",
              "      <th>2021-03-22 00:00:00</th>\n",
              "      <th>2021-03-23 00:00:00</th>\n",
              "      <th>2021-03-24 00:00:00</th>\n",
              "      <th>2021-03-25 00:00:00</th>\n",
              "      <th>2021-03-26 00:00:00</th>\n",
              "      <th>2021-03-27 00:00:00</th>\n",
              "      <th>2021-03-28 00:00:00</th>\n",
              "      <th>2021-03-29 00:00:00</th>\n",
              "      <th>2021-03-30 00:00:00</th>\n",
              "      <th>2021-03-31 00:00:00</th>\n",
              "      <th>2021-04-01 00:00:00</th>\n",
              "      <th>2021-04-02 00:00:00</th>\n",
              "      <th>2021-04-03 00:00:00</th>\n",
              "      <th>2021-04-04 00:00:00</th>\n",
              "      <th>2021-04-05 00:00:00</th>\n",
              "      <th>2021-04-06 00:00:00</th>\n",
              "      <th>2021-04-07 00:00:00</th>\n",
              "      <th>2021-04-08 00:00:00</th>\n",
              "      <th>2021-04-09 00:00:00</th>\n",
              "      <th>2021-04-10 00:00:00</th>\n",
              "      <th>2021-04-11 00:00:00</th>\n",
              "      <th>2021-04-12 00:00:00</th>\n",
              "      <th>2021-04-13 00:00:00</th>\n",
              "      <th>2021-04-14 00:00:00</th>\n",
              "      <th>2021-04-15 00:00:00</th>\n",
              "      <th>2021-04-16 00:00:00</th>\n",
              "      <th>2021-04-17 00:00:00</th>\n",
              "      <th>2021-04-18 00:00:00</th>\n",
              "      <th>2021-04-19 00:00:00</th>\n",
              "      <th>2021-04-20 00:00:00</th>\n",
              "      <th>2021-04-21 00:00:00</th>\n",
              "      <th>2021-04-22 00:00:00</th>\n",
              "      <th>2021-04-23 00:00:00</th>\n",
              "      <th>2021-04-24 00:00:00</th>\n",
              "      <th>2021-04-25 00:00:00</th>\n",
              "      <th>2021-04-26 00:00:00</th>\n",
              "    </tr>\n",
              "  </thead>\n",
              "  <tbody>\n",
              "    <tr>\n",
              "      <th>0</th>\n",
              "      <td>ขนคน (คน)</td>\n",
              "      <td>ทางบก</td>\n",
              "      <td>การเดินทางระหว่างจังหวัด</td>\n",
              "      <td>สาธารณะ</td>\n",
              "      <td>บขส.</td>\n",
              "      <td>รถ ขบส. และ รถร่วม</td>\n",
              "      <td>233330</td>\n",
              "      <td>252899.0</td>\n",
              "      <td>225731.0</td>\n",
              "      <td>216919.0</td>\n",
              "      <td>234611.0</td>\n",
              "      <td>153605.0</td>\n",
              "      <td>142318.0</td>\n",
              "      <td>138700.0</td>\n",
              "      <td>139202.0</td>\n",
              "      <td>155553.0</td>\n",
              "      <td>150419.0</td>\n",
              "      <td>156634.0</td>\n",
              "      <td>143982.0</td>\n",
              "      <td>138215.0</td>\n",
              "      <td>136102.0</td>\n",
              "      <td>143219.0</td>\n",
              "      <td>155363.0</td>\n",
              "      <td>154020.0</td>\n",
              "      <td>162852.0</td>\n",
              "      <td>151027.0</td>\n",
              "      <td>143574.0</td>\n",
              "      <td>142722.0</td>\n",
              "      <td>145672.0</td>\n",
              "      <td>161263.0</td>\n",
              "      <td>154822.0</td>\n",
              "      <td>166247.0</td>\n",
              "      <td>153945.0</td>\n",
              "      <td>144313.0</td>\n",
              "      <td>141870.0</td>\n",
              "      <td>142709.0</td>\n",
              "      <td>160689.0</td>\n",
              "      <td>155232.0</td>\n",
              "      <td>163819.0</td>\n",
              "      <td>151378.0</td>\n",
              "      <td>...</td>\n",
              "      <td>48763.0</td>\n",
              "      <td>62129.0</td>\n",
              "      <td>52073.0</td>\n",
              "      <td>58507.0</td>\n",
              "      <td>52521.0</td>\n",
              "      <td>49540.0</td>\n",
              "      <td>48797.0</td>\n",
              "      <td>52669.0</td>\n",
              "      <td>73143.0</td>\n",
              "      <td>66697.0</td>\n",
              "      <td>68272.0</td>\n",
              "      <td>58026.0</td>\n",
              "      <td>52905.0</td>\n",
              "      <td>46689.0</td>\n",
              "      <td>54445.0</td>\n",
              "      <td>70366.0</td>\n",
              "      <td>60124.0</td>\n",
              "      <td>69317.0</td>\n",
              "      <td>60306.0</td>\n",
              "      <td>58385.0</td>\n",
              "      <td>58906.0</td>\n",
              "      <td>71885.0</td>\n",
              "      <td>101077.0</td>\n",
              "      <td>101477.0</td>\n",
              "      <td>70140.0</td>\n",
              "      <td>60013.0</td>\n",
              "      <td>54408.0</td>\n",
              "      <td>59808.0</td>\n",
              "      <td>64993.0</td>\n",
              "      <td>63546.0</td>\n",
              "      <td>62501.0</td>\n",
              "      <td>61356.0</td>\n",
              "      <td>51525.0</td>\n",
              "      <td>41814.0</td>\n",
              "      <td>33459.0</td>\n",
              "      <td>31489.0</td>\n",
              "      <td>32425.0</td>\n",
              "      <td>28844.0</td>\n",
              "      <td>27472.0</td>\n",
              "      <td>27701.0</td>\n",
              "    </tr>\n",
              "    <tr>\n",
              "      <th>1</th>\n",
              "      <td>ขนคน (คน)</td>\n",
              "      <td>ทางบก</td>\n",
              "      <td>การเดินทางระหว่างจังหวัด</td>\n",
              "      <td>สาธารณะ</td>\n",
              "      <td>ขบ.</td>\n",
              "      <td>รถ Taxi</td>\n",
              "      <td>การโดยสารด้วยรถแท็กซี่ เป็นการเคลื่อนย้ายคนแบบ...</td>\n",
              "      <td>NaN</td>\n",
              "      <td>NaN</td>\n",
              "      <td>NaN</td>\n",
              "      <td>NaN</td>\n",
              "      <td>NaN</td>\n",
              "      <td>NaN</td>\n",
              "      <td>NaN</td>\n",
              "      <td>NaN</td>\n",
              "      <td>NaN</td>\n",
              "      <td>NaN</td>\n",
              "      <td>NaN</td>\n",
              "      <td>NaN</td>\n",
              "      <td>NaN</td>\n",
              "      <td>NaN</td>\n",
              "      <td>NaN</td>\n",
              "      <td>NaN</td>\n",
              "      <td>NaN</td>\n",
              "      <td>NaN</td>\n",
              "      <td>NaN</td>\n",
              "      <td>NaN</td>\n",
              "      <td>NaN</td>\n",
              "      <td>NaN</td>\n",
              "      <td>NaN</td>\n",
              "      <td>NaN</td>\n",
              "      <td>NaN</td>\n",
              "      <td>NaN</td>\n",
              "      <td>NaN</td>\n",
              "      <td>NaN</td>\n",
              "      <td>NaN</td>\n",
              "      <td>NaN</td>\n",
              "      <td>NaN</td>\n",
              "      <td>NaN</td>\n",
              "      <td>NaN</td>\n",
              "      <td>...</td>\n",
              "      <td>NaN</td>\n",
              "      <td>NaN</td>\n",
              "      <td>NaN</td>\n",
              "      <td>NaN</td>\n",
              "      <td>NaN</td>\n",
              "      <td>NaN</td>\n",
              "      <td>NaN</td>\n",
              "      <td>NaN</td>\n",
              "      <td>NaN</td>\n",
              "      <td>NaN</td>\n",
              "      <td>NaN</td>\n",
              "      <td>NaN</td>\n",
              "      <td>NaN</td>\n",
              "      <td>NaN</td>\n",
              "      <td>NaN</td>\n",
              "      <td>NaN</td>\n",
              "      <td>NaN</td>\n",
              "      <td>NaN</td>\n",
              "      <td>NaN</td>\n",
              "      <td>NaN</td>\n",
              "      <td>NaN</td>\n",
              "      <td>NaN</td>\n",
              "      <td>NaN</td>\n",
              "      <td>NaN</td>\n",
              "      <td>NaN</td>\n",
              "      <td>NaN</td>\n",
              "      <td>NaN</td>\n",
              "      <td>NaN</td>\n",
              "      <td>NaN</td>\n",
              "      <td>NaN</td>\n",
              "      <td>NaN</td>\n",
              "      <td>NaN</td>\n",
              "      <td>NaN</td>\n",
              "      <td>NaN</td>\n",
              "      <td>NaN</td>\n",
              "      <td>NaN</td>\n",
              "      <td>NaN</td>\n",
              "      <td>NaN</td>\n",
              "      <td>NaN</td>\n",
              "      <td>NaN</td>\n",
              "    </tr>\n",
              "    <tr>\n",
              "      <th>2</th>\n",
              "      <td>ขนคน (คน)</td>\n",
              "      <td>ทางบก</td>\n",
              "      <td>การเดินทางระหว่างจังหวัด</td>\n",
              "      <td>สาธารณะ</td>\n",
              "      <td>ขบ.</td>\n",
              "      <td>รถหมวด 3</td>\n",
              "      <td>มีข้อมูลย้อนหลังเป็นรายเดือน</td>\n",
              "      <td>NaN</td>\n",
              "      <td>NaN</td>\n",
              "      <td>NaN</td>\n",
              "      <td>NaN</td>\n",
              "      <td>NaN</td>\n",
              "      <td>NaN</td>\n",
              "      <td>NaN</td>\n",
              "      <td>NaN</td>\n",
              "      <td>NaN</td>\n",
              "      <td>NaN</td>\n",
              "      <td>NaN</td>\n",
              "      <td>NaN</td>\n",
              "      <td>NaN</td>\n",
              "      <td>NaN</td>\n",
              "      <td>NaN</td>\n",
              "      <td>NaN</td>\n",
              "      <td>NaN</td>\n",
              "      <td>NaN</td>\n",
              "      <td>NaN</td>\n",
              "      <td>NaN</td>\n",
              "      <td>NaN</td>\n",
              "      <td>NaN</td>\n",
              "      <td>NaN</td>\n",
              "      <td>NaN</td>\n",
              "      <td>NaN</td>\n",
              "      <td>NaN</td>\n",
              "      <td>NaN</td>\n",
              "      <td>NaN</td>\n",
              "      <td>NaN</td>\n",
              "      <td>NaN</td>\n",
              "      <td>NaN</td>\n",
              "      <td>NaN</td>\n",
              "      <td>NaN</td>\n",
              "      <td>...</td>\n",
              "      <td>13457.0</td>\n",
              "      <td>13978.0</td>\n",
              "      <td>13261.0</td>\n",
              "      <td>15707.0</td>\n",
              "      <td>12494.0</td>\n",
              "      <td>14209.0</td>\n",
              "      <td>11429.0</td>\n",
              "      <td>12634.0</td>\n",
              "      <td>13611.0</td>\n",
              "      <td>12840.0</td>\n",
              "      <td>11056.0</td>\n",
              "      <td>14920.0</td>\n",
              "      <td>10974.0</td>\n",
              "      <td>12268.0</td>\n",
              "      <td>14722.0</td>\n",
              "      <td>13579.0</td>\n",
              "      <td>13314.0</td>\n",
              "      <td>12663.0</td>\n",
              "      <td>12587.0</td>\n",
              "      <td>12537.0</td>\n",
              "      <td>16531.0</td>\n",
              "      <td>15289.0</td>\n",
              "      <td>18479.0</td>\n",
              "      <td>16529.0</td>\n",
              "      <td>15812.0</td>\n",
              "      <td>12359.0</td>\n",
              "      <td>12825.0</td>\n",
              "      <td>9588.0</td>\n",
              "      <td>10621.0</td>\n",
              "      <td>12862.0</td>\n",
              "      <td>9496.0</td>\n",
              "      <td>12228.0</td>\n",
              "      <td>9984.0</td>\n",
              "      <td>8493.0</td>\n",
              "      <td>7292.0</td>\n",
              "      <td>6232.0</td>\n",
              "      <td>8916.0</td>\n",
              "      <td>8602.0</td>\n",
              "      <td>6163.0</td>\n",
              "      <td>7849.0</td>\n",
              "    </tr>\n",
              "    <tr>\n",
              "      <th>3</th>\n",
              "      <td>ขนคน (คัน)</td>\n",
              "      <td>ทางบก</td>\n",
              "      <td>การเดินทางระหว่างจังหวัด</td>\n",
              "      <td>ส่วนบุคคล</td>\n",
              "      <td>ทล.</td>\n",
              "      <td>รถยนต์เฉพาะ 4 ล้อ (10 จุดสำรวจ)</td>\n",
              "      <td>977347</td>\n",
              "      <td>987340.0</td>\n",
              "      <td>971727.0</td>\n",
              "      <td>1023019.0</td>\n",
              "      <td>1043024.0</td>\n",
              "      <td>945256.0</td>\n",
              "      <td>883892.0</td>\n",
              "      <td>893951.0</td>\n",
              "      <td>890530.0</td>\n",
              "      <td>970028.0</td>\n",
              "      <td>953924.0</td>\n",
              "      <td>960443.0</td>\n",
              "      <td>909881.0</td>\n",
              "      <td>858725.0</td>\n",
              "      <td>871378.0</td>\n",
              "      <td>893902.0</td>\n",
              "      <td>970326.0</td>\n",
              "      <td>1009182.0</td>\n",
              "      <td>991817.0</td>\n",
              "      <td>925085.0</td>\n",
              "      <td>898084.0</td>\n",
              "      <td>909900.0</td>\n",
              "      <td>928864.0</td>\n",
              "      <td>990371.0</td>\n",
              "      <td>1035608.0</td>\n",
              "      <td>1013639.0</td>\n",
              "      <td>942858.0</td>\n",
              "      <td>896452.0</td>\n",
              "      <td>889830.0</td>\n",
              "      <td>917270.0</td>\n",
              "      <td>995977.0</td>\n",
              "      <td>1011706.0</td>\n",
              "      <td>1024280.0</td>\n",
              "      <td>947972.0</td>\n",
              "      <td>...</td>\n",
              "      <td>866114.0</td>\n",
              "      <td>950213.0</td>\n",
              "      <td>965207.0</td>\n",
              "      <td>972756.0</td>\n",
              "      <td>915217.0</td>\n",
              "      <td>850984.0</td>\n",
              "      <td>853143.0</td>\n",
              "      <td>866006.0</td>\n",
              "      <td>950009.0</td>\n",
              "      <td>965784.0</td>\n",
              "      <td>970345.0</td>\n",
              "      <td>906192.0</td>\n",
              "      <td>855397.0</td>\n",
              "      <td>864919.0</td>\n",
              "      <td>871853.0</td>\n",
              "      <td>973011.0</td>\n",
              "      <td>1017964.0</td>\n",
              "      <td>985473.0</td>\n",
              "      <td>941929.0</td>\n",
              "      <td>887329.0</td>\n",
              "      <td>908125.0</td>\n",
              "      <td>913633.0</td>\n",
              "      <td>1024308.0</td>\n",
              "      <td>1045432.0</td>\n",
              "      <td>895712.0</td>\n",
              "      <td>802220.0</td>\n",
              "      <td>724818.0</td>\n",
              "      <td>723697.0</td>\n",
              "      <td>795917.0</td>\n",
              "      <td>800655.0</td>\n",
              "      <td>797260.0</td>\n",
              "      <td>766618.0</td>\n",
              "      <td>792586.0</td>\n",
              "      <td>758903.0</td>\n",
              "      <td>770418.0</td>\n",
              "      <td>768001.0</td>\n",
              "      <td>840223.0</td>\n",
              "      <td>846120.0</td>\n",
              "      <td>800769.0</td>\n",
              "      <td>794328.0</td>\n",
              "    </tr>\n",
              "    <tr>\n",
              "      <th>4</th>\n",
              "      <td>ขนคน (คัน)</td>\n",
              "      <td>ทางบก</td>\n",
              "      <td>การเดินทางระหว่างจังหวัด</td>\n",
              "      <td>ส่วนบุคคล</td>\n",
              "      <td>ทล.</td>\n",
              "      <td>รถยนต์ทุกประเภท (10 จุดสำรวจ)</td>\n",
              "      <td>1072314</td>\n",
              "      <td>1082432.0</td>\n",
              "      <td>1115674.0</td>\n",
              "      <td>1168859.0</td>\n",
              "      <td>1156302.0</td>\n",
              "      <td>1107287.0</td>\n",
              "      <td>1059505.0</td>\n",
              "      <td>1070785.0</td>\n",
              "      <td>1063930.0</td>\n",
              "      <td>1152165.0</td>\n",
              "      <td>1126847.0</td>\n",
              "      <td>1085668.0</td>\n",
              "      <td>1081571.0</td>\n",
              "      <td>1035461.0</td>\n",
              "      <td>1058657.0</td>\n",
              "      <td>1078847.0</td>\n",
              "      <td>1148684.0</td>\n",
              "      <td>1174084.0</td>\n",
              "      <td>1116268.0</td>\n",
              "      <td>1097175.0</td>\n",
              "      <td>1075345.0</td>\n",
              "      <td>1092157.0</td>\n",
              "      <td>1104980.0</td>\n",
              "      <td>1160023.0</td>\n",
              "      <td>1164631.0</td>\n",
              "      <td>1131944.0</td>\n",
              "      <td>1108349.0</td>\n",
              "      <td>1076186.0</td>\n",
              "      <td>1081135.0</td>\n",
              "      <td>1041021.0</td>\n",
              "      <td>1135644.0</td>\n",
              "      <td>1176853.0</td>\n",
              "      <td>1137948.0</td>\n",
              "      <td>1109268.0</td>\n",
              "      <td>...</td>\n",
              "      <td>1042326.0</td>\n",
              "      <td>1136290.0</td>\n",
              "      <td>1127951.0</td>\n",
              "      <td>1086499.0</td>\n",
              "      <td>1095599.0</td>\n",
              "      <td>1039227.0</td>\n",
              "      <td>1038320.0</td>\n",
              "      <td>1040339.0</td>\n",
              "      <td>1136128.0</td>\n",
              "      <td>1125553.0</td>\n",
              "      <td>1090768.0</td>\n",
              "      <td>1082649.0</td>\n",
              "      <td>1039876.0</td>\n",
              "      <td>1055202.0</td>\n",
              "      <td>1068128.0</td>\n",
              "      <td>1175500.0</td>\n",
              "      <td>1202510.0</td>\n",
              "      <td>1109484.0</td>\n",
              "      <td>1129839.0</td>\n",
              "      <td>1068408.0</td>\n",
              "      <td>1101513.0</td>\n",
              "      <td>1114898.0</td>\n",
              "      <td>1231845.0</td>\n",
              "      <td>1215033.0</td>\n",
              "      <td>1002653.0</td>\n",
              "      <td>892947.0</td>\n",
              "      <td>787785.0</td>\n",
              "      <td>783132.0</td>\n",
              "      <td>868149.0</td>\n",
              "      <td>920049.0</td>\n",
              "      <td>924168.0</td>\n",
              "      <td>865699.0</td>\n",
              "      <td>960526.0</td>\n",
              "      <td>943448.0</td>\n",
              "      <td>957123.0</td>\n",
              "      <td>955489.0</td>\n",
              "      <td>1020498.0</td>\n",
              "      <td>1003475.0</td>\n",
              "      <td>900413.0</td>\n",
              "      <td>920383.0</td>\n",
              "    </tr>\n",
              "  </tbody>\n",
              "</table>\n",
              "<p>5 rows × 488 columns</p>\n",
              "</div>"
            ],
            "text/plain": [
              "  ขนคน/ขนสินค้า โหมดการเดินทาง  ... 2021-04-25 00:00:00 2021-04-26 00:00:00\n",
              "0     ขนคน (คน)          ทางบก  ...             27472.0             27701.0\n",
              "1     ขนคน (คน)          ทางบก  ...                 NaN                 NaN\n",
              "2     ขนคน (คน)          ทางบก  ...              6163.0              7849.0\n",
              "3    ขนคน (คัน)          ทางบก  ...            800769.0            794328.0\n",
              "4    ขนคน (คัน)          ทางบก  ...            900413.0            920383.0\n",
              "\n",
              "[5 rows x 488 columns]"
            ]
          },
          "metadata": {
            "tags": []
          },
          "execution_count": 24
        }
      ]
    },
    {
      "cell_type": "code",
      "metadata": {
        "colab": {
          "base_uri": "https://localhost:8080/",
          "height": 35
        },
        "id": "eX7lCyU_a7nh",
        "outputId": "7abad959-f434-46fc-c46f-41a8a977d78c"
      },
      "source": [
        "Covid_19.iloc[13,6]"
      ],
      "execution_count": 25,
      "outputs": [
        {
          "output_type": "execute_result",
          "data": {
            "application/vnd.google.colaboratory.intrinsic+json": {
              "type": "string"
            },
            "text/plain": [
              "'ทล มีจุดสำรวจปริมาณจราจรถาวรบนทางหลวงในพื้นที่ชั้นใน กทม/ในตัวจังหวัด ไม่เพียงพอที่จะใช้ประมาณปริมาณการเดินทางภายในจังหวัดได้'"
            ]
          },
          "metadata": {
            "tags": []
          },
          "execution_count": 25
        }
      ]
    },
    {
      "cell_type": "markdown",
      "metadata": {
        "id": "QlK_Mln6d0vK"
      },
      "source": [
        "##แทนที่ค่าที่เป็น str ด้วยค่า0"
      ]
    },
    {
      "cell_type": "code",
      "metadata": {
        "id": "lmLkzBhmUv7P"
      },
      "source": [
        "Covid_19.iloc[:,6] = Covid_19.iloc[:,6].replace({'การโดยสารด้วยรถแท็กซี่ เป็นการเคลื่อนย้ายคนแบบไม่ประจำทาง ผู้โดยสารขึ้นลงตามความสะดวก เจ้าหน้าที่ไม่สามารถเก็บข้อมูลได้':0,'มีข้อมูลย้อนหลังเป็นรายเดือน':0,'เครื่องสำรวจปริมาณจราจรแบบอัตโนมัติ ไม่สามารถจำแนกรถจักรยานยนต์ได้อย่างแม่นยำ จึงไม่ได้มีการเก็บข้อมูลรถจักรยานยนต์โดยใช้เครื่องมือดังกล่าว (ข้อมูล AADT ในรายงานประจำปี จะสำรวจข้อมูลรถจักรยานยนต์โดยใช้วิธีคนแจงนับ)':0,'การโดยสารด้วยรถจักรยานยนต์ ผู้โดยสารขึ้นลงตามความสะดวก ซึ่งมีจุดขึ้นลงกระจายอยู่ทั่วไป มิได้กำหนดจุดจอดรวมอยู่พื้นที่เดียวกันเหมือนรถโดยสารประจำทาง เจ้าหน้าที่ไม่สามารถเก็บข้อมูลได้':0,'ทล มีจุดสำรวจปริมาณจราจรถาวรบนทางหลวงในพื้นที่ชั้นใน กทม/ในตัวจังหวัด ไม่เพียงพอที่จะใช้ประมาณปริมาณการเดินทางภายในจังหวัดได้':0,'ไม่มีการจัดเก็บข้อมูล':0,'ไม่มีการจัดเก็บ':0})"
      ],
      "execution_count": 26,
      "outputs": []
    },
    {
      "cell_type": "markdown",
      "metadata": {
        "id": "-69pbJMCd7HY"
      },
      "source": [
        "##เติมค่าที่ null ด้วย 0 เพราะ ค่าที่ null เป็นช่วงที่ไม่มีการเก็บค่า\n",
        "\n"
      ]
    },
    {
      "cell_type": "markdown",
      "metadata": {
        "id": "8j7uE3R-guWt"
      },
      "source": [
        "#เริ่ม วิเคราะห์และ cleaningข้อมูล"
      ]
    },
    {
      "cell_type": "markdown",
      "metadata": {
        "id": "OmhIomIbk1Wo"
      },
      "source": [
        "#จัดการ type ของข้อมูลเวลาให้เป็น type ของช่วงเวลา"
      ]
    },
    {
      "cell_type": "code",
      "metadata": {
        "colab": {
          "base_uri": "https://localhost:8080/",
          "height": 195
        },
        "id": "Aje10Z0-vGtj",
        "outputId": "24db216a-5423-4f3b-e5b1-7d89ef2e0972"
      },
      "source": [
        "Covid_19_case = pd.read_csv(os.path.join(path,'covid19cases.csv'))\n",
        "Covid_19_case.head()"
      ],
      "execution_count": 27,
      "outputs": [
        {
          "output_type": "execute_result",
          "data": {
            "text/html": [
              "<div>\n",
              "<style scoped>\n",
              "    .dataframe tbody tr th:only-of-type {\n",
              "        vertical-align: middle;\n",
              "    }\n",
              "\n",
              "    .dataframe tbody tr th {\n",
              "        vertical-align: top;\n",
              "    }\n",
              "\n",
              "    .dataframe thead th {\n",
              "        text-align: right;\n",
              "    }\n",
              "</style>\n",
              "<table border=\"1\" class=\"dataframe\">\n",
              "  <thead>\n",
              "    <tr style=\"text-align: right;\">\n",
              "      <th></th>\n",
              "      <th>No.</th>\n",
              "      <th>announce_date</th>\n",
              "      <th>Notified date</th>\n",
              "      <th>sex</th>\n",
              "      <th>age</th>\n",
              "      <th>Unit</th>\n",
              "      <th>nationality</th>\n",
              "      <th>province_of_isolation</th>\n",
              "      <th>risk</th>\n",
              "      <th>province_of_onset</th>\n",
              "      <th>district_of_onset</th>\n",
              "    </tr>\n",
              "  </thead>\n",
              "  <tbody>\n",
              "    <tr>\n",
              "      <th>0</th>\n",
              "      <td>1</td>\n",
              "      <td>12/1/2020</td>\n",
              "      <td>NaN</td>\n",
              "      <td>หญิง</td>\n",
              "      <td>61.0</td>\n",
              "      <td>ปี</td>\n",
              "      <td>China</td>\n",
              "      <td>กรุงเทพมหานคร</td>\n",
              "      <td>คนต่างชาติเดินทางมาจากต่างประเทศ</td>\n",
              "      <td>กรุงเทพมหานคร</td>\n",
              "      <td>NaN</td>\n",
              "    </tr>\n",
              "    <tr>\n",
              "      <th>1</th>\n",
              "      <td>2</td>\n",
              "      <td>17/1/2020</td>\n",
              "      <td>NaN</td>\n",
              "      <td>หญิง</td>\n",
              "      <td>74.0</td>\n",
              "      <td>ปี</td>\n",
              "      <td>China</td>\n",
              "      <td>กรุงเทพมหานคร</td>\n",
              "      <td>คนต่างชาติเดินทางมาจากต่างประเทศ</td>\n",
              "      <td>กรุงเทพมหานคร</td>\n",
              "      <td>NaN</td>\n",
              "    </tr>\n",
              "    <tr>\n",
              "      <th>2</th>\n",
              "      <td>3</td>\n",
              "      <td>22/1/2020</td>\n",
              "      <td>NaN</td>\n",
              "      <td>หญิง</td>\n",
              "      <td>73.0</td>\n",
              "      <td>ปี</td>\n",
              "      <td>Thailand</td>\n",
              "      <td>นครปฐม</td>\n",
              "      <td>คนต่างชาติเดินทางมาจากต่างประเทศ</td>\n",
              "      <td>นครปฐม</td>\n",
              "      <td>เมือง</td>\n",
              "    </tr>\n",
              "    <tr>\n",
              "      <th>3</th>\n",
              "      <td>4</td>\n",
              "      <td>22/1/2020</td>\n",
              "      <td>NaN</td>\n",
              "      <td>ชาย</td>\n",
              "      <td>68.0</td>\n",
              "      <td>ปี</td>\n",
              "      <td>China</td>\n",
              "      <td>กรุงเทพมหานคร</td>\n",
              "      <td>คนต่างชาติเดินทางมาจากต่างประเทศ</td>\n",
              "      <td>กรุงเทพมหานคร</td>\n",
              "      <td>NaN</td>\n",
              "    </tr>\n",
              "    <tr>\n",
              "      <th>4</th>\n",
              "      <td>5</td>\n",
              "      <td>24/1/2020</td>\n",
              "      <td>NaN</td>\n",
              "      <td>หญิง</td>\n",
              "      <td>66.0</td>\n",
              "      <td>ปี</td>\n",
              "      <td>China</td>\n",
              "      <td>นนทบุรี</td>\n",
              "      <td>คนต่างชาติเดินทางมาจากต่างประเทศ</td>\n",
              "      <td>กรุงเทพมหานคร</td>\n",
              "      <td>NaN</td>\n",
              "    </tr>\n",
              "  </tbody>\n",
              "</table>\n",
              "</div>"
            ],
            "text/plain": [
              "   No. announce_date  ... province_of_onset district_of_onset\n",
              "0    1     12/1/2020  ...     กรุงเทพมหานคร               NaN\n",
              "1    2     17/1/2020  ...     กรุงเทพมหานคร               NaN\n",
              "2    3     22/1/2020  ...            นครปฐม             เมือง\n",
              "3    4     22/1/2020  ...     กรุงเทพมหานคร               NaN\n",
              "4    5     24/1/2020  ...     กรุงเทพมหานคร               NaN\n",
              "\n",
              "[5 rows x 11 columns]"
            ]
          },
          "metadata": {
            "tags": []
          },
          "execution_count": 27
        }
      ]
    },
    {
      "cell_type": "code",
      "metadata": {
        "id": "CeUkGbtf2Xkq"
      },
      "source": [
        "Covid_19_case['announce_date']  = pd.to_datetime(Covid_19_case['announce_date'],format='%d/%m/%Y')"
      ],
      "execution_count": 28,
      "outputs": []
    },
    {
      "cell_type": "code",
      "metadata": {
        "colab": {
          "base_uri": "https://localhost:8080/",
          "height": 402
        },
        "id": "QHWvvR052ftZ",
        "outputId": "7089f04a-6f1e-427c-9225-8f6eb7bf6833"
      },
      "source": [
        "Covid_19_case"
      ],
      "execution_count": 29,
      "outputs": [
        {
          "output_type": "execute_result",
          "data": {
            "text/html": [
              "<div>\n",
              "<style scoped>\n",
              "    .dataframe tbody tr th:only-of-type {\n",
              "        vertical-align: middle;\n",
              "    }\n",
              "\n",
              "    .dataframe tbody tr th {\n",
              "        vertical-align: top;\n",
              "    }\n",
              "\n",
              "    .dataframe thead th {\n",
              "        text-align: right;\n",
              "    }\n",
              "</style>\n",
              "<table border=\"1\" class=\"dataframe\">\n",
              "  <thead>\n",
              "    <tr style=\"text-align: right;\">\n",
              "      <th></th>\n",
              "      <th>No.</th>\n",
              "      <th>announce_date</th>\n",
              "      <th>Notified date</th>\n",
              "      <th>sex</th>\n",
              "      <th>age</th>\n",
              "      <th>Unit</th>\n",
              "      <th>nationality</th>\n",
              "      <th>province_of_isolation</th>\n",
              "      <th>risk</th>\n",
              "      <th>province_of_onset</th>\n",
              "      <th>district_of_onset</th>\n",
              "    </tr>\n",
              "  </thead>\n",
              "  <tbody>\n",
              "    <tr>\n",
              "      <th>0</th>\n",
              "      <td>1</td>\n",
              "      <td>2020-01-12</td>\n",
              "      <td>NaN</td>\n",
              "      <td>หญิง</td>\n",
              "      <td>61.0</td>\n",
              "      <td>ปี</td>\n",
              "      <td>China</td>\n",
              "      <td>กรุงเทพมหานคร</td>\n",
              "      <td>คนต่างชาติเดินทางมาจากต่างประเทศ</td>\n",
              "      <td>กรุงเทพมหานคร</td>\n",
              "      <td>NaN</td>\n",
              "    </tr>\n",
              "    <tr>\n",
              "      <th>1</th>\n",
              "      <td>2</td>\n",
              "      <td>2020-01-17</td>\n",
              "      <td>NaN</td>\n",
              "      <td>หญิง</td>\n",
              "      <td>74.0</td>\n",
              "      <td>ปี</td>\n",
              "      <td>China</td>\n",
              "      <td>กรุงเทพมหานคร</td>\n",
              "      <td>คนต่างชาติเดินทางมาจากต่างประเทศ</td>\n",
              "      <td>กรุงเทพมหานคร</td>\n",
              "      <td>NaN</td>\n",
              "    </tr>\n",
              "    <tr>\n",
              "      <th>2</th>\n",
              "      <td>3</td>\n",
              "      <td>2020-01-22</td>\n",
              "      <td>NaN</td>\n",
              "      <td>หญิง</td>\n",
              "      <td>73.0</td>\n",
              "      <td>ปี</td>\n",
              "      <td>Thailand</td>\n",
              "      <td>นครปฐม</td>\n",
              "      <td>คนต่างชาติเดินทางมาจากต่างประเทศ</td>\n",
              "      <td>นครปฐม</td>\n",
              "      <td>เมือง</td>\n",
              "    </tr>\n",
              "    <tr>\n",
              "      <th>3</th>\n",
              "      <td>4</td>\n",
              "      <td>2020-01-22</td>\n",
              "      <td>NaN</td>\n",
              "      <td>ชาย</td>\n",
              "      <td>68.0</td>\n",
              "      <td>ปี</td>\n",
              "      <td>China</td>\n",
              "      <td>กรุงเทพมหานคร</td>\n",
              "      <td>คนต่างชาติเดินทางมาจากต่างประเทศ</td>\n",
              "      <td>กรุงเทพมหานคร</td>\n",
              "      <td>NaN</td>\n",
              "    </tr>\n",
              "    <tr>\n",
              "      <th>4</th>\n",
              "      <td>5</td>\n",
              "      <td>2020-01-24</td>\n",
              "      <td>NaN</td>\n",
              "      <td>หญิง</td>\n",
              "      <td>66.0</td>\n",
              "      <td>ปี</td>\n",
              "      <td>China</td>\n",
              "      <td>นนทบุรี</td>\n",
              "      <td>คนต่างชาติเดินทางมาจากต่างประเทศ</td>\n",
              "      <td>กรุงเทพมหานคร</td>\n",
              "      <td>NaN</td>\n",
              "    </tr>\n",
              "    <tr>\n",
              "      <th>...</th>\n",
              "      <td>...</td>\n",
              "      <td>...</td>\n",
              "      <td>...</td>\n",
              "      <td>...</td>\n",
              "      <td>...</td>\n",
              "      <td>...</td>\n",
              "      <td>...</td>\n",
              "      <td>...</td>\n",
              "      <td>...</td>\n",
              "      <td>...</td>\n",
              "      <td>...</td>\n",
              "    </tr>\n",
              "    <tr>\n",
              "      <th>57505</th>\n",
              "      <td>57506</td>\n",
              "      <td>2021-04-26</td>\n",
              "      <td>25/4/2021</td>\n",
              "      <td>ชาย</td>\n",
              "      <td>51.0</td>\n",
              "      <td>ปี</td>\n",
              "      <td>Thailand</td>\n",
              "      <td>กรุงเทพมหานคร</td>\n",
              "      <td>อื่นๆ</td>\n",
              "      <td>NaN</td>\n",
              "      <td>NaN</td>\n",
              "    </tr>\n",
              "    <tr>\n",
              "      <th>57506</th>\n",
              "      <td>57507</td>\n",
              "      <td>2021-04-26</td>\n",
              "      <td>25/4/2021</td>\n",
              "      <td>ชาย</td>\n",
              "      <td>50.0</td>\n",
              "      <td>ปี</td>\n",
              "      <td>Thailand</td>\n",
              "      <td>กรุงเทพมหานคร</td>\n",
              "      <td>อื่นๆ</td>\n",
              "      <td>NaN</td>\n",
              "      <td>NaN</td>\n",
              "    </tr>\n",
              "    <tr>\n",
              "      <th>57507</th>\n",
              "      <td>57508</td>\n",
              "      <td>2021-04-26</td>\n",
              "      <td>25/4/2021</td>\n",
              "      <td>ชาย</td>\n",
              "      <td>24.0</td>\n",
              "      <td>ปี</td>\n",
              "      <td>Thailand</td>\n",
              "      <td>กรุงเทพมหานคร</td>\n",
              "      <td>อื่นๆ</td>\n",
              "      <td>NaN</td>\n",
              "      <td>NaN</td>\n",
              "    </tr>\n",
              "    <tr>\n",
              "      <th>57508</th>\n",
              "      <td>57509</td>\n",
              "      <td>2021-04-26</td>\n",
              "      <td>25/4/2021</td>\n",
              "      <td>ชาย</td>\n",
              "      <td>24.0</td>\n",
              "      <td>ปี</td>\n",
              "      <td>Thailand</td>\n",
              "      <td>กรุงเทพมหานคร</td>\n",
              "      <td>อื่นๆ</td>\n",
              "      <td>NaN</td>\n",
              "      <td>NaN</td>\n",
              "    </tr>\n",
              "    <tr>\n",
              "      <th>57509</th>\n",
              "      <td>57510</td>\n",
              "      <td>2021-04-26</td>\n",
              "      <td>25/4/2021</td>\n",
              "      <td>ชาย</td>\n",
              "      <td>28.0</td>\n",
              "      <td>ปี</td>\n",
              "      <td>Thailand</td>\n",
              "      <td>กรุงเทพมหานคร</td>\n",
              "      <td>อื่นๆ</td>\n",
              "      <td>NaN</td>\n",
              "      <td>NaN</td>\n",
              "    </tr>\n",
              "  </tbody>\n",
              "</table>\n",
              "<p>57510 rows × 11 columns</p>\n",
              "</div>"
            ],
            "text/plain": [
              "         No. announce_date  ... province_of_onset district_of_onset\n",
              "0          1    2020-01-12  ...     กรุงเทพมหานคร               NaN\n",
              "1          2    2020-01-17  ...     กรุงเทพมหานคร               NaN\n",
              "2          3    2020-01-22  ...            นครปฐม             เมือง\n",
              "3          4    2020-01-22  ...     กรุงเทพมหานคร               NaN\n",
              "4          5    2020-01-24  ...     กรุงเทพมหานคร               NaN\n",
              "...      ...           ...  ...               ...               ...\n",
              "57505  57506    2021-04-26  ...               NaN               NaN\n",
              "57506  57507    2021-04-26  ...               NaN               NaN\n",
              "57507  57508    2021-04-26  ...               NaN               NaN\n",
              "57508  57509    2021-04-26  ...               NaN               NaN\n",
              "57509  57510    2021-04-26  ...               NaN               NaN\n",
              "\n",
              "[57510 rows x 11 columns]"
            ]
          },
          "metadata": {
            "tags": []
          },
          "execution_count": 29
        }
      ]
    },
    {
      "cell_type": "code",
      "metadata": {
        "id": "3hrMkLCesCUB"
      },
      "source": [
        "all_province_table = Covid_19_case"
      ],
      "execution_count": 30,
      "outputs": []
    },
    {
      "cell_type": "markdown",
      "metadata": {
        "id": "j0a0inFRlDsy"
      },
      "source": [
        "#เติมค่าที่ null ในคอลัมน์ของ province_of_onset ด้วยค่าที่อยู่ในแถวเดี๋ยวกันของคอลัมน์ province_of_isolation"
      ]
    },
    {
      "cell_type": "code",
      "metadata": {
        "id": "5nP-1BJlrZt3"
      },
      "source": [
        "all_province_table['province_of_onset'] = Covid_19_case['province_of_onset'].fillna(value = Covid_19_case['province_of_isolation'])"
      ],
      "execution_count": 31,
      "outputs": []
    },
    {
      "cell_type": "code",
      "metadata": {
        "colab": {
          "base_uri": "https://localhost:8080/",
          "height": 402
        },
        "id": "4o52kOoEr56C",
        "outputId": "edeed7a5-c564-4c53-a132-6c70e791e51a"
      },
      "source": [
        "all_province_table[all_province_table['province_of_onset'].isnull()]"
      ],
      "execution_count": 32,
      "outputs": [
        {
          "output_type": "execute_result",
          "data": {
            "text/html": [
              "<div>\n",
              "<style scoped>\n",
              "    .dataframe tbody tr th:only-of-type {\n",
              "        vertical-align: middle;\n",
              "    }\n",
              "\n",
              "    .dataframe tbody tr th {\n",
              "        vertical-align: top;\n",
              "    }\n",
              "\n",
              "    .dataframe thead th {\n",
              "        text-align: right;\n",
              "    }\n",
              "</style>\n",
              "<table border=\"1\" class=\"dataframe\">\n",
              "  <thead>\n",
              "    <tr style=\"text-align: right;\">\n",
              "      <th></th>\n",
              "      <th>No.</th>\n",
              "      <th>announce_date</th>\n",
              "      <th>Notified date</th>\n",
              "      <th>sex</th>\n",
              "      <th>age</th>\n",
              "      <th>Unit</th>\n",
              "      <th>nationality</th>\n",
              "      <th>province_of_isolation</th>\n",
              "      <th>risk</th>\n",
              "      <th>province_of_onset</th>\n",
              "      <th>district_of_onset</th>\n",
              "    </tr>\n",
              "  </thead>\n",
              "  <tbody>\n",
              "    <tr>\n",
              "      <th>40198</th>\n",
              "      <td>40199</td>\n",
              "      <td>2021-04-17</td>\n",
              "      <td>16/4/2021</td>\n",
              "      <td>หญิง</td>\n",
              "      <td>29.0</td>\n",
              "      <td>ปี</td>\n",
              "      <td>Thailand</td>\n",
              "      <td>NaN</td>\n",
              "      <td>อยู่ระหว่างการสอบสวน</td>\n",
              "      <td>NaN</td>\n",
              "      <td>NaN</td>\n",
              "    </tr>\n",
              "    <tr>\n",
              "      <th>40199</th>\n",
              "      <td>40200</td>\n",
              "      <td>2021-04-17</td>\n",
              "      <td>16/4/2021</td>\n",
              "      <td>หญิง</td>\n",
              "      <td>23.0</td>\n",
              "      <td>ปี</td>\n",
              "      <td>Thailand</td>\n",
              "      <td>NaN</td>\n",
              "      <td>อยู่ระหว่างการสอบสวน</td>\n",
              "      <td>NaN</td>\n",
              "      <td>NaN</td>\n",
              "    </tr>\n",
              "    <tr>\n",
              "      <th>40200</th>\n",
              "      <td>40201</td>\n",
              "      <td>2021-04-17</td>\n",
              "      <td>16/4/2021</td>\n",
              "      <td>ชาย</td>\n",
              "      <td>39.0</td>\n",
              "      <td>ปี</td>\n",
              "      <td>Thailand</td>\n",
              "      <td>NaN</td>\n",
              "      <td>อยู่ระหว่างการสอบสวน</td>\n",
              "      <td>NaN</td>\n",
              "      <td>NaN</td>\n",
              "    </tr>\n",
              "    <tr>\n",
              "      <th>40201</th>\n",
              "      <td>40202</td>\n",
              "      <td>2021-04-17</td>\n",
              "      <td>16/4/2021</td>\n",
              "      <td>หญิง</td>\n",
              "      <td>29.0</td>\n",
              "      <td>ปี</td>\n",
              "      <td>Thailand</td>\n",
              "      <td>NaN</td>\n",
              "      <td>อยู่ระหว่างการสอบสวน</td>\n",
              "      <td>NaN</td>\n",
              "      <td>NaN</td>\n",
              "    </tr>\n",
              "    <tr>\n",
              "      <th>40202</th>\n",
              "      <td>40203</td>\n",
              "      <td>2021-04-17</td>\n",
              "      <td>16/4/2021</td>\n",
              "      <td>ชาย</td>\n",
              "      <td>47.0</td>\n",
              "      <td>ปี</td>\n",
              "      <td>Thailand</td>\n",
              "      <td>NaN</td>\n",
              "      <td>อยู่ระหว่างการสอบสวน</td>\n",
              "      <td>NaN</td>\n",
              "      <td>NaN</td>\n",
              "    </tr>\n",
              "    <tr>\n",
              "      <th>...</th>\n",
              "      <td>...</td>\n",
              "      <td>...</td>\n",
              "      <td>...</td>\n",
              "      <td>...</td>\n",
              "      <td>...</td>\n",
              "      <td>...</td>\n",
              "      <td>...</td>\n",
              "      <td>...</td>\n",
              "      <td>...</td>\n",
              "      <td>...</td>\n",
              "      <td>...</td>\n",
              "    </tr>\n",
              "    <tr>\n",
              "      <th>40815</th>\n",
              "      <td>40816</td>\n",
              "      <td>2021-04-18</td>\n",
              "      <td>17/4/2021</td>\n",
              "      <td>ชาย</td>\n",
              "      <td>29.0</td>\n",
              "      <td>ปี</td>\n",
              "      <td>Thailand</td>\n",
              "      <td>NaN</td>\n",
              "      <td>อยู่ระหว่างการสอบสวน</td>\n",
              "      <td>NaN</td>\n",
              "      <td>NaN</td>\n",
              "    </tr>\n",
              "    <tr>\n",
              "      <th>40816</th>\n",
              "      <td>40817</td>\n",
              "      <td>2021-04-18</td>\n",
              "      <td>17/4/2021</td>\n",
              "      <td>ชาย</td>\n",
              "      <td>37.0</td>\n",
              "      <td>ปี</td>\n",
              "      <td>Thailand</td>\n",
              "      <td>NaN</td>\n",
              "      <td>อยู่ระหว่างการสอบสวน</td>\n",
              "      <td>NaN</td>\n",
              "      <td>NaN</td>\n",
              "    </tr>\n",
              "    <tr>\n",
              "      <th>40817</th>\n",
              "      <td>40818</td>\n",
              "      <td>2021-04-18</td>\n",
              "      <td>17/4/2021</td>\n",
              "      <td>หญิง</td>\n",
              "      <td>61.0</td>\n",
              "      <td>ปี</td>\n",
              "      <td>Thailand</td>\n",
              "      <td>NaN</td>\n",
              "      <td>อยู่ระหว่างการสอบสวน</td>\n",
              "      <td>NaN</td>\n",
              "      <td>NaN</td>\n",
              "    </tr>\n",
              "    <tr>\n",
              "      <th>40830</th>\n",
              "      <td>40831</td>\n",
              "      <td>2021-04-18</td>\n",
              "      <td>17/4/2021</td>\n",
              "      <td>ชาย</td>\n",
              "      <td>37.0</td>\n",
              "      <td>ปี</td>\n",
              "      <td>Nigeria</td>\n",
              "      <td>NaN</td>\n",
              "      <td>อยู่ระหว่างการสอบสวน</td>\n",
              "      <td>NaN</td>\n",
              "      <td>NaN</td>\n",
              "    </tr>\n",
              "    <tr>\n",
              "      <th>40831</th>\n",
              "      <td>40832</td>\n",
              "      <td>2021-04-18</td>\n",
              "      <td>17/4/2021</td>\n",
              "      <td>ชาย</td>\n",
              "      <td>36.0</td>\n",
              "      <td>ปี</td>\n",
              "      <td>Thailand</td>\n",
              "      <td>NaN</td>\n",
              "      <td>อยู่ระหว่างการสอบสวน</td>\n",
              "      <td>NaN</td>\n",
              "      <td>NaN</td>\n",
              "    </tr>\n",
              "  </tbody>\n",
              "</table>\n",
              "<p>377 rows × 11 columns</p>\n",
              "</div>"
            ],
            "text/plain": [
              "         No. announce_date  ... province_of_onset district_of_onset\n",
              "40198  40199    2021-04-17  ...               NaN               NaN\n",
              "40199  40200    2021-04-17  ...               NaN               NaN\n",
              "40200  40201    2021-04-17  ...               NaN               NaN\n",
              "40201  40202    2021-04-17  ...               NaN               NaN\n",
              "40202  40203    2021-04-17  ...               NaN               NaN\n",
              "...      ...           ...  ...               ...               ...\n",
              "40815  40816    2021-04-18  ...               NaN               NaN\n",
              "40816  40817    2021-04-18  ...               NaN               NaN\n",
              "40817  40818    2021-04-18  ...               NaN               NaN\n",
              "40830  40831    2021-04-18  ...               NaN               NaN\n",
              "40831  40832    2021-04-18  ...               NaN               NaN\n",
              "\n",
              "[377 rows x 11 columns]"
            ]
          },
          "metadata": {
            "tags": []
          },
          "execution_count": 32
        }
      ]
    },
    {
      "cell_type": "markdown",
      "metadata": {
        "id": "1qgn3joRlVPr"
      },
      "source": [
        "#สำหรับแถวที่ยัง null ให้เติม unknow"
      ]
    },
    {
      "cell_type": "code",
      "metadata": {
        "id": "tDU4HM0xs5TG"
      },
      "source": [
        "all_province_table['province_of_onset'] = all_province_table['province_of_onset'].fillna('Unknow')"
      ],
      "execution_count": 33,
      "outputs": []
    },
    {
      "cell_type": "markdown",
      "metadata": {
        "id": "SiPgK3eplg7Y"
      },
      "source": [
        "#ทดสอบว่ามี null หรือไม่"
      ]
    },
    {
      "cell_type": "code",
      "metadata": {
        "colab": {
          "base_uri": "https://localhost:8080/"
        },
        "id": "EYsKwLtItLmx",
        "outputId": "1fbcd4fe-07bd-4076-a8c2-473128b75829"
      },
      "source": [
        "all_province_table['province_of_onset'].isnull().any()"
      ],
      "execution_count": 34,
      "outputs": [
        {
          "output_type": "execute_result",
          "data": {
            "text/plain": [
              "False"
            ]
          },
          "metadata": {
            "tags": []
          },
          "execution_count": 34
        }
      ]
    },
    {
      "cell_type": "code",
      "metadata": {
        "colab": {
          "base_uri": "https://localhost:8080/",
          "height": 402
        },
        "id": "ihbuAxxH9QU2",
        "outputId": "3917d050-b9aa-4f2e-9851-71e3650718a7"
      },
      "source": [
        "all_province_table"
      ],
      "execution_count": 35,
      "outputs": [
        {
          "output_type": "execute_result",
          "data": {
            "text/html": [
              "<div>\n",
              "<style scoped>\n",
              "    .dataframe tbody tr th:only-of-type {\n",
              "        vertical-align: middle;\n",
              "    }\n",
              "\n",
              "    .dataframe tbody tr th {\n",
              "        vertical-align: top;\n",
              "    }\n",
              "\n",
              "    .dataframe thead th {\n",
              "        text-align: right;\n",
              "    }\n",
              "</style>\n",
              "<table border=\"1\" class=\"dataframe\">\n",
              "  <thead>\n",
              "    <tr style=\"text-align: right;\">\n",
              "      <th></th>\n",
              "      <th>No.</th>\n",
              "      <th>announce_date</th>\n",
              "      <th>Notified date</th>\n",
              "      <th>sex</th>\n",
              "      <th>age</th>\n",
              "      <th>Unit</th>\n",
              "      <th>nationality</th>\n",
              "      <th>province_of_isolation</th>\n",
              "      <th>risk</th>\n",
              "      <th>province_of_onset</th>\n",
              "      <th>district_of_onset</th>\n",
              "    </tr>\n",
              "  </thead>\n",
              "  <tbody>\n",
              "    <tr>\n",
              "      <th>0</th>\n",
              "      <td>1</td>\n",
              "      <td>2020-01-12</td>\n",
              "      <td>NaN</td>\n",
              "      <td>หญิง</td>\n",
              "      <td>61.0</td>\n",
              "      <td>ปี</td>\n",
              "      <td>China</td>\n",
              "      <td>กรุงเทพมหานคร</td>\n",
              "      <td>คนต่างชาติเดินทางมาจากต่างประเทศ</td>\n",
              "      <td>กรุงเทพมหานคร</td>\n",
              "      <td>NaN</td>\n",
              "    </tr>\n",
              "    <tr>\n",
              "      <th>1</th>\n",
              "      <td>2</td>\n",
              "      <td>2020-01-17</td>\n",
              "      <td>NaN</td>\n",
              "      <td>หญิง</td>\n",
              "      <td>74.0</td>\n",
              "      <td>ปี</td>\n",
              "      <td>China</td>\n",
              "      <td>กรุงเทพมหานคร</td>\n",
              "      <td>คนต่างชาติเดินทางมาจากต่างประเทศ</td>\n",
              "      <td>กรุงเทพมหานคร</td>\n",
              "      <td>NaN</td>\n",
              "    </tr>\n",
              "    <tr>\n",
              "      <th>2</th>\n",
              "      <td>3</td>\n",
              "      <td>2020-01-22</td>\n",
              "      <td>NaN</td>\n",
              "      <td>หญิง</td>\n",
              "      <td>73.0</td>\n",
              "      <td>ปี</td>\n",
              "      <td>Thailand</td>\n",
              "      <td>นครปฐม</td>\n",
              "      <td>คนต่างชาติเดินทางมาจากต่างประเทศ</td>\n",
              "      <td>นครปฐม</td>\n",
              "      <td>เมือง</td>\n",
              "    </tr>\n",
              "    <tr>\n",
              "      <th>3</th>\n",
              "      <td>4</td>\n",
              "      <td>2020-01-22</td>\n",
              "      <td>NaN</td>\n",
              "      <td>ชาย</td>\n",
              "      <td>68.0</td>\n",
              "      <td>ปี</td>\n",
              "      <td>China</td>\n",
              "      <td>กรุงเทพมหานคร</td>\n",
              "      <td>คนต่างชาติเดินทางมาจากต่างประเทศ</td>\n",
              "      <td>กรุงเทพมหานคร</td>\n",
              "      <td>NaN</td>\n",
              "    </tr>\n",
              "    <tr>\n",
              "      <th>4</th>\n",
              "      <td>5</td>\n",
              "      <td>2020-01-24</td>\n",
              "      <td>NaN</td>\n",
              "      <td>หญิง</td>\n",
              "      <td>66.0</td>\n",
              "      <td>ปี</td>\n",
              "      <td>China</td>\n",
              "      <td>นนทบุรี</td>\n",
              "      <td>คนต่างชาติเดินทางมาจากต่างประเทศ</td>\n",
              "      <td>กรุงเทพมหานคร</td>\n",
              "      <td>NaN</td>\n",
              "    </tr>\n",
              "    <tr>\n",
              "      <th>...</th>\n",
              "      <td>...</td>\n",
              "      <td>...</td>\n",
              "      <td>...</td>\n",
              "      <td>...</td>\n",
              "      <td>...</td>\n",
              "      <td>...</td>\n",
              "      <td>...</td>\n",
              "      <td>...</td>\n",
              "      <td>...</td>\n",
              "      <td>...</td>\n",
              "      <td>...</td>\n",
              "    </tr>\n",
              "    <tr>\n",
              "      <th>57505</th>\n",
              "      <td>57506</td>\n",
              "      <td>2021-04-26</td>\n",
              "      <td>25/4/2021</td>\n",
              "      <td>ชาย</td>\n",
              "      <td>51.0</td>\n",
              "      <td>ปี</td>\n",
              "      <td>Thailand</td>\n",
              "      <td>กรุงเทพมหานคร</td>\n",
              "      <td>อื่นๆ</td>\n",
              "      <td>กรุงเทพมหานคร</td>\n",
              "      <td>NaN</td>\n",
              "    </tr>\n",
              "    <tr>\n",
              "      <th>57506</th>\n",
              "      <td>57507</td>\n",
              "      <td>2021-04-26</td>\n",
              "      <td>25/4/2021</td>\n",
              "      <td>ชาย</td>\n",
              "      <td>50.0</td>\n",
              "      <td>ปี</td>\n",
              "      <td>Thailand</td>\n",
              "      <td>กรุงเทพมหานคร</td>\n",
              "      <td>อื่นๆ</td>\n",
              "      <td>กรุงเทพมหานคร</td>\n",
              "      <td>NaN</td>\n",
              "    </tr>\n",
              "    <tr>\n",
              "      <th>57507</th>\n",
              "      <td>57508</td>\n",
              "      <td>2021-04-26</td>\n",
              "      <td>25/4/2021</td>\n",
              "      <td>ชาย</td>\n",
              "      <td>24.0</td>\n",
              "      <td>ปี</td>\n",
              "      <td>Thailand</td>\n",
              "      <td>กรุงเทพมหานคร</td>\n",
              "      <td>อื่นๆ</td>\n",
              "      <td>กรุงเทพมหานคร</td>\n",
              "      <td>NaN</td>\n",
              "    </tr>\n",
              "    <tr>\n",
              "      <th>57508</th>\n",
              "      <td>57509</td>\n",
              "      <td>2021-04-26</td>\n",
              "      <td>25/4/2021</td>\n",
              "      <td>ชาย</td>\n",
              "      <td>24.0</td>\n",
              "      <td>ปี</td>\n",
              "      <td>Thailand</td>\n",
              "      <td>กรุงเทพมหานคร</td>\n",
              "      <td>อื่นๆ</td>\n",
              "      <td>กรุงเทพมหานคร</td>\n",
              "      <td>NaN</td>\n",
              "    </tr>\n",
              "    <tr>\n",
              "      <th>57509</th>\n",
              "      <td>57510</td>\n",
              "      <td>2021-04-26</td>\n",
              "      <td>25/4/2021</td>\n",
              "      <td>ชาย</td>\n",
              "      <td>28.0</td>\n",
              "      <td>ปี</td>\n",
              "      <td>Thailand</td>\n",
              "      <td>กรุงเทพมหานคร</td>\n",
              "      <td>อื่นๆ</td>\n",
              "      <td>กรุงเทพมหานคร</td>\n",
              "      <td>NaN</td>\n",
              "    </tr>\n",
              "  </tbody>\n",
              "</table>\n",
              "<p>57510 rows × 11 columns</p>\n",
              "</div>"
            ],
            "text/plain": [
              "         No. announce_date  ... province_of_onset district_of_onset\n",
              "0          1    2020-01-12  ...     กรุงเทพมหานคร               NaN\n",
              "1          2    2020-01-17  ...     กรุงเทพมหานคร               NaN\n",
              "2          3    2020-01-22  ...            นครปฐม             เมือง\n",
              "3          4    2020-01-22  ...     กรุงเทพมหานคร               NaN\n",
              "4          5    2020-01-24  ...     กรุงเทพมหานคร               NaN\n",
              "...      ...           ...  ...               ...               ...\n",
              "57505  57506    2021-04-26  ...     กรุงเทพมหานคร               NaN\n",
              "57506  57507    2021-04-26  ...     กรุงเทพมหานคร               NaN\n",
              "57507  57508    2021-04-26  ...     กรุงเทพมหานคร               NaN\n",
              "57508  57509    2021-04-26  ...     กรุงเทพมหานคร               NaN\n",
              "57509  57510    2021-04-26  ...     กรุงเทพมหานคร               NaN\n",
              "\n",
              "[57510 rows x 11 columns]"
            ]
          },
          "metadata": {
            "tags": []
          },
          "execution_count": 35
        }
      ]
    },
    {
      "cell_type": "code",
      "metadata": {
        "id": "tb6YrDQf2iGu"
      },
      "source": [
        "Co = Covid_19_case.groupby('announce_date')['No.'].count()"
      ],
      "execution_count": 36,
      "outputs": []
    },
    {
      "cell_type": "code",
      "metadata": {
        "id": "gK88gZpi2r44"
      },
      "source": [
        "table_Co = pd.DataFrame(Co).reset_index()\n",
        "table_Co['Month'] = table_Co['announce_date'].dt.month"
      ],
      "execution_count": 37,
      "outputs": []
    },
    {
      "cell_type": "code",
      "metadata": {
        "colab": {
          "base_uri": "https://localhost:8080/"
        },
        "id": "lKp5HHSk3Szp",
        "outputId": "39dbeb29-1d6b-4b50-81c4-f5955dbdbc5e"
      },
      "source": [
        "table_Co.groupby('Month')['No.'].sum()"
      ],
      "execution_count": 38,
      "outputs": [
        {
          "output_type": "execute_result",
          "data": {
            "text/plain": [
              "Month\n",
              "1     11917\n",
              "2      7192\n",
              "3      4521\n",
              "4     29950\n",
              "5       127\n",
              "6        90\n",
              "7       139\n",
              "8       102\n",
              "9       152\n",
              "10      216\n",
              "11      218\n",
              "12     2886\n",
              "Name: No., dtype: int64"
            ]
          },
          "metadata": {
            "tags": []
          },
          "execution_count": 38
        }
      ]
    },
    {
      "cell_type": "markdown",
      "metadata": {
        "id": "N6B7Sq4clvVw"
      },
      "source": [
        "#เรียกใช้ sheet 2563-2564 รวมในประเทศ"
      ]
    },
    {
      "cell_type": "code",
      "metadata": {
        "id": "EYXcUlp9kHmb",
        "colab": {
          "base_uri": "https://localhost:8080/",
          "height": 412
        },
        "outputId": "f059aba5-aefb-46ad-a511-6cf65629e955"
      },
      "source": [
        "covid_thailand = pd.read_excel(os.path.join(path,'passenger-covid19.xlsx'),sheet_name='2563-2564 รวมในประเทศ',skiprows=1,skipfooter=33)\n",
        "covid_thailand"
      ],
      "execution_count": 39,
      "outputs": [
        {
          "output_type": "execute_result",
          "data": {
            "text/html": [
              "<div>\n",
              "<style scoped>\n",
              "    .dataframe tbody tr th:only-of-type {\n",
              "        vertical-align: middle;\n",
              "    }\n",
              "\n",
              "    .dataframe tbody tr th {\n",
              "        vertical-align: top;\n",
              "    }\n",
              "\n",
              "    .dataframe thead th {\n",
              "        text-align: right;\n",
              "    }\n",
              "</style>\n",
              "<table border=\"1\" class=\"dataframe\">\n",
              "  <thead>\n",
              "    <tr style=\"text-align: right;\">\n",
              "      <th></th>\n",
              "      <th>Unnamed: 0</th>\n",
              "      <th>2020-01-01 00:00:00</th>\n",
              "      <th>2020-01-02 00:00:00</th>\n",
              "      <th>2020-01-03 00:00:00</th>\n",
              "      <th>2020-01-04 00:00:00</th>\n",
              "      <th>2020-01-05 00:00:00</th>\n",
              "      <th>2020-01-06 00:00:00</th>\n",
              "      <th>2020-01-07 00:00:00</th>\n",
              "      <th>2020-01-08 00:00:00</th>\n",
              "      <th>2020-01-09 00:00:00</th>\n",
              "      <th>2020-01-10 00:00:00</th>\n",
              "      <th>2020-01-11 00:00:00</th>\n",
              "      <th>2020-01-12 00:00:00</th>\n",
              "      <th>2020-01-13 00:00:00</th>\n",
              "      <th>2020-01-14 00:00:00</th>\n",
              "      <th>2020-01-15 00:00:00</th>\n",
              "      <th>2020-01-16 00:00:00</th>\n",
              "      <th>2020-01-17 00:00:00</th>\n",
              "      <th>2020-01-18 00:00:00</th>\n",
              "      <th>2020-01-19 00:00:00</th>\n",
              "      <th>2020-01-20 00:00:00</th>\n",
              "      <th>2020-01-21 00:00:00</th>\n",
              "      <th>2020-01-22 00:00:00</th>\n",
              "      <th>2020-01-23 00:00:00</th>\n",
              "      <th>2020-01-24 00:00:00</th>\n",
              "      <th>2020-01-25 00:00:00</th>\n",
              "      <th>2020-01-26 00:00:00</th>\n",
              "      <th>2020-01-27 00:00:00</th>\n",
              "      <th>2020-01-28 00:00:00</th>\n",
              "      <th>2020-01-29 00:00:00</th>\n",
              "      <th>2020-01-30 00:00:00</th>\n",
              "      <th>2020-01-31 00:00:00</th>\n",
              "      <th>2020-02-01 00:00:00</th>\n",
              "      <th>2020-02-02 00:00:00</th>\n",
              "      <th>2020-02-03 00:00:00</th>\n",
              "      <th>2020-02-04 00:00:00</th>\n",
              "      <th>2020-02-05 00:00:00</th>\n",
              "      <th>2020-02-06 00:00:00</th>\n",
              "      <th>2020-02-07 00:00:00</th>\n",
              "      <th>2020-02-08 00:00:00</th>\n",
              "      <th>...</th>\n",
              "      <th>2021-03-18 00:00:00</th>\n",
              "      <th>2021-03-19 00:00:00</th>\n",
              "      <th>2021-03-20 00:00:00</th>\n",
              "      <th>2021-03-21 00:00:00</th>\n",
              "      <th>2021-03-22 00:00:00</th>\n",
              "      <th>2021-03-23 00:00:00</th>\n",
              "      <th>2021-03-24 00:00:00</th>\n",
              "      <th>2021-03-25 00:00:00</th>\n",
              "      <th>2021-03-26 00:00:00</th>\n",
              "      <th>2021-03-27 00:00:00</th>\n",
              "      <th>2021-03-28 00:00:00</th>\n",
              "      <th>2021-03-29 00:00:00</th>\n",
              "      <th>2021-03-30 00:00:00</th>\n",
              "      <th>2021-03-31 00:00:00</th>\n",
              "      <th>2021-04-01 00:00:00</th>\n",
              "      <th>2021-04-02 00:00:00</th>\n",
              "      <th>2021-04-03 00:00:00</th>\n",
              "      <th>2021-04-04 00:00:00</th>\n",
              "      <th>2021-04-05 00:00:00</th>\n",
              "      <th>2021-04-06 00:00:00</th>\n",
              "      <th>2021-04-07 00:00:00</th>\n",
              "      <th>2021-04-08 00:00:00</th>\n",
              "      <th>2021-04-09 00:00:00</th>\n",
              "      <th>2021-04-10 00:00:00</th>\n",
              "      <th>2021-04-11 00:00:00</th>\n",
              "      <th>2021-04-12 00:00:00</th>\n",
              "      <th>2021-04-13 00:00:00</th>\n",
              "      <th>2021-04-14 00:00:00</th>\n",
              "      <th>2021-04-15 00:00:00</th>\n",
              "      <th>2021-04-16 00:00:00</th>\n",
              "      <th>2021-04-17 00:00:00</th>\n",
              "      <th>2021-04-18 00:00:00</th>\n",
              "      <th>2021-04-19 00:00:00</th>\n",
              "      <th>2021-04-20 00:00:00</th>\n",
              "      <th>2021-04-21 00:00:00</th>\n",
              "      <th>2021-04-22 00:00:00</th>\n",
              "      <th>2021-04-23 00:00:00</th>\n",
              "      <th>2021-04-24 00:00:00</th>\n",
              "      <th>2021-04-25 00:00:00</th>\n",
              "      <th>2021-04-26 00:00:00</th>\n",
              "    </tr>\n",
              "  </thead>\n",
              "  <tbody>\n",
              "    <tr>\n",
              "      <th>0</th>\n",
              "      <td>ทางถนน (คน)</td>\n",
              "      <td>1483255</td>\n",
              "      <td>1705026</td>\n",
              "      <td>1752572</td>\n",
              "      <td>1576146</td>\n",
              "      <td>1565134</td>\n",
              "      <td>1746239</td>\n",
              "      <td>1730243</td>\n",
              "      <td>1721777</td>\n",
              "      <td>1698594</td>\n",
              "      <td>1727356</td>\n",
              "      <td>1522765</td>\n",
              "      <td>1511236</td>\n",
              "      <td>1683606</td>\n",
              "      <td>1691301</td>\n",
              "      <td>1727613</td>\n",
              "      <td>1676901</td>\n",
              "      <td>1732040</td>\n",
              "      <td>1556750</td>\n",
              "      <td>1511356</td>\n",
              "      <td>1718946</td>\n",
              "      <td>1710079</td>\n",
              "      <td>1678182</td>\n",
              "      <td>1685422</td>\n",
              "      <td>1658692</td>\n",
              "      <td>1523835</td>\n",
              "      <td>1498975</td>\n",
              "      <td>1696898</td>\n",
              "      <td>1679988</td>\n",
              "      <td>1668462</td>\n",
              "      <td>1640721</td>\n",
              "      <td>1704546</td>\n",
              "      <td>1400174</td>\n",
              "      <td>1483074</td>\n",
              "      <td>1706497</td>\n",
              "      <td>1731697</td>\n",
              "      <td>1727513</td>\n",
              "      <td>1662866</td>\n",
              "      <td>1746742</td>\n",
              "      <td>1505635</td>\n",
              "      <td>...</td>\n",
              "      <td>997062</td>\n",
              "      <td>1017447</td>\n",
              "      <td>849673</td>\n",
              "      <td>787616</td>\n",
              "      <td>937505</td>\n",
              "      <td>969454</td>\n",
              "      <td>958065</td>\n",
              "      <td>981683</td>\n",
              "      <td>1011976</td>\n",
              "      <td>877911</td>\n",
              "      <td>794001</td>\n",
              "      <td>974571</td>\n",
              "      <td>965117</td>\n",
              "      <td>967022</td>\n",
              "      <td>987469</td>\n",
              "      <td>1006485</td>\n",
              "      <td>868194</td>\n",
              "      <td>789312</td>\n",
              "      <td>965421</td>\n",
              "      <td>753176</td>\n",
              "      <td>908431</td>\n",
              "      <td>936938</td>\n",
              "      <td>929038</td>\n",
              "      <td>719618</td>\n",
              "      <td>555680</td>\n",
              "      <td>578184</td>\n",
              "      <td>424539</td>\n",
              "      <td>454352</td>\n",
              "      <td>479063</td>\n",
              "      <td>596596</td>\n",
              "      <td>540688</td>\n",
              "      <td>507339</td>\n",
              "      <td>695769</td>\n",
              "      <td>665925</td>\n",
              "      <td>648848</td>\n",
              "      <td>631892</td>\n",
              "      <td>635830</td>\n",
              "      <td>516751</td>\n",
              "      <td>425707</td>\n",
              "      <td>580580</td>\n",
              "    </tr>\n",
              "    <tr>\n",
              "      <th>1</th>\n",
              "      <td>ทางราง (คน)</td>\n",
              "      <td>885353</td>\n",
              "      <td>1269207</td>\n",
              "      <td>1366412</td>\n",
              "      <td>1027281</td>\n",
              "      <td>915425</td>\n",
              "      <td>1479971</td>\n",
              "      <td>1496915</td>\n",
              "      <td>1496873</td>\n",
              "      <td>1525899</td>\n",
              "      <td>1630428</td>\n",
              "      <td>1192917</td>\n",
              "      <td>988051</td>\n",
              "      <td>1479502</td>\n",
              "      <td>1491002</td>\n",
              "      <td>1502596</td>\n",
              "      <td>1507477</td>\n",
              "      <td>1599647</td>\n",
              "      <td>1169227</td>\n",
              "      <td>983700</td>\n",
              "      <td>1495196</td>\n",
              "      <td>1497279</td>\n",
              "      <td>1488097</td>\n",
              "      <td>1497174</td>\n",
              "      <td>1527329</td>\n",
              "      <td>1116084</td>\n",
              "      <td>938763</td>\n",
              "      <td>1420125</td>\n",
              "      <td>1457240</td>\n",
              "      <td>1440515</td>\n",
              "      <td>1464619</td>\n",
              "      <td>1597290</td>\n",
              "      <td>1097787</td>\n",
              "      <td>940562</td>\n",
              "      <td>1452349</td>\n",
              "      <td>1437693</td>\n",
              "      <td>1463069</td>\n",
              "      <td>1465400</td>\n",
              "      <td>1589959</td>\n",
              "      <td>1036116</td>\n",
              "      <td>...</td>\n",
              "      <td>984873</td>\n",
              "      <td>1033094</td>\n",
              "      <td>690769</td>\n",
              "      <td>544737</td>\n",
              "      <td>961659</td>\n",
              "      <td>986118</td>\n",
              "      <td>994193</td>\n",
              "      <td>1007277</td>\n",
              "      <td>1083825</td>\n",
              "      <td>730040</td>\n",
              "      <td>583999</td>\n",
              "      <td>1002307</td>\n",
              "      <td>1008957</td>\n",
              "      <td>1039196</td>\n",
              "      <td>1037660</td>\n",
              "      <td>1109747</td>\n",
              "      <td>726174</td>\n",
              "      <td>537800</td>\n",
              "      <td>986006</td>\n",
              "      <td>586488</td>\n",
              "      <td>932517</td>\n",
              "      <td>830224</td>\n",
              "      <td>792450</td>\n",
              "      <td>430863</td>\n",
              "      <td>303809</td>\n",
              "      <td>396526</td>\n",
              "      <td>235614</td>\n",
              "      <td>227986</td>\n",
              "      <td>245450</td>\n",
              "      <td>421863</td>\n",
              "      <td>303925</td>\n",
              "      <td>260010</td>\n",
              "      <td>520387</td>\n",
              "      <td>488979</td>\n",
              "      <td>475030</td>\n",
              "      <td>467490</td>\n",
              "      <td>474554</td>\n",
              "      <td>289943</td>\n",
              "      <td>223384</td>\n",
              "      <td>418835</td>\n",
              "    </tr>\n",
              "    <tr>\n",
              "      <th>2</th>\n",
              "      <td>ทางน้ำ (คน)</td>\n",
              "      <td>272578</td>\n",
              "      <td>291990</td>\n",
              "      <td>301260</td>\n",
              "      <td>271171</td>\n",
              "      <td>254176</td>\n",
              "      <td>281785</td>\n",
              "      <td>275127</td>\n",
              "      <td>253550</td>\n",
              "      <td>263139</td>\n",
              "      <td>280283</td>\n",
              "      <td>243767</td>\n",
              "      <td>246025</td>\n",
              "      <td>276490</td>\n",
              "      <td>276916</td>\n",
              "      <td>253897</td>\n",
              "      <td>252473</td>\n",
              "      <td>281743</td>\n",
              "      <td>251052</td>\n",
              "      <td>227983</td>\n",
              "      <td>293441</td>\n",
              "      <td>278167</td>\n",
              "      <td>267105</td>\n",
              "      <td>266393</td>\n",
              "      <td>281291</td>\n",
              "      <td>257999</td>\n",
              "      <td>246371</td>\n",
              "      <td>269399</td>\n",
              "      <td>270801</td>\n",
              "      <td>253640</td>\n",
              "      <td>257520</td>\n",
              "      <td>264406</td>\n",
              "      <td>220866</td>\n",
              "      <td>231707</td>\n",
              "      <td>264747</td>\n",
              "      <td>259426</td>\n",
              "      <td>262889</td>\n",
              "      <td>257261</td>\n",
              "      <td>268799</td>\n",
              "      <td>234187</td>\n",
              "      <td>...</td>\n",
              "      <td>85762</td>\n",
              "      <td>126155</td>\n",
              "      <td>81959</td>\n",
              "      <td>86020</td>\n",
              "      <td>90290</td>\n",
              "      <td>109277</td>\n",
              "      <td>78491</td>\n",
              "      <td>88408</td>\n",
              "      <td>88934</td>\n",
              "      <td>85300</td>\n",
              "      <td>79325</td>\n",
              "      <td>107145</td>\n",
              "      <td>95217</td>\n",
              "      <td>91676</td>\n",
              "      <td>84888</td>\n",
              "      <td>81193</td>\n",
              "      <td>115793</td>\n",
              "      <td>106230</td>\n",
              "      <td>100081</td>\n",
              "      <td>83620</td>\n",
              "      <td>116425</td>\n",
              "      <td>105530</td>\n",
              "      <td>118869</td>\n",
              "      <td>163296</td>\n",
              "      <td>169357</td>\n",
              "      <td>167760</td>\n",
              "      <td>182536</td>\n",
              "      <td>166326</td>\n",
              "      <td>150923</td>\n",
              "      <td>108396</td>\n",
              "      <td>103610</td>\n",
              "      <td>73357</td>\n",
              "      <td>77813</td>\n",
              "      <td>69035</td>\n",
              "      <td>66006</td>\n",
              "      <td>60186</td>\n",
              "      <td>54870</td>\n",
              "      <td>48885</td>\n",
              "      <td>42733</td>\n",
              "      <td>53591</td>\n",
              "    </tr>\n",
              "    <tr>\n",
              "      <th>3</th>\n",
              "      <td>ทางอากาศ* (คน)</td>\n",
              "      <td>102678</td>\n",
              "      <td>104613</td>\n",
              "      <td>100575</td>\n",
              "      <td>100852</td>\n",
              "      <td>100784</td>\n",
              "      <td>98456</td>\n",
              "      <td>98722</td>\n",
              "      <td>96142</td>\n",
              "      <td>98749</td>\n",
              "      <td>101348</td>\n",
              "      <td>93156</td>\n",
              "      <td>99755</td>\n",
              "      <td>99229</td>\n",
              "      <td>98052</td>\n",
              "      <td>98970</td>\n",
              "      <td>103727</td>\n",
              "      <td>106000</td>\n",
              "      <td>103356</td>\n",
              "      <td>105954</td>\n",
              "      <td>105424</td>\n",
              "      <td>100735</td>\n",
              "      <td>101432</td>\n",
              "      <td>104623</td>\n",
              "      <td>103697</td>\n",
              "      <td>101563</td>\n",
              "      <td>103158</td>\n",
              "      <td>103498</td>\n",
              "      <td>98451</td>\n",
              "      <td>95555</td>\n",
              "      <td>95849</td>\n",
              "      <td>97556</td>\n",
              "      <td>90402</td>\n",
              "      <td>89533</td>\n",
              "      <td>88154</td>\n",
              "      <td>85779</td>\n",
              "      <td>88266</td>\n",
              "      <td>93860</td>\n",
              "      <td>99445</td>\n",
              "      <td>94944</td>\n",
              "      <td>...</td>\n",
              "      <td>51244</td>\n",
              "      <td>65243</td>\n",
              "      <td>57665</td>\n",
              "      <td>64944</td>\n",
              "      <td>59144</td>\n",
              "      <td>51341</td>\n",
              "      <td>53670</td>\n",
              "      <td>59380</td>\n",
              "      <td>67960</td>\n",
              "      <td>63406</td>\n",
              "      <td>72844</td>\n",
              "      <td>66721</td>\n",
              "      <td>56866</td>\n",
              "      <td>57980</td>\n",
              "      <td>70353</td>\n",
              "      <td>77529</td>\n",
              "      <td>76062</td>\n",
              "      <td>80447</td>\n",
              "      <td>73958</td>\n",
              "      <td>77376</td>\n",
              "      <td>74769</td>\n",
              "      <td>79717</td>\n",
              "      <td>75900</td>\n",
              "      <td>69100</td>\n",
              "      <td>59960</td>\n",
              "      <td>51998</td>\n",
              "      <td>47717</td>\n",
              "      <td>48945</td>\n",
              "      <td>49859</td>\n",
              "      <td>44204</td>\n",
              "      <td>43157</td>\n",
              "      <td>45917</td>\n",
              "      <td>29483</td>\n",
              "      <td>25390</td>\n",
              "      <td>18141</td>\n",
              "      <td>16139</td>\n",
              "      <td>15365</td>\n",
              "      <td>13702</td>\n",
              "      <td>16622</td>\n",
              "      <td>13585</td>\n",
              "    </tr>\n",
              "    <tr>\n",
              "      <th>4</th>\n",
              "      <td>รวมประชาชนเดินทาง (คน)</td>\n",
              "      <td>2743864</td>\n",
              "      <td>3370836</td>\n",
              "      <td>3520819</td>\n",
              "      <td>2975450</td>\n",
              "      <td>2835519</td>\n",
              "      <td>3606451</td>\n",
              "      <td>3601007</td>\n",
              "      <td>3568342</td>\n",
              "      <td>3586381</td>\n",
              "      <td>3739415</td>\n",
              "      <td>3052605</td>\n",
              "      <td>2845067</td>\n",
              "      <td>3538827</td>\n",
              "      <td>3557271</td>\n",
              "      <td>3583076</td>\n",
              "      <td>3540578</td>\n",
              "      <td>3719430</td>\n",
              "      <td>3080385</td>\n",
              "      <td>2828993</td>\n",
              "      <td>3613007</td>\n",
              "      <td>3586260</td>\n",
              "      <td>3534816</td>\n",
              "      <td>3553612</td>\n",
              "      <td>3571009</td>\n",
              "      <td>2999481</td>\n",
              "      <td>2787267</td>\n",
              "      <td>3489920</td>\n",
              "      <td>3506480</td>\n",
              "      <td>3458172</td>\n",
              "      <td>3458709</td>\n",
              "      <td>3663798</td>\n",
              "      <td>2809229</td>\n",
              "      <td>2744876</td>\n",
              "      <td>3511747</td>\n",
              "      <td>3514595</td>\n",
              "      <td>3541737</td>\n",
              "      <td>3479387</td>\n",
              "      <td>3704945</td>\n",
              "      <td>2870882</td>\n",
              "      <td>...</td>\n",
              "      <td>2118941</td>\n",
              "      <td>2241939</td>\n",
              "      <td>1680066</td>\n",
              "      <td>1483317</td>\n",
              "      <td>2048598</td>\n",
              "      <td>2116190</td>\n",
              "      <td>2084419</td>\n",
              "      <td>2136748</td>\n",
              "      <td>2252695</td>\n",
              "      <td>1756657</td>\n",
              "      <td>1530169</td>\n",
              "      <td>2150744</td>\n",
              "      <td>2126157</td>\n",
              "      <td>2155874</td>\n",
              "      <td>2180370</td>\n",
              "      <td>2274954</td>\n",
              "      <td>1786223</td>\n",
              "      <td>1513789</td>\n",
              "      <td>2125466</td>\n",
              "      <td>1500660</td>\n",
              "      <td>2032142</td>\n",
              "      <td>1952409</td>\n",
              "      <td>1916257</td>\n",
              "      <td>1382877</td>\n",
              "      <td>1088806</td>\n",
              "      <td>1194468</td>\n",
              "      <td>890406</td>\n",
              "      <td>897609</td>\n",
              "      <td>925295</td>\n",
              "      <td>1171059</td>\n",
              "      <td>991380</td>\n",
              "      <td>886623</td>\n",
              "      <td>1323452</td>\n",
              "      <td>1249329</td>\n",
              "      <td>1208025</td>\n",
              "      <td>1175707</td>\n",
              "      <td>1180619</td>\n",
              "      <td>869281</td>\n",
              "      <td>708446</td>\n",
              "      <td>1066591</td>\n",
              "    </tr>\n",
              "  </tbody>\n",
              "</table>\n",
              "<p>5 rows × 483 columns</p>\n",
              "</div>"
            ],
            "text/plain": [
              "               Unnamed: 0  ...  2021-04-26 00:00:00\n",
              "0             ทางถนน (คน)  ...               580580\n",
              "1             ทางราง (คน)  ...               418835\n",
              "2             ทางน้ำ (คน)  ...                53591\n",
              "3          ทางอากาศ* (คน)  ...                13585\n",
              "4  รวมประชาชนเดินทาง (คน)  ...              1066591\n",
              "\n",
              "[5 rows x 483 columns]"
            ]
          },
          "metadata": {
            "tags": []
          },
          "execution_count": 39
        }
      ]
    },
    {
      "cell_type": "code",
      "metadata": {
        "id": "RxKoRQyy7Ojo"
      },
      "source": [
        "covid_thailand.drop([0,1,2,3],inplace=True)"
      ],
      "execution_count": 40,
      "outputs": []
    },
    {
      "cell_type": "code",
      "metadata": {
        "id": "g4HOABqm7fsn"
      },
      "source": [
        "data1 = covid_thailand.iloc[:,:].sum()"
      ],
      "execution_count": 41,
      "outputs": []
    },
    {
      "cell_type": "code",
      "metadata": {
        "id": "HMo3ExQK8FIQ"
      },
      "source": [
        "new_data_covid = pd.DataFrame(data1).reset_index()"
      ],
      "execution_count": 42,
      "outputs": []
    },
    {
      "cell_type": "code",
      "metadata": {
        "id": "Ua_-eLKT8QrY"
      },
      "source": [
        "new_data_covid.drop(index=0,inplace=True)"
      ],
      "execution_count": 43,
      "outputs": []
    },
    {
      "cell_type": "code",
      "metadata": {
        "id": "I6UxrCe-8Rr7"
      },
      "source": [
        "new_data_covid.rename(columns={'index':'announce_date',0:'Num_travel'},inplace=True)"
      ],
      "execution_count": 44,
      "outputs": []
    },
    {
      "cell_type": "code",
      "metadata": {
        "id": "yOWdks109xWG"
      },
      "source": [
        "new_data_covid['announce_date'] = pd.to_datetime(new_data_covid['announce_date'],format='%d/%m/%Y')"
      ],
      "execution_count": 45,
      "outputs": []
    },
    {
      "cell_type": "markdown",
      "metadata": {
        "id": "nkYHi2JMl7qN"
      },
      "source": [
        "#ตารางผลรวมของจำนวนคนเดินทางทั้งหมด จากแถว \"รวมประชาชนเดินทาง(คน)\""
      ]
    },
    {
      "cell_type": "code",
      "metadata": {
        "colab": {
          "base_uri": "https://localhost:8080/",
          "height": 402
        },
        "id": "EMqqxjBB99u7",
        "outputId": "5df4d597-7871-4128-f3b9-ebf5a3081cf9"
      },
      "source": [
        "new_data_covid"
      ],
      "execution_count": 46,
      "outputs": [
        {
          "output_type": "execute_result",
          "data": {
            "text/html": [
              "<div>\n",
              "<style scoped>\n",
              "    .dataframe tbody tr th:only-of-type {\n",
              "        vertical-align: middle;\n",
              "    }\n",
              "\n",
              "    .dataframe tbody tr th {\n",
              "        vertical-align: top;\n",
              "    }\n",
              "\n",
              "    .dataframe thead th {\n",
              "        text-align: right;\n",
              "    }\n",
              "</style>\n",
              "<table border=\"1\" class=\"dataframe\">\n",
              "  <thead>\n",
              "    <tr style=\"text-align: right;\">\n",
              "      <th></th>\n",
              "      <th>announce_date</th>\n",
              "      <th>Num_travel</th>\n",
              "    </tr>\n",
              "  </thead>\n",
              "  <tbody>\n",
              "    <tr>\n",
              "      <th>1</th>\n",
              "      <td>2020-01-01</td>\n",
              "      <td>2743864</td>\n",
              "    </tr>\n",
              "    <tr>\n",
              "      <th>2</th>\n",
              "      <td>2020-01-02</td>\n",
              "      <td>3370836</td>\n",
              "    </tr>\n",
              "    <tr>\n",
              "      <th>3</th>\n",
              "      <td>2020-01-03</td>\n",
              "      <td>3520819</td>\n",
              "    </tr>\n",
              "    <tr>\n",
              "      <th>4</th>\n",
              "      <td>2020-01-04</td>\n",
              "      <td>2975450</td>\n",
              "    </tr>\n",
              "    <tr>\n",
              "      <th>5</th>\n",
              "      <td>2020-01-05</td>\n",
              "      <td>2835519</td>\n",
              "    </tr>\n",
              "    <tr>\n",
              "      <th>...</th>\n",
              "      <td>...</td>\n",
              "      <td>...</td>\n",
              "    </tr>\n",
              "    <tr>\n",
              "      <th>478</th>\n",
              "      <td>2021-04-22</td>\n",
              "      <td>1175707</td>\n",
              "    </tr>\n",
              "    <tr>\n",
              "      <th>479</th>\n",
              "      <td>2021-04-23</td>\n",
              "      <td>1180619</td>\n",
              "    </tr>\n",
              "    <tr>\n",
              "      <th>480</th>\n",
              "      <td>2021-04-24</td>\n",
              "      <td>869281</td>\n",
              "    </tr>\n",
              "    <tr>\n",
              "      <th>481</th>\n",
              "      <td>2021-04-25</td>\n",
              "      <td>708446</td>\n",
              "    </tr>\n",
              "    <tr>\n",
              "      <th>482</th>\n",
              "      <td>2021-04-26</td>\n",
              "      <td>1066591</td>\n",
              "    </tr>\n",
              "  </tbody>\n",
              "</table>\n",
              "<p>482 rows × 2 columns</p>\n",
              "</div>"
            ],
            "text/plain": [
              "    announce_date Num_travel\n",
              "1      2020-01-01    2743864\n",
              "2      2020-01-02    3370836\n",
              "3      2020-01-03    3520819\n",
              "4      2020-01-04    2975450\n",
              "5      2020-01-05    2835519\n",
              "..            ...        ...\n",
              "478    2021-04-22    1175707\n",
              "479    2021-04-23    1180619\n",
              "480    2021-04-24     869281\n",
              "481    2021-04-25     708446\n",
              "482    2021-04-26    1066591\n",
              "\n",
              "[482 rows x 2 columns]"
            ]
          },
          "metadata": {
            "tags": []
          },
          "execution_count": 46
        }
      ]
    },
    {
      "cell_type": "markdown",
      "metadata": {
        "id": "geC1uVV8mMJT"
      },
      "source": [
        "# groupby ตามวันเวลา"
      ]
    },
    {
      "cell_type": "code",
      "metadata": {
        "colab": {
          "base_uri": "https://localhost:8080/"
        },
        "id": "RN0vMVG-8gDl",
        "outputId": "858a5ca8-ca88-4aaf-f66d-2bafc9c1fff7"
      },
      "source": [
        "Co = Covid_19_case.groupby('announce_date')['No.'].count()\n",
        "Co"
      ],
      "execution_count": 47,
      "outputs": [
        {
          "output_type": "execute_result",
          "data": {
            "text/plain": [
              "announce_date\n",
              "2020-01-12       1\n",
              "2020-01-17       1\n",
              "2020-01-22       2\n",
              "2020-01-24       1\n",
              "2020-01-25       1\n",
              "              ... \n",
              "2021-04-22    1470\n",
              "2021-04-23    2070\n",
              "2021-04-24    2839\n",
              "2021-04-25    2438\n",
              "2021-04-26    2048\n",
              "Name: No., Length: 415, dtype: int64"
            ]
          },
          "metadata": {
            "tags": []
          },
          "execution_count": 47
        }
      ]
    },
    {
      "cell_type": "code",
      "metadata": {
        "id": "TwJCdBru9Kip"
      },
      "source": [
        "table_Co = pd.DataFrame(Co).reset_index()\n",
        "table_Co.rename(columns={'index':'announce_date','No.':'Num_sick'},inplace=True)"
      ],
      "execution_count": 48,
      "outputs": []
    },
    {
      "cell_type": "code",
      "metadata": {
        "id": "-kpDIsqb9QJS"
      },
      "source": [
        "table_Co['month'] = table_Co['announce_date'].dt.month"
      ],
      "execution_count": 49,
      "outputs": []
    },
    {
      "cell_type": "code",
      "metadata": {
        "colab": {
          "base_uri": "https://localhost:8080/",
          "height": 402
        },
        "id": "XnEsRsXYpZuy",
        "outputId": "9e3165cf-6d10-4682-e7a9-898ee8dcd275"
      },
      "source": [
        "table_Co_2020 = table_Co[table_Co['announce_date'] <= datetime(year=2020,month=12,day=31)]\n",
        "table_Co_2020                                                               "
      ],
      "execution_count": 50,
      "outputs": [
        {
          "output_type": "execute_result",
          "data": {
            "text/html": [
              "<div>\n",
              "<style scoped>\n",
              "    .dataframe tbody tr th:only-of-type {\n",
              "        vertical-align: middle;\n",
              "    }\n",
              "\n",
              "    .dataframe tbody tr th {\n",
              "        vertical-align: top;\n",
              "    }\n",
              "\n",
              "    .dataframe thead th {\n",
              "        text-align: right;\n",
              "    }\n",
              "</style>\n",
              "<table border=\"1\" class=\"dataframe\">\n",
              "  <thead>\n",
              "    <tr style=\"text-align: right;\">\n",
              "      <th></th>\n",
              "      <th>announce_date</th>\n",
              "      <th>Num_sick</th>\n",
              "      <th>month</th>\n",
              "    </tr>\n",
              "  </thead>\n",
              "  <tbody>\n",
              "    <tr>\n",
              "      <th>0</th>\n",
              "      <td>2020-01-12</td>\n",
              "      <td>1</td>\n",
              "      <td>1</td>\n",
              "    </tr>\n",
              "    <tr>\n",
              "      <th>1</th>\n",
              "      <td>2020-01-17</td>\n",
              "      <td>1</td>\n",
              "      <td>1</td>\n",
              "    </tr>\n",
              "    <tr>\n",
              "      <th>2</th>\n",
              "      <td>2020-01-22</td>\n",
              "      <td>2</td>\n",
              "      <td>1</td>\n",
              "    </tr>\n",
              "    <tr>\n",
              "      <th>3</th>\n",
              "      <td>2020-01-24</td>\n",
              "      <td>1</td>\n",
              "      <td>1</td>\n",
              "    </tr>\n",
              "    <tr>\n",
              "      <th>4</th>\n",
              "      <td>2020-01-25</td>\n",
              "      <td>1</td>\n",
              "      <td>1</td>\n",
              "    </tr>\n",
              "    <tr>\n",
              "      <th>...</th>\n",
              "      <td>...</td>\n",
              "      <td>...</td>\n",
              "      <td>...</td>\n",
              "    </tr>\n",
              "    <tr>\n",
              "      <th>294</th>\n",
              "      <td>2020-12-27</td>\n",
              "      <td>121</td>\n",
              "      <td>12</td>\n",
              "    </tr>\n",
              "    <tr>\n",
              "      <th>295</th>\n",
              "      <td>2020-12-28</td>\n",
              "      <td>144</td>\n",
              "      <td>12</td>\n",
              "    </tr>\n",
              "    <tr>\n",
              "      <th>296</th>\n",
              "      <td>2020-12-29</td>\n",
              "      <td>155</td>\n",
              "      <td>12</td>\n",
              "    </tr>\n",
              "    <tr>\n",
              "      <th>297</th>\n",
              "      <td>2020-12-30</td>\n",
              "      <td>250</td>\n",
              "      <td>12</td>\n",
              "    </tr>\n",
              "    <tr>\n",
              "      <th>298</th>\n",
              "      <td>2020-12-31</td>\n",
              "      <td>194</td>\n",
              "      <td>12</td>\n",
              "    </tr>\n",
              "  </tbody>\n",
              "</table>\n",
              "<p>299 rows × 3 columns</p>\n",
              "</div>"
            ],
            "text/plain": [
              "    announce_date  Num_sick  month\n",
              "0      2020-01-12         1      1\n",
              "1      2020-01-17         1      1\n",
              "2      2020-01-22         2      1\n",
              "3      2020-01-24         1      1\n",
              "4      2020-01-25         1      1\n",
              "..            ...       ...    ...\n",
              "294    2020-12-27       121     12\n",
              "295    2020-12-28       144     12\n",
              "296    2020-12-29       155     12\n",
              "297    2020-12-30       250     12\n",
              "298    2020-12-31       194     12\n",
              "\n",
              "[299 rows x 3 columns]"
            ]
          },
          "metadata": {
            "tags": []
          },
          "execution_count": 50
        }
      ]
    },
    {
      "cell_type": "code",
      "metadata": {
        "colab": {
          "base_uri": "https://localhost:8080/"
        },
        "id": "IVFf3P4oqGBZ",
        "outputId": "cd4d97ba-da2e-4aa1-e05c-76cea64d2c6a"
      },
      "source": [
        "table_Co_2020.groupby('month')['Num_sick'].sum()"
      ],
      "execution_count": 51,
      "outputs": [
        {
          "output_type": "execute_result",
          "data": {
            "text/plain": [
              "month\n",
              "1       19\n",
              "2       23\n",
              "3     1609\n",
              "4     1303\n",
              "5      127\n",
              "6       90\n",
              "7      139\n",
              "8      102\n",
              "9      152\n",
              "10     216\n",
              "11     218\n",
              "12    2886\n",
              "Name: Num_sick, dtype: int64"
            ]
          },
          "metadata": {
            "tags": []
          },
          "execution_count": 51
        }
      ]
    },
    {
      "cell_type": "markdown",
      "metadata": {
        "id": "n7Dv0Sl-mUoY"
      },
      "source": [
        "#รวมตารางของผู้ติดเชื้อกับจำนวนผู้เดินทางรวม"
      ]
    },
    {
      "cell_type": "code",
      "metadata": {
        "id": "mjRH7wRh_NFy"
      },
      "source": [
        "new_data_covid['Num_patient'] = new_data_covid['announce_date'].map(table_Co.set_index('announce_date')['Num_sick'])"
      ],
      "execution_count": 52,
      "outputs": []
    },
    {
      "cell_type": "code",
      "metadata": {
        "id": "vbdN0sd9icUE"
      },
      "source": [
        "new_data_covid['month'] = new_data_covid['announce_date'].dt.month"
      ],
      "execution_count": 53,
      "outputs": []
    },
    {
      "cell_type": "code",
      "metadata": {
        "colab": {
          "base_uri": "https://localhost:8080/",
          "height": 402
        },
        "id": "F0fosoeO9yjM",
        "outputId": "39a846e0-10c3-4bfd-d289-36736683beaf"
      },
      "source": [
        "new_data_covid"
      ],
      "execution_count": 54,
      "outputs": [
        {
          "output_type": "execute_result",
          "data": {
            "text/html": [
              "<div>\n",
              "<style scoped>\n",
              "    .dataframe tbody tr th:only-of-type {\n",
              "        vertical-align: middle;\n",
              "    }\n",
              "\n",
              "    .dataframe tbody tr th {\n",
              "        vertical-align: top;\n",
              "    }\n",
              "\n",
              "    .dataframe thead th {\n",
              "        text-align: right;\n",
              "    }\n",
              "</style>\n",
              "<table border=\"1\" class=\"dataframe\">\n",
              "  <thead>\n",
              "    <tr style=\"text-align: right;\">\n",
              "      <th></th>\n",
              "      <th>announce_date</th>\n",
              "      <th>Num_travel</th>\n",
              "      <th>Num_patient</th>\n",
              "      <th>month</th>\n",
              "    </tr>\n",
              "  </thead>\n",
              "  <tbody>\n",
              "    <tr>\n",
              "      <th>1</th>\n",
              "      <td>2020-01-01</td>\n",
              "      <td>2743864</td>\n",
              "      <td>NaN</td>\n",
              "      <td>1</td>\n",
              "    </tr>\n",
              "    <tr>\n",
              "      <th>2</th>\n",
              "      <td>2020-01-02</td>\n",
              "      <td>3370836</td>\n",
              "      <td>NaN</td>\n",
              "      <td>1</td>\n",
              "    </tr>\n",
              "    <tr>\n",
              "      <th>3</th>\n",
              "      <td>2020-01-03</td>\n",
              "      <td>3520819</td>\n",
              "      <td>NaN</td>\n",
              "      <td>1</td>\n",
              "    </tr>\n",
              "    <tr>\n",
              "      <th>4</th>\n",
              "      <td>2020-01-04</td>\n",
              "      <td>2975450</td>\n",
              "      <td>NaN</td>\n",
              "      <td>1</td>\n",
              "    </tr>\n",
              "    <tr>\n",
              "      <th>5</th>\n",
              "      <td>2020-01-05</td>\n",
              "      <td>2835519</td>\n",
              "      <td>NaN</td>\n",
              "      <td>1</td>\n",
              "    </tr>\n",
              "    <tr>\n",
              "      <th>...</th>\n",
              "      <td>...</td>\n",
              "      <td>...</td>\n",
              "      <td>...</td>\n",
              "      <td>...</td>\n",
              "    </tr>\n",
              "    <tr>\n",
              "      <th>478</th>\n",
              "      <td>2021-04-22</td>\n",
              "      <td>1175707</td>\n",
              "      <td>1470.0</td>\n",
              "      <td>4</td>\n",
              "    </tr>\n",
              "    <tr>\n",
              "      <th>479</th>\n",
              "      <td>2021-04-23</td>\n",
              "      <td>1180619</td>\n",
              "      <td>2070.0</td>\n",
              "      <td>4</td>\n",
              "    </tr>\n",
              "    <tr>\n",
              "      <th>480</th>\n",
              "      <td>2021-04-24</td>\n",
              "      <td>869281</td>\n",
              "      <td>2839.0</td>\n",
              "      <td>4</td>\n",
              "    </tr>\n",
              "    <tr>\n",
              "      <th>481</th>\n",
              "      <td>2021-04-25</td>\n",
              "      <td>708446</td>\n",
              "      <td>2438.0</td>\n",
              "      <td>4</td>\n",
              "    </tr>\n",
              "    <tr>\n",
              "      <th>482</th>\n",
              "      <td>2021-04-26</td>\n",
              "      <td>1066591</td>\n",
              "      <td>2048.0</td>\n",
              "      <td>4</td>\n",
              "    </tr>\n",
              "  </tbody>\n",
              "</table>\n",
              "<p>482 rows × 4 columns</p>\n",
              "</div>"
            ],
            "text/plain": [
              "    announce_date Num_travel  Num_patient  month\n",
              "1      2020-01-01    2743864          NaN      1\n",
              "2      2020-01-02    3370836          NaN      1\n",
              "3      2020-01-03    3520819          NaN      1\n",
              "4      2020-01-04    2975450          NaN      1\n",
              "5      2020-01-05    2835519          NaN      1\n",
              "..            ...        ...          ...    ...\n",
              "478    2021-04-22    1175707       1470.0      4\n",
              "479    2021-04-23    1180619       2070.0      4\n",
              "480    2021-04-24     869281       2839.0      4\n",
              "481    2021-04-25     708446       2438.0      4\n",
              "482    2021-04-26    1066591       2048.0      4\n",
              "\n",
              "[482 rows x 4 columns]"
            ]
          },
          "metadata": {
            "tags": []
          },
          "execution_count": 54
        }
      ]
    },
    {
      "cell_type": "code",
      "metadata": {
        "id": "2b0G6w7slSX-"
      },
      "source": [
        "from datetime import datetime\n",
        "from datetime import time"
      ],
      "execution_count": 55,
      "outputs": []
    },
    {
      "cell_type": "markdown",
      "metadata": {
        "id": "SXKigKDumnYO"
      },
      "source": [
        "#จัดการเปลี่ยน type ของช่วงเวลา"
      ]
    },
    {
      "cell_type": "code",
      "metadata": {
        "id": "kwibVzbtie2F"
      },
      "source": [
        "new_data_covid_2020 = new_data_covid[new_data_covid['announce_date'] <= datetime(year=2020,month=12,day=31)]"
      ],
      "execution_count": 56,
      "outputs": []
    },
    {
      "cell_type": "code",
      "metadata": {
        "colab": {
          "base_uri": "https://localhost:8080/"
        },
        "id": "6QrtvsXSi3Qz",
        "outputId": "08a9a726-43f8-4615-c647-9017dffb29ed"
      },
      "source": [
        "new_data_covid_2020.groupby('month')['Num_patient'].sum()"
      ],
      "execution_count": 57,
      "outputs": [
        {
          "output_type": "execute_result",
          "data": {
            "text/plain": [
              "month\n",
              "1       19.0\n",
              "2       23.0\n",
              "3     1609.0\n",
              "4     1303.0\n",
              "5      127.0\n",
              "6       90.0\n",
              "7      139.0\n",
              "8      102.0\n",
              "9      152.0\n",
              "10     216.0\n",
              "11     218.0\n",
              "12    2886.0\n",
              "Name: Num_patient, dtype: float64"
            ]
          },
          "metadata": {
            "tags": []
          },
          "execution_count": 57
        }
      ]
    },
    {
      "cell_type": "markdown",
      "metadata": {
        "id": "V-PfK_H-mvVy"
      },
      "source": [
        "#แยกตารางของผู้ติดเชื้อและจำนวนผู้เดินทางในปี 2020"
      ]
    },
    {
      "cell_type": "code",
      "metadata": {
        "id": "5EKoxs6SnWq-"
      },
      "source": [
        "finall = pd.DataFrame(new_data_covid_2020.groupby('month')['Num_travel'].sum()).reset_index()"
      ],
      "execution_count": 58,
      "outputs": []
    },
    {
      "cell_type": "code",
      "metadata": {
        "id": "T-jeJciznuFm"
      },
      "source": [
        "filly = pd.DataFrame(new_data_covid_2020.groupby('month')['Num_patient'].sum()).reset_index()"
      ],
      "execution_count": 59,
      "outputs": []
    },
    {
      "cell_type": "code",
      "metadata": {
        "id": "wHQ2VxAbrW-W"
      },
      "source": [
        "finall['Num_patient'] = finall['month'].map(filly.set_index('month')['Num_patient'])"
      ],
      "execution_count": 60,
      "outputs": []
    },
    {
      "cell_type": "code",
      "metadata": {
        "id": "a87aNH_jxJa9"
      },
      "source": [
        "finall3 = finall"
      ],
      "execution_count": 61,
      "outputs": []
    },
    {
      "cell_type": "code",
      "metadata": {
        "id": "dIk1v_JUoQu1"
      },
      "source": [
        "finall3['Num_travel'] = finall['Num_travel']/10000"
      ],
      "execution_count": 62,
      "outputs": []
    },
    {
      "cell_type": "code",
      "metadata": {
        "colab": {
          "base_uri": "https://localhost:8080/",
          "height": 402
        },
        "id": "5s4j5e0PxBSQ",
        "outputId": "d60fd0b3-1834-4167-8f8f-c167368ca5ac"
      },
      "source": [
        "finall3"
      ],
      "execution_count": 63,
      "outputs": [
        {
          "output_type": "execute_result",
          "data": {
            "text/html": [
              "<div>\n",
              "<style scoped>\n",
              "    .dataframe tbody tr th:only-of-type {\n",
              "        vertical-align: middle;\n",
              "    }\n",
              "\n",
              "    .dataframe tbody tr th {\n",
              "        vertical-align: top;\n",
              "    }\n",
              "\n",
              "    .dataframe thead th {\n",
              "        text-align: right;\n",
              "    }\n",
              "</style>\n",
              "<table border=\"1\" class=\"dataframe\">\n",
              "  <thead>\n",
              "    <tr style=\"text-align: right;\">\n",
              "      <th></th>\n",
              "      <th>month</th>\n",
              "      <th>Num_travel</th>\n",
              "      <th>Num_patient</th>\n",
              "    </tr>\n",
              "  </thead>\n",
              "  <tbody>\n",
              "    <tr>\n",
              "      <th>0</th>\n",
              "      <td>1</td>\n",
              "      <td>10451.6847</td>\n",
              "      <td>19.0</td>\n",
              "    </tr>\n",
              "    <tr>\n",
              "      <th>1</th>\n",
              "      <td>2</td>\n",
              "      <td>9256.4306</td>\n",
              "      <td>23.0</td>\n",
              "    </tr>\n",
              "    <tr>\n",
              "      <th>2</th>\n",
              "      <td>3</td>\n",
              "      <td>6163.5890</td>\n",
              "      <td>1609.0</td>\n",
              "    </tr>\n",
              "    <tr>\n",
              "      <th>3</th>\n",
              "      <td>4</td>\n",
              "      <td>2265.3390</td>\n",
              "      <td>1303.0</td>\n",
              "    </tr>\n",
              "    <tr>\n",
              "      <th>4</th>\n",
              "      <td>5</td>\n",
              "      <td>3256.9755</td>\n",
              "      <td>127.0</td>\n",
              "    </tr>\n",
              "    <tr>\n",
              "      <th>5</th>\n",
              "      <td>6</td>\n",
              "      <td>4846.4966</td>\n",
              "      <td>90.0</td>\n",
              "    </tr>\n",
              "    <tr>\n",
              "      <th>6</th>\n",
              "      <td>7</td>\n",
              "      <td>6224.1436</td>\n",
              "      <td>139.0</td>\n",
              "    </tr>\n",
              "    <tr>\n",
              "      <th>7</th>\n",
              "      <td>8</td>\n",
              "      <td>6720.8460</td>\n",
              "      <td>102.0</td>\n",
              "    </tr>\n",
              "    <tr>\n",
              "      <th>8</th>\n",
              "      <td>9</td>\n",
              "      <td>6791.6587</td>\n",
              "      <td>152.0</td>\n",
              "    </tr>\n",
              "    <tr>\n",
              "      <th>9</th>\n",
              "      <td>10</td>\n",
              "      <td>6848.7852</td>\n",
              "      <td>216.0</td>\n",
              "    </tr>\n",
              "    <tr>\n",
              "      <th>10</th>\n",
              "      <td>11</td>\n",
              "      <td>6852.7999</td>\n",
              "      <td>218.0</td>\n",
              "    </tr>\n",
              "    <tr>\n",
              "      <th>11</th>\n",
              "      <td>12</td>\n",
              "      <td>6524.2215</td>\n",
              "      <td>2886.0</td>\n",
              "    </tr>\n",
              "  </tbody>\n",
              "</table>\n",
              "</div>"
            ],
            "text/plain": [
              "    month  Num_travel  Num_patient\n",
              "0       1  10451.6847         19.0\n",
              "1       2   9256.4306         23.0\n",
              "2       3   6163.5890       1609.0\n",
              "3       4   2265.3390       1303.0\n",
              "4       5   3256.9755        127.0\n",
              "5       6   4846.4966         90.0\n",
              "6       7   6224.1436        139.0\n",
              "7       8   6720.8460        102.0\n",
              "8       9   6791.6587        152.0\n",
              "9      10   6848.7852        216.0\n",
              "10     11   6852.7999        218.0\n",
              "11     12   6524.2215       2886.0"
            ]
          },
          "metadata": {
            "tags": []
          },
          "execution_count": 63
        }
      ]
    },
    {
      "cell_type": "code",
      "metadata": {
        "id": "0VsLuV0UtRfb"
      },
      "source": [
        "!wget -q https://github.com/Phonbopit/sarabun-webfont/raw/master/fonts/thsarabunnew-webfont.ttf"
      ],
      "execution_count": 64,
      "outputs": []
    },
    {
      "cell_type": "code",
      "metadata": {
        "id": "oQqnuwmitWc2"
      },
      "source": [
        "# !pip install -U --pre matplotlib  \n",
        "import matplotlib as mpl\n",
        "mpl.font_manager.fontManager.addfont('thsarabunnew-webfont.ttf')\n",
        "mpl.rc('font', family='TH Sarabun New')"
      ],
      "execution_count": 65,
      "outputs": []
    },
    {
      "cell_type": "code",
      "metadata": {
        "id": "8VZ5PjjVtZdx"
      },
      "source": [
        "import matplotlib\n",
        "matplotlib.rcParams['figure.figsize']=[15,10]"
      ],
      "execution_count": 66,
      "outputs": []
    },
    {
      "cell_type": "markdown",
      "metadata": {
        "id": "p7HhRMwJnAHJ"
      },
      "source": [
        "##plot กราฟเพื่อตามข้อที่ 1. เปรียบเทียบจำนวนผู้ป่วยกับจำนวนคนเดินทางในแต่ละเดือน"
      ]
    },
    {
      "cell_type": "code",
      "metadata": {
        "id": "RdudJ5MUoe4Z"
      },
      "source": [
        "import matplotlib\n",
        "import matplotlib.pyplot as plt\n",
        "import numpy as np"
      ],
      "execution_count": 67,
      "outputs": []
    },
    {
      "cell_type": "code",
      "metadata": {
        "id": "uNsiqCPAs0Wy"
      },
      "source": [
        "x = np.arange(len(finall['month']))  # the label locations\n",
        "width = 0.35"
      ],
      "execution_count": 68,
      "outputs": []
    },
    {
      "cell_type": "code",
      "metadata": {
        "colab": {
          "base_uri": "https://localhost:8080/",
          "height": 608
        },
        "id": "glJjhz2dsi_u",
        "outputId": "e5478147-2f89-41ba-9325-6fdab6c7c37b"
      },
      "source": [
        "plt.bar(finall3['month'],finall3['Num_travel'],label = 'Num_travel',color = 'blue',)\n",
        "plt.bar(finall3['month'],finall3['Num_patient'],label = 'Num_patient',color = 'red',bottom=finall3['Num_travel'])"
      ],
      "execution_count": 69,
      "outputs": [
        {
          "output_type": "execute_result",
          "data": {
            "text/plain": [
              "<BarContainer object of 12 artists>"
            ]
          },
          "metadata": {
            "tags": []
          },
          "execution_count": 69
        },
        {
          "output_type": "display_data",
          "data": {
            "image/png": "[encoded data removed]",
            "text/plain": [
              "<Figure size 1080x720 with 1 Axes>"
            ]
          },
          "metadata": {
            "tags": [],
            "needs_background": "light"
          }
        }
      ]
    },
    {
      "cell_type": "markdown",
      "metadata": {
        "id": "oeRE0_8ynTN3"
      },
      "source": [
        "###จากกราฟแท่ง พบว่าจำนวนผู้เดินทางยิงมากขึ้นจำนวนผู้ติดเชื้อจะน้อยลงแต่เมื่อมีการเดินทางน้อยลงจำนวนผู้ติดเชื้อจะมากขึ้น"
      ]
    },
    {
      "cell_type": "code",
      "metadata": {
        "colab": {
          "base_uri": "https://localhost:8080/",
          "height": 637
        },
        "id": "azkvY2Us19pU",
        "outputId": "502acd46-071f-496f-84af-26d5ed3a9dd0"
      },
      "source": [
        "plt.plot(finall3['month'],finall3['Num_travel'],'o-b',label = 'travel*10^-4')\n",
        "plt.plot(finall3['month'],finall3['Num_patient'],'o-r',label = 'patient')\n",
        "plt.title('ตารงการเดินทางในแต่ละเดือนของปี 2020')\n",
        "plt.xlabel('Month')\n",
        "plt.ylabel('Num of travel')\n",
        "plt.legend()"
      ],
      "execution_count": 70,
      "outputs": [
        {
          "output_type": "execute_result",
          "data": {
            "text/plain": [
              "<matplotlib.legend.Legend at 0x7fbadf2882d0>"
            ]
          },
          "metadata": {
            "tags": []
          },
          "execution_count": 70
        },
        {
          "output_type": "display_data",
          "data": {
            "image/png": "[encoded data removed]",
            "text/plain": [
              "<Figure size 1080x720 with 1 Axes>"
            ]
          },
          "metadata": {
            "tags": [],
            "needs_background": "light"
          }
        }
      ]
    },
    {
      "cell_type": "markdown",
      "metadata": {
        "id": "7JK2l-CFnrgi"
      },
      "source": [
        "###จากกราฟ พบว่าจำนวนผู้เดินทางยิงมากขึ้นจำนวนผู้ติดเชื้อจะน้อยลงแต่เมื่อมีการเดินทางน้อยลงจำนวนผู้ติดเชื้อจะมากขึ้น แต่เมื่อพิจารณาแล้วจะพบว่าอาจจะเป็นเพราะในช่วงเดือนแรกที่มีการเดินทางมากทำให้ติดเชื้อในช่วงนั้นแล้วแต่ผลตรวจล่าช้าจึงทำให้จำนวนผ้ที่ติดเชื้อจริงๆคลาดเคลื่อน ซึ่งอาจจะเป็นจริงเมื่อพิจารณาในช่วงเดือนสุดท้ายที่มีจำนวนคนติดเชื้อเพิ่มขึ้นเนื่องจากช่วงกลางเดือนเริ่มมีผู้เดินทางเพิ่มขึ้นเรื่อยๆ"
      ]
    },
    {
      "cell_type": "markdown",
      "metadata": {
        "id": "hhknoF5BwAKC"
      },
      "source": [
        "#2. เปรียบเทียบวิธีการเดินทางของคนเป็นรายเดือนเทียบกับจำนวนผู้ป่วยในเดือนนั้นๆ"
      ]
    },
    {
      "cell_type": "markdown",
      "metadata": {
        "id": "AytZQoQdoRob"
      },
      "source": [
        "#ตารางของผู้ติดเชื้อและจำนวนผู้เดินทางในปี 2021"
      ]
    },
    {
      "cell_type": "code",
      "metadata": {
        "id": "pDRe1f3MNELh"
      },
      "source": [
        "new_data_covid_2021 = new_data_covid[new_data_covid['announce_date'] > datetime(year=2020,month=12,day=31)]"
      ],
      "execution_count": 71,
      "outputs": []
    },
    {
      "cell_type": "code",
      "metadata": {
        "id": "hadEcf0sOpWG"
      },
      "source": [
        "covid_2021_travel = pd.DataFrame(new_data_covid_2021.groupby('month')['Num_travel'].sum()).reset_index()"
      ],
      "execution_count": 72,
      "outputs": []
    },
    {
      "cell_type": "code",
      "metadata": {
        "id": "EmE-C3K1NKOa"
      },
      "source": [
        "covid_2021 = pd.DataFrame(new_data_covid_2021.groupby('month')['Num_patient'].sum()).reset_index()"
      ],
      "execution_count": 73,
      "outputs": []
    },
    {
      "cell_type": "code",
      "metadata": {
        "id": "GBWOnCLINx13"
      },
      "source": [
        "covid_2021_travel['Num_patient'] = covid_2021_travel['month'].map(covid_2021.set_index('month')['Num_patient'])"
      ],
      "execution_count": 74,
      "outputs": []
    },
    {
      "cell_type": "code",
      "metadata": {
        "id": "vZ4nUYUXO8xB"
      },
      "source": [
        "covid19_2021 = covid_2021_travel"
      ],
      "execution_count": 75,
      "outputs": []
    },
    {
      "cell_type": "code",
      "metadata": {
        "id": "m9q7YduqPT9O"
      },
      "source": [
        "covid19_2021['Num_travel'] = covid19_2021['Num_travel']/1000"
      ],
      "execution_count": 76,
      "outputs": []
    },
    {
      "cell_type": "code",
      "metadata": {
        "colab": {
          "base_uri": "https://localhost:8080/",
          "height": 166
        },
        "id": "diHkGRiAPj0A",
        "outputId": "dc268f94-7fcc-48f6-ff44-20d9dbdac446"
      },
      "source": [
        "covid19_2021"
      ],
      "execution_count": 77,
      "outputs": [
        {
          "output_type": "execute_result",
          "data": {
            "text/html": [
              "<div>\n",
              "<style scoped>\n",
              "    .dataframe tbody tr th:only-of-type {\n",
              "        vertical-align: middle;\n",
              "    }\n",
              "\n",
              "    .dataframe tbody tr th {\n",
              "        vertical-align: top;\n",
              "    }\n",
              "\n",
              "    .dataframe thead th {\n",
              "        text-align: right;\n",
              "    }\n",
              "</style>\n",
              "<table border=\"1\" class=\"dataframe\">\n",
              "  <thead>\n",
              "    <tr style=\"text-align: right;\">\n",
              "      <th></th>\n",
              "      <th>month</th>\n",
              "      <th>Num_travel</th>\n",
              "      <th>Num_patient</th>\n",
              "    </tr>\n",
              "  </thead>\n",
              "  <tbody>\n",
              "    <tr>\n",
              "      <th>0</th>\n",
              "      <td>1</td>\n",
              "      <td>41277.722</td>\n",
              "      <td>11898.0</td>\n",
              "    </tr>\n",
              "    <tr>\n",
              "      <th>1</th>\n",
              "      <td>2</td>\n",
              "      <td>46950.817</td>\n",
              "      <td>7169.0</td>\n",
              "    </tr>\n",
              "    <tr>\n",
              "      <th>2</th>\n",
              "      <td>3</td>\n",
              "      <td>61514.512</td>\n",
              "      <td>2912.0</td>\n",
              "    </tr>\n",
              "    <tr>\n",
              "      <th>3</th>\n",
              "      <td>4</td>\n",
              "      <td>35492.243</td>\n",
              "      <td>28647.0</td>\n",
              "    </tr>\n",
              "  </tbody>\n",
              "</table>\n",
              "</div>"
            ],
            "text/plain": [
              "   month  Num_travel  Num_patient\n",
              "0      1   41277.722      11898.0\n",
              "1      2   46950.817       7169.0\n",
              "2      3   61514.512       2912.0\n",
              "3      4   35492.243      28647.0"
            ]
          },
          "metadata": {
            "tags": []
          },
          "execution_count": 77
        }
      ]
    },
    {
      "cell_type": "code",
      "metadata": {
        "colab": {
          "base_uri": "https://localhost:8080/",
          "height": 637
        },
        "id": "oGMZ82g5PMKu",
        "outputId": "60829049-3e62-4ee0-f9fb-83fdcdb18a9c"
      },
      "source": [
        "plt.plot(covid19_2021['month'],covid19_2021['Num_travel'],'o-b',label = 'travel*10^-3')\n",
        "plt.plot(covid19_2021['month'],covid19_2021['Num_patient'],'o-r',label = 'patient')\n",
        "plt.title('ตารงการเดินทางในแต่ละเดือนของปี 2020')\n",
        "plt.xlabel('Month')\n",
        "plt.ylabel('Num of travel')\n",
        "plt.legend()"
      ],
      "execution_count": 78,
      "outputs": [
        {
          "output_type": "execute_result",
          "data": {
            "text/plain": [
              "<matplotlib.legend.Legend at 0x7fbadeea0350>"
            ]
          },
          "metadata": {
            "tags": []
          },
          "execution_count": 78
        },
        {
          "output_type": "display_data",
          "data": {
            "image/png": "[encoded data removed]",
            "text/plain": [
              "<Figure size 1080x720 with 1 Axes>"
            ]
          },
          "metadata": {
            "tags": [],
            "needs_background": "light"
          }
        }
      ]
    },
    {
      "cell_type": "markdown",
      "metadata": {
        "id": "NMduNhalogsj"
      },
      "source": [
        "สรุปได้ในลักษณะเดียวกันกับกราฟในปี 2020"
      ]
    },
    {
      "cell_type": "code",
      "metadata": {
        "id": "Ovu_FXbE7HkC"
      },
      "source": [
        "covid_thailand_19 = pd.read_excel(os.path.join(path,'passenger-covid19.xlsx'),sheet_name='2563-2564 รวมในประเทศ',skiprows=1,skipfooter=33)"
      ],
      "execution_count": 79,
      "outputs": []
    },
    {
      "cell_type": "code",
      "metadata": {
        "id": "6Go7_-uIWjhv"
      },
      "source": [
        "covid_thailand_19.rename(columns={'Unnamed: 0':'pattern'},inplace=True)"
      ],
      "execution_count": 80,
      "outputs": []
    },
    {
      "cell_type": "code",
      "metadata": {
        "colab": {
          "base_uri": "https://localhost:8080/",
          "height": 412
        },
        "id": "2P3AxEM7W2i0",
        "outputId": "aa5f5430-28d6-4f4f-9474-82957420307a"
      },
      "source": [
        "covid_thailand_19"
      ],
      "execution_count": 81,
      "outputs": [
        {
          "output_type": "execute_result",
          "data": {
            "text/html": [
              "<div>\n",
              "<style scoped>\n",
              "    .dataframe tbody tr th:only-of-type {\n",
              "        vertical-align: middle;\n",
              "    }\n",
              "\n",
              "    .dataframe tbody tr th {\n",
              "        vertical-align: top;\n",
              "    }\n",
              "\n",
              "    .dataframe thead th {\n",
              "        text-align: right;\n",
              "    }\n",
              "</style>\n",
              "<table border=\"1\" class=\"dataframe\">\n",
              "  <thead>\n",
              "    <tr style=\"text-align: right;\">\n",
              "      <th></th>\n",
              "      <th>pattern</th>\n",
              "      <th>2020-01-01 00:00:00</th>\n",
              "      <th>2020-01-02 00:00:00</th>\n",
              "      <th>2020-01-03 00:00:00</th>\n",
              "      <th>2020-01-04 00:00:00</th>\n",
              "      <th>2020-01-05 00:00:00</th>\n",
              "      <th>2020-01-06 00:00:00</th>\n",
              "      <th>2020-01-07 00:00:00</th>\n",
              "      <th>2020-01-08 00:00:00</th>\n",
              "      <th>2020-01-09 00:00:00</th>\n",
              "      <th>2020-01-10 00:00:00</th>\n",
              "      <th>2020-01-11 00:00:00</th>\n",
              "      <th>2020-01-12 00:00:00</th>\n",
              "      <th>2020-01-13 00:00:00</th>\n",
              "      <th>2020-01-14 00:00:00</th>\n",
              "      <th>2020-01-15 00:00:00</th>\n",
              "      <th>2020-01-16 00:00:00</th>\n",
              "      <th>2020-01-17 00:00:00</th>\n",
              "      <th>2020-01-18 00:00:00</th>\n",
              "      <th>2020-01-19 00:00:00</th>\n",
              "      <th>2020-01-20 00:00:00</th>\n",
              "      <th>2020-01-21 00:00:00</th>\n",
              "      <th>2020-01-22 00:00:00</th>\n",
              "      <th>2020-01-23 00:00:00</th>\n",
              "      <th>2020-01-24 00:00:00</th>\n",
              "      <th>2020-01-25 00:00:00</th>\n",
              "      <th>2020-01-26 00:00:00</th>\n",
              "      <th>2020-01-27 00:00:00</th>\n",
              "      <th>2020-01-28 00:00:00</th>\n",
              "      <th>2020-01-29 00:00:00</th>\n",
              "      <th>2020-01-30 00:00:00</th>\n",
              "      <th>2020-01-31 00:00:00</th>\n",
              "      <th>2020-02-01 00:00:00</th>\n",
              "      <th>2020-02-02 00:00:00</th>\n",
              "      <th>2020-02-03 00:00:00</th>\n",
              "      <th>2020-02-04 00:00:00</th>\n",
              "      <th>2020-02-05 00:00:00</th>\n",
              "      <th>2020-02-06 00:00:00</th>\n",
              "      <th>2020-02-07 00:00:00</th>\n",
              "      <th>2020-02-08 00:00:00</th>\n",
              "      <th>...</th>\n",
              "      <th>2021-03-18 00:00:00</th>\n",
              "      <th>2021-03-19 00:00:00</th>\n",
              "      <th>2021-03-20 00:00:00</th>\n",
              "      <th>2021-03-21 00:00:00</th>\n",
              "      <th>2021-03-22 00:00:00</th>\n",
              "      <th>2021-03-23 00:00:00</th>\n",
              "      <th>2021-03-24 00:00:00</th>\n",
              "      <th>2021-03-25 00:00:00</th>\n",
              "      <th>2021-03-26 00:00:00</th>\n",
              "      <th>2021-03-27 00:00:00</th>\n",
              "      <th>2021-03-28 00:00:00</th>\n",
              "      <th>2021-03-29 00:00:00</th>\n",
              "      <th>2021-03-30 00:00:00</th>\n",
              "      <th>2021-03-31 00:00:00</th>\n",
              "      <th>2021-04-01 00:00:00</th>\n",
              "      <th>2021-04-02 00:00:00</th>\n",
              "      <th>2021-04-03 00:00:00</th>\n",
              "      <th>2021-04-04 00:00:00</th>\n",
              "      <th>2021-04-05 00:00:00</th>\n",
              "      <th>2021-04-06 00:00:00</th>\n",
              "      <th>2021-04-07 00:00:00</th>\n",
              "      <th>2021-04-08 00:00:00</th>\n",
              "      <th>2021-04-09 00:00:00</th>\n",
              "      <th>2021-04-10 00:00:00</th>\n",
              "      <th>2021-04-11 00:00:00</th>\n",
              "      <th>2021-04-12 00:00:00</th>\n",
              "      <th>2021-04-13 00:00:00</th>\n",
              "      <th>2021-04-14 00:00:00</th>\n",
              "      <th>2021-04-15 00:00:00</th>\n",
              "      <th>2021-04-16 00:00:00</th>\n",
              "      <th>2021-04-17 00:00:00</th>\n",
              "      <th>2021-04-18 00:00:00</th>\n",
              "      <th>2021-04-19 00:00:00</th>\n",
              "      <th>2021-04-20 00:00:00</th>\n",
              "      <th>2021-04-21 00:00:00</th>\n",
              "      <th>2021-04-22 00:00:00</th>\n",
              "      <th>2021-04-23 00:00:00</th>\n",
              "      <th>2021-04-24 00:00:00</th>\n",
              "      <th>2021-04-25 00:00:00</th>\n",
              "      <th>2021-04-26 00:00:00</th>\n",
              "    </tr>\n",
              "  </thead>\n",
              "  <tbody>\n",
              "    <tr>\n",
              "      <th>0</th>\n",
              "      <td>ทางถนน (คน)</td>\n",
              "      <td>1483255</td>\n",
              "      <td>1705026</td>\n",
              "      <td>1752572</td>\n",
              "      <td>1576146</td>\n",
              "      <td>1565134</td>\n",
              "      <td>1746239</td>\n",
              "      <td>1730243</td>\n",
              "      <td>1721777</td>\n",
              "      <td>1698594</td>\n",
              "      <td>1727356</td>\n",
              "      <td>1522765</td>\n",
              "      <td>1511236</td>\n",
              "      <td>1683606</td>\n",
              "      <td>1691301</td>\n",
              "      <td>1727613</td>\n",
              "      <td>1676901</td>\n",
              "      <td>1732040</td>\n",
              "      <td>1556750</td>\n",
              "      <td>1511356</td>\n",
              "      <td>1718946</td>\n",
              "      <td>1710079</td>\n",
              "      <td>1678182</td>\n",
              "      <td>1685422</td>\n",
              "      <td>1658692</td>\n",
              "      <td>1523835</td>\n",
              "      <td>1498975</td>\n",
              "      <td>1696898</td>\n",
              "      <td>1679988</td>\n",
              "      <td>1668462</td>\n",
              "      <td>1640721</td>\n",
              "      <td>1704546</td>\n",
              "      <td>1400174</td>\n",
              "      <td>1483074</td>\n",
              "      <td>1706497</td>\n",
              "      <td>1731697</td>\n",
              "      <td>1727513</td>\n",
              "      <td>1662866</td>\n",
              "      <td>1746742</td>\n",
              "      <td>1505635</td>\n",
              "      <td>...</td>\n",
              "      <td>997062</td>\n",
              "      <td>1017447</td>\n",
              "      <td>849673</td>\n",
              "      <td>787616</td>\n",
              "      <td>937505</td>\n",
              "      <td>969454</td>\n",
              "      <td>958065</td>\n",
              "      <td>981683</td>\n",
              "      <td>1011976</td>\n",
              "      <td>877911</td>\n",
              "      <td>794001</td>\n",
              "      <td>974571</td>\n",
              "      <td>965117</td>\n",
              "      <td>967022</td>\n",
              "      <td>987469</td>\n",
              "      <td>1006485</td>\n",
              "      <td>868194</td>\n",
              "      <td>789312</td>\n",
              "      <td>965421</td>\n",
              "      <td>753176</td>\n",
              "      <td>908431</td>\n",
              "      <td>936938</td>\n",
              "      <td>929038</td>\n",
              "      <td>719618</td>\n",
              "      <td>555680</td>\n",
              "      <td>578184</td>\n",
              "      <td>424539</td>\n",
              "      <td>454352</td>\n",
              "      <td>479063</td>\n",
              "      <td>596596</td>\n",
              "      <td>540688</td>\n",
              "      <td>507339</td>\n",
              "      <td>695769</td>\n",
              "      <td>665925</td>\n",
              "      <td>648848</td>\n",
              "      <td>631892</td>\n",
              "      <td>635830</td>\n",
              "      <td>516751</td>\n",
              "      <td>425707</td>\n",
              "      <td>580580</td>\n",
              "    </tr>\n",
              "    <tr>\n",
              "      <th>1</th>\n",
              "      <td>ทางราง (คน)</td>\n",
              "      <td>885353</td>\n",
              "      <td>1269207</td>\n",
              "      <td>1366412</td>\n",
              "      <td>1027281</td>\n",
              "      <td>915425</td>\n",
              "      <td>1479971</td>\n",
              "      <td>1496915</td>\n",
              "      <td>1496873</td>\n",
              "      <td>1525899</td>\n",
              "      <td>1630428</td>\n",
              "      <td>1192917</td>\n",
              "      <td>988051</td>\n",
              "      <td>1479502</td>\n",
              "      <td>1491002</td>\n",
              "      <td>1502596</td>\n",
              "      <td>1507477</td>\n",
              "      <td>1599647</td>\n",
              "      <td>1169227</td>\n",
              "      <td>983700</td>\n",
              "      <td>1495196</td>\n",
              "      <td>1497279</td>\n",
              "      <td>1488097</td>\n",
              "      <td>1497174</td>\n",
              "      <td>1527329</td>\n",
              "      <td>1116084</td>\n",
              "      <td>938763</td>\n",
              "      <td>1420125</td>\n",
              "      <td>1457240</td>\n",
              "      <td>1440515</td>\n",
              "      <td>1464619</td>\n",
              "      <td>1597290</td>\n",
              "      <td>1097787</td>\n",
              "      <td>940562</td>\n",
              "      <td>1452349</td>\n",
              "      <td>1437693</td>\n",
              "      <td>1463069</td>\n",
              "      <td>1465400</td>\n",
              "      <td>1589959</td>\n",
              "      <td>1036116</td>\n",
              "      <td>...</td>\n",
              "      <td>984873</td>\n",
              "      <td>1033094</td>\n",
              "      <td>690769</td>\n",
              "      <td>544737</td>\n",
              "      <td>961659</td>\n",
              "      <td>986118</td>\n",
              "      <td>994193</td>\n",
              "      <td>1007277</td>\n",
              "      <td>1083825</td>\n",
              "      <td>730040</td>\n",
              "      <td>583999</td>\n",
              "      <td>1002307</td>\n",
              "      <td>1008957</td>\n",
              "      <td>1039196</td>\n",
              "      <td>1037660</td>\n",
              "      <td>1109747</td>\n",
              "      <td>726174</td>\n",
              "      <td>537800</td>\n",
              "      <td>986006</td>\n",
              "      <td>586488</td>\n",
              "      <td>932517</td>\n",
              "      <td>830224</td>\n",
              "      <td>792450</td>\n",
              "      <td>430863</td>\n",
              "      <td>303809</td>\n",
              "      <td>396526</td>\n",
              "      <td>235614</td>\n",
              "      <td>227986</td>\n",
              "      <td>245450</td>\n",
              "      <td>421863</td>\n",
              "      <td>303925</td>\n",
              "      <td>260010</td>\n",
              "      <td>520387</td>\n",
              "      <td>488979</td>\n",
              "      <td>475030</td>\n",
              "      <td>467490</td>\n",
              "      <td>474554</td>\n",
              "      <td>289943</td>\n",
              "      <td>223384</td>\n",
              "      <td>418835</td>\n",
              "    </tr>\n",
              "    <tr>\n",
              "      <th>2</th>\n",
              "      <td>ทางน้ำ (คน)</td>\n",
              "      <td>272578</td>\n",
              "      <td>291990</td>\n",
              "      <td>301260</td>\n",
              "      <td>271171</td>\n",
              "      <td>254176</td>\n",
              "      <td>281785</td>\n",
              "      <td>275127</td>\n",
              "      <td>253550</td>\n",
              "      <td>263139</td>\n",
              "      <td>280283</td>\n",
              "      <td>243767</td>\n",
              "      <td>246025</td>\n",
              "      <td>276490</td>\n",
              "      <td>276916</td>\n",
              "      <td>253897</td>\n",
              "      <td>252473</td>\n",
              "      <td>281743</td>\n",
              "      <td>251052</td>\n",
              "      <td>227983</td>\n",
              "      <td>293441</td>\n",
              "      <td>278167</td>\n",
              "      <td>267105</td>\n",
              "      <td>266393</td>\n",
              "      <td>281291</td>\n",
              "      <td>257999</td>\n",
              "      <td>246371</td>\n",
              "      <td>269399</td>\n",
              "      <td>270801</td>\n",
              "      <td>253640</td>\n",
              "      <td>257520</td>\n",
              "      <td>264406</td>\n",
              "      <td>220866</td>\n",
              "      <td>231707</td>\n",
              "      <td>264747</td>\n",
              "      <td>259426</td>\n",
              "      <td>262889</td>\n",
              "      <td>257261</td>\n",
              "      <td>268799</td>\n",
              "      <td>234187</td>\n",
              "      <td>...</td>\n",
              "      <td>85762</td>\n",
              "      <td>126155</td>\n",
              "      <td>81959</td>\n",
              "      <td>86020</td>\n",
              "      <td>90290</td>\n",
              "      <td>109277</td>\n",
              "      <td>78491</td>\n",
              "      <td>88408</td>\n",
              "      <td>88934</td>\n",
              "      <td>85300</td>\n",
              "      <td>79325</td>\n",
              "      <td>107145</td>\n",
              "      <td>95217</td>\n",
              "      <td>91676</td>\n",
              "      <td>84888</td>\n",
              "      <td>81193</td>\n",
              "      <td>115793</td>\n",
              "      <td>106230</td>\n",
              "      <td>100081</td>\n",
              "      <td>83620</td>\n",
              "      <td>116425</td>\n",
              "      <td>105530</td>\n",
              "      <td>118869</td>\n",
              "      <td>163296</td>\n",
              "      <td>169357</td>\n",
              "      <td>167760</td>\n",
              "      <td>182536</td>\n",
              "      <td>166326</td>\n",
              "      <td>150923</td>\n",
              "      <td>108396</td>\n",
              "      <td>103610</td>\n",
              "      <td>73357</td>\n",
              "      <td>77813</td>\n",
              "      <td>69035</td>\n",
              "      <td>66006</td>\n",
              "      <td>60186</td>\n",
              "      <td>54870</td>\n",
              "      <td>48885</td>\n",
              "      <td>42733</td>\n",
              "      <td>53591</td>\n",
              "    </tr>\n",
              "    <tr>\n",
              "      <th>3</th>\n",
              "      <td>ทางอากาศ* (คน)</td>\n",
              "      <td>102678</td>\n",
              "      <td>104613</td>\n",
              "      <td>100575</td>\n",
              "      <td>100852</td>\n",
              "      <td>100784</td>\n",
              "      <td>98456</td>\n",
              "      <td>98722</td>\n",
              "      <td>96142</td>\n",
              "      <td>98749</td>\n",
              "      <td>101348</td>\n",
              "      <td>93156</td>\n",
              "      <td>99755</td>\n",
              "      <td>99229</td>\n",
              "      <td>98052</td>\n",
              "      <td>98970</td>\n",
              "      <td>103727</td>\n",
              "      <td>106000</td>\n",
              "      <td>103356</td>\n",
              "      <td>105954</td>\n",
              "      <td>105424</td>\n",
              "      <td>100735</td>\n",
              "      <td>101432</td>\n",
              "      <td>104623</td>\n",
              "      <td>103697</td>\n",
              "      <td>101563</td>\n",
              "      <td>103158</td>\n",
              "      <td>103498</td>\n",
              "      <td>98451</td>\n",
              "      <td>95555</td>\n",
              "      <td>95849</td>\n",
              "      <td>97556</td>\n",
              "      <td>90402</td>\n",
              "      <td>89533</td>\n",
              "      <td>88154</td>\n",
              "      <td>85779</td>\n",
              "      <td>88266</td>\n",
              "      <td>93860</td>\n",
              "      <td>99445</td>\n",
              "      <td>94944</td>\n",
              "      <td>...</td>\n",
              "      <td>51244</td>\n",
              "      <td>65243</td>\n",
              "      <td>57665</td>\n",
              "      <td>64944</td>\n",
              "      <td>59144</td>\n",
              "      <td>51341</td>\n",
              "      <td>53670</td>\n",
              "      <td>59380</td>\n",
              "      <td>67960</td>\n",
              "      <td>63406</td>\n",
              "      <td>72844</td>\n",
              "      <td>66721</td>\n",
              "      <td>56866</td>\n",
              "      <td>57980</td>\n",
              "      <td>70353</td>\n",
              "      <td>77529</td>\n",
              "      <td>76062</td>\n",
              "      <td>80447</td>\n",
              "      <td>73958</td>\n",
              "      <td>77376</td>\n",
              "      <td>74769</td>\n",
              "      <td>79717</td>\n",
              "      <td>75900</td>\n",
              "      <td>69100</td>\n",
              "      <td>59960</td>\n",
              "      <td>51998</td>\n",
              "      <td>47717</td>\n",
              "      <td>48945</td>\n",
              "      <td>49859</td>\n",
              "      <td>44204</td>\n",
              "      <td>43157</td>\n",
              "      <td>45917</td>\n",
              "      <td>29483</td>\n",
              "      <td>25390</td>\n",
              "      <td>18141</td>\n",
              "      <td>16139</td>\n",
              "      <td>15365</td>\n",
              "      <td>13702</td>\n",
              "      <td>16622</td>\n",
              "      <td>13585</td>\n",
              "    </tr>\n",
              "    <tr>\n",
              "      <th>4</th>\n",
              "      <td>รวมประชาชนเดินทาง (คน)</td>\n",
              "      <td>2743864</td>\n",
              "      <td>3370836</td>\n",
              "      <td>3520819</td>\n",
              "      <td>2975450</td>\n",
              "      <td>2835519</td>\n",
              "      <td>3606451</td>\n",
              "      <td>3601007</td>\n",
              "      <td>3568342</td>\n",
              "      <td>3586381</td>\n",
              "      <td>3739415</td>\n",
              "      <td>3052605</td>\n",
              "      <td>2845067</td>\n",
              "      <td>3538827</td>\n",
              "      <td>3557271</td>\n",
              "      <td>3583076</td>\n",
              "      <td>3540578</td>\n",
              "      <td>3719430</td>\n",
              "      <td>3080385</td>\n",
              "      <td>2828993</td>\n",
              "      <td>3613007</td>\n",
              "      <td>3586260</td>\n",
              "      <td>3534816</td>\n",
              "      <td>3553612</td>\n",
              "      <td>3571009</td>\n",
              "      <td>2999481</td>\n",
              "      <td>2787267</td>\n",
              "      <td>3489920</td>\n",
              "      <td>3506480</td>\n",
              "      <td>3458172</td>\n",
              "      <td>3458709</td>\n",
              "      <td>3663798</td>\n",
              "      <td>2809229</td>\n",
              "      <td>2744876</td>\n",
              "      <td>3511747</td>\n",
              "      <td>3514595</td>\n",
              "      <td>3541737</td>\n",
              "      <td>3479387</td>\n",
              "      <td>3704945</td>\n",
              "      <td>2870882</td>\n",
              "      <td>...</td>\n",
              "      <td>2118941</td>\n",
              "      <td>2241939</td>\n",
              "      <td>1680066</td>\n",
              "      <td>1483317</td>\n",
              "      <td>2048598</td>\n",
              "      <td>2116190</td>\n",
              "      <td>2084419</td>\n",
              "      <td>2136748</td>\n",
              "      <td>2252695</td>\n",
              "      <td>1756657</td>\n",
              "      <td>1530169</td>\n",
              "      <td>2150744</td>\n",
              "      <td>2126157</td>\n",
              "      <td>2155874</td>\n",
              "      <td>2180370</td>\n",
              "      <td>2274954</td>\n",
              "      <td>1786223</td>\n",
              "      <td>1513789</td>\n",
              "      <td>2125466</td>\n",
              "      <td>1500660</td>\n",
              "      <td>2032142</td>\n",
              "      <td>1952409</td>\n",
              "      <td>1916257</td>\n",
              "      <td>1382877</td>\n",
              "      <td>1088806</td>\n",
              "      <td>1194468</td>\n",
              "      <td>890406</td>\n",
              "      <td>897609</td>\n",
              "      <td>925295</td>\n",
              "      <td>1171059</td>\n",
              "      <td>991380</td>\n",
              "      <td>886623</td>\n",
              "      <td>1323452</td>\n",
              "      <td>1249329</td>\n",
              "      <td>1208025</td>\n",
              "      <td>1175707</td>\n",
              "      <td>1180619</td>\n",
              "      <td>869281</td>\n",
              "      <td>708446</td>\n",
              "      <td>1066591</td>\n",
              "    </tr>\n",
              "  </tbody>\n",
              "</table>\n",
              "<p>5 rows × 483 columns</p>\n",
              "</div>"
            ],
            "text/plain": [
              "                  pattern  ...  2021-04-26 00:00:00\n",
              "0             ทางถนน (คน)  ...               580580\n",
              "1             ทางราง (คน)  ...               418835\n",
              "2             ทางน้ำ (คน)  ...                53591\n",
              "3          ทางอากาศ* (คน)  ...                13585\n",
              "4  รวมประชาชนเดินทาง (คน)  ...              1066591\n",
              "\n",
              "[5 rows x 483 columns]"
            ]
          },
          "metadata": {
            "tags": []
          },
          "execution_count": 81
        }
      ]
    },
    {
      "cell_type": "markdown",
      "metadata": {
        "id": "z0U6Os8Gor2k"
      },
      "source": [
        "#แยกประเภทของการเดินทางออกเป็น 4 ประเภทคือ ทางบก ทางรถไฟ ทางน้ำ และทางอากาศ"
      ]
    },
    {
      "cell_type": "code",
      "metadata": {
        "id": "WIAxgnLCXRyW"
      },
      "source": [
        "covid_thailand_19_new = covid_thailand_19[['pattern']]"
      ],
      "execution_count": 82,
      "outputs": []
    },
    {
      "cell_type": "markdown",
      "metadata": {
        "id": "oYN1ek_1o3l8"
      },
      "source": [
        "ตารางจำนวนผู้เดินทางทางบก"
      ]
    },
    {
      "cell_type": "code",
      "metadata": {
        "colab": {
          "base_uri": "https://localhost:8080/",
          "height": 402
        },
        "id": "2nUhx6KFXlvW",
        "outputId": "e45c97b4-2ed2-423f-850f-eae65e1e6dc9"
      },
      "source": [
        "c1 = covid_thailand_19.iloc[0,:]\n",
        "road = pd.DataFrame(c1).reset_index()\n",
        "road.rename(columns={'index':'datetime',0:'Road'},inplace=True)\n",
        "road.drop(index=0)"
      ],
      "execution_count": 83,
      "outputs": [
        {
          "output_type": "execute_result",
          "data": {
            "text/html": [
              "<div>\n",
              "<style scoped>\n",
              "    .dataframe tbody tr th:only-of-type {\n",
              "        vertical-align: middle;\n",
              "    }\n",
              "\n",
              "    .dataframe tbody tr th {\n",
              "        vertical-align: top;\n",
              "    }\n",
              "\n",
              "    .dataframe thead th {\n",
              "        text-align: right;\n",
              "    }\n",
              "</style>\n",
              "<table border=\"1\" class=\"dataframe\">\n",
              "  <thead>\n",
              "    <tr style=\"text-align: right;\">\n",
              "      <th></th>\n",
              "      <th>datetime</th>\n",
              "      <th>Road</th>\n",
              "    </tr>\n",
              "  </thead>\n",
              "  <tbody>\n",
              "    <tr>\n",
              "      <th>1</th>\n",
              "      <td>2020-01-01 00:00:00</td>\n",
              "      <td>1483255</td>\n",
              "    </tr>\n",
              "    <tr>\n",
              "      <th>2</th>\n",
              "      <td>2020-01-02 00:00:00</td>\n",
              "      <td>1705026</td>\n",
              "    </tr>\n",
              "    <tr>\n",
              "      <th>3</th>\n",
              "      <td>2020-01-03 00:00:00</td>\n",
              "      <td>1752572</td>\n",
              "    </tr>\n",
              "    <tr>\n",
              "      <th>4</th>\n",
              "      <td>2020-01-04 00:00:00</td>\n",
              "      <td>1576146</td>\n",
              "    </tr>\n",
              "    <tr>\n",
              "      <th>5</th>\n",
              "      <td>2020-01-05 00:00:00</td>\n",
              "      <td>1565134</td>\n",
              "    </tr>\n",
              "    <tr>\n",
              "      <th>...</th>\n",
              "      <td>...</td>\n",
              "      <td>...</td>\n",
              "    </tr>\n",
              "    <tr>\n",
              "      <th>478</th>\n",
              "      <td>2021-04-22 00:00:00</td>\n",
              "      <td>631892</td>\n",
              "    </tr>\n",
              "    <tr>\n",
              "      <th>479</th>\n",
              "      <td>2021-04-23 00:00:00</td>\n",
              "      <td>635830</td>\n",
              "    </tr>\n",
              "    <tr>\n",
              "      <th>480</th>\n",
              "      <td>2021-04-24 00:00:00</td>\n",
              "      <td>516751</td>\n",
              "    </tr>\n",
              "    <tr>\n",
              "      <th>481</th>\n",
              "      <td>2021-04-25 00:00:00</td>\n",
              "      <td>425707</td>\n",
              "    </tr>\n",
              "    <tr>\n",
              "      <th>482</th>\n",
              "      <td>2021-04-26 00:00:00</td>\n",
              "      <td>580580</td>\n",
              "    </tr>\n",
              "  </tbody>\n",
              "</table>\n",
              "<p>482 rows × 2 columns</p>\n",
              "</div>"
            ],
            "text/plain": [
              "                datetime     Road\n",
              "1    2020-01-01 00:00:00  1483255\n",
              "2    2020-01-02 00:00:00  1705026\n",
              "3    2020-01-03 00:00:00  1752572\n",
              "4    2020-01-04 00:00:00  1576146\n",
              "5    2020-01-05 00:00:00  1565134\n",
              "..                   ...      ...\n",
              "478  2021-04-22 00:00:00   631892\n",
              "479  2021-04-23 00:00:00   635830\n",
              "480  2021-04-24 00:00:00   516751\n",
              "481  2021-04-25 00:00:00   425707\n",
              "482  2021-04-26 00:00:00   580580\n",
              "\n",
              "[482 rows x 2 columns]"
            ]
          },
          "metadata": {
            "tags": []
          },
          "execution_count": 83
        }
      ]
    },
    {
      "cell_type": "markdown",
      "metadata": {
        "id": "84p-055eo671"
      },
      "source": [
        "ตารางจำนวนผู้เดินทางทางรถไฟ"
      ]
    },
    {
      "cell_type": "code",
      "metadata": {
        "id": "aNhpy6b4fxzq",
        "colab": {
          "base_uri": "https://localhost:8080/",
          "height": 402
        },
        "outputId": "2b036bdc-98fa-4ff3-90c4-e3cef50f4d2d"
      },
      "source": [
        "c2 = covid_thailand_19.iloc[1,:]\n",
        "subway = pd.DataFrame(c2).reset_index()\n",
        "subway.rename(columns={'index':'datetime',1:'subway'},inplace=True)\n",
        "subway.drop(index=0)"
      ],
      "execution_count": 84,
      "outputs": [
        {
          "output_type": "execute_result",
          "data": {
            "text/html": [
              "<div>\n",
              "<style scoped>\n",
              "    .dataframe tbody tr th:only-of-type {\n",
              "        vertical-align: middle;\n",
              "    }\n",
              "\n",
              "    .dataframe tbody tr th {\n",
              "        vertical-align: top;\n",
              "    }\n",
              "\n",
              "    .dataframe thead th {\n",
              "        text-align: right;\n",
              "    }\n",
              "</style>\n",
              "<table border=\"1\" class=\"dataframe\">\n",
              "  <thead>\n",
              "    <tr style=\"text-align: right;\">\n",
              "      <th></th>\n",
              "      <th>datetime</th>\n",
              "      <th>subway</th>\n",
              "    </tr>\n",
              "  </thead>\n",
              "  <tbody>\n",
              "    <tr>\n",
              "      <th>1</th>\n",
              "      <td>2020-01-01 00:00:00</td>\n",
              "      <td>885353</td>\n",
              "    </tr>\n",
              "    <tr>\n",
              "      <th>2</th>\n",
              "      <td>2020-01-02 00:00:00</td>\n",
              "      <td>1269207</td>\n",
              "    </tr>\n",
              "    <tr>\n",
              "      <th>3</th>\n",
              "      <td>2020-01-03 00:00:00</td>\n",
              "      <td>1366412</td>\n",
              "    </tr>\n",
              "    <tr>\n",
              "      <th>4</th>\n",
              "      <td>2020-01-04 00:00:00</td>\n",
              "      <td>1027281</td>\n",
              "    </tr>\n",
              "    <tr>\n",
              "      <th>5</th>\n",
              "      <td>2020-01-05 00:00:00</td>\n",
              "      <td>915425</td>\n",
              "    </tr>\n",
              "    <tr>\n",
              "      <th>...</th>\n",
              "      <td>...</td>\n",
              "      <td>...</td>\n",
              "    </tr>\n",
              "    <tr>\n",
              "      <th>478</th>\n",
              "      <td>2021-04-22 00:00:00</td>\n",
              "      <td>467490</td>\n",
              "    </tr>\n",
              "    <tr>\n",
              "      <th>479</th>\n",
              "      <td>2021-04-23 00:00:00</td>\n",
              "      <td>474554</td>\n",
              "    </tr>\n",
              "    <tr>\n",
              "      <th>480</th>\n",
              "      <td>2021-04-24 00:00:00</td>\n",
              "      <td>289943</td>\n",
              "    </tr>\n",
              "    <tr>\n",
              "      <th>481</th>\n",
              "      <td>2021-04-25 00:00:00</td>\n",
              "      <td>223384</td>\n",
              "    </tr>\n",
              "    <tr>\n",
              "      <th>482</th>\n",
              "      <td>2021-04-26 00:00:00</td>\n",
              "      <td>418835</td>\n",
              "    </tr>\n",
              "  </tbody>\n",
              "</table>\n",
              "<p>482 rows × 2 columns</p>\n",
              "</div>"
            ],
            "text/plain": [
              "                datetime   subway\n",
              "1    2020-01-01 00:00:00   885353\n",
              "2    2020-01-02 00:00:00  1269207\n",
              "3    2020-01-03 00:00:00  1366412\n",
              "4    2020-01-04 00:00:00  1027281\n",
              "5    2020-01-05 00:00:00   915425\n",
              "..                   ...      ...\n",
              "478  2021-04-22 00:00:00   467490\n",
              "479  2021-04-23 00:00:00   474554\n",
              "480  2021-04-24 00:00:00   289943\n",
              "481  2021-04-25 00:00:00   223384\n",
              "482  2021-04-26 00:00:00   418835\n",
              "\n",
              "[482 rows x 2 columns]"
            ]
          },
          "metadata": {
            "tags": []
          },
          "execution_count": 84
        }
      ]
    },
    {
      "cell_type": "markdown",
      "metadata": {
        "id": "qwaeryJVo9IS"
      },
      "source": [
        "ตารางจำนวนผู้เดินทางทางน้ำ"
      ]
    },
    {
      "cell_type": "code",
      "metadata": {
        "colab": {
          "base_uri": "https://localhost:8080/",
          "height": 402
        },
        "id": "iBgsPymBhpXe",
        "outputId": "d58ddc71-2f36-4e00-f4f1-fa42408db5c6"
      },
      "source": [
        "c3 = covid_thailand_19.iloc[2,:]\n",
        "river = pd.DataFrame(c3).reset_index()\n",
        "river.rename(columns={'index':'datetime',2:'river'},inplace=True)\n",
        "river.drop(index=0)"
      ],
      "execution_count": 85,
      "outputs": [
        {
          "output_type": "execute_result",
          "data": {
            "text/html": [
              "<div>\n",
              "<style scoped>\n",
              "    .dataframe tbody tr th:only-of-type {\n",
              "        vertical-align: middle;\n",
              "    }\n",
              "\n",
              "    .dataframe tbody tr th {\n",
              "        vertical-align: top;\n",
              "    }\n",
              "\n",
              "    .dataframe thead th {\n",
              "        text-align: right;\n",
              "    }\n",
              "</style>\n",
              "<table border=\"1\" class=\"dataframe\">\n",
              "  <thead>\n",
              "    <tr style=\"text-align: right;\">\n",
              "      <th></th>\n",
              "      <th>datetime</th>\n",
              "      <th>river</th>\n",
              "    </tr>\n",
              "  </thead>\n",
              "  <tbody>\n",
              "    <tr>\n",
              "      <th>1</th>\n",
              "      <td>2020-01-01 00:00:00</td>\n",
              "      <td>272578</td>\n",
              "    </tr>\n",
              "    <tr>\n",
              "      <th>2</th>\n",
              "      <td>2020-01-02 00:00:00</td>\n",
              "      <td>291990</td>\n",
              "    </tr>\n",
              "    <tr>\n",
              "      <th>3</th>\n",
              "      <td>2020-01-03 00:00:00</td>\n",
              "      <td>301260</td>\n",
              "    </tr>\n",
              "    <tr>\n",
              "      <th>4</th>\n",
              "      <td>2020-01-04 00:00:00</td>\n",
              "      <td>271171</td>\n",
              "    </tr>\n",
              "    <tr>\n",
              "      <th>5</th>\n",
              "      <td>2020-01-05 00:00:00</td>\n",
              "      <td>254176</td>\n",
              "    </tr>\n",
              "    <tr>\n",
              "      <th>...</th>\n",
              "      <td>...</td>\n",
              "      <td>...</td>\n",
              "    </tr>\n",
              "    <tr>\n",
              "      <th>478</th>\n",
              "      <td>2021-04-22 00:00:00</td>\n",
              "      <td>60186</td>\n",
              "    </tr>\n",
              "    <tr>\n",
              "      <th>479</th>\n",
              "      <td>2021-04-23 00:00:00</td>\n",
              "      <td>54870</td>\n",
              "    </tr>\n",
              "    <tr>\n",
              "      <th>480</th>\n",
              "      <td>2021-04-24 00:00:00</td>\n",
              "      <td>48885</td>\n",
              "    </tr>\n",
              "    <tr>\n",
              "      <th>481</th>\n",
              "      <td>2021-04-25 00:00:00</td>\n",
              "      <td>42733</td>\n",
              "    </tr>\n",
              "    <tr>\n",
              "      <th>482</th>\n",
              "      <td>2021-04-26 00:00:00</td>\n",
              "      <td>53591</td>\n",
              "    </tr>\n",
              "  </tbody>\n",
              "</table>\n",
              "<p>482 rows × 2 columns</p>\n",
              "</div>"
            ],
            "text/plain": [
              "                datetime   river\n",
              "1    2020-01-01 00:00:00  272578\n",
              "2    2020-01-02 00:00:00  291990\n",
              "3    2020-01-03 00:00:00  301260\n",
              "4    2020-01-04 00:00:00  271171\n",
              "5    2020-01-05 00:00:00  254176\n",
              "..                   ...     ...\n",
              "478  2021-04-22 00:00:00   60186\n",
              "479  2021-04-23 00:00:00   54870\n",
              "480  2021-04-24 00:00:00   48885\n",
              "481  2021-04-25 00:00:00   42733\n",
              "482  2021-04-26 00:00:00   53591\n",
              "\n",
              "[482 rows x 2 columns]"
            ]
          },
          "metadata": {
            "tags": []
          },
          "execution_count": 85
        }
      ]
    },
    {
      "cell_type": "markdown",
      "metadata": {
        "id": "egnumsI5pAT1"
      },
      "source": [
        "ตารางจำนวนผู้เดินทางทางอากาศ"
      ]
    },
    {
      "cell_type": "code",
      "metadata": {
        "colab": {
          "base_uri": "https://localhost:8080/",
          "height": 402
        },
        "id": "LpnHe1n4h3qD",
        "outputId": "bef8977d-0708-498a-d20d-01c65373cb59"
      },
      "source": [
        "c4 = covid_thailand_19.iloc[3,:]\n",
        "Air = pd.DataFrame(c4).reset_index()\n",
        "Air.rename(columns={'index':'datetime',3:'Air'},inplace=True)\n",
        "Air.drop(index=0)"
      ],
      "execution_count": 86,
      "outputs": [
        {
          "output_type": "execute_result",
          "data": {
            "text/html": [
              "<div>\n",
              "<style scoped>\n",
              "    .dataframe tbody tr th:only-of-type {\n",
              "        vertical-align: middle;\n",
              "    }\n",
              "\n",
              "    .dataframe tbody tr th {\n",
              "        vertical-align: top;\n",
              "    }\n",
              "\n",
              "    .dataframe thead th {\n",
              "        text-align: right;\n",
              "    }\n",
              "</style>\n",
              "<table border=\"1\" class=\"dataframe\">\n",
              "  <thead>\n",
              "    <tr style=\"text-align: right;\">\n",
              "      <th></th>\n",
              "      <th>datetime</th>\n",
              "      <th>Air</th>\n",
              "    </tr>\n",
              "  </thead>\n",
              "  <tbody>\n",
              "    <tr>\n",
              "      <th>1</th>\n",
              "      <td>2020-01-01 00:00:00</td>\n",
              "      <td>102678</td>\n",
              "    </tr>\n",
              "    <tr>\n",
              "      <th>2</th>\n",
              "      <td>2020-01-02 00:00:00</td>\n",
              "      <td>104613</td>\n",
              "    </tr>\n",
              "    <tr>\n",
              "      <th>3</th>\n",
              "      <td>2020-01-03 00:00:00</td>\n",
              "      <td>100575</td>\n",
              "    </tr>\n",
              "    <tr>\n",
              "      <th>4</th>\n",
              "      <td>2020-01-04 00:00:00</td>\n",
              "      <td>100852</td>\n",
              "    </tr>\n",
              "    <tr>\n",
              "      <th>5</th>\n",
              "      <td>2020-01-05 00:00:00</td>\n",
              "      <td>100784</td>\n",
              "    </tr>\n",
              "    <tr>\n",
              "      <th>...</th>\n",
              "      <td>...</td>\n",
              "      <td>...</td>\n",
              "    </tr>\n",
              "    <tr>\n",
              "      <th>478</th>\n",
              "      <td>2021-04-22 00:00:00</td>\n",
              "      <td>16139</td>\n",
              "    </tr>\n",
              "    <tr>\n",
              "      <th>479</th>\n",
              "      <td>2021-04-23 00:00:00</td>\n",
              "      <td>15365</td>\n",
              "    </tr>\n",
              "    <tr>\n",
              "      <th>480</th>\n",
              "      <td>2021-04-24 00:00:00</td>\n",
              "      <td>13702</td>\n",
              "    </tr>\n",
              "    <tr>\n",
              "      <th>481</th>\n",
              "      <td>2021-04-25 00:00:00</td>\n",
              "      <td>16622</td>\n",
              "    </tr>\n",
              "    <tr>\n",
              "      <th>482</th>\n",
              "      <td>2021-04-26 00:00:00</td>\n",
              "      <td>13585</td>\n",
              "    </tr>\n",
              "  </tbody>\n",
              "</table>\n",
              "<p>482 rows × 2 columns</p>\n",
              "</div>"
            ],
            "text/plain": [
              "                datetime     Air\n",
              "1    2020-01-01 00:00:00  102678\n",
              "2    2020-01-02 00:00:00  104613\n",
              "3    2020-01-03 00:00:00  100575\n",
              "4    2020-01-04 00:00:00  100852\n",
              "5    2020-01-05 00:00:00  100784\n",
              "..                   ...     ...\n",
              "478  2021-04-22 00:00:00   16139\n",
              "479  2021-04-23 00:00:00   15365\n",
              "480  2021-04-24 00:00:00   13702\n",
              "481  2021-04-25 00:00:00   16622\n",
              "482  2021-04-26 00:00:00   13585\n",
              "\n",
              "[482 rows x 2 columns]"
            ]
          },
          "metadata": {
            "tags": []
          },
          "execution_count": 86
        }
      ]
    },
    {
      "cell_type": "markdown",
      "metadata": {
        "id": "Q_jWd4mtpCbL"
      },
      "source": [
        "#ทำการรวมตารางทั้งหมดเข้าด้วยกันเพื่อ plotกราฟ"
      ]
    },
    {
      "cell_type": "code",
      "metadata": {
        "id": "uOJRs6lzh8wg"
      },
      "source": [
        "road['subway'] = subway['subway']\n",
        "road['river'] = river['river']\n",
        "road['Air'] = Air['Air']\n",
        "All_way = road"
      ],
      "execution_count": 87,
      "outputs": []
    },
    {
      "cell_type": "code",
      "metadata": {
        "id": "mq4Fu4BiiNXa"
      },
      "source": [
        "All_way.drop(index=0,inplace=True)"
      ],
      "execution_count": 88,
      "outputs": []
    },
    {
      "cell_type": "code",
      "metadata": {
        "id": "HkuRgFHhic8j"
      },
      "source": [
        "All_way['datetime'] = pd.to_datetime(All_way['datetime'],format='%d/%m/%Y')"
      ],
      "execution_count": 89,
      "outputs": []
    },
    {
      "cell_type": "code",
      "metadata": {
        "id": "wEWMTkyyilSP"
      },
      "source": [
        "All_way['Month'] = All_way['datetime'].dt.month"
      ],
      "execution_count": 90,
      "outputs": []
    },
    {
      "cell_type": "code",
      "metadata": {
        "id": "24EUlA4jiwGP"
      },
      "source": [
        "All_way_2020 = All_way[All_way['datetime'] <= datetime(year=2020,month=12,day=31)]"
      ],
      "execution_count": 91,
      "outputs": []
    },
    {
      "cell_type": "code",
      "metadata": {
        "colab": {
          "base_uri": "https://localhost:8080/",
          "height": 402
        },
        "id": "Mn1e-hrTkvOV",
        "outputId": "b5d72b97-9002-40a8-9c5e-74684bf86ab5"
      },
      "source": [
        "All_way_2020"
      ],
      "execution_count": 92,
      "outputs": [
        {
          "output_type": "execute_result",
          "data": {
            "text/html": [
              "<div>\n",
              "<style scoped>\n",
              "    .dataframe tbody tr th:only-of-type {\n",
              "        vertical-align: middle;\n",
              "    }\n",
              "\n",
              "    .dataframe tbody tr th {\n",
              "        vertical-align: top;\n",
              "    }\n",
              "\n",
              "    .dataframe thead th {\n",
              "        text-align: right;\n",
              "    }\n",
              "</style>\n",
              "<table border=\"1\" class=\"dataframe\">\n",
              "  <thead>\n",
              "    <tr style=\"text-align: right;\">\n",
              "      <th></th>\n",
              "      <th>datetime</th>\n",
              "      <th>Road</th>\n",
              "      <th>subway</th>\n",
              "      <th>river</th>\n",
              "      <th>Air</th>\n",
              "      <th>Month</th>\n",
              "    </tr>\n",
              "  </thead>\n",
              "  <tbody>\n",
              "    <tr>\n",
              "      <th>1</th>\n",
              "      <td>2020-01-01</td>\n",
              "      <td>1483255</td>\n",
              "      <td>885353</td>\n",
              "      <td>272578</td>\n",
              "      <td>102678</td>\n",
              "      <td>1</td>\n",
              "    </tr>\n",
              "    <tr>\n",
              "      <th>2</th>\n",
              "      <td>2020-01-02</td>\n",
              "      <td>1705026</td>\n",
              "      <td>1269207</td>\n",
              "      <td>291990</td>\n",
              "      <td>104613</td>\n",
              "      <td>1</td>\n",
              "    </tr>\n",
              "    <tr>\n",
              "      <th>3</th>\n",
              "      <td>2020-01-03</td>\n",
              "      <td>1752572</td>\n",
              "      <td>1366412</td>\n",
              "      <td>301260</td>\n",
              "      <td>100575</td>\n",
              "      <td>1</td>\n",
              "    </tr>\n",
              "    <tr>\n",
              "      <th>4</th>\n",
              "      <td>2020-01-04</td>\n",
              "      <td>1576146</td>\n",
              "      <td>1027281</td>\n",
              "      <td>271171</td>\n",
              "      <td>100852</td>\n",
              "      <td>1</td>\n",
              "    </tr>\n",
              "    <tr>\n",
              "      <th>5</th>\n",
              "      <td>2020-01-05</td>\n",
              "      <td>1565134</td>\n",
              "      <td>915425</td>\n",
              "      <td>254176</td>\n",
              "      <td>100784</td>\n",
              "      <td>1</td>\n",
              "    </tr>\n",
              "    <tr>\n",
              "      <th>...</th>\n",
              "      <td>...</td>\n",
              "      <td>...</td>\n",
              "      <td>...</td>\n",
              "      <td>...</td>\n",
              "      <td>...</td>\n",
              "      <td>...</td>\n",
              "    </tr>\n",
              "    <tr>\n",
              "      <th>362</th>\n",
              "      <td>2020-12-27</td>\n",
              "      <td>721787</td>\n",
              "      <td>430007</td>\n",
              "      <td>82000</td>\n",
              "      <td>72229</td>\n",
              "      <td>12</td>\n",
              "    </tr>\n",
              "    <tr>\n",
              "      <th>363</th>\n",
              "      <td>2020-12-28</td>\n",
              "      <td>898734</td>\n",
              "      <td>743230</td>\n",
              "      <td>100460</td>\n",
              "      <td>65946</td>\n",
              "      <td>12</td>\n",
              "    </tr>\n",
              "    <tr>\n",
              "      <th>364</th>\n",
              "      <td>2020-12-29</td>\n",
              "      <td>908717</td>\n",
              "      <td>703492</td>\n",
              "      <td>133500</td>\n",
              "      <td>66373</td>\n",
              "      <td>12</td>\n",
              "    </tr>\n",
              "    <tr>\n",
              "      <th>365</th>\n",
              "      <td>2020-12-30</td>\n",
              "      <td>890296</td>\n",
              "      <td>651791</td>\n",
              "      <td>147568</td>\n",
              "      <td>70591</td>\n",
              "      <td>12</td>\n",
              "    </tr>\n",
              "    <tr>\n",
              "      <th>366</th>\n",
              "      <td>2020-12-31</td>\n",
              "      <td>657630</td>\n",
              "      <td>397023</td>\n",
              "      <td>126139</td>\n",
              "      <td>59777</td>\n",
              "      <td>12</td>\n",
              "    </tr>\n",
              "  </tbody>\n",
              "</table>\n",
              "<p>366 rows × 6 columns</p>\n",
              "</div>"
            ],
            "text/plain": [
              "      datetime     Road   subway   river     Air  Month\n",
              "1   2020-01-01  1483255   885353  272578  102678      1\n",
              "2   2020-01-02  1705026  1269207  291990  104613      1\n",
              "3   2020-01-03  1752572  1366412  301260  100575      1\n",
              "4   2020-01-04  1576146  1027281  271171  100852      1\n",
              "5   2020-01-05  1565134   915425  254176  100784      1\n",
              "..         ...      ...      ...     ...     ...    ...\n",
              "362 2020-12-27   721787   430007   82000   72229     12\n",
              "363 2020-12-28   898734   743230  100460   65946     12\n",
              "364 2020-12-29   908717   703492  133500   66373     12\n",
              "365 2020-12-30   890296   651791  147568   70591     12\n",
              "366 2020-12-31   657630   397023  126139   59777     12\n",
              "\n",
              "[366 rows x 6 columns]"
            ]
          },
          "metadata": {
            "tags": []
          },
          "execution_count": 92
        }
      ]
    },
    {
      "cell_type": "code",
      "metadata": {
        "colab": {
          "base_uri": "https://localhost:8080/"
        },
        "id": "SC1x5H5mtcuE",
        "outputId": "a942584b-737c-468c-a464-bbe67c7b806a"
      },
      "source": [
        "All_way_2020.groupby('Month')['river'].sum()"
      ],
      "execution_count": 93,
      "outputs": [
        {
          "output_type": "execute_result",
          "data": {
            "text/plain": [
              "Month\n",
              "1     8261938\n",
              "2     6998927\n",
              "3     2526613\n",
              "4     1155419\n",
              "5     1503935\n",
              "6     2241446\n",
              "7     3481589\n",
              "8     3176923\n",
              "9     3344351\n",
              "10    3012379\n",
              "11    3402311\n",
              "12    3690246\n",
              "Name: river, dtype: int64"
            ]
          },
          "metadata": {
            "tags": []
          },
          "execution_count": 93
        }
      ]
    },
    {
      "cell_type": "code",
      "metadata": {
        "id": "nHg21KOgjMm-"
      },
      "source": [
        "all_graph = pd.DataFrame(All_way_2020.groupby('Month')['Road'].sum()).reset_index()"
      ],
      "execution_count": 94,
      "outputs": []
    },
    {
      "cell_type": "code",
      "metadata": {
        "id": "VFgihBewmFqd"
      },
      "source": [
        "all_subway = pd.DataFrame(All_way_2020.groupby('Month')['subway'].sum()).reset_index()"
      ],
      "execution_count": 95,
      "outputs": []
    },
    {
      "cell_type": "code",
      "metadata": {
        "colab": {
          "base_uri": "https://localhost:8080/",
          "height": 402
        },
        "id": "oxYFPufAs1lU",
        "outputId": "34c28ac3-c8eb-4b23-f3e2-09255ebc093f"
      },
      "source": [
        "all_subway"
      ],
      "execution_count": 96,
      "outputs": [
        {
          "output_type": "execute_result",
          "data": {
            "text/html": [
              "<div>\n",
              "<style scoped>\n",
              "    .dataframe tbody tr th:only-of-type {\n",
              "        vertical-align: middle;\n",
              "    }\n",
              "\n",
              "    .dataframe tbody tr th {\n",
              "        vertical-align: top;\n",
              "    }\n",
              "\n",
              "    .dataframe thead th {\n",
              "        text-align: right;\n",
              "    }\n",
              "</style>\n",
              "<table border=\"1\" class=\"dataframe\">\n",
              "  <thead>\n",
              "    <tr style=\"text-align: right;\">\n",
              "      <th></th>\n",
              "      <th>Month</th>\n",
              "      <th>subway</th>\n",
              "    </tr>\n",
              "  </thead>\n",
              "  <tbody>\n",
              "    <tr>\n",
              "      <th>0</th>\n",
              "      <td>1</td>\n",
              "      <td>41947594</td>\n",
              "    </tr>\n",
              "    <tr>\n",
              "      <th>1</th>\n",
              "      <td>2</td>\n",
              "      <td>36460619</td>\n",
              "    </tr>\n",
              "    <tr>\n",
              "      <th>2</th>\n",
              "      <td>3</td>\n",
              "      <td>24466973</td>\n",
              "    </tr>\n",
              "    <tr>\n",
              "      <th>3</th>\n",
              "      <td>4</td>\n",
              "      <td>7368716</td>\n",
              "    </tr>\n",
              "    <tr>\n",
              "      <th>4</th>\n",
              "      <td>5</td>\n",
              "      <td>11482880</td>\n",
              "    </tr>\n",
              "    <tr>\n",
              "      <th>5</th>\n",
              "      <td>6</td>\n",
              "      <td>19881012</td>\n",
              "    </tr>\n",
              "    <tr>\n",
              "      <th>6</th>\n",
              "      <td>7</td>\n",
              "      <td>25890919</td>\n",
              "    </tr>\n",
              "    <tr>\n",
              "      <th>7</th>\n",
              "      <td>8</td>\n",
              "      <td>29055512</td>\n",
              "    </tr>\n",
              "    <tr>\n",
              "      <th>8</th>\n",
              "      <td>9</td>\n",
              "      <td>30044159</td>\n",
              "    </tr>\n",
              "    <tr>\n",
              "      <th>9</th>\n",
              "      <td>10</td>\n",
              "      <td>30259559</td>\n",
              "    </tr>\n",
              "    <tr>\n",
              "      <th>10</th>\n",
              "      <td>11</td>\n",
              "      <td>30409897</td>\n",
              "    </tr>\n",
              "    <tr>\n",
              "      <th>11</th>\n",
              "      <td>12</td>\n",
              "      <td>27947720</td>\n",
              "    </tr>\n",
              "  </tbody>\n",
              "</table>\n",
              "</div>"
            ],
            "text/plain": [
              "    Month    subway\n",
              "0       1  41947594\n",
              "1       2  36460619\n",
              "2       3  24466973\n",
              "3       4   7368716\n",
              "4       5  11482880\n",
              "5       6  19881012\n",
              "6       7  25890919\n",
              "7       8  29055512\n",
              "8       9  30044159\n",
              "9      10  30259559\n",
              "10     11  30409897\n",
              "11     12  27947720"
            ]
          },
          "metadata": {
            "tags": []
          },
          "execution_count": 96
        }
      ]
    },
    {
      "cell_type": "code",
      "metadata": {
        "id": "dqckcVqMmZ0f"
      },
      "source": [
        "all_river = pd.DataFrame(All_way_2020.groupby('Month')['river'].sum()).reset_index()"
      ],
      "execution_count": 97,
      "outputs": []
    },
    {
      "cell_type": "code",
      "metadata": {
        "colab": {
          "base_uri": "https://localhost:8080/",
          "height": 402
        },
        "id": "Y0mnLj54nAjn",
        "outputId": "9f4bdc2f-445c-4f30-f673-28c7c6347e4d"
      },
      "source": [
        "all_river"
      ],
      "execution_count": 98,
      "outputs": [
        {
          "output_type": "execute_result",
          "data": {
            "text/html": [
              "<div>\n",
              "<style scoped>\n",
              "    .dataframe tbody tr th:only-of-type {\n",
              "        vertical-align: middle;\n",
              "    }\n",
              "\n",
              "    .dataframe tbody tr th {\n",
              "        vertical-align: top;\n",
              "    }\n",
              "\n",
              "    .dataframe thead th {\n",
              "        text-align: right;\n",
              "    }\n",
              "</style>\n",
              "<table border=\"1\" class=\"dataframe\">\n",
              "  <thead>\n",
              "    <tr style=\"text-align: right;\">\n",
              "      <th></th>\n",
              "      <th>Month</th>\n",
              "      <th>river</th>\n",
              "    </tr>\n",
              "  </thead>\n",
              "  <tbody>\n",
              "    <tr>\n",
              "      <th>0</th>\n",
              "      <td>1</td>\n",
              "      <td>8261938</td>\n",
              "    </tr>\n",
              "    <tr>\n",
              "      <th>1</th>\n",
              "      <td>2</td>\n",
              "      <td>6998927</td>\n",
              "    </tr>\n",
              "    <tr>\n",
              "      <th>2</th>\n",
              "      <td>3</td>\n",
              "      <td>2526613</td>\n",
              "    </tr>\n",
              "    <tr>\n",
              "      <th>3</th>\n",
              "      <td>4</td>\n",
              "      <td>1155419</td>\n",
              "    </tr>\n",
              "    <tr>\n",
              "      <th>4</th>\n",
              "      <td>5</td>\n",
              "      <td>1503935</td>\n",
              "    </tr>\n",
              "    <tr>\n",
              "      <th>5</th>\n",
              "      <td>6</td>\n",
              "      <td>2241446</td>\n",
              "    </tr>\n",
              "    <tr>\n",
              "      <th>6</th>\n",
              "      <td>7</td>\n",
              "      <td>3481589</td>\n",
              "    </tr>\n",
              "    <tr>\n",
              "      <th>7</th>\n",
              "      <td>8</td>\n",
              "      <td>3176923</td>\n",
              "    </tr>\n",
              "    <tr>\n",
              "      <th>8</th>\n",
              "      <td>9</td>\n",
              "      <td>3344351</td>\n",
              "    </tr>\n",
              "    <tr>\n",
              "      <th>9</th>\n",
              "      <td>10</td>\n",
              "      <td>3012379</td>\n",
              "    </tr>\n",
              "    <tr>\n",
              "      <th>10</th>\n",
              "      <td>11</td>\n",
              "      <td>3402311</td>\n",
              "    </tr>\n",
              "    <tr>\n",
              "      <th>11</th>\n",
              "      <td>12</td>\n",
              "      <td>3690246</td>\n",
              "    </tr>\n",
              "  </tbody>\n",
              "</table>\n",
              "</div>"
            ],
            "text/plain": [
              "    Month    river\n",
              "0       1  8261938\n",
              "1       2  6998927\n",
              "2       3  2526613\n",
              "3       4  1155419\n",
              "4       5  1503935\n",
              "5       6  2241446\n",
              "6       7  3481589\n",
              "7       8  3176923\n",
              "8       9  3344351\n",
              "9      10  3012379\n",
              "10     11  3402311\n",
              "11     12  3690246"
            ]
          },
          "metadata": {
            "tags": []
          },
          "execution_count": 98
        }
      ]
    },
    {
      "cell_type": "code",
      "metadata": {
        "id": "L0fM-S-sm4De"
      },
      "source": [
        "all_Air = pd.DataFrame(All_way_2020.groupby('Month')['Air'].sum()).reset_index()"
      ],
      "execution_count": 99,
      "outputs": []
    },
    {
      "cell_type": "code",
      "metadata": {
        "id": "DadsSb64ktaG"
      },
      "source": [
        "all_graph['travel_subway'] = all_subway['subway']\n",
        "all_graph['travel_river'] = all_river['river']\n",
        "all_graph['travel_Air'] = all_Air['Air']"
      ],
      "execution_count": 100,
      "outputs": []
    },
    {
      "cell_type": "code",
      "metadata": {
        "id": "jRZSJprdqHle"
      },
      "source": [
        "all_graph['patient'] = finall3['Num_patient']"
      ],
      "execution_count": 101,
      "outputs": []
    },
    {
      "cell_type": "code",
      "metadata": {
        "id": "kLV0AKull-AS"
      },
      "source": [
        "all_graph.rename(columns={'Road':'travel_Road'},inplace=True)"
      ],
      "execution_count": 102,
      "outputs": []
    },
    {
      "cell_type": "code",
      "metadata": {
        "id": "FVTi_6senI5f"
      },
      "source": [
        "all_graph['travel_subway'] = all_graph['travel_subway']\n",
        "all_graph['travel_river'] = all_graph['travel_river']\n",
        "all_graph['travel_Air'] = all_graph['travel_Air']\n",
        "all_graph['travel_Road'] = all_graph['travel_Road']"
      ],
      "execution_count": 103,
      "outputs": []
    },
    {
      "cell_type": "markdown",
      "metadata": {
        "id": "LZsfNSv0pO8e"
      },
      "source": [
        "#ตารางนี้เกิดจากการรวมทุกรูปแบบการเดินทางและรวมจำนวนผู้ป่วยเข้าด้วยกันเพื่อสร้างกราฟเปรียบเทียบในปี 2020"
      ]
    },
    {
      "cell_type": "code",
      "metadata": {
        "colab": {
          "base_uri": "https://localhost:8080/",
          "height": 402
        },
        "id": "G2nvrsJmqnEw",
        "outputId": "38581386-fa31-46bb-88d5-0d8556d739a0"
      },
      "source": [
        "all_graph"
      ],
      "execution_count": 104,
      "outputs": [
        {
          "output_type": "execute_result",
          "data": {
            "text/html": [
              "<div>\n",
              "<style scoped>\n",
              "    .dataframe tbody tr th:only-of-type {\n",
              "        vertical-align: middle;\n",
              "    }\n",
              "\n",
              "    .dataframe tbody tr th {\n",
              "        vertical-align: top;\n",
              "    }\n",
              "\n",
              "    .dataframe thead th {\n",
              "        text-align: right;\n",
              "    }\n",
              "</style>\n",
              "<table border=\"1\" class=\"dataframe\">\n",
              "  <thead>\n",
              "    <tr style=\"text-align: right;\">\n",
              "      <th></th>\n",
              "      <th>Month</th>\n",
              "      <th>travel_Road</th>\n",
              "      <th>travel_subway</th>\n",
              "      <th>travel_river</th>\n",
              "      <th>travel_Air</th>\n",
              "      <th>patient</th>\n",
              "    </tr>\n",
              "  </thead>\n",
              "  <tbody>\n",
              "    <tr>\n",
              "      <th>0</th>\n",
              "      <td>1</td>\n",
              "      <td>51184656</td>\n",
              "      <td>41947594</td>\n",
              "      <td>8261938</td>\n",
              "      <td>3122659</td>\n",
              "      <td>19.0</td>\n",
              "    </tr>\n",
              "    <tr>\n",
              "      <th>1</th>\n",
              "      <td>2</td>\n",
              "      <td>46429218</td>\n",
              "      <td>36460619</td>\n",
              "      <td>6998927</td>\n",
              "      <td>2675542</td>\n",
              "      <td>23.0</td>\n",
              "    </tr>\n",
              "    <tr>\n",
              "      <th>2</th>\n",
              "      <td>3</td>\n",
              "      <td>32946721</td>\n",
              "      <td>24466973</td>\n",
              "      <td>2526613</td>\n",
              "      <td>1695583</td>\n",
              "      <td>1609.0</td>\n",
              "    </tr>\n",
              "    <tr>\n",
              "      <th>3</th>\n",
              "      <td>4</td>\n",
              "      <td>14071816</td>\n",
              "      <td>7368716</td>\n",
              "      <td>1155419</td>\n",
              "      <td>57439</td>\n",
              "      <td>1303.0</td>\n",
              "    </tr>\n",
              "    <tr>\n",
              "      <th>4</th>\n",
              "      <td>5</td>\n",
              "      <td>19371815</td>\n",
              "      <td>11482880</td>\n",
              "      <td>1503935</td>\n",
              "      <td>211125</td>\n",
              "      <td>127.0</td>\n",
              "    </tr>\n",
              "    <tr>\n",
              "      <th>5</th>\n",
              "      <td>6</td>\n",
              "      <td>25723627</td>\n",
              "      <td>19881012</td>\n",
              "      <td>2241446</td>\n",
              "      <td>618881</td>\n",
              "      <td>90.0</td>\n",
              "    </tr>\n",
              "    <tr>\n",
              "      <th>6</th>\n",
              "      <td>7</td>\n",
              "      <td>31550369</td>\n",
              "      <td>25890919</td>\n",
              "      <td>3481589</td>\n",
              "      <td>1318559</td>\n",
              "      <td>139.0</td>\n",
              "    </tr>\n",
              "    <tr>\n",
              "      <th>7</th>\n",
              "      <td>8</td>\n",
              "      <td>33311862</td>\n",
              "      <td>29055512</td>\n",
              "      <td>3176923</td>\n",
              "      <td>1664163</td>\n",
              "      <td>102.0</td>\n",
              "    </tr>\n",
              "    <tr>\n",
              "      <th>8</th>\n",
              "      <td>9</td>\n",
              "      <td>32661894</td>\n",
              "      <td>30044159</td>\n",
              "      <td>3344351</td>\n",
              "      <td>1866183</td>\n",
              "      <td>152.0</td>\n",
              "    </tr>\n",
              "    <tr>\n",
              "      <th>9</th>\n",
              "      <td>10</td>\n",
              "      <td>33084230</td>\n",
              "      <td>30259559</td>\n",
              "      <td>3012379</td>\n",
              "      <td>2131684</td>\n",
              "      <td>216.0</td>\n",
              "    </tr>\n",
              "    <tr>\n",
              "      <th>10</th>\n",
              "      <td>11</td>\n",
              "      <td>32234047</td>\n",
              "      <td>30409897</td>\n",
              "      <td>3402311</td>\n",
              "      <td>2481744</td>\n",
              "      <td>218.0</td>\n",
              "    </tr>\n",
              "    <tr>\n",
              "      <th>11</th>\n",
              "      <td>12</td>\n",
              "      <td>31315704</td>\n",
              "      <td>27947720</td>\n",
              "      <td>3690246</td>\n",
              "      <td>2288545</td>\n",
              "      <td>2886.0</td>\n",
              "    </tr>\n",
              "  </tbody>\n",
              "</table>\n",
              "</div>"
            ],
            "text/plain": [
              "    Month  travel_Road  travel_subway  travel_river  travel_Air  patient\n",
              "0       1     51184656       41947594       8261938     3122659     19.0\n",
              "1       2     46429218       36460619       6998927     2675542     23.0\n",
              "2       3     32946721       24466973       2526613     1695583   1609.0\n",
              "3       4     14071816        7368716       1155419       57439   1303.0\n",
              "4       5     19371815       11482880       1503935      211125    127.0\n",
              "5       6     25723627       19881012       2241446      618881     90.0\n",
              "6       7     31550369       25890919       3481589     1318559    139.0\n",
              "7       8     33311862       29055512       3176923     1664163    102.0\n",
              "8       9     32661894       30044159       3344351     1866183    152.0\n",
              "9      10     33084230       30259559       3012379     2131684    216.0\n",
              "10     11     32234047       30409897       3402311     2481744    218.0\n",
              "11     12     31315704       27947720       3690246     2288545   2886.0"
            ]
          },
          "metadata": {
            "tags": []
          },
          "execution_count": 104
        }
      ]
    },
    {
      "cell_type": "code",
      "metadata": {
        "colab": {
          "base_uri": "https://localhost:8080/",
          "height": 641
        },
        "id": "rAFTJ1sirJkk",
        "outputId": "d41db062-93bd-4d49-ea86-dd9570b8557b"
      },
      "source": [
        "plt.plot(all_graph['Month'],all_graph['travel_Road'],'o-',color='green',label = 'travel_Road')\n",
        "plt.plot(all_graph['Month'],all_graph['travel_subway'],'o-y',label = 'travel_subway')\n",
        "plt.plot(all_graph['Month'],all_graph['travel_river'],'o-b',label = 'travel_river')\n",
        "plt.plot(all_graph['Month'],all_graph['travel_Air'],'o-',color='pink',label = 'travel_Air')\n",
        "plt.plot(all_graph['Month'],all_graph['patient'],'o-r',label = 'patient')\n",
        "plt.title('กราฟแนวโน้มการเดินทางและจำนวนผู้ติดเชื้อ')\n",
        "plt.xlabel('Month')\n",
        "plt.legend()\n"
      ],
      "execution_count": 105,
      "outputs": [
        {
          "output_type": "execute_result",
          "data": {
            "text/plain": [
              "<matplotlib.legend.Legend at 0x7fbadf104d90>"
            ]
          },
          "metadata": {
            "tags": []
          },
          "execution_count": 105
        },
        {
          "output_type": "display_data",
          "data": {
            "image/png": "[encoded data removed]",
            "text/plain": [
              "<Figure size 1080x720 with 1 Axes>"
            ]
          },
          "metadata": {
            "tags": [],
            "needs_background": "light"
          }
        }
      ]
    },
    {
      "cell_type": "markdown",
      "metadata": {
        "id": "XqFlu7ERpb1X"
      },
      "source": [
        "จากตารางพบว่าในปี 2020 มีการเดินทางทางบกมากที่สุด รองลงมาคือทางรถไฟ ทางน้ำ และทางอากาศ โดยจำนวนผู้ติดเชื้อมีการเพิ่มขึ้นเมื่อมีจำนวนการเดินทางลดลงซึ่งอาจจะพิจารณาได้ตามข้อที่ 1. อาจจะบอกได้ว่าผู้ติดเชื้อส่วนใหญ่นั้นติดเชื้อจาการเดิทางทางบกเป็นส่วนใหญ่"
      ]
    },
    {
      "cell_type": "markdown",
      "metadata": {
        "id": "0FGgAcfSqSAe"
      },
      "source": [
        "#ตารางนี้เกิดจากการรวมทุกรูปแบบการเดินทางและรวมจำนวนผู้ป่วยเข้าด้วยกันเพื่อสร้างกราฟเปรียบเทียบในปี 2021"
      ]
    },
    {
      "cell_type": "code",
      "metadata": {
        "id": "j10aiD7aVYYS"
      },
      "source": [
        "All_way_2021 = All_way[All_way['datetime'] > datetime(year=2020,month=12,day=31)]"
      ],
      "execution_count": 106,
      "outputs": []
    },
    {
      "cell_type": "code",
      "metadata": {
        "id": "uM1AaF1QV1vk"
      },
      "source": [
        "all_graph_2021 = pd.DataFrame(All_way_2021.groupby('Month')['Road'].sum()).reset_index()"
      ],
      "execution_count": 107,
      "outputs": []
    },
    {
      "cell_type": "code",
      "metadata": {
        "id": "8M80iuqNV9kb"
      },
      "source": [
        "all_subway_2021 = pd.DataFrame(All_way_2021.groupby('Month')['subway'].sum()).reset_index()"
      ],
      "execution_count": 108,
      "outputs": []
    },
    {
      "cell_type": "code",
      "metadata": {
        "id": "bR4Y3UMjWHBR"
      },
      "source": [
        "all_river_2021 = pd.DataFrame(All_way_2021.groupby('Month')['river'].sum()).reset_index()"
      ],
      "execution_count": 109,
      "outputs": []
    },
    {
      "cell_type": "code",
      "metadata": {
        "id": "1KpvR9G-WQWO"
      },
      "source": [
        "all_Air_2021 = pd.DataFrame(All_way_2021.groupby('Month')['Air'].sum()).reset_index()"
      ],
      "execution_count": 110,
      "outputs": []
    },
    {
      "cell_type": "code",
      "metadata": {
        "id": "nfudj3OqWS7C"
      },
      "source": [
        "all_graph_2021['travel_subway'] = all_subway_2021['subway']/100\n",
        "all_graph_2021['travel_river'] = all_river_2021['river']/100\n",
        "all_graph_2021['travel_Air'] = all_Air_2021['Air']/100\n",
        "all_graph_2021['Road'] = all_graph_2021['Road']/100"
      ],
      "execution_count": 111,
      "outputs": []
    },
    {
      "cell_type": "code",
      "metadata": {
        "id": "yOlBMU07Ww9K"
      },
      "source": [
        "all_graph_2021['patient'] = covid19_2021['Num_patient']"
      ],
      "execution_count": 112,
      "outputs": []
    },
    {
      "cell_type": "code",
      "metadata": {
        "colab": {
          "base_uri": "https://localhost:8080/",
          "height": 641
        },
        "id": "9YC6XdNMXWi_",
        "outputId": "e57bda0d-76f1-4e56-d2b8-c7e3cbea7e78"
      },
      "source": [
        "plt.plot(all_graph_2021['Month'],all_graph_2021['Road'],'o-',color='green',label = 'travel_Road')\n",
        "plt.plot(all_graph_2021['Month'],all_graph_2021['travel_subway'],'o-y',label = 'travel_subway')\n",
        "plt.plot(all_graph_2021['Month'],all_graph_2021['travel_river'],'o-b',label = 'travel_river')\n",
        "plt.plot(all_graph_2021['Month'],all_graph_2021['travel_Air'],'o-',color='pink',label = 'travel_Air')\n",
        "plt.plot(all_graph_2021['Month'],all_graph_2021['patient'],'o-r',label = 'patient')\n",
        "plt.title('กราฟแนวโน้มการเดินทางและจำนวนผู้ติดเชื้อ2021')\n",
        "plt.xlabel('Month')\n",
        "plt.legend()"
      ],
      "execution_count": 113,
      "outputs": [
        {
          "output_type": "execute_result",
          "data": {
            "text/plain": [
              "<matplotlib.legend.Legend at 0x7fbade06b210>"
            ]
          },
          "metadata": {
            "tags": []
          },
          "execution_count": 113
        },
        {
          "output_type": "display_data",
          "data": {
            "image/png": "[encoded data removed]",
            "text/plain": [
              "<Figure size 1080x720 with 1 Axes>"
            ]
          },
          "metadata": {
            "tags": [],
            "needs_background": "light"
          }
        }
      ]
    },
    {
      "cell_type": "code",
      "metadata": {
        "colab": {
          "base_uri": "https://localhost:8080/"
        },
        "id": "t5jQvIfYsZBw",
        "outputId": "4cbb1744-8a01-447b-dc62-c463bd066956"
      },
      "source": [
        " all_province_table.isnull().any()"
      ],
      "execution_count": 114,
      "outputs": [
        {
          "output_type": "execute_result",
          "data": {
            "text/plain": [
              "No.                      False\n",
              "announce_date            False\n",
              "Notified date             True\n",
              "sex                       True\n",
              "age                       True\n",
              "Unit                      True\n",
              "nationality               True\n",
              "province_of_isolation     True\n",
              "risk                      True\n",
              "province_of_onset        False\n",
              "district_of_onset         True\n",
              "dtype: bool"
            ]
          },
          "metadata": {
            "tags": []
          },
          "execution_count": 114
        }
      ]
    },
    {
      "cell_type": "markdown",
      "metadata": {
        "id": "5_iCDSg5wQtA"
      },
      "source": [
        "#3. เปรียบเทียบ จำนวนผู้ป่วยที่ตรวจพบเชื้อ covid-19 ของจังหวัด top 10 ของ 6 เดือนล่าสุด"
      ]
    },
    {
      "cell_type": "markdown",
      "metadata": {
        "id": "XCAAk3cXqZw7"
      },
      "source": [
        "#การดึงข้อมูลของ6เดือนล่าสุด ตั้งแต่วันที่ 1 พ.ย. 2020 - 26 เม.ย 2021"
      ]
    },
    {
      "cell_type": "code",
      "metadata": {
        "id": "p4YLhVNf1SuS"
      },
      "source": [
        "six_date = all_province_table[all_province_table['announce_date'] >= datetime(year=2020,month=11,day=1)].sort_values(by = 'announce_date')"
      ],
      "execution_count": 115,
      "outputs": []
    },
    {
      "cell_type": "code",
      "metadata": {
        "id": "uW1po0DP5Dyf"
      },
      "source": [
        "table_six_date = pd.DataFrame(six_date.groupby('province_of_onset')['No.'].count().sort_values(ascending=False)).reset_index()"
      ],
      "execution_count": 116,
      "outputs": []
    },
    {
      "cell_type": "code",
      "metadata": {
        "id": "jDauyIWT8K7L"
      },
      "source": [
        "table_six_date.rename(columns={'No.':'Number_patient'},inplace=True)"
      ],
      "execution_count": 117,
      "outputs": []
    },
    {
      "cell_type": "markdown",
      "metadata": {
        "id": "JtHcs-BbqxVp"
      },
      "source": [
        "##ทำการดึงจังหวัดที่มีจำนวนผู้ติดเชื้อมากที่สุด 10 จังหวัด"
      ]
    },
    {
      "cell_type": "code",
      "metadata": {
        "colab": {
          "base_uri": "https://localhost:8080/"
        },
        "id": "Kk-rp3Q1-LQu",
        "outputId": "3f61c9d5-e5f5-4bef-ce5f-546e2f642305"
      },
      "source": [
        "top10 = table_six_date.iloc[:10,:]\n",
        "top10['province_of_onset'] = top10['province_of_onset'].rename(index = {'สมุทรสาคร':'samudsakorn','กรุงเทพมหานคร':'bangkok','เชียงใหม่':'chaimai','ชลบุรี':'chon','ปทุมธานี':'patom','สมุทรปราการ':'samudpakan','นนทบุรี':'non','ระยอง':'rayong','ประจวบคีรีขันธ์':'pajaob','นครปฐม':'nakorn'})"
      ],
      "execution_count": 118,
      "outputs": [
        {
          "output_type": "stream",
          "text": [
            "/usr/local/lib/python3.7/dist-packages/ipykernel_launcher.py:2: SettingWithCopyWarning: \n",
            "A value is trying to be set on a copy of a slice from a DataFrame.\n",
            "Try using .loc[row_indexer,col_indexer] = value instead\n",
            "\n",
            "See the caveats in the documentation: https://pandas.pydata.org/pandas-docs/stable/user_guide/indexing.html#returning-a-view-versus-a-copy\n",
            "  \n"
          ],
          "name": "stderr"
        }
      ]
    },
    {
      "cell_type": "code",
      "metadata": {
        "colab": {
          "base_uri": "https://localhost:8080/",
          "height": 343
        },
        "id": "vGPW_GELFe4F",
        "outputId": "167f802e-5747-4ac9-f83a-7a081e3b923e"
      },
      "source": [
        "top10"
      ],
      "execution_count": 119,
      "outputs": [
        {
          "output_type": "execute_result",
          "data": {
            "text/html": [
              "<div>\n",
              "<style scoped>\n",
              "    .dataframe tbody tr th:only-of-type {\n",
              "        vertical-align: middle;\n",
              "    }\n",
              "\n",
              "    .dataframe tbody tr th {\n",
              "        vertical-align: top;\n",
              "    }\n",
              "\n",
              "    .dataframe thead th {\n",
              "        text-align: right;\n",
              "    }\n",
              "</style>\n",
              "<table border=\"1\" class=\"dataframe\">\n",
              "  <thead>\n",
              "    <tr style=\"text-align: right;\">\n",
              "      <th></th>\n",
              "      <th>province_of_onset</th>\n",
              "      <th>Number_patient</th>\n",
              "    </tr>\n",
              "  </thead>\n",
              "  <tbody>\n",
              "    <tr>\n",
              "      <th>0</th>\n",
              "      <td>สมุทรสาคร</td>\n",
              "      <td>17547</td>\n",
              "    </tr>\n",
              "    <tr>\n",
              "      <th>1</th>\n",
              "      <td>กรุงเทพมหานคร</td>\n",
              "      <td>12780</td>\n",
              "    </tr>\n",
              "    <tr>\n",
              "      <th>2</th>\n",
              "      <td>เชียงใหม่</td>\n",
              "      <td>3244</td>\n",
              "    </tr>\n",
              "    <tr>\n",
              "      <th>3</th>\n",
              "      <td>ชลบุรี</td>\n",
              "      <td>3138</td>\n",
              "    </tr>\n",
              "    <tr>\n",
              "      <th>4</th>\n",
              "      <td>ปทุมธานี</td>\n",
              "      <td>1480</td>\n",
              "    </tr>\n",
              "    <tr>\n",
              "      <th>5</th>\n",
              "      <td>สมุทรปราการ</td>\n",
              "      <td>1302</td>\n",
              "    </tr>\n",
              "    <tr>\n",
              "      <th>6</th>\n",
              "      <td>นนทบุรี</td>\n",
              "      <td>1026</td>\n",
              "    </tr>\n",
              "    <tr>\n",
              "      <th>7</th>\n",
              "      <td>ระยอง</td>\n",
              "      <td>1022</td>\n",
              "    </tr>\n",
              "    <tr>\n",
              "      <th>8</th>\n",
              "      <td>ประจวบคีรีขันธ์</td>\n",
              "      <td>991</td>\n",
              "    </tr>\n",
              "    <tr>\n",
              "      <th>9</th>\n",
              "      <td>นครปฐม</td>\n",
              "      <td>647</td>\n",
              "    </tr>\n",
              "  </tbody>\n",
              "</table>\n",
              "</div>"
            ],
            "text/plain": [
              "  province_of_onset  Number_patient\n",
              "0         สมุทรสาคร           17547\n",
              "1     กรุงเทพมหานคร           12780\n",
              "2         เชียงใหม่            3244\n",
              "3            ชลบุรี            3138\n",
              "4          ปทุมธานี            1480\n",
              "5       สมุทรปราการ            1302\n",
              "6           นนทบุรี            1026\n",
              "7             ระยอง            1022\n",
              "8   ประจวบคีรีขันธ์             991\n",
              "9            นครปฐม             647"
            ]
          },
          "metadata": {
            "tags": []
          },
          "execution_count": 119
        }
      ]
    },
    {
      "cell_type": "code",
      "metadata": {
        "id": "tuwinWhVMRDO"
      },
      "source": [
        "!wget -q https://github.com/Phonbopit/sarabun-webfont/raw/master/fonts/thsarabunnew-webfont.ttf"
      ],
      "execution_count": 120,
      "outputs": []
    },
    {
      "cell_type": "code",
      "metadata": {
        "id": "OkNF28aSMKbl"
      },
      "source": [
        "# !pip install -U --pre matplotlib  \n",
        "import matplotlib as mpl\n",
        "mpl.font_manager.fontManager.addfont('thsarabunnew-webfont.ttf')\n",
        "mpl.rc('font', family='TH Sarabun New')"
      ],
      "execution_count": 121,
      "outputs": []
    },
    {
      "cell_type": "code",
      "metadata": {
        "id": "IU7C4JUwMfkk"
      },
      "source": [
        "import matplotlib\n",
        "matplotlib.rcParams['figure.figsize']=[15,10]"
      ],
      "execution_count": 122,
      "outputs": []
    },
    {
      "cell_type": "markdown",
      "metadata": {
        "id": "Mx9-XV55rAJz"
      },
      "source": [
        "###plot bar chart เพื่อเปรียบเทียบจำนวนผู้ติดเชื้อใน10จังหวัดที่มีผู้ติดเชื้อมากที่สุด 6เดือนล่าสุด"
      ]
    },
    {
      "cell_type": "code",
      "metadata": {
        "colab": {
          "base_uri": "https://localhost:8080/",
          "height": 612
        },
        "id": "FmI5kXuv-4A4",
        "outputId": "11a9d637-2d17-484b-fa17-1c521d08f96d"
      },
      "source": [
        "plt.bar(top10['province_of_onset'],top10['Number_patient'])"
      ],
      "execution_count": 123,
      "outputs": [
        {
          "output_type": "execute_result",
          "data": {
            "text/plain": [
              "<BarContainer object of 10 artists>"
            ]
          },
          "metadata": {
            "tags": []
          },
          "execution_count": 123
        },
        {
          "output_type": "display_data",
          "data": {
            "image/png": "[encoded data removed]",
            "text/plain": [
              "<Figure size 1080x720 with 1 Axes>"
            ]
          },
          "metadata": {
            "tags": [],
            "needs_background": "light"
          }
        }
      ]
    },
    {
      "cell_type": "markdown",
      "metadata": {
        "id": "0ye2wZiLrZ6Y"
      },
      "source": [
        "จากตาราง พบว่าจังหวัดที่มีผู้ติดเชื้อมากที่10 6เดือนย้อนหลังคือ สมุทราสาคร กรุงเทพมหานคร เชียงใหม่ ชลบุรี ปทุมธานี สมุทรปราการ นนทบุรี ระยอง ประจวบคีรีขันธ์ และนครปฐม ตามลำดับ"
      ]
    },
    {
      "cell_type": "markdown",
      "metadata": {
        "id": "_5cnJaf0wSXh"
      },
      "source": [
        "#4. เปรียบเทียบจำนวนผู้ป่วยที่ตรวจพบเชื้อ covid-19 ของแต่ละภูมิภาค (5 ภูมิภาค (การท่องเที่ยว)) ตามข้อมูลใน"
      ]
    },
    {
      "cell_type": "markdown",
      "metadata": {
        "id": "HbxXHoevsE0T"
      },
      "source": [
        "###วนลูปเพื่อเติมภูมิภาคให้ตรงตามที่ตั้งของจังหวัดนั้นๆ"
      ]
    },
    {
      "cell_type": "code",
      "metadata": {
        "id": "jX9ygB6eMG-b"
      },
      "source": [
        "data = []\n",
        "for i in range(0,57510):\n",
        "    if all_province_table['province_of_onset'][i] == 'กรุงเทพมหานคร'or all_province_table['province_of_onset'][i] =='นนทบุรี'or all_province_table['province_of_onset'][i] =='ปทุมธานี'or all_province_table['province_of_onset'][i] =='สมุทรปราการ':\n",
        "        region = 'กรุงเทพมหานครและปริมณฑล'\n",
        "    elif all_province_table['province_of_onset'][i] == 'สิงห์บุรี'or all_province_table['province_of_onset'][i] == 'อ่างทอง'or all_province_table['province_of_onset'][i] == 'พระนครศรีอยุธยา'or all_province_table['province_of_onset'][i] == 'ลพบุรี'or all_province_table['province_of_onset'][i] == 'สระบุรี'or all_province_table['province_of_onset'][i] == 'นครนายก'or all_province_table['province_of_onset'][i] == 'ปราจีนบุรี'or all_province_table['province_of_onset'][i] == 'สระแก้ว'or all_province_table['province_of_onset'][i] == 'ฉะเชิงเทรา'or all_province_table['province_of_onset'][i] == 'ชลบุรี'or all_province_table['province_of_onset'][i] == 'ระยอง'or all_province_table['province_of_onset'][i] == 'จันทบุรี'or all_province_table['province_of_onset'][i] == 'ตราด'or all_province_table['province_of_onset'][i] == 'สมุทรสาคร'or all_province_table['province_of_onset'][i] == 'สมุทรสาคร'or all_province_table['province_of_onset'][i] == 'นครปฐม'or all_province_table['province_of_onset'][i] == 'สุพรรณบุรี'or all_province_table['province_of_onset'][i] == 'กาญจนบุรี'or all_province_table['province_of_onset'][i] == 'ราชบุรี'or all_province_table['province_of_onset'][i] == 'เพชรบุรี'or all_province_table['province_of_onset'][i] == 'ประจวบคีรีขันธ์':\n",
        "        region = 'ภาคกลาง'\n",
        "    elif all_province_table['province_of_onset'][i] == 'อุดรธานี'or all_province_table['province_of_onset'][i] == 'หนองบัวลำภู'or all_province_table['province_of_onset'][i] == 'หนองคาย'or all_province_table['province_of_onset'][i] == 'บึงกาฬ'or all_province_table['province_of_onset'][i] == 'สกลนคร'or all_province_table['province_of_onset'][i] == 'นครพนม'or all_province_table['province_of_onset'][i] == 'มุกดาหาร'or all_province_table['province_of_onset'][i] == 'ขอนแก่น'or all_province_table['province_of_onset'][i] == 'มหาสารคาม'or all_province_table['province_of_onset'][i] == 'ร้อยเอ็ด'or all_province_table['province_of_onset'][i] == 'กาฬสินธุ์'or all_province_table['province_of_onset'][i] == 'นครราชสีมา'or all_province_table['province_of_onset'][i] == 'ชัยภูมิ'or all_province_table['province_of_onset'][i] == 'บุรีรัมย์'or all_province_table['province_of_onset'][i] == 'สุรินทร์'or all_province_table['province_of_onset'][i] == 'ศรีสะเกษ'or all_province_table['province_of_onset'][i] == 'อุบลราชธานี'or all_province_table['province_of_onset'][i] == 'ยโสธร'or all_province_table['province_of_onset'][i] == 'อำนาจเจริญ':\n",
        "        region = 'ภาคตะวันออกเฉียงเหนือ'\n",
        "    elif all_province_table['province_of_onset'][i] == 'พิษณุโลก'or all_province_table['province_of_onset'][i] == 'สุโขทัย'or all_province_table['province_of_onset'][i] == 'ตาก'or all_province_table['province_of_onset'][i] == 'กำแพงเพชร'or all_province_table['province_of_onset'][i] == 'นครสวรรค์'or all_province_table['province_of_onset'][i] == 'พิจิตร'or all_province_table['province_of_onset'][i] == 'เพชรบูรณ์'or all_province_table['province_of_onset'][i] == 'อุทัยธานี'or all_province_table['province_of_onset'][i] == 'ชัยนาท'or all_province_table['province_of_onset'][i] == 'เชียงใหม่'or all_province_table['province_of_onset'][i] == 'เชียงราย'or all_province_table['province_of_onset'][i] == 'ลำพูน'or all_province_table['province_of_onset'][i] == 'แม่ฮ่องสอน'or all_province_table['province_of_onset'][i] == 'ลำปาง'or all_province_table['province_of_onset'][i] == 'แพร่ 'or all_province_table['province_of_onset'][i] == 'น่าน'or all_province_table['province_of_onset'][i] == 'พะเยา' or all_province_table['province_of_onset'][i] == 'อุตรดิตถ์':\n",
        "        region = 'ภาคเหนือ'\n",
        "    elif all_province_table['province_of_onset'][i] == 'นราธิวาส'or all_province_table['province_of_onset'][i] == 'ปัตตานี'or all_province_table['province_of_onset'][i] == 'ยะลา'or all_province_table['province_of_onset'][i] == 'สงขลา'or all_province_table['province_of_onset'][i] == 'พัทลุง'or all_province_table['province_of_onset'][i] == 'สตูล'or all_province_table['province_of_onset'][i] == 'นครศรีธรรมราช'or all_province_table['province_of_onset'][i] == 'ตรัง'or all_province_table['province_of_onset'][i] == 'กระบี่'or all_province_table['province_of_onset'][i] == 'ภูเก็ต'or all_province_table['province_of_onset'][i] == 'พังงา'or all_province_table['province_of_onset'][i] == 'สุราษฎร์ธานี'or all_province_table['province_of_onset'][i] == 'ชุมพร'or all_province_table['province_of_onset'][i] == 'ระนอง':\n",
        "        region = 'ภาคใต้'\n",
        "    else :\n",
        "        region = 'Unknow'\n",
        "    data.append(region)"
      ],
      "execution_count": 124,
      "outputs": []
    },
    {
      "cell_type": "code",
      "metadata": {
        "id": "42-thI6xfoi9"
      },
      "source": [
        "all_province_table['region'] = data"
      ],
      "execution_count": 125,
      "outputs": []
    },
    {
      "cell_type": "code",
      "metadata": {
        "colab": {
          "base_uri": "https://localhost:8080/",
          "height": 586
        },
        "id": "VlegAOJrgEV2",
        "outputId": "4fbef693-13ea-4585-eee9-37f4fa864359"
      },
      "source": [
        "all_province_table"
      ],
      "execution_count": 126,
      "outputs": [
        {
          "output_type": "execute_result",
          "data": {
            "text/html": [
              "<div>\n",
              "<style scoped>\n",
              "    .dataframe tbody tr th:only-of-type {\n",
              "        vertical-align: middle;\n",
              "    }\n",
              "\n",
              "    .dataframe tbody tr th {\n",
              "        vertical-align: top;\n",
              "    }\n",
              "\n",
              "    .dataframe thead th {\n",
              "        text-align: right;\n",
              "    }\n",
              "</style>\n",
              "<table border=\"1\" class=\"dataframe\">\n",
              "  <thead>\n",
              "    <tr style=\"text-align: right;\">\n",
              "      <th></th>\n",
              "      <th>No.</th>\n",
              "      <th>announce_date</th>\n",
              "      <th>Notified date</th>\n",
              "      <th>sex</th>\n",
              "      <th>age</th>\n",
              "      <th>Unit</th>\n",
              "      <th>nationality</th>\n",
              "      <th>province_of_isolation</th>\n",
              "      <th>risk</th>\n",
              "      <th>province_of_onset</th>\n",
              "      <th>district_of_onset</th>\n",
              "      <th>region</th>\n",
              "    </tr>\n",
              "  </thead>\n",
              "  <tbody>\n",
              "    <tr>\n",
              "      <th>0</th>\n",
              "      <td>1</td>\n",
              "      <td>2020-01-12</td>\n",
              "      <td>NaN</td>\n",
              "      <td>หญิง</td>\n",
              "      <td>61.0</td>\n",
              "      <td>ปี</td>\n",
              "      <td>China</td>\n",
              "      <td>กรุงเทพมหานคร</td>\n",
              "      <td>คนต่างชาติเดินทางมาจากต่างประเทศ</td>\n",
              "      <td>กรุงเทพมหานคร</td>\n",
              "      <td>NaN</td>\n",
              "      <td>กรุงเทพมหานครและปริมณฑล</td>\n",
              "    </tr>\n",
              "    <tr>\n",
              "      <th>1</th>\n",
              "      <td>2</td>\n",
              "      <td>2020-01-17</td>\n",
              "      <td>NaN</td>\n",
              "      <td>หญิง</td>\n",
              "      <td>74.0</td>\n",
              "      <td>ปี</td>\n",
              "      <td>China</td>\n",
              "      <td>กรุงเทพมหานคร</td>\n",
              "      <td>คนต่างชาติเดินทางมาจากต่างประเทศ</td>\n",
              "      <td>กรุงเทพมหานคร</td>\n",
              "      <td>NaN</td>\n",
              "      <td>กรุงเทพมหานครและปริมณฑล</td>\n",
              "    </tr>\n",
              "    <tr>\n",
              "      <th>2</th>\n",
              "      <td>3</td>\n",
              "      <td>2020-01-22</td>\n",
              "      <td>NaN</td>\n",
              "      <td>หญิง</td>\n",
              "      <td>73.0</td>\n",
              "      <td>ปี</td>\n",
              "      <td>Thailand</td>\n",
              "      <td>นครปฐม</td>\n",
              "      <td>คนต่างชาติเดินทางมาจากต่างประเทศ</td>\n",
              "      <td>นครปฐม</td>\n",
              "      <td>เมือง</td>\n",
              "      <td>ภาคกลาง</td>\n",
              "    </tr>\n",
              "    <tr>\n",
              "      <th>3</th>\n",
              "      <td>4</td>\n",
              "      <td>2020-01-22</td>\n",
              "      <td>NaN</td>\n",
              "      <td>ชาย</td>\n",
              "      <td>68.0</td>\n",
              "      <td>ปี</td>\n",
              "      <td>China</td>\n",
              "      <td>กรุงเทพมหานคร</td>\n",
              "      <td>คนต่างชาติเดินทางมาจากต่างประเทศ</td>\n",
              "      <td>กรุงเทพมหานคร</td>\n",
              "      <td>NaN</td>\n",
              "      <td>กรุงเทพมหานครและปริมณฑล</td>\n",
              "    </tr>\n",
              "    <tr>\n",
              "      <th>4</th>\n",
              "      <td>5</td>\n",
              "      <td>2020-01-24</td>\n",
              "      <td>NaN</td>\n",
              "      <td>หญิง</td>\n",
              "      <td>66.0</td>\n",
              "      <td>ปี</td>\n",
              "      <td>China</td>\n",
              "      <td>นนทบุรี</td>\n",
              "      <td>คนต่างชาติเดินทางมาจากต่างประเทศ</td>\n",
              "      <td>กรุงเทพมหานคร</td>\n",
              "      <td>NaN</td>\n",
              "      <td>กรุงเทพมหานครและปริมณฑล</td>\n",
              "    </tr>\n",
              "    <tr>\n",
              "      <th>...</th>\n",
              "      <td>...</td>\n",
              "      <td>...</td>\n",
              "      <td>...</td>\n",
              "      <td>...</td>\n",
              "      <td>...</td>\n",
              "      <td>...</td>\n",
              "      <td>...</td>\n",
              "      <td>...</td>\n",
              "      <td>...</td>\n",
              "      <td>...</td>\n",
              "      <td>...</td>\n",
              "      <td>...</td>\n",
              "    </tr>\n",
              "    <tr>\n",
              "      <th>57505</th>\n",
              "      <td>57506</td>\n",
              "      <td>2021-04-26</td>\n",
              "      <td>25/4/2021</td>\n",
              "      <td>ชาย</td>\n",
              "      <td>51.0</td>\n",
              "      <td>ปี</td>\n",
              "      <td>Thailand</td>\n",
              "      <td>กรุงเทพมหานคร</td>\n",
              "      <td>อื่นๆ</td>\n",
              "      <td>กรุงเทพมหานคร</td>\n",
              "      <td>NaN</td>\n",
              "      <td>กรุงเทพมหานครและปริมณฑล</td>\n",
              "    </tr>\n",
              "    <tr>\n",
              "      <th>57506</th>\n",
              "      <td>57507</td>\n",
              "      <td>2021-04-26</td>\n",
              "      <td>25/4/2021</td>\n",
              "      <td>ชาย</td>\n",
              "      <td>50.0</td>\n",
              "      <td>ปี</td>\n",
              "      <td>Thailand</td>\n",
              "      <td>กรุงเทพมหานคร</td>\n",
              "      <td>อื่นๆ</td>\n",
              "      <td>กรุงเทพมหานคร</td>\n",
              "      <td>NaN</td>\n",
              "      <td>กรุงเทพมหานครและปริมณฑล</td>\n",
              "    </tr>\n",
              "    <tr>\n",
              "      <th>57507</th>\n",
              "      <td>57508</td>\n",
              "      <td>2021-04-26</td>\n",
              "      <td>25/4/2021</td>\n",
              "      <td>ชาย</td>\n",
              "      <td>24.0</td>\n",
              "      <td>ปี</td>\n",
              "      <td>Thailand</td>\n",
              "      <td>กรุงเทพมหานคร</td>\n",
              "      <td>อื่นๆ</td>\n",
              "      <td>กรุงเทพมหานคร</td>\n",
              "      <td>NaN</td>\n",
              "      <td>กรุงเทพมหานครและปริมณฑล</td>\n",
              "    </tr>\n",
              "    <tr>\n",
              "      <th>57508</th>\n",
              "      <td>57509</td>\n",
              "      <td>2021-04-26</td>\n",
              "      <td>25/4/2021</td>\n",
              "      <td>ชาย</td>\n",
              "      <td>24.0</td>\n",
              "      <td>ปี</td>\n",
              "      <td>Thailand</td>\n",
              "      <td>กรุงเทพมหานคร</td>\n",
              "      <td>อื่นๆ</td>\n",
              "      <td>กรุงเทพมหานคร</td>\n",
              "      <td>NaN</td>\n",
              "      <td>กรุงเทพมหานครและปริมณฑล</td>\n",
              "    </tr>\n",
              "    <tr>\n",
              "      <th>57509</th>\n",
              "      <td>57510</td>\n",
              "      <td>2021-04-26</td>\n",
              "      <td>25/4/2021</td>\n",
              "      <td>ชาย</td>\n",
              "      <td>28.0</td>\n",
              "      <td>ปี</td>\n",
              "      <td>Thailand</td>\n",
              "      <td>กรุงเทพมหานคร</td>\n",
              "      <td>อื่นๆ</td>\n",
              "      <td>กรุงเทพมหานคร</td>\n",
              "      <td>NaN</td>\n",
              "      <td>กรุงเทพมหานครและปริมณฑล</td>\n",
              "    </tr>\n",
              "  </tbody>\n",
              "</table>\n",
              "<p>57510 rows × 12 columns</p>\n",
              "</div>"
            ],
            "text/plain": [
              "         No. announce_date  ... district_of_onset                   region\n",
              "0          1    2020-01-12  ...               NaN  กรุงเทพมหานครและปริมณฑล\n",
              "1          2    2020-01-17  ...               NaN  กรุงเทพมหานครและปริมณฑล\n",
              "2          3    2020-01-22  ...             เมือง                  ภาคกลาง\n",
              "3          4    2020-01-22  ...               NaN  กรุงเทพมหานครและปริมณฑล\n",
              "4          5    2020-01-24  ...               NaN  กรุงเทพมหานครและปริมณฑล\n",
              "...      ...           ...  ...               ...                      ...\n",
              "57505  57506    2021-04-26  ...               NaN  กรุงเทพมหานครและปริมณฑล\n",
              "57506  57507    2021-04-26  ...               NaN  กรุงเทพมหานครและปริมณฑล\n",
              "57507  57508    2021-04-26  ...               NaN  กรุงเทพมหานครและปริมณฑล\n",
              "57508  57509    2021-04-26  ...               NaN  กรุงเทพมหานครและปริมณฑล\n",
              "57509  57510    2021-04-26  ...               NaN  กรุงเทพมหานครและปริมณฑล\n",
              "\n",
              "[57510 rows x 12 columns]"
            ]
          },
          "metadata": {
            "tags": []
          },
          "execution_count": 126
        }
      ]
    },
    {
      "cell_type": "markdown",
      "metadata": {
        "id": "_lss2nsPsQ0t"
      },
      "source": [
        "#สร้างตารางที่ groupby จำนวนผู้ติดเชื้อโดย groupby ตามภูมิภาค"
      ]
    },
    {
      "cell_type": "code",
      "metadata": {
        "id": "gPA1wG8GchGo"
      },
      "source": [
        "region_prepair = pd.DataFrame(all_province_table.groupby('region')['No.'].count().sort_values(ascending=False)).reset_index()"
      ],
      "execution_count": 127,
      "outputs": []
    },
    {
      "cell_type": "code",
      "metadata": {
        "id": "zh-Wfymmgt4E"
      },
      "source": [
        "region_prepair.rename(columns={'No.':'number_patient'},inplace=True)"
      ],
      "execution_count": 128,
      "outputs": []
    },
    {
      "cell_type": "code",
      "metadata": {
        "colab": {
          "base_uri": "https://localhost:8080/",
          "height": 611
        },
        "id": "wSxuygSGhZ8-",
        "outputId": "528ec8d2-b0a3-476c-ce41-63a806e8f0e3"
      },
      "source": [
        "plt.bar(region_prepair['region'],region_prepair['number_patient'])"
      ],
      "execution_count": 129,
      "outputs": [
        {
          "output_type": "execute_result",
          "data": {
            "text/plain": [
              "<BarContainer object of 6 artists>"
            ]
          },
          "metadata": {
            "tags": []
          },
          "execution_count": 129
        },
        {
          "output_type": "display_data",
          "data": {
            "image/png": "[encoded data removed]",
            "text/plain": [
              "<Figure size 1080x720 with 1 Axes>"
            ]
          },
          "metadata": {
            "tags": [],
            "needs_background": "light"
          }
        }
      ]
    },
    {
      "cell_type": "markdown",
      "metadata": {
        "id": "FuxK7VltscWl"
      },
      "source": [
        "จากกราฟ พบว่าภาคกลางมีจำนวนผู้ติดเชื้อมากที่สุด รองลงมาคือกรุงเทพและปริมณฑล ภาคเหนือ ภาคใต้ ภาคตะวันออกเฉียงเหนือ ส่วนของมูล unknow คือไม่สามารถระบุภูมิภาคได้"
      ]
    },
    {
      "cell_type": "code",
      "metadata": {
        "id": "rjorFAIBhz3V"
      },
      "source": [
        "All_way_2020.to_excel('/content/drive/My Drive/DVZ/date_travel.xlsx')"
      ],
      "execution_count": 130,
      "outputs": []
    },
    {
      "cell_type": "code",
      "metadata": {
        "id": "dLIDFfEKw3Cz"
      },
      "source": [
        "all_province_table.to_excel('/content/drive/My Drive/DVZ/date_pateint.xlsx')"
      ],
      "execution_count": 131,
      "outputs": []
    },
    {
      "cell_type": "code",
      "metadata": {
        "id": "-wmUC8qN-Z9E"
      },
      "source": [
        "new_data_covid.to_excel('/content/drive/My Drive/DVZ/date_covid_new.xlsx')"
      ],
      "execution_count": 132,
      "outputs": []
    },
    {
      "cell_type": "code",
      "metadata": {
        "colab": {
          "base_uri": "https://localhost:8080/",
          "height": 402
        },
        "id": "ImkIov5hk6RP",
        "outputId": "38d8cb6a-594f-48d4-9fac-3f3daf0123e8"
      },
      "source": [
        "new_data_covid"
      ],
      "execution_count": 133,
      "outputs": [
        {
          "output_type": "execute_result",
          "data": {
            "text/html": [
              "<div>\n",
              "<style scoped>\n",
              "    .dataframe tbody tr th:only-of-type {\n",
              "        vertical-align: middle;\n",
              "    }\n",
              "\n",
              "    .dataframe tbody tr th {\n",
              "        vertical-align: top;\n",
              "    }\n",
              "\n",
              "    .dataframe thead th {\n",
              "        text-align: right;\n",
              "    }\n",
              "</style>\n",
              "<table border=\"1\" class=\"dataframe\">\n",
              "  <thead>\n",
              "    <tr style=\"text-align: right;\">\n",
              "      <th></th>\n",
              "      <th>announce_date</th>\n",
              "      <th>Num_travel</th>\n",
              "      <th>Num_patient</th>\n",
              "      <th>month</th>\n",
              "    </tr>\n",
              "  </thead>\n",
              "  <tbody>\n",
              "    <tr>\n",
              "      <th>1</th>\n",
              "      <td>2020-01-01</td>\n",
              "      <td>2743864</td>\n",
              "      <td>NaN</td>\n",
              "      <td>1</td>\n",
              "    </tr>\n",
              "    <tr>\n",
              "      <th>2</th>\n",
              "      <td>2020-01-02</td>\n",
              "      <td>3370836</td>\n",
              "      <td>NaN</td>\n",
              "      <td>1</td>\n",
              "    </tr>\n",
              "    <tr>\n",
              "      <th>3</th>\n",
              "      <td>2020-01-03</td>\n",
              "      <td>3520819</td>\n",
              "      <td>NaN</td>\n",
              "      <td>1</td>\n",
              "    </tr>\n",
              "    <tr>\n",
              "      <th>4</th>\n",
              "      <td>2020-01-04</td>\n",
              "      <td>2975450</td>\n",
              "      <td>NaN</td>\n",
              "      <td>1</td>\n",
              "    </tr>\n",
              "    <tr>\n",
              "      <th>5</th>\n",
              "      <td>2020-01-05</td>\n",
              "      <td>2835519</td>\n",
              "      <td>NaN</td>\n",
              "      <td>1</td>\n",
              "    </tr>\n",
              "    <tr>\n",
              "      <th>...</th>\n",
              "      <td>...</td>\n",
              "      <td>...</td>\n",
              "      <td>...</td>\n",
              "      <td>...</td>\n",
              "    </tr>\n",
              "    <tr>\n",
              "      <th>478</th>\n",
              "      <td>2021-04-22</td>\n",
              "      <td>1175707</td>\n",
              "      <td>1470.0</td>\n",
              "      <td>4</td>\n",
              "    </tr>\n",
              "    <tr>\n",
              "      <th>479</th>\n",
              "      <td>2021-04-23</td>\n",
              "      <td>1180619</td>\n",
              "      <td>2070.0</td>\n",
              "      <td>4</td>\n",
              "    </tr>\n",
              "    <tr>\n",
              "      <th>480</th>\n",
              "      <td>2021-04-24</td>\n",
              "      <td>869281</td>\n",
              "      <td>2839.0</td>\n",
              "      <td>4</td>\n",
              "    </tr>\n",
              "    <tr>\n",
              "      <th>481</th>\n",
              "      <td>2021-04-25</td>\n",
              "      <td>708446</td>\n",
              "      <td>2438.0</td>\n",
              "      <td>4</td>\n",
              "    </tr>\n",
              "    <tr>\n",
              "      <th>482</th>\n",
              "      <td>2021-04-26</td>\n",
              "      <td>1066591</td>\n",
              "      <td>2048.0</td>\n",
              "      <td>4</td>\n",
              "    </tr>\n",
              "  </tbody>\n",
              "</table>\n",
              "<p>482 rows × 4 columns</p>\n",
              "</div>"
            ],
            "text/plain": [
              "    announce_date Num_travel  Num_patient  month\n",
              "1      2020-01-01    2743864          NaN      1\n",
              "2      2020-01-02    3370836          NaN      1\n",
              "3      2020-01-03    3520819          NaN      1\n",
              "4      2020-01-04    2975450          NaN      1\n",
              "5      2020-01-05    2835519          NaN      1\n",
              "..            ...        ...          ...    ...\n",
              "478    2021-04-22    1175707       1470.0      4\n",
              "479    2021-04-23    1180619       2070.0      4\n",
              "480    2021-04-24     869281       2839.0      4\n",
              "481    2021-04-25     708446       2438.0      4\n",
              "482    2021-04-26    1066591       2048.0      4\n",
              "\n",
              "[482 rows x 4 columns]"
            ]
          },
          "metadata": {
            "tags": []
          },
          "execution_count": 133
        }
      ]
    },
    {
      "cell_type": "code",
      "metadata": {
        "id": "VJCk-TOLlkqs"
      },
      "source": [
        ""
      ],
      "execution_count": 133,
      "outputs": []
    }
  ]
}