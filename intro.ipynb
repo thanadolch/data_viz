{
  "nbformat": 4,
  "nbformat_minor": 0,
  "metadata": {
    "colab": {
      "name": "intro.ipynb",
      "provenance": [],
      "authorship_tag": "ABX9TyN9WWQ6KPKf8fA44yMuBtPS",
      "include_colab_link": true
    },
    "kernelspec": {
      "name": "python3",
      "display_name": "Python 3"
    }
  },
  "cells": [
    {
      "cell_type": "markdown",
      "metadata": {
        "id": "view-in-github",
        "colab_type": "text"
      },
      "source": [
        "<a href=\"https://colab.research.google.com/github/thanadolch/data_viz/blob/main/intro.ipynb\" target=\"_parent\"><img src=\"https://colab.research.google.com/assets/colab-badge.svg\" alt=\"Open In Colab\"/></a>"
      ]
    },
    {
      "cell_type": "markdown",
      "metadata": {
        "id": "SgLuSX2iMcfA"
      },
      "source": [
        "###ธนดล ชัยเนตร 613020240-5"
      ]
    },
    {
      "cell_type": "markdown",
      "metadata": {
        "id": "K84bB4NxOr0U"
      },
      "source": [
        "ภาษา Markdown\r\n",
        "-#\r\n",
        "-~นาย~"
      ]
    },
    {
      "cell_type": "code",
      "metadata": {
        "colab": {
          "base_uri": "https://localhost:8080/"
        },
        "id": "FYJfOHuNLGTf",
        "outputId": "c7cc354c-67ce-4c6f-850b-a6a6066f030d"
      },
      "source": [
        "print('ธนดล')"
      ],
      "execution_count": 2,
      "outputs": [
        {
          "output_type": "stream",
          "text": [
            "ธนดล\n"
          ],
          "name": "stdout"
        }
      ]
    },
    {
      "cell_type": "code",
      "metadata": {
        "id": "JecpNqgUOwiN"
      },
      "source": [
        ""
      ],
      "execution_count": null,
      "outputs": []
    }
  ]
}