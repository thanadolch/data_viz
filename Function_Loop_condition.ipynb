{
  "nbformat": 4,
  "nbformat_minor": 0,
  "metadata": {
    "colab": {
      "name": "Untitled24.ipynb",
      "provenance": [],
      "authorship_tag": "ABX9TyMAhqRG+GV+wyNInY76yfzq",
      "include_colab_link": true
    },
    "kernelspec": {
      "name": "python3",
      "display_name": "Python 3"
    }
  },
  "cells": [
    {
      "cell_type": "markdown",
      "metadata": {
        "id": "view-in-github",
        "colab_type": "text"
      },
      "source": [
        "<a href=\"https://colab.research.google.com/github/thanadolch/data_viz/blob/main/Function_Loop_condition.ipynb\" target=\"_parent\"><img src=\"https://colab.research.google.com/assets/colab-badge.svg\" alt=\"Open In Colab\"/></a>"
      ]
    },
    {
      "cell_type": "markdown",
      "metadata": {
        "id": "pSh-wCzMhlBg"
      },
      "source": [
        ""
      ]
    },
    {
      "cell_type": "markdown",
      "metadata": {
        "id": "jj-0XD8FgyYL"
      },
      "source": [
        "Function"
      ]
    },
    {
      "cell_type": "markdown",
      "metadata": {
        "id": "oz2lR1v4g5IE"
      },
      "source": [
        "Function template\r\n",
        "ทำหน้าที่รับ input มาประมวลผลออกมาเป็น output\r\n",
        "f(x)=y"
      ]
    },
    {
      "cell_type": "markdown",
      "metadata": {
        "id": "RTOBum9fhJBC"
      },
      "source": [
        "def คือการกำหนดฟังก์ชัน"
      ]
    },
    {
      "cell_type": "markdown",
      "metadata": {
        "id": "Us4MRN5EhuHp"
      },
      "source": [
        "```\r\n",
        "def function_name(_input_) :\r\n",
        "    do_something with _input_to get _output_\r\n",
        "    return _output_\r\n",
        "```\r\n",
        "back tick (`) => กดค้าง, alt + 96<br>\r\n",
        "tilde (~)<br>\r\n",
        "curly bracket ({ })<br>\r\n",
        "square bracket ([ ])<br> \r\n",
        "\r\n"
      ]
    },
    {
      "cell_type": "markdown",
      "metadata": {
        "id": "SJP62NuykKIJ"
      },
      "source": [
        "ตัวอย่างการเขียน nornal function"
      ]
    },
    {
      "cell_type": "code",
      "metadata": {
        "id": "71gxgU3OflHB"
      },
      "source": [
        "def print_name(name1,surname1,ID1):\r\n",
        "    st = f'ชื่อ {name1} นามสกุล {surname1} รหัส {ID1}'\r\n",
        "    return st"
      ],
      "execution_count": 17,
      "outputs": []
    },
    {
      "cell_type": "code",
      "metadata": {
        "colab": {
          "base_uri": "https://localhost:8080/",
          "height": 35
        },
        "id": "E7j8SuZ5kru4",
        "outputId": "aab9fbab-566a-46c3-df9a-520483c039a0"
      },
      "source": [
        "print_name('ธนดล','ชัยเนตร','613020240-5')"
      ],
      "execution_count": 18,
      "outputs": [
        {
          "output_type": "execute_result",
          "data": {
            "application/vnd.google.colaboratory.intrinsic+json": {
              "type": "string"
            },
            "text/plain": [
              "'ชื่อ ธนดล นามสกุล ชัยเนตร รหัส 613020240-5'"
            ]
          },
          "metadata": {
            "tags": []
          },
          "execution_count": 18
        }
      ]
    },
    {
      "cell_type": "code",
      "metadata": {
        "colab": {
          "base_uri": "https://localhost:8080/"
        },
        "id": "vmfoE_oBlIdz",
        "outputId": "fc6d0f79-6d28-4ae7-864e-7105019183fc"
      },
      "source": [
        "print(print_name('ธนดล','ชัยเนตร','613020240-5'))"
      ],
      "execution_count": 19,
      "outputs": [
        {
          "output_type": "stream",
          "text": [
            "ชื่อ ธนดล นามสกุล ชัยเนตร รหัส 613020240-5\n"
          ],
          "name": "stdout"
        }
      ]
    },
    {
      "cell_type": "markdown",
      "metadata": {
        "id": "6Ct8K8eMpb0m"
      },
      "source": [
        "เว้นวรรคเพื่อบอกขอบเขตของโปรแกรม"
      ]
    },
    {
      "cell_type": "markdown",
      "metadata": {
        "id": "NKbbUW7Up4Uq"
      },
      "source": [
        "ฟังก์ชั้นไม่จำเป็นต้องมี output"
      ]
    },
    {
      "cell_type": "code",
      "metadata": {
        "id": "Fi1-iX7ClXr4"
      },
      "source": [
        "def print_name2(name1,surname1,ID1):\r\n",
        "    st = f'ชื่อ {name1} นามสกุล {surname1} รหัส {ID1}'\r\n",
        "    print(st)"
      ],
      "execution_count": 20,
      "outputs": []
    },
    {
      "cell_type": "code",
      "metadata": {
        "colab": {
          "base_uri": "https://localhost:8080/"
        },
        "id": "MN-VL_VYprhZ",
        "outputId": "ee056f26-acc8-4e8c-da58-c18c9966a1a7"
      },
      "source": [
        "print_name2('ธนดล','ชัยเนตร','613020240-5')"
      ],
      "execution_count": 21,
      "outputs": [
        {
          "output_type": "stream",
          "text": [
            "ชื่อ ธนดล นามสกุล ชัยเนตร รหัส 613020240-5\n"
          ],
          "name": "stdout"
        }
      ]
    },
    {
      "cell_type": "markdown",
      "metadata": {
        "id": "efbw8H04qSGD"
      },
      "source": [
        "ฟังก์ชันไม่จำเป็นต้องมีinput"
      ]
    },
    {
      "cell_type": "code",
      "metadata": {
        "id": "ZJveWQtbpzOw"
      },
      "source": [
        "def Pi(): \r\n",
        "    return 3.14159265359"
      ],
      "execution_count": 22,
      "outputs": []
    },
    {
      "cell_type": "code",
      "metadata": {
        "colab": {
          "base_uri": "https://localhost:8080/"
        },
        "id": "fwa5R5w3qrg6",
        "outputId": "1d52381c-f8ae-409c-e561-47c74f1bd99b"
      },
      "source": [
        "Pi()*(2**2) # หาพื้นที่ของวงกลมที่มีรัศมีเท่ากับ 2"
      ],
      "execution_count": 23,
      "outputs": [
        {
          "output_type": "execute_result",
          "data": {
            "text/plain": [
              "12.56637061436"
            ]
          },
          "metadata": {
            "tags": []
          },
          "execution_count": 23
        }
      ]
    },
    {
      "cell_type": "markdown",
      "metadata": {
        "id": "BT1Yj7PVrYSp"
      },
      "source": [
        "เราสามารถกำหนดค่า default ให้กับฟังก์ชันได้"
      ]
    },
    {
      "cell_type": "markdown",
      "metadata": {
        "id": "-y3xZ_LwxZR4"
      },
      "source": [
        "input ของ function ใน python มีสองแบบ input ที่จำเป็นต้องใส่ กับ input ที่ไม่จำเป็นต้องใส่(มีค่า default) เราต้องเรียง input ที่จำเป็นต้องใส่ขึ้นก่อน"
      ]
    },
    {
      "cell_type": "code",
      "metadata": {
        "id": "WUESqIDKqyWn"
      },
      "source": [
        "def print_2line(name,surname,ID,grade='F'):\r\n",
        "    st = f'ชื่อ {name} นามสกุล {surname} รหัส {ID}'\r\n",
        "    print (st)\r\n",
        "    st1 = f'Grade Data Viz >>> {grade}'\r\n",
        "    print (st1)"
      ],
      "execution_count": 24,
      "outputs": []
    },
    {
      "cell_type": "code",
      "metadata": {
        "colab": {
          "base_uri": "https://localhost:8080/"
        },
        "id": "nL2HTLFksc65",
        "outputId": "d3620b00-cbfa-42c2-a346-7b15a4096d61"
      },
      "source": [
        "print_2line('ธนดล','ชัยเนตร','613020240-5','A')"
      ],
      "execution_count": 25,
      "outputs": [
        {
          "output_type": "stream",
          "text": [
            "ชื่อ ธนดล นามสกุล ชัยเนตร รหัส 613020240-5\n",
            "Grade Data Viz >>> A\n"
          ],
          "name": "stdout"
        }
      ]
    },
    {
      "cell_type": "markdown",
      "metadata": {
        "id": "pVzMr8_G0ush"
      },
      "source": [
        "#Loop การวนซ้ำ"
      ]
    },
    {
      "cell_type": "markdown",
      "metadata": {
        "id": "MNxH13Yg0zfn"
      },
      "source": [
        "for เป็นคำสั่งที่ใช้บอก python ว่าเรากำลังเขียน loop โดย for จะดึงสมาชิก"
      ]
    },
    {
      "cell_type": "markdown",
      "metadata": {
        "id": "jfBwDpPI1Oxr"
      },
      "source": [
        "\r\n",
        "\r\n",
        "```\r\n",
        "for each_member in listA :\r\n",
        "    do_something\r\n",
        "```\r\n",
        "\r\n"
      ]
    },
    {
      "cell_type": "code",
      "metadata": {
        "colab": {
          "base_uri": "https://localhost:8080/"
        },
        "id": "iI1jJ_XDsliN",
        "outputId": "df17d183-34a5-4a9d-875e-67fc455d5458"
      },
      "source": [
        "for i in [1,2,3] :\r\n",
        "    o = i**2\r\n",
        "    print (f'this member = {i} after process = {o}')"
      ],
      "execution_count": 26,
      "outputs": [
        {
          "output_type": "stream",
          "text": [
            "this member = 1 after process = 1\n",
            "this member = 2 after process = 4\n",
            "this member = 3 after process = 9\n"
          ],
          "name": "stdout"
        }
      ]
    },
    {
      "cell_type": "markdown",
      "metadata": {
        "id": "mxypE2zeneC-"
      },
      "source": [
        "คำนวณระยะเวลาต่อไปนี้โดยใช้ function และ loop\r\n",
        "\r\n",
        "12:30:15\r\n",
        "\r\n",
        "13:41:07\r\n",
        "\r\n",
        "12:53:15\r\n",
        "\r\n",
        "00:59:25\r\n",
        "\r\n",
        "11:11:11\r\n",
        "\r\n",
        "16:06:09"
      ]
    },
    {
      "cell_type": "code",
      "metadata": {
        "id": "YrYDiOXN1MwV",
        "colab": {
          "base_uri": "https://localhost:8080/"
        },
        "outputId": "755c666e-38ed-4221-f9f2-f9029ace718a"
      },
      "source": [
        "one = '12:30:15'\r\n",
        "two = '13:41:07'\r\n",
        "three = '12:53:15'\r\n",
        "four = '00:59:25'\r\n",
        "five = '11:11:11'\r\n",
        "six = '16:06:09'\r\n",
        "list_g = []\r\n",
        "list_g.append(one)\r\n",
        "list_g.append(two)\r\n",
        "list_g.append(three)\r\n",
        "list_g.append(four)\r\n",
        "list_g.append(five)\r\n",
        "list_g.append(six)\r\n",
        "list_g"
      ],
      "execution_count": 27,
      "outputs": [
        {
          "output_type": "execute_result",
          "data": {
            "text/plain": [
              "['12:30:15', '13:41:07', '12:53:15', '00:59:25', '11:11:11', '16:06:09']"
            ]
          },
          "metadata": {
            "tags": []
          },
          "execution_count": 27
        }
      ]
    },
    {
      "cell_type": "code",
      "metadata": {
        "id": "Yl6GCfkmnt2y",
        "colab": {
          "base_uri": "https://localhost:8080/"
        },
        "outputId": "d093294a-cf4e-4819-e115-a442d9fb181e"
      },
      "source": [
        "for i in list_g:\r\n",
        "    DT = i.split(':')\r\n",
        "    onep = int(DT[0])*3600\r\n",
        "    oneo = int(DT[1])*60\r\n",
        "    oney = int(DT[2])\r\n",
        "    intri = onep+oneo+oney\r\n",
        "    print(intri)"
      ],
      "execution_count": 51,
      "outputs": [
        {
          "output_type": "stream",
          "text": [
            "45015\n",
            "49267\n",
            "46395\n",
            "3565\n",
            "40271\n",
            "57969\n"
          ],
          "name": "stdout"
        }
      ]
    },
    {
      "cell_type": "code",
      "metadata": {
        "id": "C-mYC4sEfTpl"
      },
      "source": [
        "def yui(i):\r\n",
        "    DT = i.split(':')\r\n",
        "    onep = int(DT[0])*3600\r\n",
        "    oneo = int(DT[1])*60\r\n",
        "    oney = int(DT[2])\r\n",
        "    intri = onep+oneo+oney\r\n",
        "    return intri"
      ],
      "execution_count": 62,
      "outputs": []
    },
    {
      "cell_type": "code",
      "metadata": {
        "id": "VG9LxxVhfih6",
        "outputId": "40f7b06f-346b-4484-bd6a-1d51783270c0",
        "colab": {
          "base_uri": "https://localhost:8080/"
        }
      },
      "source": [
        "for i in list_g:\r\n",
        "    print(yui(i))"
      ],
      "execution_count": 63,
      "outputs": [
        {
          "output_type": "stream",
          "text": [
            "45015\n",
            "49267\n",
            "46395\n",
            "3565\n",
            "40271\n",
            "57969\n"
          ],
          "name": "stdout"
        }
      ]
    },
    {
      "cell_type": "code",
      "metadata": {
        "id": "7bqU1gPvn1XV",
        "outputId": "a9851951-9cf6-4d28-b33b-5333129b460a",
        "colab": {
          "base_uri": "https://localhost:8080/"
        }
      },
      "source": [
        "for i in 'thanadol':\r\n",
        "    print(f'{i}->/' ,end = '') "
      ],
      "execution_count": 31,
      "outputs": [
        {
          "output_type": "stream",
          "text": [
            "t->/h->/a->/n->/a->/d->/o->/l->/"
          ],
          "name": "stdout"
        }
      ]
    },
    {
      "cell_type": "code",
      "metadata": {
        "id": "8wexsRoxWx91"
      },
      "source": [
        "range5_output = range(5)"
      ],
      "execution_count": 36,
      "outputs": []
    },
    {
      "cell_type": "code",
      "metadata": {
        "id": "gg5mB19VXyCm",
        "outputId": "c61fa65d-c89f-44cb-a9c8-3c15a5a4a7b9",
        "colab": {
          "base_uri": "https://localhost:8080/"
        }
      },
      "source": [
        "print(range5_output)"
      ],
      "execution_count": 41,
      "outputs": [
        {
          "output_type": "stream",
          "text": [
            "range(0, 5)\n"
          ],
          "name": "stdout"
        }
      ]
    },
    {
      "cell_type": "code",
      "metadata": {
        "id": "VGlps2eAYlse",
        "outputId": "6a2417d8-5a58-4734-a2f0-b79e122ae064",
        "colab": {
          "base_uri": "https://localhost:8080/"
        }
      },
      "source": [
        "for i in range(100):\r\n",
        "    print('งง',end=' ')"
      ],
      "execution_count": 46,
      "outputs": [
        {
          "output_type": "stream",
          "text": [
            "งง งง งง งง งง งง งง งง งง งง งง งง งง งง งง งง งง งง งง งง งง งง งง งง งง งง งง งง งง งง งง งง งง งง งง งง งง งง งง งง งง งง งง งง งง งง งง งง งง งง งง งง งง งง งง งง งง งง งง งง งง งง งง งง งง งง งง งง งง งง งง งง งง งง งง งง งง งง งง งง งง งง งง งง งง งง งง งง งง งง งง งง งง งง งง งง งง งง งง งง "
          ],
          "name": "stdout"
        }
      ]
    },
    {
      "cell_type": "code",
      "metadata": {
        "id": "_uefq_RVZDT1",
        "outputId": "d23c81db-d7c4-4fb8-dd65-2eccde1fbd06",
        "colab": {
          "base_uri": "https://localhost:8080/"
        }
      },
      "source": [
        "list(range(1,11))"
      ],
      "execution_count": 47,
      "outputs": [
        {
          "output_type": "execute_result",
          "data": {
            "text/plain": [
              "[1, 2, 3, 4, 5, 6, 7, 8, 9, 10]"
            ]
          },
          "metadata": {
            "tags": []
          },
          "execution_count": 47
        }
      ]
    },
    {
      "cell_type": "code",
      "metadata": {
        "id": "ocEfqhlWZMqg",
        "outputId": "fcf76755-9d2e-42e4-c11d-4bd42b6f5140",
        "colab": {
          "base_uri": "https://localhost:8080/"
        }
      },
      "source": [
        "list(range(-3,30,4))"
      ],
      "execution_count": 53,
      "outputs": [
        {
          "output_type": "execute_result",
          "data": {
            "text/plain": [
              "[-3, 1, 5, 9, 13, 17, 21, 25, 29]"
            ]
          },
          "metadata": {
            "tags": []
          },
          "execution_count": 53
        }
      ]
    },
    {
      "cell_type": "code",
      "metadata": {
        "id": "BZH7vXbjcnZV",
        "outputId": "c518eae1-1ab0-48f2-d546-da9816bc3e93",
        "colab": {
          "base_uri": "https://localhost:8080/"
        }
      },
      "source": [
        "for i in range(2,5):\r\n",
        "    for j in range(1,13):\r\n",
        "        print(i ,'x', j, '=' ,i*j)"
      ],
      "execution_count": 55,
      "outputs": [
        {
          "output_type": "stream",
          "text": [
            "2 x 1 = 2\n",
            "2 x 2 = 4\n",
            "2 x 3 = 6\n",
            "2 x 4 = 8\n",
            "2 x 5 = 10\n",
            "2 x 6 = 12\n",
            "2 x 7 = 14\n",
            "2 x 8 = 16\n",
            "2 x 9 = 18\n",
            "2 x 10 = 20\n",
            "2 x 11 = 22\n",
            "2 x 12 = 24\n",
            "3 x 1 = 3\n",
            "3 x 2 = 6\n",
            "3 x 3 = 9\n",
            "3 x 4 = 12\n",
            "3 x 5 = 15\n",
            "3 x 6 = 18\n",
            "3 x 7 = 21\n",
            "3 x 8 = 24\n",
            "3 x 9 = 27\n",
            "3 x 10 = 30\n",
            "3 x 11 = 33\n",
            "3 x 12 = 36\n",
            "4 x 1 = 4\n",
            "4 x 2 = 8\n",
            "4 x 3 = 12\n",
            "4 x 4 = 16\n",
            "4 x 5 = 20\n",
            "4 x 6 = 24\n",
            "4 x 7 = 28\n",
            "4 x 8 = 32\n",
            "4 x 9 = 36\n",
            "4 x 10 = 40\n",
            "4 x 11 = 44\n",
            "4 x 12 = 48\n"
          ],
          "name": "stdout"
        }
      ]
    },
    {
      "cell_type": "code",
      "metadata": {
        "id": "htidbSWLd0O8"
      },
      "source": [
        "def print_feeling(I,friends,feeling='คิดถึง'):\r\n",
        "    for friend in friends:\r\n",
        "        print(f'{I} {feeling} {friend}')"
      ],
      "execution_count": 64,
      "outputs": []
    },
    {
      "cell_type": "code",
      "metadata": {
        "id": "rYjq_tLai16z"
      },
      "source": [
        "list_friend = ['สมหญิง','สมชาย','สมทรง','สมหวัง','สมใจ']"
      ],
      "execution_count": 65,
      "outputs": []
    },
    {
      "cell_type": "code",
      "metadata": {
        "id": "UlOmiF_cjPyV",
        "outputId": "dfd5b2fc-b7c4-4158-b77d-9434e3bf6a65",
        "colab": {
          "base_uri": "https://localhost:8080/"
        }
      },
      "source": [
        "print_feeling('สมศักดิ์',list_friend)"
      ],
      "execution_count": 66,
      "outputs": [
        {
          "output_type": "stream",
          "text": [
            "สมศักดิ์ คิดถึง สมหญิง\n",
            "สมศักดิ์ คิดถึง สมชาย\n",
            "สมศักดิ์ คิดถึง สมทรง\n",
            "สมศักดิ์ คิดถึง สมหวัง\n",
            "สมศักดิ์ คิดถึง สมใจ\n"
          ],
          "name": "stdout"
        }
      ]
    },
    {
      "cell_type": "code",
      "metadata": {
        "id": "xFy8hzR3jl0M",
        "outputId": "fdffcb93-374f-4ea0-f179-b4a6f3c53f97",
        "colab": {
          "base_uri": "https://localhost:8080/"
        }
      },
      "source": [
        "for i in list_friend:\r\n",
        "    for j in list_friend:\r\n",
        "        if i != j:#ไม่ปริ้นชื่อเเดียวกันซ้ำ\r\n",
        "            print(f'{i} รัก {j}')"
      ],
      "execution_count": 68,
      "outputs": [
        {
          "output_type": "stream",
          "text": [
            "สมหญิง รัก สมชาย\n",
            "สมหญิง รัก สมทรง\n",
            "สมหญิง รัก สมหวัง\n",
            "สมหญิง รัก สมใจ\n",
            "สมชาย รัก สมหญิง\n",
            "สมชาย รัก สมทรง\n",
            "สมชาย รัก สมหวัง\n",
            "สมชาย รัก สมใจ\n",
            "สมทรง รัก สมหญิง\n",
            "สมทรง รัก สมชาย\n",
            "สมทรง รัก สมหวัง\n",
            "สมทรง รัก สมใจ\n",
            "สมหวัง รัก สมหญิง\n",
            "สมหวัง รัก สมชาย\n",
            "สมหวัง รัก สมทรง\n",
            "สมหวัง รัก สมใจ\n",
            "สมใจ รัก สมหญิง\n",
            "สมใจ รัก สมชาย\n",
            "สมใจ รัก สมทรง\n",
            "สมใจ รัก สมหวัง\n"
          ],
          "name": "stdout"
        }
      ]
    },
    {
      "cell_type": "code",
      "metadata": {
        "id": "rTLPfLgqjjVw",
        "outputId": "a1d70254-cd4f-4fcc-9833-db861347c11a",
        "colab": {
          "base_uri": "https://localhost:8080/"
        }
      },
      "source": [
        "for i in list_friend:\r\n",
        "    for j in list_friend:\r\n",
        "        if i == j:\r\n",
        "            'do nothing'\r\n",
        "        else:\r\n",
        "            print(f'{i} รัก {j}')"
      ],
      "execution_count": 69,
      "outputs": [
        {
          "output_type": "stream",
          "text": [
            "สมหญิง รัก สมชาย\n",
            "สมหญิง รัก สมทรง\n",
            "สมหญิง รัก สมหวัง\n",
            "สมหญิง รัก สมใจ\n",
            "สมชาย รัก สมหญิง\n",
            "สมชาย รัก สมทรง\n",
            "สมชาย รัก สมหวัง\n",
            "สมชาย รัก สมใจ\n",
            "สมทรง รัก สมหญิง\n",
            "สมทรง รัก สมชาย\n",
            "สมทรง รัก สมหวัง\n",
            "สมทรง รัก สมใจ\n",
            "สมหวัง รัก สมหญิง\n",
            "สมหวัง รัก สมชาย\n",
            "สมหวัง รัก สมทรง\n",
            "สมหวัง รัก สมใจ\n",
            "สมใจ รัก สมหญิง\n",
            "สมใจ รัก สมชาย\n",
            "สมใจ รัก สมทรง\n",
            "สมใจ รัก สมหวัง\n"
          ],
          "name": "stdout"
        }
      ]
    },
    {
      "cell_type": "code",
      "metadata": {
        "id": "dsQUydarmjy3"
      },
      "source": [
        ""
      ],
      "execution_count": null,
      "outputs": []
    }
  ]
}