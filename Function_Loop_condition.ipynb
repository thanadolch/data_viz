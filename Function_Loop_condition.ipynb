{
  "nbformat": 4,
  "nbformat_minor": 0,
  "metadata": {
    "colab": {
      "name": "Untitled24.ipynb",
      "provenance": [],
      "authorship_tag": "ABX9TyNFkiYTbChaVI1Qd32JPzAE",
      "include_colab_link": true
    },
    "kernelspec": {
      "name": "python3",
      "display_name": "Python 3"
    }
  },
  "cells": [
    {
      "cell_type": "markdown",
      "metadata": {
        "id": "view-in-github",
        "colab_type": "text"
      },
      "source": [
        "<a href=\"https://colab.research.google.com/github/thanadolch/data_viz/blob/main/Function_Loop_condition.ipynb\" target=\"_parent\"><img src=\"https://colab.research.google.com/assets/colab-badge.svg\" alt=\"Open In Colab\"/></a>"
      ]
    },
    {
      "cell_type": "markdown",
      "metadata": {
        "id": "pSh-wCzMhlBg"
      },
      "source": [
        ""
      ]
    },
    {
      "cell_type": "markdown",
      "metadata": {
        "id": "jj-0XD8FgyYL"
      },
      "source": [
        "Function"
      ]
    },
    {
      "cell_type": "markdown",
      "metadata": {
        "id": "oz2lR1v4g5IE"
      },
      "source": [
        "Function template\r\n",
        "ทำหน้าที่รับ input มาประมวลผลออกมาเป็น output\r\n",
        "f(x)=y"
      ]
    },
    {
      "cell_type": "markdown",
      "metadata": {
        "id": "RTOBum9fhJBC"
      },
      "source": [
        "def คือการกำหนดฟังก์ชัน"
      ]
    },
    {
      "cell_type": "markdown",
      "metadata": {
        "id": "Us4MRN5EhuHp"
      },
      "source": [
        "```\r\n",
        "def function_name(_input_) :\r\n",
        "    do_something with _input_to get _output_\r\n",
        "    return _output_\r\n",
        "```\r\n",
        "back tick (`) => กดค้าง, alt + 96<br>\r\n",
        "tilde (~)<br>\r\n",
        "curly bracket ({ })<br>\r\n",
        "square bracket ([ ])<br> \r\n",
        "\r\n"
      ]
    },
    {
      "cell_type": "markdown",
      "metadata": {
        "id": "SJP62NuykKIJ"
      },
      "source": [
        "ตัวอย่างการเขียน nornal function"
      ]
    },
    {
      "cell_type": "code",
      "metadata": {
        "id": "71gxgU3OflHB"
      },
      "source": [
        "def print_name(name1,surname1,ID1):\r\n",
        "    st = f'ชื่อ {name1} นามสกุล {surname1} รหัส {ID1}'\r\n",
        "    return st"
      ],
      "execution_count": 1,
      "outputs": []
    },
    {
      "cell_type": "code",
      "metadata": {
        "colab": {
          "base_uri": "https://localhost:8080/",
          "height": 35
        },
        "id": "E7j8SuZ5kru4",
        "outputId": "fc6926b9-e8d4-47bb-90d7-40d91c8ad6ca"
      },
      "source": [
        "print_name('ธนดล','ชัยเนตร','613020240-5')"
      ],
      "execution_count": 2,
      "outputs": [
        {
          "output_type": "execute_result",
          "data": {
            "application/vnd.google.colaboratory.intrinsic+json": {
              "type": "string"
            },
            "text/plain": [
              "'ชื่อ ธนดล นามสกุล ชัยเนตร รหัส 613020240-5'"
            ]
          },
          "metadata": {
            "tags": []
          },
          "execution_count": 2
        }
      ]
    },
    {
      "cell_type": "code",
      "metadata": {
        "colab": {
          "base_uri": "https://localhost:8080/"
        },
        "id": "vmfoE_oBlIdz",
        "outputId": "44b90fb3-aa31-4118-cd45-145595e8ef09"
      },
      "source": [
        "print(print_name('ธนดล','ชัยเนตร','613020240-5'))"
      ],
      "execution_count": 3,
      "outputs": [
        {
          "output_type": "stream",
          "text": [
            "ชื่อ ธนดล นามสกุล ชัยเนตร รหัส 613020240-5\n"
          ],
          "name": "stdout"
        }
      ]
    },
    {
      "cell_type": "markdown",
      "metadata": {
        "id": "6Ct8K8eMpb0m"
      },
      "source": [
        "เว้นวรรคเพื่อบอกขอบเขตของโปรแกรม"
      ]
    },
    {
      "cell_type": "markdown",
      "metadata": {
        "id": "NKbbUW7Up4Uq"
      },
      "source": [
        "ฟังก์ชั้นไม่จำเป็นต้องมี output"
      ]
    },
    {
      "cell_type": "code",
      "metadata": {
        "id": "Fi1-iX7ClXr4"
      },
      "source": [
        "def print_name2(name1,surname1,ID1):\r\n",
        "    st = f'ชื่อ {name1} นามสกุล {surname1} รหัส {ID1}'\r\n",
        "    print(st)"
      ],
      "execution_count": 4,
      "outputs": []
    },
    {
      "cell_type": "code",
      "metadata": {
        "colab": {
          "base_uri": "https://localhost:8080/"
        },
        "id": "MN-VL_VYprhZ",
        "outputId": "a3de3deb-0831-4473-a39f-67ec77946e89"
      },
      "source": [
        "print_name2('ธนดล','ชัยเนตร','613020240-5')"
      ],
      "execution_count": 5,
      "outputs": [
        {
          "output_type": "stream",
          "text": [
            "ชื่อ ธนดล นามสกุล ชัยเนตร รหัส 613020240-5\n"
          ],
          "name": "stdout"
        }
      ]
    },
    {
      "cell_type": "markdown",
      "metadata": {
        "id": "efbw8H04qSGD"
      },
      "source": [
        "ฟังก์ชันไม่จำเป็นต้องมีinput"
      ]
    },
    {
      "cell_type": "code",
      "metadata": {
        "id": "ZJveWQtbpzOw"
      },
      "source": [
        "def Pi(): \r\n",
        "    return 3.14159265359"
      ],
      "execution_count": 6,
      "outputs": []
    },
    {
      "cell_type": "code",
      "metadata": {
        "colab": {
          "base_uri": "https://localhost:8080/"
        },
        "id": "fwa5R5w3qrg6",
        "outputId": "4c33d95a-40ab-4d29-dcb9-a02e803e373c"
      },
      "source": [
        "Pi()*(2**2) # หาพื้นที่ของวงกลมที่มีรัศมีเท่ากับ 2"
      ],
      "execution_count": 7,
      "outputs": [
        {
          "output_type": "execute_result",
          "data": {
            "text/plain": [
              "12.56637061436"
            ]
          },
          "metadata": {
            "tags": []
          },
          "execution_count": 7
        }
      ]
    },
    {
      "cell_type": "markdown",
      "metadata": {
        "id": "BT1Yj7PVrYSp"
      },
      "source": [
        "เราสามารถกำหนดค่า default ให้กับฟังก์ชันได้"
      ]
    },
    {
      "cell_type": "markdown",
      "metadata": {
        "id": "-y3xZ_LwxZR4"
      },
      "source": [
        "input ของ function ใน python มีสองแบบ input ที่จำเป็นต้องใส่ กับ input ที่ไม่จำเป็นต้องใส่(มีค่า default) เราต้องเรียง input ที่จำเป็นต้องใส่ขึ้นก่อน"
      ]
    },
    {
      "cell_type": "code",
      "metadata": {
        "id": "WUESqIDKqyWn"
      },
      "source": [
        "def print_2line(name,surname,ID,grade='F'):\r\n",
        "    st = f'ชื่อ {name} นามสกุล {surname} รหัส {ID}'\r\n",
        "    print (st)\r\n",
        "    st1 = f'Grade Data Viz >>> {grade}'\r\n",
        "    print (st1)"
      ],
      "execution_count": 8,
      "outputs": []
    },
    {
      "cell_type": "code",
      "metadata": {
        "colab": {
          "base_uri": "https://localhost:8080/"
        },
        "id": "nL2HTLFksc65",
        "outputId": "6ecd08c0-d5af-41a4-d8ae-e62116086c56"
      },
      "source": [
        "print_2line('ธนดล','ชัยเนตร','613020240-5','A')"
      ],
      "execution_count": 9,
      "outputs": [
        {
          "output_type": "stream",
          "text": [
            "ชื่อ ธนดล นามสกุล ชัยเนตร รหัส 613020240-5\n",
            "Grade Data Viz >>> A\n"
          ],
          "name": "stdout"
        }
      ]
    },
    {
      "cell_type": "markdown",
      "metadata": {
        "id": "pVzMr8_G0ush"
      },
      "source": [
        "#Loop การวนซ้ำ"
      ]
    },
    {
      "cell_type": "markdown",
      "metadata": {
        "id": "MNxH13Yg0zfn"
      },
      "source": [
        "for เป็นคำสั่งที่ใช้บอก python ว่าเรากำลังเขียน loop โดย for จะดึงสมาชิก"
      ]
    },
    {
      "cell_type": "markdown",
      "metadata": {
        "id": "jfBwDpPI1Oxr"
      },
      "source": [
        "\r\n",
        "\r\n",
        "```\r\n",
        "for each_member in listA :\r\n",
        "    do_something\r\n",
        "```\r\n",
        "\r\n"
      ]
    },
    {
      "cell_type": "code",
      "metadata": {
        "colab": {
          "base_uri": "https://localhost:8080/"
        },
        "id": "iI1jJ_XDsliN",
        "outputId": "3f312e91-6dba-4d49-e4e1-92a18df77ffd"
      },
      "source": [
        "for i in [1,2,3] :\r\n",
        "    o = i**2\r\n",
        "    print (f'this member = {i} after process = {o}')"
      ],
      "execution_count": 10,
      "outputs": [
        {
          "output_type": "stream",
          "text": [
            "this member = 1 after process = 1\n",
            "this member = 2 after process = 4\n",
            "this member = 3 after process = 9\n"
          ],
          "name": "stdout"
        }
      ]
    },
    {
      "cell_type": "markdown",
      "metadata": {
        "id": "mxypE2zeneC-"
      },
      "source": [
        "คำนวณระยะเวลาต่อไปนี้โดยใช้ function และ loop\r\n",
        "\r\n",
        "12:30:15\r\n",
        "\r\n",
        "13:41:07\r\n",
        "\r\n",
        "12:53:15\r\n",
        "\r\n",
        "00:59:25\r\n",
        "\r\n",
        "11:11:11\r\n",
        "\r\n",
        "16:06:09"
      ]
    },
    {
      "cell_type": "code",
      "metadata": {
        "id": "YrYDiOXN1MwV",
        "colab": {
          "base_uri": "https://localhost:8080/"
        },
        "outputId": "6f1f16f8-3015-47f6-9be4-7ce6653ab935"
      },
      "source": [
        "one = '12:30:15'\r\n",
        "two = '13:41:07'\r\n",
        "three = '12:53:15'\r\n",
        "four = '00:59:25'\r\n",
        "five = '11:11:11'\r\n",
        "six = '16:06:09'\r\n",
        "list_g = []\r\n",
        "list_g.append(one)\r\n",
        "list_g.append(two)\r\n",
        "list_g.append(three)\r\n",
        "list_g.append(four)\r\n",
        "list_g.append(five)\r\n",
        "list_g.append(six)\r\n",
        "list_g"
      ],
      "execution_count": 11,
      "outputs": [
        {
          "output_type": "execute_result",
          "data": {
            "text/plain": [
              "['12:30:15', '13:41:07', '12:53:15', '00:59:25', '11:11:11', '16:06:09']"
            ]
          },
          "metadata": {
            "tags": []
          },
          "execution_count": 11
        }
      ]
    },
    {
      "cell_type": "code",
      "metadata": {
        "id": "Yl6GCfkmnt2y",
        "colab": {
          "base_uri": "https://localhost:8080/"
        },
        "outputId": "98377b46-30fe-42d3-ef31-6d74f83d500d"
      },
      "source": [
        "for i in list_g:\r\n",
        "    DT = i.split(':')\r\n",
        "    onep = int(DT[0])*3600\r\n",
        "    oneo = int(DT[1])*60\r\n",
        "    oney = int(DT[2])\r\n",
        "    intri = onep+oneo+oney\r\n",
        "    print(intri)"
      ],
      "execution_count": 12,
      "outputs": [
        {
          "output_type": "stream",
          "text": [
            "45015\n",
            "49267\n",
            "46395\n",
            "3565\n",
            "40271\n",
            "57969\n"
          ],
          "name": "stdout"
        }
      ]
    },
    {
      "cell_type": "code",
      "metadata": {
        "id": "C-mYC4sEfTpl"
      },
      "source": [
        "def yui(i):\r\n",
        "    DT = i.split(':')\r\n",
        "    onep = int(DT[0])*3600\r\n",
        "    oneo = int(DT[1])*60\r\n",
        "    oney = int(DT[2])\r\n",
        "    intri = onep+oneo+oney\r\n",
        "    return intri"
      ],
      "execution_count": 13,
      "outputs": []
    },
    {
      "cell_type": "code",
      "metadata": {
        "id": "VG9LxxVhfih6",
        "colab": {
          "base_uri": "https://localhost:8080/"
        },
        "outputId": "e82c448f-247b-4ce8-af87-0de8cce5e75b"
      },
      "source": [
        "for i in list_g:\r\n",
        "    print(yui(i))"
      ],
      "execution_count": 14,
      "outputs": [
        {
          "output_type": "stream",
          "text": [
            "45015\n",
            "49267\n",
            "46395\n",
            "3565\n",
            "40271\n",
            "57969\n"
          ],
          "name": "stdout"
        }
      ]
    },
    {
      "cell_type": "code",
      "metadata": {
        "id": "7bqU1gPvn1XV",
        "colab": {
          "base_uri": "https://localhost:8080/"
        },
        "outputId": "ac891d6b-3760-4dd0-9017-ac553685d2f0"
      },
      "source": [
        "for i in 'thanadol':\r\n",
        "    print(f'{i}->/' ,end = '') "
      ],
      "execution_count": 15,
      "outputs": [
        {
          "output_type": "stream",
          "text": [
            "t->/h->/a->/n->/a->/d->/o->/l->/"
          ],
          "name": "stdout"
        }
      ]
    },
    {
      "cell_type": "code",
      "metadata": {
        "id": "8wexsRoxWx91"
      },
      "source": [
        "range5_output = range(5)"
      ],
      "execution_count": 16,
      "outputs": []
    },
    {
      "cell_type": "code",
      "metadata": {
        "id": "gg5mB19VXyCm",
        "colab": {
          "base_uri": "https://localhost:8080/"
        },
        "outputId": "e185207b-3719-4d6c-ffb5-aa72e5fc19bc"
      },
      "source": [
        "print(range5_output)"
      ],
      "execution_count": 17,
      "outputs": [
        {
          "output_type": "stream",
          "text": [
            "range(0, 5)\n"
          ],
          "name": "stdout"
        }
      ]
    },
    {
      "cell_type": "code",
      "metadata": {
        "id": "VGlps2eAYlse",
        "colab": {
          "base_uri": "https://localhost:8080/"
        },
        "outputId": "90585cf3-8ee5-4320-bbac-a23d27f3bb4f"
      },
      "source": [
        "for i in range(100):\r\n",
        "    print('งง',end=' ')"
      ],
      "execution_count": 18,
      "outputs": [
        {
          "output_type": "stream",
          "text": [
            "งง งง งง งง งง งง งง งง งง งง งง งง งง งง งง งง งง งง งง งง งง งง งง งง งง งง งง งง งง งง งง งง งง งง งง งง งง งง งง งง งง งง งง งง งง งง งง งง งง งง งง งง งง งง งง งง งง งง งง งง งง งง งง งง งง งง งง งง งง งง งง งง งง งง งง งง งง งง งง งง งง งง งง งง งง งง งง งง งง งง งง งง งง งง งง งง งง งง งง งง "
          ],
          "name": "stdout"
        }
      ]
    },
    {
      "cell_type": "code",
      "metadata": {
        "id": "_uefq_RVZDT1",
        "colab": {
          "base_uri": "https://localhost:8080/"
        },
        "outputId": "64f3e398-d381-4c4d-9f5f-87a357bedaf2"
      },
      "source": [
        "list(range(1,11))"
      ],
      "execution_count": 19,
      "outputs": [
        {
          "output_type": "execute_result",
          "data": {
            "text/plain": [
              "[1, 2, 3, 4, 5, 6, 7, 8, 9, 10]"
            ]
          },
          "metadata": {
            "tags": []
          },
          "execution_count": 19
        }
      ]
    },
    {
      "cell_type": "code",
      "metadata": {
        "id": "ocEfqhlWZMqg",
        "colab": {
          "base_uri": "https://localhost:8080/"
        },
        "outputId": "d862f4cd-1ee4-4ed4-d7c5-0c5a2a817098"
      },
      "source": [
        "list(range(-3,30,4))"
      ],
      "execution_count": 20,
      "outputs": [
        {
          "output_type": "execute_result",
          "data": {
            "text/plain": [
              "[-3, 1, 5, 9, 13, 17, 21, 25, 29]"
            ]
          },
          "metadata": {
            "tags": []
          },
          "execution_count": 20
        }
      ]
    },
    {
      "cell_type": "code",
      "metadata": {
        "id": "BZH7vXbjcnZV",
        "colab": {
          "base_uri": "https://localhost:8080/"
        },
        "outputId": "7e11ff12-4929-4476-9e50-f86b24161d91"
      },
      "source": [
        "for i in range(2,5):\r\n",
        "    for j in range(1,13):\r\n",
        "        print(i ,'x', j, '=' ,i*j)"
      ],
      "execution_count": 21,
      "outputs": [
        {
          "output_type": "stream",
          "text": [
            "2 x 1 = 2\n",
            "2 x 2 = 4\n",
            "2 x 3 = 6\n",
            "2 x 4 = 8\n",
            "2 x 5 = 10\n",
            "2 x 6 = 12\n",
            "2 x 7 = 14\n",
            "2 x 8 = 16\n",
            "2 x 9 = 18\n",
            "2 x 10 = 20\n",
            "2 x 11 = 22\n",
            "2 x 12 = 24\n",
            "3 x 1 = 3\n",
            "3 x 2 = 6\n",
            "3 x 3 = 9\n",
            "3 x 4 = 12\n",
            "3 x 5 = 15\n",
            "3 x 6 = 18\n",
            "3 x 7 = 21\n",
            "3 x 8 = 24\n",
            "3 x 9 = 27\n",
            "3 x 10 = 30\n",
            "3 x 11 = 33\n",
            "3 x 12 = 36\n",
            "4 x 1 = 4\n",
            "4 x 2 = 8\n",
            "4 x 3 = 12\n",
            "4 x 4 = 16\n",
            "4 x 5 = 20\n",
            "4 x 6 = 24\n",
            "4 x 7 = 28\n",
            "4 x 8 = 32\n",
            "4 x 9 = 36\n",
            "4 x 10 = 40\n",
            "4 x 11 = 44\n",
            "4 x 12 = 48\n"
          ],
          "name": "stdout"
        }
      ]
    },
    {
      "cell_type": "code",
      "metadata": {
        "id": "htidbSWLd0O8"
      },
      "source": [
        "def print_feeling(I,friends,feeling='คิดถึง'):\r\n",
        "    for friend in friends:\r\n",
        "        print(f'{I} {feeling} {friend}')"
      ],
      "execution_count": 22,
      "outputs": []
    },
    {
      "cell_type": "code",
      "metadata": {
        "id": "rYjq_tLai16z"
      },
      "source": [
        "list_friend = ['สมหญิง','สมชาย','สมทรง','สมหวัง','สมใจ']"
      ],
      "execution_count": 23,
      "outputs": []
    },
    {
      "cell_type": "code",
      "metadata": {
        "id": "UlOmiF_cjPyV",
        "colab": {
          "base_uri": "https://localhost:8080/"
        },
        "outputId": "c21f2f0e-e2a9-4b2e-da6f-8c9805795116"
      },
      "source": [
        "print_feeling('สมศักดิ์',list_friend)"
      ],
      "execution_count": 24,
      "outputs": [
        {
          "output_type": "stream",
          "text": [
            "สมศักดิ์ คิดถึง สมหญิง\n",
            "สมศักดิ์ คิดถึง สมชาย\n",
            "สมศักดิ์ คิดถึง สมทรง\n",
            "สมศักดิ์ คิดถึง สมหวัง\n",
            "สมศักดิ์ คิดถึง สมใจ\n"
          ],
          "name": "stdout"
        }
      ]
    },
    {
      "cell_type": "code",
      "metadata": {
        "id": "xFy8hzR3jl0M",
        "colab": {
          "base_uri": "https://localhost:8080/"
        },
        "outputId": "ee00e122-c4d9-4ebe-9eb5-57cb65e3256e"
      },
      "source": [
        "for i in list_friend:\r\n",
        "    for j in list_friend:\r\n",
        "        if i != j:#ไม่ปริ้นชื่อเเดียวกันซ้ำ\r\n",
        "            print(f'{i} รัก {j}')"
      ],
      "execution_count": 25,
      "outputs": [
        {
          "output_type": "stream",
          "text": [
            "สมหญิง รัก สมชาย\n",
            "สมหญิง รัก สมทรง\n",
            "สมหญิง รัก สมหวัง\n",
            "สมหญิง รัก สมใจ\n",
            "สมชาย รัก สมหญิง\n",
            "สมชาย รัก สมทรง\n",
            "สมชาย รัก สมหวัง\n",
            "สมชาย รัก สมใจ\n",
            "สมทรง รัก สมหญิง\n",
            "สมทรง รัก สมชาย\n",
            "สมทรง รัก สมหวัง\n",
            "สมทรง รัก สมใจ\n",
            "สมหวัง รัก สมหญิง\n",
            "สมหวัง รัก สมชาย\n",
            "สมหวัง รัก สมทรง\n",
            "สมหวัง รัก สมใจ\n",
            "สมใจ รัก สมหญิง\n",
            "สมใจ รัก สมชาย\n",
            "สมใจ รัก สมทรง\n",
            "สมใจ รัก สมหวัง\n"
          ],
          "name": "stdout"
        }
      ]
    },
    {
      "cell_type": "code",
      "metadata": {
        "id": "rTLPfLgqjjVw",
        "colab": {
          "base_uri": "https://localhost:8080/"
        },
        "outputId": "8943704c-5df7-4162-b589-7f65d8eed480"
      },
      "source": [
        "for i in list_friend:\r\n",
        "    for j in list_friend:\r\n",
        "        if i == j:\r\n",
        "            'do nothing'\r\n",
        "        else:\r\n",
        "            print(f'{i} รัก {j}')"
      ],
      "execution_count": 26,
      "outputs": [
        {
          "output_type": "stream",
          "text": [
            "สมหญิง รัก สมชาย\n",
            "สมหญิง รัก สมทรง\n",
            "สมหญิง รัก สมหวัง\n",
            "สมหญิง รัก สมใจ\n",
            "สมชาย รัก สมหญิง\n",
            "สมชาย รัก สมทรง\n",
            "สมชาย รัก สมหวัง\n",
            "สมชาย รัก สมใจ\n",
            "สมทรง รัก สมหญิง\n",
            "สมทรง รัก สมชาย\n",
            "สมทรง รัก สมหวัง\n",
            "สมทรง รัก สมใจ\n",
            "สมหวัง รัก สมหญิง\n",
            "สมหวัง รัก สมชาย\n",
            "สมหวัง รัก สมทรง\n",
            "สมหวัง รัก สมใจ\n",
            "สมใจ รัก สมหญิง\n",
            "สมใจ รัก สมชาย\n",
            "สมใจ รัก สมทรง\n",
            "สมใจ รัก สมหวัง\n"
          ],
          "name": "stdout"
        }
      ]
    },
    {
      "cell_type": "markdown",
      "metadata": {
        "id": "kRqDDqr28i7B"
      },
      "source": [
        "HW4."
      ]
    },
    {
      "cell_type": "code",
      "metadata": {
        "id": "dsQUydarmjy3"
      },
      "source": [
        "list_G = [1,50,65,90,101,-5,49]"
      ],
      "execution_count": 27,
      "outputs": []
    },
    {
      "cell_type": "code",
      "metadata": {
        "id": "s_SeLKSl8lQE",
        "outputId": "d13477bf-b0a3-4d4c-b633-29d30d8554f2",
        "colab": {
          "base_uri": "https://localhost:8080/"
        }
      },
      "source": [
        "   for i in list_G:\r\n",
        "        if i >= 80 and i<=100:\r\n",
        "           print('A')\r\n",
        "        if i >= 75 and i < 80:\r\n",
        "           print('B+')\r\n",
        "        if i >= 70 and i < 75:\r\n",
        "           print('B')\r\n",
        "        if i >= 65 and i < 70:\r\n",
        "           print('C+')\r\n",
        "        if i >= 60 and i < 65:\r\n",
        "           print('C')\r\n",
        "        if i >= 55 and i < 60:\r\n",
        "           print('D+')\r\n",
        "        if i >= 50 and i < 55:\r\n",
        "           print('D')\r\n",
        "        if i < 50 and i >= 0:\r\n",
        "           print('F')\r\n",
        "        if i < 0:\r\n",
        "           print('Error Lower')\r\n",
        "        if i > 100:\r\n",
        "           print('Error Upper')"
      ],
      "execution_count": 28,
      "outputs": [
        {
          "output_type": "stream",
          "text": [
            "F\n",
            "D\n",
            "C+\n",
            "A\n",
            "Error Upper\n",
            "Error Lower\n",
            "F\n"
          ],
          "name": "stdout"
        }
      ]
    },
    {
      "cell_type": "code",
      "metadata": {
        "id": "MR1qPBDN8nab"
      },
      "source": [
        ""
      ],
      "execution_count": null,
      "outputs": []
    }
  ]
}