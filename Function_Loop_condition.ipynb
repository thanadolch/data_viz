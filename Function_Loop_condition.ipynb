{
  "nbformat": 4,
  "nbformat_minor": 0,
  "metadata": {
    "colab": {
      "name": "Untitled24.ipynb",
      "provenance": [],
      "authorship_tag": "ABX9TyMI16aTQNXOZYnlXM+40bt+",
      "include_colab_link": true
    },
    "kernelspec": {
      "name": "python3",
      "display_name": "Python 3"
    }
  },
  "cells": [
    {
      "cell_type": "markdown",
      "metadata": {
        "id": "view-in-github",
        "colab_type": "text"
      },
      "source": [
        "<a href=\"https://colab.research.google.com/github/thanadolch/data_viz/blob/main/Function_Loop_condition.ipynb\" target=\"_parent\"><img src=\"https://colab.research.google.com/assets/colab-badge.svg\" alt=\"Open In Colab\"/></a>"
      ]
    },
    {
      "cell_type": "markdown",
      "metadata": {
        "id": "pSh-wCzMhlBg"
      },
      "source": [
        ""
      ]
    },
    {
      "cell_type": "markdown",
      "metadata": {
        "id": "jj-0XD8FgyYL"
      },
      "source": [
        "Function"
      ]
    },
    {
      "cell_type": "markdown",
      "metadata": {
        "id": "oz2lR1v4g5IE"
      },
      "source": [
        "Function template\r\n",
        "ทำหน้าที่รับ input มาประมวลผลออกมาเป็น output\r\n",
        "f(x)=y"
      ]
    },
    {
      "cell_type": "markdown",
      "metadata": {
        "id": "RTOBum9fhJBC"
      },
      "source": [
        "def คือการกำหนดฟังก์ชัน"
      ]
    },
    {
      "cell_type": "markdown",
      "metadata": {
        "id": "Us4MRN5EhuHp"
      },
      "source": [
        "```\r\n",
        "def function_name(_input_) :\r\n",
        "    do_something with _input_to get _output_\r\n",
        "    return _output_\r\n",
        "```\r\n",
        "back tick (`) => กดค้าง, alt + 96<br>\r\n",
        "tilde (~)<br>\r\n",
        "curly bracket ({ })<br>\r\n",
        "square bracket ([ ])<br> \r\n",
        "\r\n"
      ]
    },
    {
      "cell_type": "markdown",
      "metadata": {
        "id": "SJP62NuykKIJ"
      },
      "source": [
        "ตัวอย่างการเขียน nornal function"
      ]
    },
    {
      "cell_type": "code",
      "metadata": {
        "id": "71gxgU3OflHB"
      },
      "source": [
        "def print_name(name1,surname1,ID1):\r\n",
        "    st = f'ชื่อ {name1} นามสกุล {surname1} รหัส {ID1}'\r\n",
        "    return st"
      ],
      "execution_count": 1,
      "outputs": []
    },
    {
      "cell_type": "code",
      "metadata": {
        "colab": {
          "base_uri": "https://localhost:8080/",
          "height": 35
        },
        "id": "E7j8SuZ5kru4",
        "outputId": "67851222-6da0-4457-d451-2566478789b5"
      },
      "source": [
        "print_name('ธนดล','ชัยเนตร','613020240-5')"
      ],
      "execution_count": 2,
      "outputs": [
        {
          "output_type": "execute_result",
          "data": {
            "application/vnd.google.colaboratory.intrinsic+json": {
              "type": "string"
            },
            "text/plain": [
              "'ชื่อ ธนดล นามสกุล ชัยเนตร รหัส 613020240-5'"
            ]
          },
          "metadata": {
            "tags": []
          },
          "execution_count": 2
        }
      ]
    },
    {
      "cell_type": "code",
      "metadata": {
        "colab": {
          "base_uri": "https://localhost:8080/"
        },
        "id": "vmfoE_oBlIdz",
        "outputId": "3b49fe07-000e-43af-b664-fb4637b305bd"
      },
      "source": [
        "print(print_name('ธนดล','ชัยเนตร','613020240-5'))"
      ],
      "execution_count": 3,
      "outputs": [
        {
          "output_type": "stream",
          "text": [
            "ชื่อ ธนดล นามสกุล ชัยเนตร รหัส 613020240-5\n"
          ],
          "name": "stdout"
        }
      ]
    },
    {
      "cell_type": "markdown",
      "metadata": {
        "id": "6Ct8K8eMpb0m"
      },
      "source": [
        "เว้นวรรคเพื่อบอกขอบเขตของโปรแกรม"
      ]
    },
    {
      "cell_type": "markdown",
      "metadata": {
        "id": "NKbbUW7Up4Uq"
      },
      "source": [
        "ฟังก์ชั้นไม่จำเป็นต้องมี output"
      ]
    },
    {
      "cell_type": "code",
      "metadata": {
        "id": "Fi1-iX7ClXr4"
      },
      "source": [
        "def print_name2(name1,surname1,ID1):\r\n",
        "    st = f'ชื่อ {name1} นามสกุล {surname1} รหัส {ID1}'\r\n",
        "    print(st)"
      ],
      "execution_count": 4,
      "outputs": []
    },
    {
      "cell_type": "code",
      "metadata": {
        "colab": {
          "base_uri": "https://localhost:8080/"
        },
        "id": "MN-VL_VYprhZ",
        "outputId": "ae392bca-7551-423c-f30e-ef1edd6fe4db"
      },
      "source": [
        "print_name2('ธนดล','ชัยเนตร','613020240-5')"
      ],
      "execution_count": 5,
      "outputs": [
        {
          "output_type": "stream",
          "text": [
            "ชื่อ ธนดล นามสกุล ชัยเนตร รหัส 613020240-5\n"
          ],
          "name": "stdout"
        }
      ]
    },
    {
      "cell_type": "markdown",
      "metadata": {
        "id": "efbw8H04qSGD"
      },
      "source": [
        "ฟังก์ชันไม่จำเป็นต้องมีinput"
      ]
    },
    {
      "cell_type": "code",
      "metadata": {
        "id": "ZJveWQtbpzOw"
      },
      "source": [
        "def Pi(): \r\n",
        "    return 3.14159265359"
      ],
      "execution_count": 6,
      "outputs": []
    },
    {
      "cell_type": "code",
      "metadata": {
        "colab": {
          "base_uri": "https://localhost:8080/"
        },
        "id": "fwa5R5w3qrg6",
        "outputId": "7acdeb10-3214-4766-e7b2-03c4b643f5a6"
      },
      "source": [
        "Pi()*(2**2) # หาพื้นที่ของวงกลมที่มีรัศมีเท่ากับ 2"
      ],
      "execution_count": 7,
      "outputs": [
        {
          "output_type": "execute_result",
          "data": {
            "text/plain": [
              "12.56637061436"
            ]
          },
          "metadata": {
            "tags": []
          },
          "execution_count": 7
        }
      ]
    },
    {
      "cell_type": "markdown",
      "metadata": {
        "id": "BT1Yj7PVrYSp"
      },
      "source": [
        "เราสามารถกำหนดค่า default ให้กับฟังก์ชันได้"
      ]
    },
    {
      "cell_type": "markdown",
      "metadata": {
        "id": "-y3xZ_LwxZR4"
      },
      "source": [
        "input ของ function ใน python มีสองแบบ input ที่จำเป็นต้องใส่ กับ input ที่ไม่จำเป็นต้องใส่(มีค่า default) เราต้องเรียง input ที่จำเป็นต้องใส่ขึ้นก่อน"
      ]
    },
    {
      "cell_type": "code",
      "metadata": {
        "id": "WUESqIDKqyWn"
      },
      "source": [
        "def print_2line(name,surname,ID,grade='F'):\r\n",
        "    st = f'ชื่อ {name} นามสกุล {surname} รหัส {ID}'\r\n",
        "    print (st)\r\n",
        "    st1 = f'Grade Data Viz >>> {grade}'\r\n",
        "    print (st1)"
      ],
      "execution_count": 8,
      "outputs": []
    },
    {
      "cell_type": "code",
      "metadata": {
        "colab": {
          "base_uri": "https://localhost:8080/"
        },
        "id": "nL2HTLFksc65",
        "outputId": "33671b62-cdad-4497-d395-308d6aafe4db"
      },
      "source": [
        "print_2line('ธนดล','ชัยเนตร','613020240-5','A')"
      ],
      "execution_count": 9,
      "outputs": [
        {
          "output_type": "stream",
          "text": [
            "ชื่อ ธนดล นามสกุล ชัยเนตร รหัส 613020240-5\n",
            "Grade Data Viz >>> A\n"
          ],
          "name": "stdout"
        }
      ]
    },
    {
      "cell_type": "markdown",
      "metadata": {
        "id": "pVzMr8_G0ush"
      },
      "source": [
        "#Loop การวนซ้ำ"
      ]
    },
    {
      "cell_type": "markdown",
      "metadata": {
        "id": "MNxH13Yg0zfn"
      },
      "source": [
        "for เป็นคำสั่งที่ใช้บอก python ว่าเรากำลังเขียน loop โดย for จะดึงสมาชิก"
      ]
    },
    {
      "cell_type": "markdown",
      "metadata": {
        "id": "jfBwDpPI1Oxr"
      },
      "source": [
        "\r\n",
        "\r\n",
        "```\r\n",
        "for each_member in listA :\r\n",
        "    do_something\r\n",
        "```\r\n",
        "\r\n"
      ]
    },
    {
      "cell_type": "code",
      "metadata": {
        "colab": {
          "base_uri": "https://localhost:8080/"
        },
        "id": "iI1jJ_XDsliN",
        "outputId": "19a547ee-7945-4da0-a2d3-ee133ba2d3cb"
      },
      "source": [
        "for i in [1,2,3] :\r\n",
        "    o = i**2\r\n",
        "    print (f'this member = {i} after process = {o}')"
      ],
      "execution_count": 10,
      "outputs": [
        {
          "output_type": "stream",
          "text": [
            "this member = 1 after process = 1\n",
            "this member = 2 after process = 4\n",
            "this member = 3 after process = 9\n"
          ],
          "name": "stdout"
        }
      ]
    },
    {
      "cell_type": "markdown",
      "metadata": {
        "id": "mxypE2zeneC-"
      },
      "source": [
        "คำนวณระยะเวลาต่อไปนี้โดยใช้ function และ loop\r\n",
        "\r\n",
        "12:30:15\r\n",
        "\r\n",
        "13:41:07\r\n",
        "\r\n",
        "12:53:15\r\n",
        "\r\n",
        "00:59:25\r\n",
        "\r\n",
        "11:11:11\r\n",
        "\r\n",
        "16:06:09"
      ]
    },
    {
      "cell_type": "code",
      "metadata": {
        "id": "YrYDiOXN1MwV",
        "outputId": "7bc73d11-9586-4d16-f841-5cac18ba265c",
        "colab": {
          "base_uri": "https://localhost:8080/"
        }
      },
      "source": [
        "one = '12:30:15'\r\n",
        "two = '13:41:07'\r\n",
        "three = '12:53:15'\r\n",
        "four = '00:59:25'\r\n",
        "five = '11:11:11'\r\n",
        "six = '16:06:09'\r\n",
        "list_g = []\r\n",
        "list_g.append(one)\r\n",
        "list_g.append(two)\r\n",
        "list_g.append(three)\r\n",
        "list_g.append(four)\r\n",
        "list_g.append(five)\r\n",
        "list_g.append(six)\r\n",
        "list_g"
      ],
      "execution_count": 13,
      "outputs": [
        {
          "output_type": "execute_result",
          "data": {
            "text/plain": [
              "['12:30:15', '13:41:07', '12:53:15', '00:59:25', '11:11:11', '16:06:09']"
            ]
          },
          "metadata": {
            "tags": []
          },
          "execution_count": 13
        }
      ]
    },
    {
      "cell_type": "code",
      "metadata": {
        "id": "Yl6GCfkmnt2y",
        "outputId": "ae908aca-20b0-45ed-b67d-c55f5eb500bf",
        "colab": {
          "base_uri": "https://localhost:8080/"
        }
      },
      "source": [
        "for i in list_g:\r\n",
        "    DT = i.split(':')\r\n",
        "    onep = int(DT[0])*3600\r\n",
        "    oneo = int(DT[1])*60\r\n",
        "    oney = int(DT[2])\r\n",
        "    intri = onep+oneo+oney\r\n",
        "    print(intri)"
      ],
      "execution_count": 17,
      "outputs": [
        {
          "output_type": "stream",
          "text": [
            "45015\n",
            "49267\n",
            "46395\n",
            "3565\n",
            "40271\n",
            "57969\n"
          ],
          "name": "stdout"
        }
      ]
    },
    {
      "cell_type": "code",
      "metadata": {
        "id": "7bqU1gPvn1XV"
      },
      "source": [
        ""
      ],
      "execution_count": null,
      "outputs": []
    }
  ]
}