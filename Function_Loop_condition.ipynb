{
  "nbformat": 4,
  "nbformat_minor": 0,
  "metadata": {
    "colab": {
      "name": "Untitled24.ipynb",
      "provenance": [],
      "authorship_tag": "ABX9TyOwirmjbmXf/D+kNjKVu73n",
      "include_colab_link": true
    },
    "kernelspec": {
      "name": "python3",
      "display_name": "Python 3"
    }
  },
  "cells": [
    {
      "cell_type": "markdown",
      "metadata": {
        "id": "view-in-github",
        "colab_type": "text"
      },
      "source": [
        "<a href=\"https://colab.research.google.com/github/thanadolch/data_viz/blob/main/Function_Loop_condition.ipynb\" target=\"_parent\"><img src=\"https://colab.research.google.com/assets/colab-badge.svg\" alt=\"Open In Colab\"/></a>"
      ]
    },
    {
      "cell_type": "markdown",
      "metadata": {
        "id": "pSh-wCzMhlBg"
      },
      "source": [
        ""
      ]
    },
    {
      "cell_type": "markdown",
      "metadata": {
        "id": "jj-0XD8FgyYL"
      },
      "source": [
        "Function"
      ]
    },
    {
      "cell_type": "markdown",
      "metadata": {
        "id": "oz2lR1v4g5IE"
      },
      "source": [
        "Function template\r\n",
        "ทำหน้าที่รับ input มาประมวลผลออกมาเป็น output\r\n",
        "f(x)=y"
      ]
    },
    {
      "cell_type": "markdown",
      "metadata": {
        "id": "RTOBum9fhJBC"
      },
      "source": [
        "def คือการกำหนดฟังก์ชัน"
      ]
    },
    {
      "cell_type": "markdown",
      "metadata": {
        "id": "Us4MRN5EhuHp"
      },
      "source": [
        "```\r\n",
        "def function_name(_input_) :\r\n",
        "    do_something with _input_to get _output_\r\n",
        "    return _output_\r\n",
        "```\r\n",
        "back tick (`) => กดค้าง, alt + 96<br>\r\n",
        "tilde (~)<br>\r\n",
        "curly bracket ({ })<br>\r\n",
        "square bracket ([ ])<br> \r\n",
        "\r\n"
      ]
    },
    {
      "cell_type": "markdown",
      "metadata": {
        "id": "SJP62NuykKIJ"
      },
      "source": [
        "ตัวอย่างการเขียน nornal function"
      ]
    },
    {
      "cell_type": "code",
      "metadata": {
        "id": "71gxgU3OflHB"
      },
      "source": [
        "def print_name(name1,surname1,ID1):\r\n",
        "    st = f'ชื่อ {name1} นามสกุล {surname1} รหัส {ID1}'\r\n",
        "    return st"
      ],
      "execution_count": 1,
      "outputs": []
    },
    {
      "cell_type": "code",
      "metadata": {
        "colab": {
          "base_uri": "https://localhost:8080/",
          "height": 35
        },
        "id": "E7j8SuZ5kru4",
        "outputId": "162c2625-f659-404e-c70e-bc19020ea92b"
      },
      "source": [
        "print_name('ธนดล','ชัยเนตร','613020240-5')"
      ],
      "execution_count": 2,
      "outputs": [
        {
          "output_type": "execute_result",
          "data": {
            "application/vnd.google.colaboratory.intrinsic+json": {
              "type": "string"
            },
            "text/plain": [
              "'ชื่อ ธนดล นามสกุล ชัยเนตร รหัส 613020240-5'"
            ]
          },
          "metadata": {
            "tags": []
          },
          "execution_count": 2
        }
      ]
    },
    {
      "cell_type": "code",
      "metadata": {
        "colab": {
          "base_uri": "https://localhost:8080/"
        },
        "id": "vmfoE_oBlIdz",
        "outputId": "20e8aaff-b7b1-42cd-f732-a9d8641305e7"
      },
      "source": [
        "print(print_name('ธนดล','ชัยเนตร','613020240-5'))"
      ],
      "execution_count": 3,
      "outputs": [
        {
          "output_type": "stream",
          "text": [
            "ชื่อ ธนดล นามสกุล ชัยเนตร รหัส 613020240-5\n"
          ],
          "name": "stdout"
        }
      ]
    },
    {
      "cell_type": "markdown",
      "metadata": {
        "id": "6Ct8K8eMpb0m"
      },
      "source": [
        "เว้นวรรคเพื่อบอกขอบเขตของโปรแกรม"
      ]
    },
    {
      "cell_type": "markdown",
      "metadata": {
        "id": "NKbbUW7Up4Uq"
      },
      "source": [
        "ฟังก์ชั้นไม่จำเป็นต้องมี output"
      ]
    },
    {
      "cell_type": "code",
      "metadata": {
        "id": "Fi1-iX7ClXr4"
      },
      "source": [
        "def print_name2(name1,surname1,ID1):\r\n",
        "    st = f'ชื่อ {name1} นามสกุล {surname1} รหัส {ID1}'\r\n",
        "    print(st)"
      ],
      "execution_count": 4,
      "outputs": []
    },
    {
      "cell_type": "code",
      "metadata": {
        "colab": {
          "base_uri": "https://localhost:8080/"
        },
        "id": "MN-VL_VYprhZ",
        "outputId": "5e4a148e-800d-4d4b-ab21-12fa0ae03699"
      },
      "source": [
        "print_name2('ธนดล','ชัยเนตร','613020240-5')"
      ],
      "execution_count": 5,
      "outputs": [
        {
          "output_type": "stream",
          "text": [
            "ชื่อ ธนดล นามสกุล ชัยเนตร รหัส 613020240-5\n"
          ],
          "name": "stdout"
        }
      ]
    },
    {
      "cell_type": "markdown",
      "metadata": {
        "id": "efbw8H04qSGD"
      },
      "source": [
        "ฟังก์ชันไม่จำเป็นต้องมีinput"
      ]
    },
    {
      "cell_type": "code",
      "metadata": {
        "id": "ZJveWQtbpzOw"
      },
      "source": [
        "def Pi(): \r\n",
        "    return 3.14159265359"
      ],
      "execution_count": 9,
      "outputs": []
    },
    {
      "cell_type": "code",
      "metadata": {
        "colab": {
          "base_uri": "https://localhost:8080/"
        },
        "id": "fwa5R5w3qrg6",
        "outputId": "a760e262-f9ce-4b06-e115-cf05a5e88e0b"
      },
      "source": [
        "Pi()*(2**2) # หาพื้นที่ของวงกลมที่มีรัศมีเท่ากับ 2"
      ],
      "execution_count": 10,
      "outputs": [
        {
          "output_type": "execute_result",
          "data": {
            "text/plain": [
              "12.56637061436"
            ]
          },
          "metadata": {
            "tags": []
          },
          "execution_count": 10
        }
      ]
    },
    {
      "cell_type": "markdown",
      "metadata": {
        "id": "BT1Yj7PVrYSp"
      },
      "source": [
        "เราสามารถกำหนดค่า default ให้กับฟังก์ชันได้"
      ]
    },
    {
      "cell_type": "markdown",
      "metadata": {
        "id": "-y3xZ_LwxZR4"
      },
      "source": [
        "input ของ function ใน python มีสองแบบ input ที่จำเป็นต้องใส่ กับ input ที่ไม่จำเป็นต้องใส่(มีค่า default) เราต้องเรียง input ที่จำเป็นต้องใส่ขึ้นก่อน"
      ]
    },
    {
      "cell_type": "code",
      "metadata": {
        "id": "WUESqIDKqyWn"
      },
      "source": [
        "def print_2line(name,surname,ID,grade='F'):\r\n",
        "    st = f'ชื่อ {name} นามสกุล {surname} รหัส {ID}'\r\n",
        "    print (st)\r\n",
        "    st1 = f'Grade Data Viz >>> {grade}'\r\n",
        "    print (st1)"
      ],
      "execution_count": 16,
      "outputs": []
    },
    {
      "cell_type": "code",
      "metadata": {
        "colab": {
          "base_uri": "https://localhost:8080/"
        },
        "id": "nL2HTLFksc65",
        "outputId": "56839a65-fd0a-468d-826e-9b279a0d369f"
      },
      "source": [
        "print_2line('ธนดล','ชัยเนตร','613020240-5','A')"
      ],
      "execution_count": 17,
      "outputs": [
        {
          "output_type": "stream",
          "text": [
            "ชื่อ ธนดล นามสกุล ชัยเนตร รหัส 613020240-5\n",
            "Grade Data Viz >>> A\n"
          ],
          "name": "stdout"
        }
      ]
    },
    {
      "cell_type": "markdown",
      "metadata": {
        "id": "pVzMr8_G0ush"
      },
      "source": [
        "#Loop การวนซ้ำ"
      ]
    },
    {
      "cell_type": "markdown",
      "metadata": {
        "id": "MNxH13Yg0zfn"
      },
      "source": [
        "for เป็นคำสั่งที่ใช้บอก python ว่าเรากำลังเขียน loop โดย for จะดึงสมาชิก"
      ]
    },
    {
      "cell_type": "markdown",
      "metadata": {
        "id": "jfBwDpPI1Oxr"
      },
      "source": [
        "\r\n",
        "\r\n",
        "```\r\n",
        "for each_member in listA :\r\n",
        "    do_something\r\n",
        "```\r\n",
        "\r\n"
      ]
    },
    {
      "cell_type": "code",
      "metadata": {
        "colab": {
          "base_uri": "https://localhost:8080/"
        },
        "id": "iI1jJ_XDsliN",
        "outputId": "09349b4b-7e0b-432b-f135-4665744ec9f0"
      },
      "source": [
        "for i in [1,2,3] :\r\n",
        "    o = i**2\r\n",
        "    print (f'this member = {i} after process = {o}')"
      ],
      "execution_count": 20,
      "outputs": [
        {
          "output_type": "stream",
          "text": [
            "this member = 1 after process = 1\n",
            "this member = 2 after process = 4\n",
            "this member = 3 after process = 9\n"
          ],
          "name": "stdout"
        }
      ]
    },
    {
      "cell_type": "code",
      "metadata": {
        "id": "YrYDiOXN1MwV"
      },
      "source": [
        ""
      ],
      "execution_count": null,
      "outputs": []
    }
  ]
}