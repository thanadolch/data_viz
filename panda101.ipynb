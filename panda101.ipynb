{
  "nbformat": 4,
  "nbformat_minor": 0,
  "metadata": {
    "colab": {
      "name": "panda101.ipynb",
      "provenance": [],
      "authorship_tag": "ABX9TyM0tv/SNkb7DCI8hEXYKotB",
      "include_colab_link": true
    },
    "kernelspec": {
      "name": "python3",
      "display_name": "Python 3"
    }
  },
  "cells": [
    {
      "cell_type": "markdown",
      "metadata": {
        "id": "view-in-github",
        "colab_type": "text"
      },
      "source": [
        "<a href=\"https://colab.research.google.com/github/thanadolch/data_viz/blob/main/panda101.ipynb\" target=\"_parent\"><img src=\"https://colab.research.google.com/assets/colab-badge.svg\" alt=\"Open In Colab\"/></a>"
      ]
    },
    {
      "cell_type": "code",
      "metadata": {
        "id": "GZnXNXHKm-_F"
      },
      "source": [
        "import pandas as pd\r\n",
        "import os"
      ],
      "execution_count": 1,
      "outputs": []
    },
    {
      "cell_type": "code",
      "metadata": {
        "colab": {
          "base_uri": "https://localhost:8080/"
        },
        "id": "b2Ii8GmOnCY2",
        "outputId": "62da100b-4c70-4f39-aec6-fecbc0872116"
      },
      "source": [
        "from google.colab import drive\r\n",
        "drive.mount('/content/drive')"
      ],
      "execution_count": 2,
      "outputs": [
        {
          "output_type": "stream",
          "text": [
            "Mounted at /content/drive\n"
          ],
          "name": "stdout"
        }
      ]
    },
    {
      "cell_type": "code",
      "metadata": {
        "id": "Xu8NQngyn6al"
      },
      "source": [
        "path = '/content/drive/My Drive/DVZ'"
      ],
      "execution_count": 3,
      "outputs": []
    },
    {
      "cell_type": "code",
      "metadata": {
        "colab": {
          "base_uri": "https://localhost:8080/",
          "height": 719
        },
        "id": "Tw6vB3C8oJXZ",
        "outputId": "0db068f9-bef6-4554-8db4-523b2efc4801"
      },
      "source": [
        "covid_file_path = os.path.join(path,'pm-18-jan-2021.csv')\r\n",
        "data_covid = pd.read_csv(covid_file_path)\r\n",
        "data_covid.head()"
      ],
      "execution_count": 4,
      "outputs": [
        {
          "output_type": "execute_result",
          "data": {
            "text/html": [
              "<div>\n",
              "<style scoped>\n",
              "    .dataframe tbody tr th:only-of-type {\n",
              "        vertical-align: middle;\n",
              "    }\n",
              "\n",
              "    .dataframe tbody tr th {\n",
              "        vertical-align: top;\n",
              "    }\n",
              "\n",
              "    .dataframe thead th {\n",
              "        text-align: right;\n",
              "    }\n",
              "</style>\n",
              "<table border=\"1\" class=\"dataframe\">\n",
              "  <thead>\n",
              "    <tr style=\"text-align: right;\">\n",
              "      <th></th>\n",
              "      <th>No.</th>\n",
              "      <th>announce_date</th>\n",
              "      <th>notification_date</th>\n",
              "      <th>sex</th>\n",
              "      <th>age</th>\n",
              "      <th>nationality</th>\n",
              "      <th>province_of_isolation</th>\n",
              "      <th>province_of_onset</th>\n",
              "      <th>district_of_onset</th>\n",
              "      <th>risk</th>\n",
              "    </tr>\n",
              "  </thead>\n",
              "  <tbody>\n",
              "    <tr>\n",
              "      <th>0</th>\n",
              "      <td>1</td>\n",
              "      <td>1/12/2020</td>\n",
              "      <td>NaN</td>\n",
              "      <td>หญิง</td>\n",
              "      <td>61.0</td>\n",
              "      <td>China</td>\n",
              "      <td>กรุงเทพมหานคร</td>\n",
              "      <td>กรุงเทพมหานคร</td>\n",
              "      <td>NaN</td>\n",
              "      <td>คนต่างชาติเดินทางมาจากต่างประเทศ</td>\n",
              "    </tr>\n",
              "    <tr>\n",
              "      <th>1</th>\n",
              "      <td>2</td>\n",
              "      <td>1/17/2020</td>\n",
              "      <td>NaN</td>\n",
              "      <td>หญิง</td>\n",
              "      <td>74.0</td>\n",
              "      <td>China</td>\n",
              "      <td>กรุงเทพมหานคร</td>\n",
              "      <td>กรุงเทพมหานคร</td>\n",
              "      <td>NaN</td>\n",
              "      <td>คนต่างชาติเดินทางมาจากต่างประเทศ</td>\n",
              "    </tr>\n",
              "    <tr>\n",
              "      <th>2</th>\n",
              "      <td>3</td>\n",
              "      <td>1/22/2020</td>\n",
              "      <td>NaN</td>\n",
              "      <td>หญิง</td>\n",
              "      <td>73.0</td>\n",
              "      <td>Thailand</td>\n",
              "      <td>นครปฐม</td>\n",
              "      <td>นครปฐม</td>\n",
              "      <td>เมือง</td>\n",
              "      <td>คนต่างชาติเดินทางมาจากต่างประเทศ</td>\n",
              "    </tr>\n",
              "    <tr>\n",
              "      <th>3</th>\n",
              "      <td>4</td>\n",
              "      <td>1/22/2020</td>\n",
              "      <td>NaN</td>\n",
              "      <td>ชาย</td>\n",
              "      <td>68.0</td>\n",
              "      <td>China</td>\n",
              "      <td>กรุงเทพมหานคร</td>\n",
              "      <td>กรุงเทพมหานคร</td>\n",
              "      <td>NaN</td>\n",
              "      <td>คนต่างชาติเดินทางมาจากต่างประเทศ</td>\n",
              "    </tr>\n",
              "    <tr>\n",
              "      <th>4</th>\n",
              "      <td>5</td>\n",
              "      <td>1/24/2020</td>\n",
              "      <td>NaN</td>\n",
              "      <td>หญิง</td>\n",
              "      <td>66.0</td>\n",
              "      <td>China</td>\n",
              "      <td>นนทบุรี</td>\n",
              "      <td>กรุงเทพมหานคร</td>\n",
              "      <td>NaN</td>\n",
              "      <td>คนต่างชาติเดินทางมาจากต่างประเทศ</td>\n",
              "    </tr>\n",
              "  </tbody>\n",
              "</table>\n",
              "</div>"
            ],
            "text/plain": [
              "   No. announce_date  ... district_of_onset                              risk\n",
              "0    1     1/12/2020  ...               NaN  คนต่างชาติเดินทางมาจากต่างประเทศ\n",
              "1    2     1/17/2020  ...               NaN  คนต่างชาติเดินทางมาจากต่างประเทศ\n",
              "2    3     1/22/2020  ...             เมือง  คนต่างชาติเดินทางมาจากต่างประเทศ\n",
              "3    4     1/22/2020  ...               NaN  คนต่างชาติเดินทางมาจากต่างประเทศ\n",
              "4    5     1/24/2020  ...               NaN  คนต่างชาติเดินทางมาจากต่างประเทศ\n",
              "\n",
              "[5 rows x 10 columns]"
            ]
          },
          "metadata": {
            "tags": []
          },
          "execution_count": 4
        }
      ]
    },
    {
      "cell_type": "code",
      "metadata": {
        "colab": {
          "base_uri": "https://localhost:8080/"
        },
        "id": "yM3L06z1ode4",
        "outputId": "102524ed-a943-4c62-bfdc-ff0d591a7d55"
      },
      "source": [
        "data_covid.shape"
      ],
      "execution_count": 5,
      "outputs": [
        {
          "output_type": "execute_result",
          "data": {
            "text/plain": [
              "(12423, 10)"
            ]
          },
          "metadata": {
            "tags": []
          },
          "execution_count": 5
        }
      ]
    },
    {
      "cell_type": "code",
      "metadata": {
        "colab": {
          "base_uri": "https://localhost:8080/"
        },
        "id": "DsyubjMjz14-",
        "outputId": "b5063eef-7827-4535-ce16-daa12cada163"
      },
      "source": [
        "data_covid['province_of_onset']"
      ],
      "execution_count": 6,
      "outputs": [
        {
          "output_type": "execute_result",
          "data": {
            "text/plain": [
              "0        กรุงเทพมหานคร\n",
              "1        กรุงเทพมหานคร\n",
              "2               นครปฐม\n",
              "3        กรุงเทพมหานคร\n",
              "4        กรุงเทพมหานคร\n",
              "             ...      \n",
              "12418      สมุทรปราการ\n",
              "12419      สมุทรปราการ\n",
              "12420           ชลบุรี\n",
              "12421           ชลบุรี\n",
              "12422            ระยอง\n",
              "Name: province_of_onset, Length: 12423, dtype: object"
            ]
          },
          "metadata": {
            "tags": []
          },
          "execution_count": 6
        }
      ]
    },
    {
      "cell_type": "code",
      "metadata": {
        "colab": {
          "base_uri": "https://localhost:8080/",
          "height": 35
        },
        "id": "BmrDcofQz_4x",
        "outputId": "db1675cd-93a2-4f07-9cb7-f085fdc51737"
      },
      "source": [
        "data_covid['province_of_onset'][4]"
      ],
      "execution_count": 7,
      "outputs": [
        {
          "output_type": "execute_result",
          "data": {
            "application/vnd.google.colaboratory.intrinsic+json": {
              "type": "string"
            },
            "text/plain": [
              "'กรุงเทพมหานคร'"
            ]
          },
          "metadata": {
            "tags": []
          },
          "execution_count": 7
        }
      ]
    },
    {
      "cell_type": "markdown",
      "metadata": {
        "id": "3rwZgBqH0Kp4"
      },
      "source": [
        "iloc"
      ]
    },
    {
      "cell_type": "code",
      "metadata": {
        "colab": {
          "base_uri": "https://localhost:8080/",
          "height": 35
        },
        "id": "QHti0U250Bmu",
        "outputId": "c58365da-5bc1-4ac6-e35c-62c36237dcec"
      },
      "source": [
        "data_covid.iloc[4,7]"
      ],
      "execution_count": 8,
      "outputs": [
        {
          "output_type": "execute_result",
          "data": {
            "application/vnd.google.colaboratory.intrinsic+json": {
              "type": "string"
            },
            "text/plain": [
              "'กรุงเทพมหานคร'"
            ]
          },
          "metadata": {
            "tags": []
          },
          "execution_count": 8
        }
      ]
    },
    {
      "cell_type": "markdown",
      "metadata": {
        "id": "KFDaayPl00w6"
      },
      "source": [
        "## Table slicing"
      ]
    },
    {
      "cell_type": "markdown",
      "metadata": {
        "id": "CsGe-VLe0_1J"
      },
      "source": [
        "ตัดเฉพาะ column ที่ต้องการ"
      ]
    },
    {
      "cell_type": "code",
      "metadata": {
        "id": "9COeZTl80jqu"
      },
      "source": [
        "smaller_table = data_covid[['announce_date','province_of_onset','risk']]"
      ],
      "execution_count": 9,
      "outputs": []
    },
    {
      "cell_type": "code",
      "metadata": {
        "colab": {
          "base_uri": "https://localhost:8080/",
          "height": 402
        },
        "id": "Mhuoha-X1OsV",
        "outputId": "40c56767-1109-4a4a-9637-b9c2995bc172"
      },
      "source": [
        "smaller_table"
      ],
      "execution_count": 10,
      "outputs": [
        {
          "output_type": "execute_result",
          "data": {
            "text/html": [
              "<div>\n",
              "<style scoped>\n",
              "    .dataframe tbody tr th:only-of-type {\n",
              "        vertical-align: middle;\n",
              "    }\n",
              "\n",
              "    .dataframe tbody tr th {\n",
              "        vertical-align: top;\n",
              "    }\n",
              "\n",
              "    .dataframe thead th {\n",
              "        text-align: right;\n",
              "    }\n",
              "</style>\n",
              "<table border=\"1\" class=\"dataframe\">\n",
              "  <thead>\n",
              "    <tr style=\"text-align: right;\">\n",
              "      <th></th>\n",
              "      <th>announce_date</th>\n",
              "      <th>province_of_onset</th>\n",
              "      <th>risk</th>\n",
              "    </tr>\n",
              "  </thead>\n",
              "  <tbody>\n",
              "    <tr>\n",
              "      <th>0</th>\n",
              "      <td>1/12/2020</td>\n",
              "      <td>กรุงเทพมหานคร</td>\n",
              "      <td>คนต่างชาติเดินทางมาจากต่างประเทศ</td>\n",
              "    </tr>\n",
              "    <tr>\n",
              "      <th>1</th>\n",
              "      <td>1/17/2020</td>\n",
              "      <td>กรุงเทพมหานคร</td>\n",
              "      <td>คนต่างชาติเดินทางมาจากต่างประเทศ</td>\n",
              "    </tr>\n",
              "    <tr>\n",
              "      <th>2</th>\n",
              "      <td>1/22/2020</td>\n",
              "      <td>นครปฐม</td>\n",
              "      <td>คนต่างชาติเดินทางมาจากต่างประเทศ</td>\n",
              "    </tr>\n",
              "    <tr>\n",
              "      <th>3</th>\n",
              "      <td>1/22/2020</td>\n",
              "      <td>กรุงเทพมหานคร</td>\n",
              "      <td>คนต่างชาติเดินทางมาจากต่างประเทศ</td>\n",
              "    </tr>\n",
              "    <tr>\n",
              "      <th>4</th>\n",
              "      <td>1/24/2020</td>\n",
              "      <td>กรุงเทพมหานคร</td>\n",
              "      <td>คนต่างชาติเดินทางมาจากต่างประเทศ</td>\n",
              "    </tr>\n",
              "    <tr>\n",
              "      <th>...</th>\n",
              "      <td>...</td>\n",
              "      <td>...</td>\n",
              "      <td>...</td>\n",
              "    </tr>\n",
              "    <tr>\n",
              "      <th>12418</th>\n",
              "      <td>1/18/2021</td>\n",
              "      <td>สมุทรปราการ</td>\n",
              "      <td>สถานบันเทิง</td>\n",
              "    </tr>\n",
              "    <tr>\n",
              "      <th>12419</th>\n",
              "      <td>1/18/2021</td>\n",
              "      <td>สมุทรปราการ</td>\n",
              "      <td>สัมผัสใกล้ชิดกับผู้ป่วยยืนยันรายก่อนหน้านี้</td>\n",
              "    </tr>\n",
              "    <tr>\n",
              "      <th>12420</th>\n",
              "      <td>1/18/2021</td>\n",
              "      <td>ชลบุรี</td>\n",
              "      <td>สัมผัสใกล้ชิดกับผู้ป่วยยืนยันรายก่อนหน้านี้</td>\n",
              "    </tr>\n",
              "    <tr>\n",
              "      <th>12421</th>\n",
              "      <td>1/18/2021</td>\n",
              "      <td>ชลบุรี</td>\n",
              "      <td>Cluster ชลบุรี โรงเบียร์ 90</td>\n",
              "    </tr>\n",
              "    <tr>\n",
              "      <th>12422</th>\n",
              "      <td>1/18/2021</td>\n",
              "      <td>ระยอง</td>\n",
              "      <td>สัมผัสใกล้ชิดกับผู้ป่วยยืนยันรายก่อนหน้านี้</td>\n",
              "    </tr>\n",
              "  </tbody>\n",
              "</table>\n",
              "<p>12423 rows × 3 columns</p>\n",
              "</div>"
            ],
            "text/plain": [
              "      announce_date  ...                                         risk\n",
              "0         1/12/2020  ...             คนต่างชาติเดินทางมาจากต่างประเทศ\n",
              "1         1/17/2020  ...             คนต่างชาติเดินทางมาจากต่างประเทศ\n",
              "2         1/22/2020  ...             คนต่างชาติเดินทางมาจากต่างประเทศ\n",
              "3         1/22/2020  ...             คนต่างชาติเดินทางมาจากต่างประเทศ\n",
              "4         1/24/2020  ...             คนต่างชาติเดินทางมาจากต่างประเทศ\n",
              "...             ...  ...                                          ...\n",
              "12418     1/18/2021  ...                                  สถานบันเทิง\n",
              "12419     1/18/2021  ...  สัมผัสใกล้ชิดกับผู้ป่วยยืนยันรายก่อนหน้านี้\n",
              "12420     1/18/2021  ...  สัมผัสใกล้ชิดกับผู้ป่วยยืนยันรายก่อนหน้านี้\n",
              "12421     1/18/2021  ...                  Cluster ชลบุรี โรงเบียร์ 90\n",
              "12422     1/18/2021  ...  สัมผัสใกล้ชิดกับผู้ป่วยยืนยันรายก่อนหน้านี้\n",
              "\n",
              "[12423 rows x 3 columns]"
            ]
          },
          "metadata": {
            "tags": []
          },
          "execution_count": 10
        }
      ]
    },
    {
      "cell_type": "markdown",
      "metadata": {
        "id": "DccCGHuw2P-V"
      },
      "source": [
        "### ตัดเฉพาะ row ที่ต้องการ"
      ]
    },
    {
      "cell_type": "markdown",
      "metadata": {
        "id": "Q-F1JZb72UbV"
      },
      "source": [
        "#### แบบง่าย แต่ใช้อะไรไม่ค่อยได้\r\n"
      ]
    },
    {
      "cell_type": "code",
      "metadata": {
        "colab": {
          "base_uri": "https://localhost:8080/",
          "height": 458
        },
        "id": "TkRYhqBd1yN_",
        "outputId": "ff7fb8b0-8032-4dd1-a7bb-58efb94b24a6"
      },
      "source": [
        "data_covid.iloc[1:4,:]"
      ],
      "execution_count": 11,
      "outputs": [
        {
          "output_type": "execute_result",
          "data": {
            "text/html": [
              "<div>\n",
              "<style scoped>\n",
              "    .dataframe tbody tr th:only-of-type {\n",
              "        vertical-align: middle;\n",
              "    }\n",
              "\n",
              "    .dataframe tbody tr th {\n",
              "        vertical-align: top;\n",
              "    }\n",
              "\n",
              "    .dataframe thead th {\n",
              "        text-align: right;\n",
              "    }\n",
              "</style>\n",
              "<table border=\"1\" class=\"dataframe\">\n",
              "  <thead>\n",
              "    <tr style=\"text-align: right;\">\n",
              "      <th></th>\n",
              "      <th>No.</th>\n",
              "      <th>announce_date</th>\n",
              "      <th>notification_date</th>\n",
              "      <th>sex</th>\n",
              "      <th>age</th>\n",
              "      <th>nationality</th>\n",
              "      <th>province_of_isolation</th>\n",
              "      <th>province_of_onset</th>\n",
              "      <th>district_of_onset</th>\n",
              "      <th>risk</th>\n",
              "    </tr>\n",
              "  </thead>\n",
              "  <tbody>\n",
              "    <tr>\n",
              "      <th>1</th>\n",
              "      <td>2</td>\n",
              "      <td>1/17/2020</td>\n",
              "      <td>NaN</td>\n",
              "      <td>หญิง</td>\n",
              "      <td>74.0</td>\n",
              "      <td>China</td>\n",
              "      <td>กรุงเทพมหานคร</td>\n",
              "      <td>กรุงเทพมหานคร</td>\n",
              "      <td>NaN</td>\n",
              "      <td>คนต่างชาติเดินทางมาจากต่างประเทศ</td>\n",
              "    </tr>\n",
              "    <tr>\n",
              "      <th>2</th>\n",
              "      <td>3</td>\n",
              "      <td>1/22/2020</td>\n",
              "      <td>NaN</td>\n",
              "      <td>หญิง</td>\n",
              "      <td>73.0</td>\n",
              "      <td>Thailand</td>\n",
              "      <td>นครปฐม</td>\n",
              "      <td>นครปฐม</td>\n",
              "      <td>เมือง</td>\n",
              "      <td>คนต่างชาติเดินทางมาจากต่างประเทศ</td>\n",
              "    </tr>\n",
              "    <tr>\n",
              "      <th>3</th>\n",
              "      <td>4</td>\n",
              "      <td>1/22/2020</td>\n",
              "      <td>NaN</td>\n",
              "      <td>ชาย</td>\n",
              "      <td>68.0</td>\n",
              "      <td>China</td>\n",
              "      <td>กรุงเทพมหานคร</td>\n",
              "      <td>กรุงเทพมหานคร</td>\n",
              "      <td>NaN</td>\n",
              "      <td>คนต่างชาติเดินทางมาจากต่างประเทศ</td>\n",
              "    </tr>\n",
              "  </tbody>\n",
              "</table>\n",
              "</div>"
            ],
            "text/plain": [
              "   No. announce_date  ... district_of_onset                              risk\n",
              "1    2     1/17/2020  ...               NaN  คนต่างชาติเดินทางมาจากต่างประเทศ\n",
              "2    3     1/22/2020  ...             เมือง  คนต่างชาติเดินทางมาจากต่างประเทศ\n",
              "3    4     1/22/2020  ...               NaN  คนต่างชาติเดินทางมาจากต่างประเทศ\n",
              "\n",
              "[3 rows x 10 columns]"
            ]
          },
          "metadata": {
            "tags": []
          },
          "execution_count": 11
        }
      ]
    },
    {
      "cell_type": "markdown",
      "metadata": {
        "id": "OTxHY6R13Kfu"
      },
      "source": [
        "แบบ advanced แต่ใช้ประโยชน์ได้เยอะกว่า (ตัดแบบใช้ logic query)"
      ]
    },
    {
      "cell_type": "code",
      "metadata": {
        "colab": {
          "base_uri": "https://localhost:8080/",
          "height": 1000
        },
        "id": "ZCJ1qQe-2r1x",
        "outputId": "26f7e464-6c7f-42a3-a47d-c0d784286e99"
      },
      "source": [
        "data_covid[data_covid['province_of_onset']=='ขอนแก่น']"
      ],
      "execution_count": 12,
      "outputs": [
        {
          "output_type": "execute_result",
          "data": {
            "text/html": [
              "<div>\n",
              "<style scoped>\n",
              "    .dataframe tbody tr th:only-of-type {\n",
              "        vertical-align: middle;\n",
              "    }\n",
              "\n",
              "    .dataframe tbody tr th {\n",
              "        vertical-align: top;\n",
              "    }\n",
              "\n",
              "    .dataframe thead th {\n",
              "        text-align: right;\n",
              "    }\n",
              "</style>\n",
              "<table border=\"1\" class=\"dataframe\">\n",
              "  <thead>\n",
              "    <tr style=\"text-align: right;\">\n",
              "      <th></th>\n",
              "      <th>No.</th>\n",
              "      <th>announce_date</th>\n",
              "      <th>notification_date</th>\n",
              "      <th>sex</th>\n",
              "      <th>age</th>\n",
              "      <th>nationality</th>\n",
              "      <th>province_of_isolation</th>\n",
              "      <th>province_of_onset</th>\n",
              "      <th>district_of_onset</th>\n",
              "      <th>risk</th>\n",
              "    </tr>\n",
              "  </thead>\n",
              "  <tbody>\n",
              "    <tr>\n",
              "      <th>180</th>\n",
              "      <td>181</td>\n",
              "      <td>3/18/2020</td>\n",
              "      <td>3/15/2020</td>\n",
              "      <td>ชาย</td>\n",
              "      <td>33.0</td>\n",
              "      <td>Thailand</td>\n",
              "      <td>ขอนแก่น</td>\n",
              "      <td>ขอนแก่น</td>\n",
              "      <td>เมือง</td>\n",
              "      <td>สนามมวย</td>\n",
              "    </tr>\n",
              "    <tr>\n",
              "      <th>462</th>\n",
              "      <td>463</td>\n",
              "      <td>3/22/2020</td>\n",
              "      <td>3/21/2020</td>\n",
              "      <td>หญิง</td>\n",
              "      <td>36.0</td>\n",
              "      <td>Thailand</td>\n",
              "      <td>ขอนแก่น</td>\n",
              "      <td>ขอนแก่น</td>\n",
              "      <td>เมือง</td>\n",
              "      <td>สัมผัสใกล้ชิดกับผู้ป่วยยืนยันรายก่อนหน้านี้</td>\n",
              "    </tr>\n",
              "    <tr>\n",
              "      <th>1466</th>\n",
              "      <td>1467</td>\n",
              "      <td>3/30/2020</td>\n",
              "      <td>3/26/2020</td>\n",
              "      <td>ชาย</td>\n",
              "      <td>19.0</td>\n",
              "      <td>Thailand</td>\n",
              "      <td>ขอนแก่น</td>\n",
              "      <td>ขอนแก่น</td>\n",
              "      <td>เมือง</td>\n",
              "      <td>คนไทยเดินทางกลับจากต่างประเทศ</td>\n",
              "    </tr>\n",
              "    <tr>\n",
              "      <th>1970</th>\n",
              "      <td>1971</td>\n",
              "      <td>4/3/2020</td>\n",
              "      <td>3/31/2020</td>\n",
              "      <td>หญิง</td>\n",
              "      <td>70.0</td>\n",
              "      <td>Thailand</td>\n",
              "      <td>ขอนแก่น</td>\n",
              "      <td>ขอนแก่น</td>\n",
              "      <td>เมือง</td>\n",
              "      <td>ไปสถานที่ชุมชน เช่น ตลาดนัด สถานที่ท่องเที่ยว</td>\n",
              "    </tr>\n",
              "    <tr>\n",
              "      <th>2637</th>\n",
              "      <td>2638</td>\n",
              "      <td>4/15/2020</td>\n",
              "      <td>4/14/2020</td>\n",
              "      <td>หญิง</td>\n",
              "      <td>63.0</td>\n",
              "      <td>Thailand</td>\n",
              "      <td>ขอนแก่น</td>\n",
              "      <td>ขอนแก่น</td>\n",
              "      <td>น้ำพอง</td>\n",
              "      <td>สัมผัสผู้เดินทางจากต่างประเทศ</td>\n",
              "    </tr>\n",
              "    <tr>\n",
              "      <th>2673</th>\n",
              "      <td>2674</td>\n",
              "      <td>4/17/2020</td>\n",
              "      <td>4/16/2020</td>\n",
              "      <td>ชาย</td>\n",
              "      <td>68.0</td>\n",
              "      <td>Thailand</td>\n",
              "      <td>ขอนแก่น</td>\n",
              "      <td>ขอนแก่น</td>\n",
              "      <td>น้ำพอง</td>\n",
              "      <td>สัมผัสใกล้ชิดกับผู้ป่วยยืนยันรายก่อนหน้านี้</td>\n",
              "    </tr>\n",
              "    <tr>\n",
              "      <th>5948</th>\n",
              "      <td>5949</td>\n",
              "      <td>12/26/2020</td>\n",
              "      <td>12/25/2020</td>\n",
              "      <td>หญิง</td>\n",
              "      <td>32.0</td>\n",
              "      <td>Thailand</td>\n",
              "      <td>ขอนแก่น</td>\n",
              "      <td>ขอนแก่น</td>\n",
              "      <td>แวงใหญ่</td>\n",
              "      <td>Cluster สมุทรสาคร</td>\n",
              "    </tr>\n",
              "    <tr>\n",
              "      <th>6082</th>\n",
              "      <td>6083</td>\n",
              "      <td>12/27/2020</td>\n",
              "      <td>12/26/2020</td>\n",
              "      <td>หญิง</td>\n",
              "      <td>36.0</td>\n",
              "      <td>Thailand</td>\n",
              "      <td>ขอนแก่น</td>\n",
              "      <td>ขอนแก่น</td>\n",
              "      <td>แวงใหญ่</td>\n",
              "      <td>Cluster สมุทรสาคร</td>\n",
              "    </tr>\n",
              "    <tr>\n",
              "      <th>9333</th>\n",
              "      <td>9334</td>\n",
              "      <td>1/7/2021</td>\n",
              "      <td>1/6/2021</td>\n",
              "      <td>ชาย</td>\n",
              "      <td>17.0</td>\n",
              "      <td>Thailand</td>\n",
              "      <td>ขอนแก่น</td>\n",
              "      <td>ขอนแก่น</td>\n",
              "      <td>เมือง</td>\n",
              "      <td>อยู่ระหว่างการสอบสวน</td>\n",
              "    </tr>\n",
              "    <tr>\n",
              "      <th>9334</th>\n",
              "      <td>9335</td>\n",
              "      <td>1/7/2021</td>\n",
              "      <td>1/6/2021</td>\n",
              "      <td>ชาย</td>\n",
              "      <td>20.0</td>\n",
              "      <td>Thailand</td>\n",
              "      <td>ขอนแก่น</td>\n",
              "      <td>ขอนแก่น</td>\n",
              "      <td>เมือง</td>\n",
              "      <td>สัมผัสใกล้ชิดกับผู้ป่วยยืนยันรายก่อนหน้านี้</td>\n",
              "    </tr>\n",
              "    <tr>\n",
              "      <th>10610</th>\n",
              "      <td>10611</td>\n",
              "      <td>1/12/2021</td>\n",
              "      <td>1/11/2021</td>\n",
              "      <td>ชาย</td>\n",
              "      <td>17.0</td>\n",
              "      <td>Thailand</td>\n",
              "      <td>ขอนแก่น</td>\n",
              "      <td>ขอนแก่น</td>\n",
              "      <td>เมือง</td>\n",
              "      <td>สัมผัสใกล้ชิดกับผู้ป่วยยืนยันรายก่อนหน้านี้</td>\n",
              "    </tr>\n",
              "    <tr>\n",
              "      <th>11517</th>\n",
              "      <td>11518</td>\n",
              "      <td>1/16/2021</td>\n",
              "      <td>1/15/2021</td>\n",
              "      <td>ชาย</td>\n",
              "      <td>12.0</td>\n",
              "      <td>Thailand</td>\n",
              "      <td>ขอนแก่น</td>\n",
              "      <td>ขอนแก่น</td>\n",
              "      <td>เมือง</td>\n",
              "      <td>อยู่ระหว่างการสอบสวน</td>\n",
              "    </tr>\n",
              "    <tr>\n",
              "      <th>11697</th>\n",
              "      <td>11698</td>\n",
              "      <td>1/17/2021</td>\n",
              "      <td>1/16/2021</td>\n",
              "      <td>หญิง</td>\n",
              "      <td>17.0</td>\n",
              "      <td>Thailand</td>\n",
              "      <td>ขอนแก่น</td>\n",
              "      <td>ขอนแก่น</td>\n",
              "      <td>เมือง</td>\n",
              "      <td>สัมผัสใกล้ชิดกับผู้ป่วยยืนยันรายก่อนหน้านี้</td>\n",
              "    </tr>\n",
              "    <tr>\n",
              "      <th>11698</th>\n",
              "      <td>11699</td>\n",
              "      <td>1/17/2021</td>\n",
              "      <td>1/16/2021</td>\n",
              "      <td>หญิง</td>\n",
              "      <td>37.0</td>\n",
              "      <td>Thailand</td>\n",
              "      <td>ขอนแก่น</td>\n",
              "      <td>ขอนแก่น</td>\n",
              "      <td>เมือง</td>\n",
              "      <td>สัมผัสใกล้ชิดกับผู้ป่วยยืนยันรายก่อนหน้านี้</td>\n",
              "    </tr>\n",
              "  </tbody>\n",
              "</table>\n",
              "</div>"
            ],
            "text/plain": [
              "         No.  ...                                           risk\n",
              "180      181  ...                                        สนามมวย\n",
              "462      463  ...    สัมผัสใกล้ชิดกับผู้ป่วยยืนยันรายก่อนหน้านี้\n",
              "1466    1467  ...                  คนไทยเดินทางกลับจากต่างประเทศ\n",
              "1970    1971  ...  ไปสถานที่ชุมชน เช่น ตลาดนัด สถานที่ท่องเที่ยว\n",
              "2637    2638  ...                  สัมผัสผู้เดินทางจากต่างประเทศ\n",
              "2673    2674  ...    สัมผัสใกล้ชิดกับผู้ป่วยยืนยันรายก่อนหน้านี้\n",
              "5948    5949  ...                              Cluster สมุทรสาคร\n",
              "6082    6083  ...                              Cluster สมุทรสาคร\n",
              "9333    9334  ...                           อยู่ระหว่างการสอบสวน\n",
              "9334    9335  ...    สัมผัสใกล้ชิดกับผู้ป่วยยืนยันรายก่อนหน้านี้\n",
              "10610  10611  ...    สัมผัสใกล้ชิดกับผู้ป่วยยืนยันรายก่อนหน้านี้\n",
              "11517  11518  ...                           อยู่ระหว่างการสอบสวน\n",
              "11697  11698  ...    สัมผัสใกล้ชิดกับผู้ป่วยยืนยันรายก่อนหน้านี้\n",
              "11698  11699  ...    สัมผัสใกล้ชิดกับผู้ป่วยยืนยันรายก่อนหน้านี้\n",
              "\n",
              "[14 rows x 10 columns]"
            ]
          },
          "metadata": {
            "tags": []
          },
          "execution_count": 12
        }
      ]
    },
    {
      "cell_type": "markdown",
      "metadata": {
        "id": "UsGu93Qo3_7X"
      },
      "source": [
        "data_covid[x] x สามารถมีค่าที่ใส่เข้าไปได้ 2 แบบ\r\n",
        "\r\n",
        "\r\n",
        "\r\n",
        "1.   ชื่อ column\r\n",
        "2.   ใส่ row ที่ต้องการ (ใส่ list ที่มีขนาดเท่ากับจำนวนแถว แล้วบอกว่าเอาแถวไหนบ้างโดยใช้ logical expression (True/False))\r\n",
        "\r\n"
      ]
    },
    {
      "cell_type": "code",
      "metadata": {
        "colab": {
          "base_uri": "https://localhost:8080/",
          "height": 1000
        },
        "id": "Cpig8-zF3eP2",
        "outputId": "64b56da1-7df2-4e18-ee9c-a60822507a14"
      },
      "source": [
        "eight = data_covid.iloc[:8,:]\r\n",
        "eight"
      ],
      "execution_count": 13,
      "outputs": [
        {
          "output_type": "execute_result",
          "data": {
            "text/html": [
              "<div>\n",
              "<style scoped>\n",
              "    .dataframe tbody tr th:only-of-type {\n",
              "        vertical-align: middle;\n",
              "    }\n",
              "\n",
              "    .dataframe tbody tr th {\n",
              "        vertical-align: top;\n",
              "    }\n",
              "\n",
              "    .dataframe thead th {\n",
              "        text-align: right;\n",
              "    }\n",
              "</style>\n",
              "<table border=\"1\" class=\"dataframe\">\n",
              "  <thead>\n",
              "    <tr style=\"text-align: right;\">\n",
              "      <th></th>\n",
              "      <th>No.</th>\n",
              "      <th>announce_date</th>\n",
              "      <th>notification_date</th>\n",
              "      <th>sex</th>\n",
              "      <th>age</th>\n",
              "      <th>nationality</th>\n",
              "      <th>province_of_isolation</th>\n",
              "      <th>province_of_onset</th>\n",
              "      <th>district_of_onset</th>\n",
              "      <th>risk</th>\n",
              "    </tr>\n",
              "  </thead>\n",
              "  <tbody>\n",
              "    <tr>\n",
              "      <th>0</th>\n",
              "      <td>1</td>\n",
              "      <td>1/12/2020</td>\n",
              "      <td>NaN</td>\n",
              "      <td>หญิง</td>\n",
              "      <td>61.0</td>\n",
              "      <td>China</td>\n",
              "      <td>กรุงเทพมหานคร</td>\n",
              "      <td>กรุงเทพมหานคร</td>\n",
              "      <td>NaN</td>\n",
              "      <td>คนต่างชาติเดินทางมาจากต่างประเทศ</td>\n",
              "    </tr>\n",
              "    <tr>\n",
              "      <th>1</th>\n",
              "      <td>2</td>\n",
              "      <td>1/17/2020</td>\n",
              "      <td>NaN</td>\n",
              "      <td>หญิง</td>\n",
              "      <td>74.0</td>\n",
              "      <td>China</td>\n",
              "      <td>กรุงเทพมหานคร</td>\n",
              "      <td>กรุงเทพมหานคร</td>\n",
              "      <td>NaN</td>\n",
              "      <td>คนต่างชาติเดินทางมาจากต่างประเทศ</td>\n",
              "    </tr>\n",
              "    <tr>\n",
              "      <th>2</th>\n",
              "      <td>3</td>\n",
              "      <td>1/22/2020</td>\n",
              "      <td>NaN</td>\n",
              "      <td>หญิง</td>\n",
              "      <td>73.0</td>\n",
              "      <td>Thailand</td>\n",
              "      <td>นครปฐม</td>\n",
              "      <td>นครปฐม</td>\n",
              "      <td>เมือง</td>\n",
              "      <td>คนต่างชาติเดินทางมาจากต่างประเทศ</td>\n",
              "    </tr>\n",
              "    <tr>\n",
              "      <th>3</th>\n",
              "      <td>4</td>\n",
              "      <td>1/22/2020</td>\n",
              "      <td>NaN</td>\n",
              "      <td>ชาย</td>\n",
              "      <td>68.0</td>\n",
              "      <td>China</td>\n",
              "      <td>กรุงเทพมหานคร</td>\n",
              "      <td>กรุงเทพมหานคร</td>\n",
              "      <td>NaN</td>\n",
              "      <td>คนต่างชาติเดินทางมาจากต่างประเทศ</td>\n",
              "    </tr>\n",
              "    <tr>\n",
              "      <th>4</th>\n",
              "      <td>5</td>\n",
              "      <td>1/24/2020</td>\n",
              "      <td>NaN</td>\n",
              "      <td>หญิง</td>\n",
              "      <td>66.0</td>\n",
              "      <td>China</td>\n",
              "      <td>นนทบุรี</td>\n",
              "      <td>กรุงเทพมหานคร</td>\n",
              "      <td>NaN</td>\n",
              "      <td>คนต่างชาติเดินทางมาจากต่างประเทศ</td>\n",
              "    </tr>\n",
              "    <tr>\n",
              "      <th>5</th>\n",
              "      <td>6</td>\n",
              "      <td>1/25/2020</td>\n",
              "      <td>NaN</td>\n",
              "      <td>หญิง</td>\n",
              "      <td>33.0</td>\n",
              "      <td>China</td>\n",
              "      <td>กรุงเทพมหานคร</td>\n",
              "      <td>กรุงเทพมหานคร</td>\n",
              "      <td>NaN</td>\n",
              "      <td>คนต่างชาติเดินทางมาจากต่างประเทศ</td>\n",
              "    </tr>\n",
              "    <tr>\n",
              "      <th>6</th>\n",
              "      <td>7</td>\n",
              "      <td>1/26/2020</td>\n",
              "      <td>NaN</td>\n",
              "      <td>หญิง</td>\n",
              "      <td>57.0</td>\n",
              "      <td>China</td>\n",
              "      <td>กรุงเทพมหานคร</td>\n",
              "      <td>กรุงเทพมหานคร</td>\n",
              "      <td>NaN</td>\n",
              "      <td>คนต่างชาติเดินทางมาจากต่างประเทศ</td>\n",
              "    </tr>\n",
              "    <tr>\n",
              "      <th>7</th>\n",
              "      <td>8</td>\n",
              "      <td>1/26/2020</td>\n",
              "      <td>NaN</td>\n",
              "      <td>หญิง</td>\n",
              "      <td>73.0</td>\n",
              "      <td>China</td>\n",
              "      <td>ประจวบคีรีขันธ์</td>\n",
              "      <td>ประจวบคีรีขันธ์</td>\n",
              "      <td>หัวหิน</td>\n",
              "      <td>คนต่างชาติเดินทางมาจากต่างประเทศ</td>\n",
              "    </tr>\n",
              "  </tbody>\n",
              "</table>\n",
              "</div>"
            ],
            "text/plain": [
              "   No. announce_date  ... district_of_onset                              risk\n",
              "0    1     1/12/2020  ...               NaN  คนต่างชาติเดินทางมาจากต่างประเทศ\n",
              "1    2     1/17/2020  ...               NaN  คนต่างชาติเดินทางมาจากต่างประเทศ\n",
              "2    3     1/22/2020  ...             เมือง  คนต่างชาติเดินทางมาจากต่างประเทศ\n",
              "3    4     1/22/2020  ...               NaN  คนต่างชาติเดินทางมาจากต่างประเทศ\n",
              "4    5     1/24/2020  ...               NaN  คนต่างชาติเดินทางมาจากต่างประเทศ\n",
              "5    6     1/25/2020  ...               NaN  คนต่างชาติเดินทางมาจากต่างประเทศ\n",
              "6    7     1/26/2020  ...               NaN  คนต่างชาติเดินทางมาจากต่างประเทศ\n",
              "7    8     1/26/2020  ...            หัวหิน  คนต่างชาติเดินทางมาจากต่างประเทศ\n",
              "\n",
              "[8 rows x 10 columns]"
            ]
          },
          "metadata": {
            "tags": []
          },
          "execution_count": 13
        }
      ]
    },
    {
      "cell_type": "code",
      "metadata": {
        "id": "uX6rwcaj5dZK",
        "colab": {
          "base_uri": "https://localhost:8080/",
          "height": 589
        },
        "outputId": "28e014ad-e9c8-4409-a309-2d2ac883031a"
      },
      "source": [
        "eight[[True,False,True,True,False,True,False,False]]"
      ],
      "execution_count": 14,
      "outputs": [
        {
          "output_type": "execute_result",
          "data": {
            "text/html": [
              "<div>\n",
              "<style scoped>\n",
              "    .dataframe tbody tr th:only-of-type {\n",
              "        vertical-align: middle;\n",
              "    }\n",
              "\n",
              "    .dataframe tbody tr th {\n",
              "        vertical-align: top;\n",
              "    }\n",
              "\n",
              "    .dataframe thead th {\n",
              "        text-align: right;\n",
              "    }\n",
              "</style>\n",
              "<table border=\"1\" class=\"dataframe\">\n",
              "  <thead>\n",
              "    <tr style=\"text-align: right;\">\n",
              "      <th></th>\n",
              "      <th>No.</th>\n",
              "      <th>announce_date</th>\n",
              "      <th>notification_date</th>\n",
              "      <th>sex</th>\n",
              "      <th>age</th>\n",
              "      <th>nationality</th>\n",
              "      <th>province_of_isolation</th>\n",
              "      <th>province_of_onset</th>\n",
              "      <th>district_of_onset</th>\n",
              "      <th>risk</th>\n",
              "    </tr>\n",
              "  </thead>\n",
              "  <tbody>\n",
              "    <tr>\n",
              "      <th>0</th>\n",
              "      <td>1</td>\n",
              "      <td>1/12/2020</td>\n",
              "      <td>NaN</td>\n",
              "      <td>หญิง</td>\n",
              "      <td>61.0</td>\n",
              "      <td>China</td>\n",
              "      <td>กรุงเทพมหานคร</td>\n",
              "      <td>กรุงเทพมหานคร</td>\n",
              "      <td>NaN</td>\n",
              "      <td>คนต่างชาติเดินทางมาจากต่างประเทศ</td>\n",
              "    </tr>\n",
              "    <tr>\n",
              "      <th>2</th>\n",
              "      <td>3</td>\n",
              "      <td>1/22/2020</td>\n",
              "      <td>NaN</td>\n",
              "      <td>หญิง</td>\n",
              "      <td>73.0</td>\n",
              "      <td>Thailand</td>\n",
              "      <td>นครปฐม</td>\n",
              "      <td>นครปฐม</td>\n",
              "      <td>เมือง</td>\n",
              "      <td>คนต่างชาติเดินทางมาจากต่างประเทศ</td>\n",
              "    </tr>\n",
              "    <tr>\n",
              "      <th>3</th>\n",
              "      <td>4</td>\n",
              "      <td>1/22/2020</td>\n",
              "      <td>NaN</td>\n",
              "      <td>ชาย</td>\n",
              "      <td>68.0</td>\n",
              "      <td>China</td>\n",
              "      <td>กรุงเทพมหานคร</td>\n",
              "      <td>กรุงเทพมหานคร</td>\n",
              "      <td>NaN</td>\n",
              "      <td>คนต่างชาติเดินทางมาจากต่างประเทศ</td>\n",
              "    </tr>\n",
              "    <tr>\n",
              "      <th>5</th>\n",
              "      <td>6</td>\n",
              "      <td>1/25/2020</td>\n",
              "      <td>NaN</td>\n",
              "      <td>หญิง</td>\n",
              "      <td>33.0</td>\n",
              "      <td>China</td>\n",
              "      <td>กรุงเทพมหานคร</td>\n",
              "      <td>กรุงเทพมหานคร</td>\n",
              "      <td>NaN</td>\n",
              "      <td>คนต่างชาติเดินทางมาจากต่างประเทศ</td>\n",
              "    </tr>\n",
              "  </tbody>\n",
              "</table>\n",
              "</div>"
            ],
            "text/plain": [
              "   No. announce_date  ... district_of_onset                              risk\n",
              "0    1     1/12/2020  ...               NaN  คนต่างชาติเดินทางมาจากต่างประเทศ\n",
              "2    3     1/22/2020  ...             เมือง  คนต่างชาติเดินทางมาจากต่างประเทศ\n",
              "3    4     1/22/2020  ...               NaN  คนต่างชาติเดินทางมาจากต่างประเทศ\n",
              "5    6     1/25/2020  ...               NaN  คนต่างชาติเดินทางมาจากต่างประเทศ\n",
              "\n",
              "[4 rows x 10 columns]"
            ]
          },
          "metadata": {
            "tags": []
          },
          "execution_count": 14
        }
      ]
    },
    {
      "cell_type": "code",
      "metadata": {
        "id": "2A8VLULc5qRm",
        "colab": {
          "base_uri": "https://localhost:8080/"
        },
        "outputId": "a5a80d4d-00f8-4a51-e203-882cad0c0649"
      },
      "source": [
        "eight['province_of_onset'] =='กรุงเทพมหานคร'"
      ],
      "execution_count": 15,
      "outputs": [
        {
          "output_type": "execute_result",
          "data": {
            "text/plain": [
              "0     True\n",
              "1     True\n",
              "2    False\n",
              "3     True\n",
              "4     True\n",
              "5     True\n",
              "6     True\n",
              "7    False\n",
              "Name: province_of_onset, dtype: bool"
            ]
          },
          "metadata": {
            "tags": []
          },
          "execution_count": 15
        }
      ]
    },
    {
      "cell_type": "markdown",
      "metadata": {
        "id": "uXKAUITB7_Ls"
      },
      "source": [
        "```\r\n",
        "HW6\r\n",
        "\r\n",
        "1.ให้เราคำนวนอายุเฉลี่ยของผู้หญิงและผู้ชายของข้อมูลทั้งหมด\r\n",
        "\r\n",
        "2.คำนวณอายุเฉลี่ยของผู้หญิงและผู้ชายของผู้ป่วยในจังหวัดขอนแก่น\r\n",
        "\r\n",
        "```\r\n",
        "\r\n"
      ]
    },
    {
      "cell_type": "markdown",
      "metadata": {
        "id": "WhGv3ttjuiVc"
      },
      "source": [
        "#ข้อที่ 1. ให้เราคำนวนอายุเฉลี่ยของผู้หญิงและผู้ชายของข้อมูลทั้งหมด"
      ]
    },
    {
      "cell_type": "code",
      "metadata": {
        "id": "dWEXcAPl9H41"
      },
      "source": [
        "sex_all = data_covid[['sex','age']]\r\n",
        "girl = sex_all[sex_all['sex']=='หญิง']\r\n",
        "list_G = girl[['age']]\r\n",
        "poi = list_G.dropna()"
      ],
      "execution_count": 16,
      "outputs": []
    },
    {
      "cell_type": "code",
      "metadata": {
        "id": "Jmi7Nk91dEw2"
      },
      "source": [
        "ui = poi.values"
      ],
      "execution_count": 17,
      "outputs": []
    },
    {
      "cell_type": "code",
      "metadata": {
        "id": "qvv-I-zBbBg1",
        "colab": {
          "base_uri": "https://localhost:8080/"
        },
        "outputId": "25a9ad77-06e1-4fd6-ba24-bd461ada6e15"
      },
      "source": [
        "poi.mean()"
      ],
      "execution_count": 18,
      "outputs": [
        {
          "output_type": "execute_result",
          "data": {
            "text/plain": [
              "age    36.707883\n",
              "dtype: float64"
            ]
          },
          "metadata": {
            "tags": []
          },
          "execution_count": 18
        }
      ]
    },
    {
      "cell_type": "code",
      "metadata": {
        "id": "anY7oRJ1bWPL"
      },
      "source": [
        "    answer = []\r\n",
        "    for i in ui:\r\n",
        "        data = float(i)\r\n",
        "        answer.append(data)"
      ],
      "execution_count": 19,
      "outputs": []
    },
    {
      "cell_type": "code",
      "metadata": {
        "id": "y2FnwCtogLaN"
      },
      "source": [
        "sex_allB = data_covid[['sex','age']]\r\n",
        "boy = sex_allB[sex_all['sex']=='ชาย']\r\n",
        "list_B = boy[['age']]\r\n",
        "pang = list_B.dropna()"
      ],
      "execution_count": 20,
      "outputs": []
    },
    {
      "cell_type": "code",
      "metadata": {
        "id": "ZkitNPpOgkVY"
      },
      "source": [
        "man = pang.values"
      ],
      "execution_count": 21,
      "outputs": []
    },
    {
      "cell_type": "code",
      "metadata": {
        "id": "Ixv075-qg2du"
      },
      "source": [
        "answerB = []\r\n",
        "for i in man:\r\n",
        "    data = float(i)\r\n",
        "    answerB.append(data)"
      ],
      "execution_count": 22,
      "outputs": []
    },
    {
      "cell_type": "code",
      "metadata": {
        "id": "793Nw95w-1bk"
      },
      "source": [
        "def mean(put):\r\n",
        "    sum = 0\r\n",
        "    for i in put:\r\n",
        "        sum = sum + i\r\n",
        "    mean_girl = sum/len(put)\r\n",
        "    return mean_girl\r\n",
        "    print(mean_girl)\r\n",
        "    "
      ],
      "execution_count": 23,
      "outputs": []
    },
    {
      "cell_type": "code",
      "metadata": {
        "id": "ovhuSFkrBoAl",
        "colab": {
          "base_uri": "https://localhost:8080/"
        },
        "outputId": "dec34ced-8997-4459-f04f-69f64022f241"
      },
      "source": [
        "print(f'อายุเฉลี่ยของผู้หญิงของข้อมูลทั้งหมด = {mean(answer)}')\r\n",
        "print(f'อายุเฉลี่ยชองผู้ชายของข้อมูลทั้งหมด = {mean(answerB)}')"
      ],
      "execution_count": 24,
      "outputs": [
        {
          "output_type": "stream",
          "text": [
            "อายุเฉลี่ยของผู้หญิงของข้อมูลทั้งหมด = 36.70788295640009\n",
            "อายุเฉลี่ยชองผู้ชายของข้อมูลทั้งหมด = 39.55682775996335\n"
          ],
          "name": "stdout"
        }
      ]
    },
    {
      "cell_type": "markdown",
      "metadata": {
        "id": "31NLjdrzuo4l"
      },
      "source": [
        "#ข้อที่ 2. คำนวณอายุเฉลี่ยของผู้หญิงและผู้ชายของผู้ป่วยในจังหวัดขอนแก่น"
      ]
    },
    {
      "cell_type": "code",
      "metadata": {
        "id": "rO3p92JdCznx"
      },
      "source": [
        "table = data_covid[data_covid['province_of_onset']=='ขอนแก่น']"
      ],
      "execution_count": 25,
      "outputs": []
    },
    {
      "cell_type": "code",
      "metadata": {
        "id": "HeZvntYcjN83",
        "colab": {
          "base_uri": "https://localhost:8080/",
          "height": 254
        },
        "outputId": "8b696c3a-13b9-4258-83c4-ea244e5ee953"
      },
      "source": [
        "table2 = table[['sex','age']]\r\n",
        "table3 = table2[table2['sex']=='หญิง']\r\n",
        "table4 = table3[['age']]\r\n",
        "table4"
      ],
      "execution_count": 26,
      "outputs": [
        {
          "output_type": "execute_result",
          "data": {
            "text/html": [
              "<div>\n",
              "<style scoped>\n",
              "    .dataframe tbody tr th:only-of-type {\n",
              "        vertical-align: middle;\n",
              "    }\n",
              "\n",
              "    .dataframe tbody tr th {\n",
              "        vertical-align: top;\n",
              "    }\n",
              "\n",
              "    .dataframe thead th {\n",
              "        text-align: right;\n",
              "    }\n",
              "</style>\n",
              "<table border=\"1\" class=\"dataframe\">\n",
              "  <thead>\n",
              "    <tr style=\"text-align: right;\">\n",
              "      <th></th>\n",
              "      <th>age</th>\n",
              "    </tr>\n",
              "  </thead>\n",
              "  <tbody>\n",
              "    <tr>\n",
              "      <th>462</th>\n",
              "      <td>36.0</td>\n",
              "    </tr>\n",
              "    <tr>\n",
              "      <th>1970</th>\n",
              "      <td>70.0</td>\n",
              "    </tr>\n",
              "    <tr>\n",
              "      <th>2637</th>\n",
              "      <td>63.0</td>\n",
              "    </tr>\n",
              "    <tr>\n",
              "      <th>5948</th>\n",
              "      <td>32.0</td>\n",
              "    </tr>\n",
              "    <tr>\n",
              "      <th>6082</th>\n",
              "      <td>36.0</td>\n",
              "    </tr>\n",
              "    <tr>\n",
              "      <th>11697</th>\n",
              "      <td>17.0</td>\n",
              "    </tr>\n",
              "    <tr>\n",
              "      <th>11698</th>\n",
              "      <td>37.0</td>\n",
              "    </tr>\n",
              "  </tbody>\n",
              "</table>\n",
              "</div>"
            ],
            "text/plain": [
              "        age\n",
              "462    36.0\n",
              "1970   70.0\n",
              "2637   63.0\n",
              "5948   32.0\n",
              "6082   36.0\n",
              "11697  17.0\n",
              "11698  37.0"
            ]
          },
          "metadata": {
            "tags": []
          },
          "execution_count": 26
        }
      ]
    },
    {
      "cell_type": "code",
      "metadata": {
        "id": "oVLfm1YojoLr"
      },
      "source": [
        "girl_khonkan = table4.values"
      ],
      "execution_count": 27,
      "outputs": []
    },
    {
      "cell_type": "code",
      "metadata": {
        "id": "SPdN2EWrkmG7"
      },
      "source": [
        "kk_girl = []\r\n",
        "for i in girl_khonkan:\r\n",
        "    data = float(i)\r\n",
        "    kk_girl.append(data)"
      ],
      "execution_count": 28,
      "outputs": []
    },
    {
      "cell_type": "code",
      "metadata": {
        "id": "u7Yq-8cfk3wZ",
        "colab": {
          "base_uri": "https://localhost:8080/",
          "height": 254
        },
        "outputId": "1474d182-d0d4-4976-b269-21d1e4b8f39f"
      },
      "source": [
        "table2 = table[['sex','age']]\r\n",
        "tableB = table2[table2['sex']=='ชาย']\r\n",
        "table_B = tableB[['age']]\r\n",
        "table_B"
      ],
      "execution_count": 29,
      "outputs": [
        {
          "output_type": "execute_result",
          "data": {
            "text/html": [
              "<div>\n",
              "<style scoped>\n",
              "    .dataframe tbody tr th:only-of-type {\n",
              "        vertical-align: middle;\n",
              "    }\n",
              "\n",
              "    .dataframe tbody tr th {\n",
              "        vertical-align: top;\n",
              "    }\n",
              "\n",
              "    .dataframe thead th {\n",
              "        text-align: right;\n",
              "    }\n",
              "</style>\n",
              "<table border=\"1\" class=\"dataframe\">\n",
              "  <thead>\n",
              "    <tr style=\"text-align: right;\">\n",
              "      <th></th>\n",
              "      <th>age</th>\n",
              "    </tr>\n",
              "  </thead>\n",
              "  <tbody>\n",
              "    <tr>\n",
              "      <th>180</th>\n",
              "      <td>33.0</td>\n",
              "    </tr>\n",
              "    <tr>\n",
              "      <th>1466</th>\n",
              "      <td>19.0</td>\n",
              "    </tr>\n",
              "    <tr>\n",
              "      <th>2673</th>\n",
              "      <td>68.0</td>\n",
              "    </tr>\n",
              "    <tr>\n",
              "      <th>9333</th>\n",
              "      <td>17.0</td>\n",
              "    </tr>\n",
              "    <tr>\n",
              "      <th>9334</th>\n",
              "      <td>20.0</td>\n",
              "    </tr>\n",
              "    <tr>\n",
              "      <th>10610</th>\n",
              "      <td>17.0</td>\n",
              "    </tr>\n",
              "    <tr>\n",
              "      <th>11517</th>\n",
              "      <td>12.0</td>\n",
              "    </tr>\n",
              "  </tbody>\n",
              "</table>\n",
              "</div>"
            ],
            "text/plain": [
              "        age\n",
              "180    33.0\n",
              "1466   19.0\n",
              "2673   68.0\n",
              "9333   17.0\n",
              "9334   20.0\n",
              "10610  17.0\n",
              "11517  12.0"
            ]
          },
          "metadata": {
            "tags": []
          },
          "execution_count": 29
        }
      ]
    },
    {
      "cell_type": "code",
      "metadata": {
        "id": "RSxWqFCAldj_"
      },
      "source": [
        "boy_khonkan = table_B.values"
      ],
      "execution_count": 30,
      "outputs": []
    },
    {
      "cell_type": "code",
      "metadata": {
        "id": "nHPK4RZ8llmn"
      },
      "source": [
        "kk_boy = []\r\n",
        "for i in boy_khonkan:\r\n",
        "    data = float(i)\r\n",
        "    kk_boy.append(data)"
      ],
      "execution_count": 31,
      "outputs": []
    },
    {
      "cell_type": "code",
      "metadata": {
        "id": "v2kYkuJBlxcv",
        "colab": {
          "base_uri": "https://localhost:8080/"
        },
        "outputId": "ea3ec1ce-4abb-4632-f7dd-9c461309c2f5"
      },
      "source": [
        "print(f'อายุเฉลี่ยของผู้หญิงจากข้อมูลผู้ป่วยในจังหวัดขอนแก่น = {mean(kk_girl)}')\r\n",
        "print(f'อายุเฉลี่ยของผู้ชายจากข้อมูลผู้ป่วยในจังหวัดขอนแก่น = {mean(kk_boy)}')"
      ],
      "execution_count": 32,
      "outputs": [
        {
          "output_type": "stream",
          "text": [
            "อายุเฉลี่ยของผู้หญิงจากข้อมูลผู้ป่วยในจังหวัดขอนแก่น = 41.57142857142857\n",
            "อายุเฉลี่ยของผู้ชายจากข้อมูลผู้ป่วยในจังหวัดขอนแก่น = 26.571428571428573\n"
          ],
          "name": "stdout"
        }
      ]
    },
    {
      "cell_type": "code",
      "metadata": {
        "id": "cDUsJkRNl8-U"
      },
      "source": [
        "def me(province,sex,put):\r\n",
        "    table1 = data_covid[data_covid['province_of_onset']==f'{province}']\r\n",
        "    R_allB = table1[['sex','age']]\r\n",
        "    RT = R_allB[R_allB['sex']==f'{sex}']\r\n",
        "    list_BT = RT[['age']]\r\n",
        "    pang1 = list_BT.dropna()\r\n",
        "    man1 = pang1.values\r\n",
        "    put = []\r\n",
        "    for i in man1:\r\n",
        "        data = float(i)\r\n",
        "        put.append(data)    \r\n",
        "    sum = 0\r\n",
        "    for i in put:\r\n",
        "        sum = sum + i\r\n",
        "    mean_girl = sum/len(put)\r\n",
        "    return mean_girl\r\n",
        "    print(mean_girl)"
      ],
      "execution_count": 54,
      "outputs": []
    },
    {
      "cell_type": "markdown",
      "metadata": {
        "id": "3kRekEKPcT35"
      },
      "source": [
        "การจัดการ Missing Value\r\n",
        "\r\n",
        "- ลบ record ที่เป็น Missing\r\n",
        "- แทนที่ค่า missing ด้วยค่าที่เหมาะสม..."
      ]
    },
    {
      "cell_type": "markdown",
      "metadata": {
        "id": "_-fPTANued5A"
      },
      "source": [
        "###ลบ record (dropna)\r\n",
        "\r\n",
        "missing = ```None```NA(not autozie)"
      ]
    },
    {
      "cell_type": "code",
      "metadata": {
        "id": "xnSt2FjYcDhW",
        "outputId": "d27a5eaa-a2a8-40d5-de0d-31c3e3d73ede",
        "colab": {
          "base_uri": "https://localhost:8080/"
        }
      },
      "source": [
        "this_data = data_covid[['sex','age','province_of_onset']]\r\n",
        "this_data.shape "
      ],
      "execution_count": 56,
      "outputs": [
        {
          "output_type": "execute_result",
          "data": {
            "text/plain": [
              "(12423, 3)"
            ]
          },
          "metadata": {
            "tags": []
          },
          "execution_count": 56
        }
      ]
    },
    {
      "cell_type": "code",
      "metadata": {
        "id": "VLesSMCRfYYC",
        "outputId": "1b77fd5c-7f7e-418e-e957-5fca4e92b5ed",
        "colab": {
          "base_uri": "https://localhost:8080/"
        }
      },
      "source": [
        "print(this_data.shape)\r\n",
        "print(this_data.dropna().shape )"
      ],
      "execution_count": 57,
      "outputs": [
        {
          "output_type": "stream",
          "text": [
            "(12423, 3)\n",
            "(8253, 3)\n"
          ],
          "name": "stdout"
        }
      ]
    },
    {
      "cell_type": "code",
      "metadata": {
        "id": "NiDTJrjmhK8K",
        "outputId": "d33f050b-eeef-4914-a057-1365921ee075",
        "colab": {
          "base_uri": "https://localhost:8080/"
        }
      },
      "source": [
        "this_data.dropna(inplace=True)\r\n",
        "print(this_data.shape)"
      ],
      "execution_count": 59,
      "outputs": [
        {
          "output_type": "stream",
          "text": [
            "(8253, 3)\n"
          ],
          "name": "stdout"
        },
        {
          "output_type": "stream",
          "text": [
            "/usr/local/lib/python3.6/dist-packages/ipykernel_launcher.py:1: SettingWithCopyWarning: \n",
            "A value is trying to be set on a copy of a slice from a DataFrame\n",
            "\n",
            "See the caveats in the documentation: https://pandas.pydata.org/pandas-docs/stable/user_guide/indexing.html#returning-a-view-versus-a-copy\n",
            "  \"\"\"Entry point for launching an IPython kernel.\n"
          ],
          "name": "stderr"
        }
      ]
    },
    {
      "cell_type": "code",
      "metadata": {
        "id": "igUhMbaIhqJV",
        "outputId": "c855db02-e2b3-4273-86f6-8513a1d7819c",
        "colab": {
          "base_uri": "https://localhost:8080/"
        }
      },
      "source": [
        "this_data.dropna(subset=['age']).shape"
      ],
      "execution_count": 61,
      "outputs": [
        {
          "output_type": "execute_result",
          "data": {
            "text/plain": [
              "(8253, 3)"
            ]
          },
          "metadata": {
            "tags": []
          },
          "execution_count": 61
        }
      ]
    },
    {
      "cell_type": "markdown",
      "metadata": {
        "id": "cXHi8zr0kCs9"
      },
      "source": [
        "แทน missing ด้วยค่าที่เหมาะสม fillna()"
      ]
    },
    {
      "cell_type": "code",
      "metadata": {
        "id": "q7MmSq9FkBxH",
        "outputId": "c5bff18b-42a4-4192-f3f0-6618030c6840",
        "colab": {
          "base_uri": "https://localhost:8080/",
          "height": 195
        }
      },
      "source": [
        "this_data.head()"
      ],
      "execution_count": 62,
      "outputs": [
        {
          "output_type": "execute_result",
          "data": {
            "text/html": [
              "<div>\n",
              "<style scoped>\n",
              "    .dataframe tbody tr th:only-of-type {\n",
              "        vertical-align: middle;\n",
              "    }\n",
              "\n",
              "    .dataframe tbody tr th {\n",
              "        vertical-align: top;\n",
              "    }\n",
              "\n",
              "    .dataframe thead th {\n",
              "        text-align: right;\n",
              "    }\n",
              "</style>\n",
              "<table border=\"1\" class=\"dataframe\">\n",
              "  <thead>\n",
              "    <tr style=\"text-align: right;\">\n",
              "      <th></th>\n",
              "      <th>sex</th>\n",
              "      <th>age</th>\n",
              "      <th>province_of_onset</th>\n",
              "    </tr>\n",
              "  </thead>\n",
              "  <tbody>\n",
              "    <tr>\n",
              "      <th>0</th>\n",
              "      <td>หญิง</td>\n",
              "      <td>61.0</td>\n",
              "      <td>กรุงเทพมหานคร</td>\n",
              "    </tr>\n",
              "    <tr>\n",
              "      <th>1</th>\n",
              "      <td>หญิง</td>\n",
              "      <td>74.0</td>\n",
              "      <td>กรุงเทพมหานคร</td>\n",
              "    </tr>\n",
              "    <tr>\n",
              "      <th>2</th>\n",
              "      <td>หญิง</td>\n",
              "      <td>73.0</td>\n",
              "      <td>นครปฐม</td>\n",
              "    </tr>\n",
              "    <tr>\n",
              "      <th>3</th>\n",
              "      <td>ชาย</td>\n",
              "      <td>68.0</td>\n",
              "      <td>กรุงเทพมหานคร</td>\n",
              "    </tr>\n",
              "    <tr>\n",
              "      <th>4</th>\n",
              "      <td>หญิง</td>\n",
              "      <td>66.0</td>\n",
              "      <td>กรุงเทพมหานคร</td>\n",
              "    </tr>\n",
              "  </tbody>\n",
              "</table>\n",
              "</div>"
            ],
            "text/plain": [
              "    sex   age province_of_onset\n",
              "0  หญิง  61.0     กรุงเทพมหานคร\n",
              "1  หญิง  74.0     กรุงเทพมหานคร\n",
              "2  หญิง  73.0            นครปฐม\n",
              "3   ชาย  68.0     กรุงเทพมหานคร\n",
              "4  หญิง  66.0     กรุงเทพมหานคร"
            ]
          },
          "metadata": {
            "tags": []
          },
          "execution_count": 62
        }
      ]
    },
    {
      "cell_type": "code",
      "metadata": {
        "id": "AxTLwnPHmYGT"
      },
      "source": [
        "this_data = data_covid[['sex','age','province_of_onset']]"
      ],
      "execution_count": 65,
      "outputs": []
    },
    {
      "cell_type": "code",
      "metadata": {
        "id": "b-hnsbVejSAx",
        "outputId": "b7730d83-3113-4937-861d-02721fdae9d8",
        "colab": {
          "base_uri": "https://localhost:8080/"
        }
      },
      "source": [
        "print(f'จำนวน record ก่อน drop missing ใน province {this_data.shape[0]}')\r\n",
        "print(f\"จำนวน record หลัง drop missing ใน province {this_data.dropna(subset=['province_of_onset']).shape[0]}\")"
      ],
      "execution_count": 66,
      "outputs": [
        {
          "output_type": "stream",
          "text": [
            "จำนวน record ก่อน drop missing ใน province 12423\n",
            "จำนวน record หลัง drop missing ใน province 10432\n"
          ],
          "name": "stdout"
        }
      ]
    },
    {
      "cell_type": "code",
      "metadata": {
        "id": "RtRpX5B2lNj_"
      },
      "source": [
        "this_data_update = this_data.fillna(value={'sex':'ไม่รู้','age':-1,'province_of_onset':'ไม่รู้'})"
      ],
      "execution_count": 69,
      "outputs": []
    },
    {
      "cell_type": "code",
      "metadata": {
        "id": "qfDLBK4SoJh5",
        "outputId": "f0fefc70-a01d-4e0e-f86f-b56e138c89fb",
        "colab": {
          "base_uri": "https://localhost:8080/",
          "height": 402
        }
      },
      "source": [
        "this_data_update[this_data_update['sex']=='ไม่รู้']"
      ],
      "execution_count": 70,
      "outputs": [
        {
          "output_type": "execute_result",
          "data": {
            "text/html": [
              "<div>\n",
              "<style scoped>\n",
              "    .dataframe tbody tr th:only-of-type {\n",
              "        vertical-align: middle;\n",
              "    }\n",
              "\n",
              "    .dataframe tbody tr th {\n",
              "        vertical-align: top;\n",
              "    }\n",
              "\n",
              "    .dataframe thead th {\n",
              "        text-align: right;\n",
              "    }\n",
              "</style>\n",
              "<table border=\"1\" class=\"dataframe\">\n",
              "  <thead>\n",
              "    <tr style=\"text-align: right;\">\n",
              "      <th></th>\n",
              "      <th>sex</th>\n",
              "      <th>age</th>\n",
              "      <th>province_of_onset</th>\n",
              "    </tr>\n",
              "  </thead>\n",
              "  <tbody>\n",
              "    <tr>\n",
              "      <th>4391</th>\n",
              "      <td>ไม่รู้</td>\n",
              "      <td>-1.0</td>\n",
              "      <td>สมุทรสาคร</td>\n",
              "    </tr>\n",
              "    <tr>\n",
              "      <th>4392</th>\n",
              "      <td>ไม่รู้</td>\n",
              "      <td>-1.0</td>\n",
              "      <td>สมุทรสาคร</td>\n",
              "    </tr>\n",
              "    <tr>\n",
              "      <th>4393</th>\n",
              "      <td>ไม่รู้</td>\n",
              "      <td>-1.0</td>\n",
              "      <td>สมุทรสาคร</td>\n",
              "    </tr>\n",
              "    <tr>\n",
              "      <th>4394</th>\n",
              "      <td>ไม่รู้</td>\n",
              "      <td>-1.0</td>\n",
              "      <td>สมุทรสาคร</td>\n",
              "    </tr>\n",
              "    <tr>\n",
              "      <th>4395</th>\n",
              "      <td>ไม่รู้</td>\n",
              "      <td>-1.0</td>\n",
              "      <td>สมุทรสาคร</td>\n",
              "    </tr>\n",
              "    <tr>\n",
              "      <th>...</th>\n",
              "      <td>...</td>\n",
              "      <td>...</td>\n",
              "      <td>...</td>\n",
              "    </tr>\n",
              "    <tr>\n",
              "      <th>12405</th>\n",
              "      <td>ไม่รู้</td>\n",
              "      <td>-1.0</td>\n",
              "      <td>ไม่รู้</td>\n",
              "    </tr>\n",
              "    <tr>\n",
              "      <th>12406</th>\n",
              "      <td>ไม่รู้</td>\n",
              "      <td>-1.0</td>\n",
              "      <td>ไม่รู้</td>\n",
              "    </tr>\n",
              "    <tr>\n",
              "      <th>12407</th>\n",
              "      <td>ไม่รู้</td>\n",
              "      <td>-1.0</td>\n",
              "      <td>ไม่รู้</td>\n",
              "    </tr>\n",
              "    <tr>\n",
              "      <th>12408</th>\n",
              "      <td>ไม่รู้</td>\n",
              "      <td>-1.0</td>\n",
              "      <td>ไม่รู้</td>\n",
              "    </tr>\n",
              "    <tr>\n",
              "      <th>12409</th>\n",
              "      <td>ไม่รู้</td>\n",
              "      <td>-1.0</td>\n",
              "      <td>ไม่รู้</td>\n",
              "    </tr>\n",
              "  </tbody>\n",
              "</table>\n",
              "<p>2497 rows × 3 columns</p>\n",
              "</div>"
            ],
            "text/plain": [
              "          sex  age province_of_onset\n",
              "4391   ไม่รู้ -1.0         สมุทรสาคร\n",
              "4392   ไม่รู้ -1.0         สมุทรสาคร\n",
              "4393   ไม่รู้ -1.0         สมุทรสาคร\n",
              "4394   ไม่รู้ -1.0         สมุทรสาคร\n",
              "4395   ไม่รู้ -1.0         สมุทรสาคร\n",
              "...       ...  ...               ...\n",
              "12405  ไม่รู้ -1.0            ไม่รู้\n",
              "12406  ไม่รู้ -1.0            ไม่รู้\n",
              "12407  ไม่รู้ -1.0            ไม่รู้\n",
              "12408  ไม่รู้ -1.0            ไม่รู้\n",
              "12409  ไม่รู้ -1.0            ไม่รู้\n",
              "\n",
              "[2497 rows x 3 columns]"
            ]
          },
          "metadata": {
            "tags": []
          },
          "execution_count": 70
        }
      ]
    },
    {
      "cell_type": "markdown",
      "metadata": {
        "id": "EptyW7pItzGe"
      },
      "source": [
        "การวนลูป record ในตาราง"
      ]
    },
    {
      "cell_type": "code",
      "metadata": {
        "id": "S3tJnajqoqrR",
        "outputId": "3a3e9ac5-a82c-4282-963f-127a8827bd28",
        "colab": {
          "base_uri": "https://localhost:8080/"
        }
      },
      "source": [
        "for each_row in this_data.iterrows():\r\n",
        "    if (each_row[1]['age']==20) and (each_row[1]['province_of_onset']=='ขอนแก่น'): \r\n",
        "        print(each_row)"
      ],
      "execution_count": 76,
      "outputs": [
        {
          "output_type": "stream",
          "text": [
            "(9334, sex                      ชาย\n",
            "age                       20\n",
            "province_of_onset    ขอนแก่น\n",
            "Name: 9334, dtype: object)\n"
          ],
          "name": "stdout"
        }
      ]
    },
    {
      "cell_type": "code",
      "metadata": {
        "id": "WhubJHZNucWV"
      },
      "source": [
        ""
      ],
      "execution_count": null,
      "outputs": []
    }
  ]
}