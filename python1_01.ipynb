{
  "nbformat": 4,
  "nbformat_minor": 0,
  "metadata": {
    "colab": {
      "name": "python1.01.ipynb",
      "provenance": [],
      "authorship_tag": "ABX9TyOlKkDERw+LxRgL5sOpTljA",
      "include_colab_link": true
    },
    "kernelspec": {
      "name": "python3",
      "display_name": "Python 3"
    }
  },
  "cells": [
    {
      "cell_type": "markdown",
      "metadata": {
        "id": "view-in-github",
        "colab_type": "text"
      },
      "source": [
        "<a href=\"https://colab.research.google.com/github/thanadolch/data_viz/blob/main/python1_01.ipynb\" target=\"_parent\"><img src=\"https://colab.research.google.com/assets/colab-badge.svg\" alt=\"Open In Colab\"/></a>"
      ]
    },
    {
      "cell_type": "markdown",
      "metadata": {
        "id": "8AHKDouKNIuI"
      },
      "source": [
        "Variables"
      ]
    },
    {
      "cell_type": "code",
      "metadata": {
        "colab": {
          "base_uri": "https://localhost:8080/"
        },
        "id": "agP0YdJDMyX_",
        "outputId": "8725e8ef-9476-4069-abe6-88fdb48c7b0f"
      },
      "source": [
        "3.14159265359"
      ],
      "execution_count": null,
      "outputs": [
        {
          "output_type": "execute_result",
          "data": {
            "text/plain": [
              "3.14159265359"
            ]
          },
          "metadata": {
            "tags": []
          },
          "execution_count": 3
        }
      ]
    },
    {
      "cell_type": "markdown",
      "metadata": {
        "id": "2S_gG4pQNoaZ"
      },
      "source": [
        "หลักการตั้งชื่อตัวแปรเบื่องต้น\r\n",
        "1. ตั้งให้สื่อ\r\n",
        "2. ภาษาอังกฤษ\r\n",
        "3. ใช้ตัวเลขได้แต่ห้ามขึ้นต้นด้วยตัวเลข\r\n",
        "4. ห้ามเว้นวรรค"
      ]
    },
    {
      "cell_type": "code",
      "metadata": {
        "colab": {
          "base_uri": "https://localhost:8080/"
        },
        "id": "4FLn5fe3NkeM",
        "outputId": "1a9093a4-1998-482b-b4a6-960ceb353d82"
      },
      "source": [
        "pi = 3.14159265359\r\n",
        "pi"
      ],
      "execution_count": null,
      "outputs": [
        {
          "output_type": "execute_result",
          "data": {
            "text/plain": [
              "3.14159265359"
            ]
          },
          "metadata": {
            "tags": []
          },
          "execution_count": 5
        }
      ]
    },
    {
      "cell_type": "markdown",
      "metadata": {
        "id": "7vKTja61NUbg"
      },
      "source": [
        "int : จำนวนเต็ม"
      ]
    },
    {
      "cell_type": "code",
      "metadata": {
        "id": "teD-W-6jNTkK"
      },
      "source": [
        "a = 10"
      ],
      "execution_count": null,
      "outputs": []
    },
    {
      "cell_type": "code",
      "metadata": {
        "colab": {
          "base_uri": "https://localhost:8080/"
        },
        "id": "qSUvasFcNcD2",
        "outputId": "85f19b49-a0ee-4e1a-c530-c9553d66a9d4"
      },
      "source": [
        "print(a)"
      ],
      "execution_count": null,
      "outputs": [
        {
          "output_type": "stream",
          "text": [
            "10\n"
          ],
          "name": "stdout"
        }
      ]
    },
    {
      "cell_type": "markdown",
      "metadata": {
        "id": "As1VyADnPQJk"
      },
      "source": [
        "float : จำนวนจริง(ทศนิยม)"
      ]
    },
    {
      "cell_type": "code",
      "metadata": {
        "colab": {
          "base_uri": "https://localhost:8080/"
        },
        "id": "hVNI5bq8NeN7",
        "outputId": "81e1b630-c5b1-4e48-f774-c6b604e082c0"
      },
      "source": [
        "b = 10.\r\n",
        "print(b)"
      ],
      "execution_count": null,
      "outputs": [
        {
          "output_type": "stream",
          "text": [
            "10.0\n"
          ],
          "name": "stdout"
        }
      ]
    },
    {
      "cell_type": "markdown",
      "metadata": {
        "id": "Ip9nWfGjP9NM"
      },
      "source": [
        "char : ข้อความหรือตัวอักษร\r\n",
        "\r\n",
        "-> # hashtag, sharp ใช้สำหรับคอมเม้น"
      ]
    },
    {
      "cell_type": "code",
      "metadata": {
        "colab": {
          "base_uri": "https://localhost:8080/"
        },
        "id": "gejI1T--PbFU",
        "outputId": "9bdd0450-beee-4605-ee2f-821a1502477e"
      },
      "source": [
        "c = 'king' # เราจะบอกว่าตัวแปรเป็นตัวอักษรข้อความโดยการใช้ single quote ' หรือ double quote \" ล้อมรอบ\r\n",
        "print(c)"
      ],
      "execution_count": null,
      "outputs": [
        {
          "output_type": "stream",
          "text": [
            "king\n"
          ],
          "name": "stdout"
        }
      ]
    },
    {
      "cell_type": "markdown",
      "metadata": {
        "id": "4XNukRaEQqpH"
      },
      "source": [
        "การเปลี่ยนเป็น int"
      ]
    },
    {
      "cell_type": "code",
      "metadata": {
        "id": "eIjIgGZ5QiTS"
      },
      "source": [
        "d = '10'"
      ],
      "execution_count": null,
      "outputs": []
    },
    {
      "cell_type": "markdown",
      "metadata": {
        "id": "cWyrINEnSFR9"
      },
      "source": [
        "ต้องเปลี่ยน d ให้เป็น int ก่อน"
      ]
    },
    {
      "cell_type": "code",
      "metadata": {
        "colab": {
          "base_uri": "https://localhost:8080/",
          "height": 162
        },
        "id": "OV5g_FqWR8z0",
        "outputId": "1df20046-3680-4623-bbf1-75d449dab38c"
      },
      "source": [
        "d + 1"
      ],
      "execution_count": null,
      "outputs": [
        {
          "output_type": "error",
          "ename": "TypeError",
          "evalue": "ignored",
          "traceback": [
            "\u001b[0;31m---------------------------------------------------------------------------\u001b[0m",
            "\u001b[0;31mTypeError\u001b[0m                                 Traceback (most recent call last)",
            "\u001b[0;32m<ipython-input-11-2d39be9af043>\u001b[0m in \u001b[0;36m<module>\u001b[0;34m()\u001b[0m\n\u001b[0;32m----> 1\u001b[0;31m \u001b[0md\u001b[0m \u001b[0;34m+\u001b[0m \u001b[0;36m1\u001b[0m\u001b[0;34m\u001b[0m\u001b[0;34m\u001b[0m\u001b[0m\n\u001b[0m",
            "\u001b[0;31mTypeError\u001b[0m: must be str, not int"
          ]
        }
      ]
    },
    {
      "cell_type": "code",
      "metadata": {
        "colab": {
          "base_uri": "https://localhost:8080/"
        },
        "id": "Kn-OJBX_R-V9",
        "outputId": "2051b229-15e3-486d-a161-9ea0f494fc8c"
      },
      "source": [
        "int(d)+1"
      ],
      "execution_count": null,
      "outputs": [
        {
          "output_type": "execute_result",
          "data": {
            "text/plain": [
              "11"
            ]
          },
          "metadata": {
            "tags": []
          },
          "execution_count": 12
        }
      ]
    },
    {
      "cell_type": "code",
      "metadata": {
        "colab": {
          "base_uri": "https://localhost:8080/"
        },
        "id": "l5vFm33VSCx3",
        "outputId": "90ce9dea-aedc-4b67-8bd7-18c03fc02196"
      },
      "source": [
        "print(a)\r\n",
        "print(float(a))\r\n",
        "print(str(a))"
      ],
      "execution_count": null,
      "outputs": [
        {
          "output_type": "stream",
          "text": [
            "10\n",
            "10.0\n",
            "10\n"
          ],
          "name": "stdout"
        }
      ]
    },
    {
      "cell_type": "markdown",
      "metadata": {
        "id": "4YcDuzz9SxBD"
      },
      "source": [
        "Operation (Operators+,-,*,/,%)"
      ]
    },
    {
      "cell_type": "code",
      "metadata": {
        "colab": {
          "base_uri": "https://localhost:8080/"
        },
        "id": "dqHQSmL_SUGU",
        "outputId": "1e2b9ac0-728f-4ba6-c998-6acbe2606a67"
      },
      "source": [
        "a+b "
      ],
      "execution_count": null,
      "outputs": [
        {
          "output_type": "execute_result",
          "data": {
            "text/plain": [
              "20.0"
            ]
          },
          "metadata": {
            "tags": []
          },
          "execution_count": 15
        }
      ]
    },
    {
      "cell_type": "code",
      "metadata": {
        "colab": {
          "base_uri": "https://localhost:8080/"
        },
        "id": "wAFdEt8xS7PA",
        "outputId": "faad34af-be38-44a7-ccec-80fa761fba87"
      },
      "source": [
        "ab = a+b\r\n",
        "print(ab)"
      ],
      "execution_count": null,
      "outputs": [
        {
          "output_type": "stream",
          "text": [
            "20.0\n"
          ],
          "name": "stdout"
        }
      ]
    },
    {
      "cell_type": "markdown",
      "metadata": {
        "id": "ZKBHOmq8TBa9"
      },
      "source": [
        "% หมายถึง modulo"
      ]
    },
    {
      "cell_type": "code",
      "metadata": {
        "colab": {
          "base_uri": "https://localhost:8080/"
        },
        "id": "VX-Yiz_vS-_W",
        "outputId": "01d00d1f-1acf-4e7a-866d-83d43d4652ce"
      },
      "source": [
        "5%3"
      ],
      "execution_count": null,
      "outputs": [
        {
          "output_type": "execute_result",
          "data": {
            "text/plain": [
              "2"
            ]
          },
          "metadata": {
            "tags": []
          },
          "execution_count": 17
        }
      ]
    },
    {
      "cell_type": "code",
      "metadata": {
        "colab": {
          "base_uri": "https://localhost:8080/"
        },
        "id": "kjdmM-WUTJSg",
        "outputId": "4e15c249-2c15-4181-b6b0-020105e3d1dd"
      },
      "source": [
        "7%2"
      ],
      "execution_count": null,
      "outputs": [
        {
          "output_type": "execute_result",
          "data": {
            "text/plain": [
              "1"
            ]
          },
          "metadata": {
            "tags": []
          },
          "execution_count": 18
        }
      ]
    },
    {
      "cell_type": "markdown",
      "metadata": {
        "id": "obbzugjwTXcc"
      },
      "source": [
        "### คำสั่ง print แบบพิเศษ (การ format string)"
      ]
    },
    {
      "cell_type": "code",
      "metadata": {
        "colab": {
          "base_uri": "https://localhost:8080/"
        },
        "id": "Du5LFchaTKsE",
        "outputId": "423f3b37-7643-47cd-fd56-4e88e48d1eb5"
      },
      "source": [
        "print('ตัวแปร') #สิ่งที่อยู่ข้องในวงเล็บคือ ตัวแปร และ string"
      ],
      "execution_count": null,
      "outputs": [
        {
          "output_type": "stream",
          "text": [
            "ตัวแปร\n"
          ],
          "name": "stdout"
        }
      ]
    },
    {
      "cell_type": "code",
      "metadata": {
        "colab": {
          "base_uri": "https://localhost:8080/"
        },
        "id": "6fTVwJ9IT1sw",
        "outputId": "9257fb65-e82e-47e8-a84f-df6ccb0ca4b3"
      },
      "source": [
        "print(f'% การหารเอาเศษ เช่น 7%3 = {7%3}') # เพิ่ม f หน้า 'string' และใช้ {} ใส่โค้ด"
      ],
      "execution_count": null,
      "outputs": [
        {
          "output_type": "stream",
          "text": [
            "% การหารเอาเศษ เช่น 7%3 = 1\n"
          ],
          "name": "stdout"
        }
      ]
    },
    {
      "cell_type": "code",
      "metadata": {
        "colab": {
          "base_uri": "https://localhost:8080/"
        },
        "id": "HeGZtM3TULAK",
        "outputId": "b518d3c9-b117-47e7-c3ca-9c443931a365"
      },
      "source": [
        "print(f'% การหารเอาเศษ เช่น 7%3 = {7%3} แต่ \\n/ คือการหารปกติ เช่น 7/3 = {7/3}\\n// คือการหารเอาส่วน เช่น 7//3 = {7//3}') # \\n คือการขึ้นบรรทัดใหม่"
      ],
      "execution_count": null,
      "outputs": [
        {
          "output_type": "stream",
          "text": [
            "% การหารเอาเศษ เช่น 7%3 = 1 แต่ \n",
            "/ คือการหารปกติ เช่น 7/3 = 2.3333333333333335\n",
            "// คือการหารเอาส่วน เช่น 7//3 = 2\n"
          ],
          "name": "stdout"
        }
      ]
    },
    {
      "cell_type": "markdown",
      "metadata": {
        "id": "1btNMVU9XOcS"
      },
      "source": [
        "โจทย์ เพิ่มอีกบรรทัด แสดงวิธีการหารเอาส่วน"
      ]
    },
    {
      "cell_type": "code",
      "metadata": {
        "colab": {
          "base_uri": "https://localhost:8080/"
        },
        "id": "9auTqMcQVOEx",
        "outputId": "8e1757a8-4752-41b5-f5da-873214cee7e7"
      },
      "source": [
        "time = 9//5\r\n",
        "print(time)"
      ],
      "execution_count": null,
      "outputs": [
        {
          "output_type": "stream",
          "text": [
            "1\n"
          ],
          "name": "stdout"
        }
      ]
    },
    {
      "cell_type": "code",
      "metadata": {
        "colab": {
          "base_uri": "https://localhost:8080/"
        },
        "id": "bFN3hPf9Wizo",
        "outputId": "3dd9c614-cef0-4583-e685-7c9f26e94c50"
      },
      "source": [
        "i = 7/3\r\n",
        "print(int(i))"
      ],
      "execution_count": null,
      "outputs": [
        {
          "output_type": "stream",
          "text": [
            "2\n"
          ],
          "name": "stdout"
        }
      ]
    },
    {
      "cell_type": "markdown",
      "metadata": {
        "id": "-42IZoYcaknB"
      },
      "source": [
        "DATA STRUCTURE (โครงสร้างข้อมูล)"
      ]
    },
    {
      "cell_type": "markdown",
      "metadata": {
        "id": "vso27yjrayrQ"
      },
      "source": [
        "List คือการเอาตัวแปรหลายๆตัวมาเรียงกัน\r\n",
        "listสามารถแบ่งได้เป็น 2แบบ\r\n"
      ]
    },
    {
      "cell_type": "markdown",
      "metadata": {
        "id": "_sWIxpTQbA00"
      },
      "source": [
        "แบบที่1 > sqare brackets"
      ]
    },
    {
      "cell_type": "code",
      "metadata": {
        "id": "chIAU5a2ZZdF"
      },
      "source": [
        "list_a = []"
      ],
      "execution_count": null,
      "outputs": []
    },
    {
      "cell_type": "code",
      "metadata": {
        "colab": {
          "base_uri": "https://localhost:8080/"
        },
        "id": "kCrir7LgbIh2",
        "outputId": "5cfd6720-e182-4a6d-b576-1ede8e5bf0d7"
      },
      "source": [
        "list_b = [1,5,'v']\r\n",
        "print(list_b)"
      ],
      "execution_count": null,
      "outputs": [
        {
          "output_type": "stream",
          "text": [
            "[1, 5, 'v']\n"
          ],
          "name": "stdout"
        }
      ]
    },
    {
      "cell_type": "markdown",
      "metadata": {
        "id": "aZ7tlHzmbbzH"
      },
      "source": [
        "###ลำดับที่อยู่ในlist มีความสำคัญ(ลำดับใน list เริ่มจาก 0,1,2,...)"
      ]
    },
    {
      "cell_type": "code",
      "metadata": {
        "colab": {
          "base_uri": "https://localhost:8080/"
        },
        "id": "hXG3Aus9bP7k",
        "outputId": "ba43f158-38f1-4376-9876-b787cefa4c28"
      },
      "source": [
        "list_b[1]"
      ],
      "execution_count": null,
      "outputs": [
        {
          "output_type": "execute_result",
          "data": {
            "text/plain": [
              "5"
            ]
          },
          "metadata": {
            "tags": []
          },
          "execution_count": 34
        }
      ]
    },
    {
      "cell_type": "markdown",
      "metadata": {
        "id": "_TzH2gezbwfY"
      },
      "source": [
        "แบบที่2"
      ]
    },
    {
      "cell_type": "code",
      "metadata": {
        "colab": {
          "base_uri": "https://localhost:8080/"
        },
        "id": "cM7sljFwbuDp",
        "outputId": "62dd12f7-0e91-4abe-eb91-707ff6780c9b"
      },
      "source": [
        "list_c =list()\r\n",
        "print(list_c)"
      ],
      "execution_count": null,
      "outputs": [
        {
          "output_type": "stream",
          "text": [
            "[]\n"
          ],
          "name": "stdout"
        }
      ]
    },
    {
      "cell_type": "markdown",
      "metadata": {
        "id": "6aKMmg-fcGnj"
      },
      "source": [
        "append() เพิ่มสมาชิกใน list"
      ]
    },
    {
      "cell_type": "code",
      "metadata": {
        "colab": {
          "base_uri": "https://localhost:8080/"
        },
        "id": "r_yziqOsb1ZS",
        "outputId": "e21b4ff3-df72-4b8a-f5ff-2b37309c6f35"
      },
      "source": [
        "list_b.append('u')\r\n",
        "print(list_b)"
      ],
      "execution_count": null,
      "outputs": [
        {
          "output_type": "stream",
          "text": [
            "[1, 5, 'v', 'u']\n"
          ],
          "name": "stdout"
        }
      ]
    },
    {
      "cell_type": "code",
      "metadata": {
        "colab": {
          "base_uri": "https://localhost:8080/",
          "height": 35
        },
        "id": "THZi14c8cRMd",
        "outputId": "0b97eef8-4000-491b-f044-c16e355afb91"
      },
      "source": [
        "list_b.pop() ###ดึงสมาชิกตัวสุดท้ายออกจาก list"
      ],
      "execution_count": null,
      "outputs": [
        {
          "output_type": "execute_result",
          "data": {
            "application/vnd.google.colaboratory.intrinsic+json": {
              "type": "string"
            },
            "text/plain": [
              "'u'"
            ]
          },
          "metadata": {
            "tags": []
          },
          "execution_count": 39
        }
      ]
    },
    {
      "cell_type": "code",
      "metadata": {
        "colab": {
          "base_uri": "https://localhost:8080/"
        },
        "id": "y88TBHQFcaYP",
        "outputId": "d3398849-a1f9-4c81-adf3-ee412598e84d"
      },
      "source": [
        "list_b"
      ],
      "execution_count": null,
      "outputs": [
        {
          "output_type": "execute_result",
          "data": {
            "text/plain": [
              "[1, 5, 'v']"
            ]
          },
          "metadata": {
            "tags": []
          },
          "execution_count": 40
        }
      ]
    },
    {
      "cell_type": "code",
      "metadata": {
        "colab": {
          "base_uri": "https://localhost:8080/"
        },
        "id": "BkuMXyo1cf_9",
        "outputId": "0de0163e-4748-4f1a-f2e0-5148731add09"
      },
      "source": [
        "list_b.append(list_a)\r\n",
        "list_b"
      ],
      "execution_count": null,
      "outputs": [
        {
          "output_type": "execute_result",
          "data": {
            "text/plain": [
              "[1, 5, 'v', []]"
            ]
          },
          "metadata": {
            "tags": []
          },
          "execution_count": 43
        }
      ]
    },
    {
      "cell_type": "markdown",
      "metadata": {
        "id": "KPmb9tiYdCNo"
      },
      "source": [
        "String > list of characters"
      ]
    },
    {
      "cell_type": "code",
      "metadata": {
        "colab": {
          "base_uri": "https://localhost:8080/",
          "height": 35
        },
        "id": "kmu4AR7cc69q",
        "outputId": "1bec64b8-746f-4a24-809a-5a7f5845ae0f"
      },
      "source": [
        "t = 'python is easy'\r\n",
        "t"
      ],
      "execution_count": null,
      "outputs": [
        {
          "output_type": "execute_result",
          "data": {
            "application/vnd.google.colaboratory.intrinsic+json": {
              "type": "string"
            },
            "text/plain": [
              "'python is easy'"
            ]
          },
          "metadata": {
            "tags": []
          },
          "execution_count": 44
        }
      ]
    },
    {
      "cell_type": "code",
      "metadata": {
        "colab": {
          "base_uri": "https://localhost:8080/"
        },
        "id": "TYCjzhx-dM5O",
        "outputId": "d7033753-6dde-4400-debd-f7cdc076dae3"
      },
      "source": [
        "len(list_c) #คำสั่งตรวจสอบความยาวของlist"
      ],
      "execution_count": null,
      "outputs": [
        {
          "output_type": "execute_result",
          "data": {
            "text/plain": [
              "0"
            ]
          },
          "metadata": {
            "tags": []
          },
          "execution_count": 45
        }
      ]
    },
    {
      "cell_type": "code",
      "metadata": {
        "colab": {
          "base_uri": "https://localhost:8080/"
        },
        "id": "gGWd77eWdVJS",
        "outputId": "4bbd8020-3968-4360-8611-e6d4d649a97b"
      },
      "source": [
        "len(list_b)"
      ],
      "execution_count": null,
      "outputs": [
        {
          "output_type": "execute_result",
          "data": {
            "text/plain": [
              "4"
            ]
          },
          "metadata": {
            "tags": []
          },
          "execution_count": 46
        }
      ]
    },
    {
      "cell_type": "code",
      "metadata": {
        "colab": {
          "base_uri": "https://localhost:8080/"
        },
        "id": "UecP8ssgd8NM",
        "outputId": "203be095-d239-499f-baa4-180ec2ba5550"
      },
      "source": [
        "len(t)"
      ],
      "execution_count": null,
      "outputs": [
        {
          "output_type": "execute_result",
          "data": {
            "text/plain": [
              "14"
            ]
          },
          "metadata": {
            "tags": []
          },
          "execution_count": 47
        }
      ]
    },
    {
      "cell_type": "markdown",
      "metadata": {
        "id": "p1iMs0M1eHez"
      },
      "source": [
        "access amember of a list (list&string)\r\n",
        "โดยการเริ่มนับจะเริ่มนับจาก 0\r\n",
        "0 คือสมาชิกตัวแรก, -1 คือสมาชิกตัวสุดท้าย"
      ]
    },
    {
      "cell_type": "code",
      "metadata": {
        "colab": {
          "base_uri": "https://localhost:8080/",
          "height": 35
        },
        "id": "BjEBk0uVd95d",
        "outputId": "2565f392-2973-4bbb-ce61-c3e0af5949d3"
      },
      "source": [
        "t[1]"
      ],
      "execution_count": null,
      "outputs": [
        {
          "output_type": "execute_result",
          "data": {
            "application/vnd.google.colaboratory.intrinsic+json": {
              "type": "string"
            },
            "text/plain": [
              "'y'"
            ]
          },
          "metadata": {
            "tags": []
          },
          "execution_count": 50
        }
      ]
    },
    {
      "cell_type": "code",
      "metadata": {
        "colab": {
          "base_uri": "https://localhost:8080/",
          "height": 35
        },
        "id": "A8jK-YkUegiV",
        "outputId": "f22b9547-8df3-4195-f177-514adce9f9d1"
      },
      "source": [
        "t[-1]"
      ],
      "execution_count": null,
      "outputs": [
        {
          "output_type": "execute_result",
          "data": {
            "application/vnd.google.colaboratory.intrinsic+json": {
              "type": "string"
            },
            "text/plain": [
              "'y'"
            ]
          },
          "metadata": {
            "tags": []
          },
          "execution_count": 49
        }
      ]
    },
    {
      "cell_type": "code",
      "metadata": {
        "colab": {
          "base_uri": "https://localhost:8080/",
          "height": 35
        },
        "id": "cxNAKF3ne2rP",
        "outputId": "7306991f-419a-4030-8f20-d0fadc5d7b28"
      },
      "source": [
        "t[-3]"
      ],
      "execution_count": null,
      "outputs": [
        {
          "output_type": "execute_result",
          "data": {
            "application/vnd.google.colaboratory.intrinsic+json": {
              "type": "string"
            },
            "text/plain": [
              "'a'"
            ]
          },
          "metadata": {
            "tags": []
          },
          "execution_count": 51
        }
      ]
    },
    {
      "cell_type": "markdown",
      "metadata": {
        "id": "Ctq2e9i3enfr"
      },
      "source": [
        "### ตัวที่อยู่ใน [ ] เราเรียกว่า index (ตัวชี้)"
      ]
    },
    {
      "cell_type": "markdown",
      "metadata": {
        "id": "SieCizX2faU3"
      },
      "source": [
        "List slicing สามารถทำได้โดยใช้ colon:\r\n",
        "\r\n",
        "[a:b]->[a,b)"
      ]
    },
    {
      "cell_type": "code",
      "metadata": {
        "colab": {
          "base_uri": "https://localhost:8080/",
          "height": 35
        },
        "id": "1BfhAa4fejIy",
        "outputId": "7852a4ec-426a-470c-ed35-d611019502c2"
      },
      "source": [
        "t[7:14]"
      ],
      "execution_count": null,
      "outputs": [
        {
          "output_type": "execute_result",
          "data": {
            "application/vnd.google.colaboratory.intrinsic+json": {
              "type": "string"
            },
            "text/plain": [
              "'is easy'"
            ]
          },
          "metadata": {
            "tags": []
          },
          "execution_count": 56
        }
      ]
    },
    {
      "cell_type": "markdown",
      "metadata": {
        "id": "X885VlIWhJfY"
      },
      "source": [
        "ถ้าเว้นว่างหน้า : หมายความว่าหน้า : เป็นเลข 0\r\n",
        "\r\n",
        "ถ้าเว้นว่างหลัง : หมายความว่าไปจนถึงตัวสุดท้าย\r\n"
      ]
    },
    {
      "cell_type": "code",
      "metadata": {
        "colab": {
          "base_uri": "https://localhost:8080/",
          "height": 35
        },
        "id": "w8pCFh8zhXvX",
        "outputId": "abf6215d-9544-402b-c2b4-04588cd4b23d"
      },
      "source": [
        "t[:6]"
      ],
      "execution_count": null,
      "outputs": [
        {
          "output_type": "execute_result",
          "data": {
            "application/vnd.google.colaboratory.intrinsic+json": {
              "type": "string"
            },
            "text/plain": [
              "'python'"
            ]
          },
          "metadata": {
            "tags": []
          },
          "execution_count": 57
        }
      ]
    },
    {
      "cell_type": "markdown",
      "metadata": {
        "id": "zbkU6XxsiOlN"
      },
      "source": [
        "เราสามารถเอา list มาต่อกันได้ด้วย +\r\n"
      ]
    },
    {
      "cell_type": "code",
      "metadata": {
        "colab": {
          "base_uri": "https://localhost:8080/"
        },
        "id": "hylsSS9ChXr8",
        "outputId": "4114d578-c434-48f9-b11d-d2aa626d632f"
      },
      "source": [
        "list_b + list_b"
      ],
      "execution_count": null,
      "outputs": [
        {
          "output_type": "execute_result",
          "data": {
            "text/plain": [
              "[1, 5, 'v', [], 1, 5, 'v', []]"
            ]
          },
          "metadata": {
            "tags": []
          },
          "execution_count": 58
        }
      ]
    },
    {
      "cell_type": "code",
      "metadata": {
        "colab": {
          "base_uri": "https://localhost:8080/",
          "height": 162
        },
        "id": "3oKMZFtOgor8",
        "outputId": "2a1c9980-08e6-489f-f203-6caa4ad10bff"
      },
      "source": [
        "t + list_b ###ไม่สามารถเอาlistมาต่อกับstring"
      ],
      "execution_count": null,
      "outputs": [
        {
          "output_type": "error",
          "ename": "TypeError",
          "evalue": "ignored",
          "traceback": [
            "\u001b[0;31m---------------------------------------------------------------------------\u001b[0m",
            "\u001b[0;31mTypeError\u001b[0m                                 Traceback (most recent call last)",
            "\u001b[0;32m<ipython-input-59-aa08c6fe6906>\u001b[0m in \u001b[0;36m<module>\u001b[0;34m()\u001b[0m\n\u001b[0;32m----> 1\u001b[0;31m \u001b[0mt\u001b[0m \u001b[0;34m+\u001b[0m \u001b[0mlist_b\u001b[0m \u001b[0;31m###ไม่สามารถเอาlistมาต่อกับstring\u001b[0m\u001b[0;34m\u001b[0m\u001b[0;34m\u001b[0m\u001b[0m\n\u001b[0m",
            "\u001b[0;31mTypeError\u001b[0m: must be str, not list"
          ]
        }
      ]
    },
    {
      "cell_type": "markdown",
      "metadata": {
        "id": "JG3Lyizvi8YK"
      },
      "source": [
        "### การแบ่ง string ตามสัญลักษณ์ที่กำหนด -> split string "
      ]
    },
    {
      "cell_type": "code",
      "metadata": {
        "id": "Ilx_RVXRi33d"
      },
      "source": [
        "pt = t.split(' ')"
      ],
      "execution_count": null,
      "outputs": []
    },
    {
      "cell_type": "code",
      "metadata": {
        "colab": {
          "base_uri": "https://localhost:8080/",
          "height": 35
        },
        "id": "H7kQQP5okZ9B",
        "outputId": "ef3ef272-93db-4b9b-9a2d-c436bdb4aec4"
      },
      "source": [
        "### วิธีรวมกลับ\r\n",
        "' '.join(pt)"
      ],
      "execution_count": null,
      "outputs": [
        {
          "output_type": "execute_result",
          "data": {
            "application/vnd.google.colaboratory.intrinsic+json": {
              "type": "string"
            },
            "text/plain": [
              "'python is easy'"
            ]
          },
          "metadata": {
            "tags": []
          },
          "execution_count": 65
        }
      ]
    },
    {
      "cell_type": "code",
      "metadata": {
        "id": "KtfYh1IfjWpA"
      },
      "source": [
        "time = '12:30:15'"
      ],
      "execution_count": null,
      "outputs": []
    },
    {
      "cell_type": "code",
      "metadata": {
        "colab": {
          "base_uri": "https://localhost:8080/"
        },
        "id": "CMFHk3vZjbtd",
        "outputId": "24d70e68-665f-4e47-c860-d59b3251efbd"
      },
      "source": [
        "time.split(':')"
      ],
      "execution_count": null,
      "outputs": [
        {
          "output_type": "execute_result",
          "data": {
            "text/plain": [
              "['12', '30', '15']"
            ]
          },
          "metadata": {
            "tags": []
          },
          "execution_count": 62
        }
      ]
    },
    {
      "cell_type": "markdown",
      "metadata": {
        "id": "MUpl6s_KjpMN"
      },
      "source": [
        "# Assignment"
      ]
    },
    {
      "cell_type": "markdown",
      "metadata": {
        "id": "l64rOcMRk6GG"
      },
      "source": [
        "คำนวณเวลาเป็นวินาทีของเวลาต่อไปนี้โดยใช้คำสั่ง split() ช่วย\r\n",
        "\r\n",
        "12:30:15\r\n",
        "\r\n",
        "13:41:07\r\n",
        "\r\n",
        "12:53:15\r\n",
        "\r\n",
        "00:59:25\r\n",
        "\r\n",
        "11:11:11\r\n",
        "\r\n",
        "16:06:09"
      ]
    },
    {
      "cell_type": "code",
      "metadata": {
        "colab": {
          "base_uri": "https://localhost:8080/"
        },
        "id": "4-ZtsPPcjlOY",
        "outputId": "e16f581d-0134-4603-a71f-94882940a973"
      },
      "source": [
        "one = '12:30:15'\r\n",
        "two = '13:41:07'\r\n",
        "three = '12:53:15'\r\n",
        "four = '00:59:25'\r\n",
        "five = '11:11:11'\r\n",
        "six = '16:06:09'\r\n",
        "list_g = []\r\n",
        "list_g.append(one)\r\n",
        "list_g.append(two)\r\n",
        "list_g.append(three)\r\n",
        "list_g.append(four)\r\n",
        "list_g.append(five)\r\n",
        "list_g.append(six)\r\n",
        "print(list_g)\r\n",
        "onei = one.split(':')\r\n",
        "onei\r\n",
        "onep = int(onei[0])*3600\r\n",
        "oneo = int(onei[1])*60\r\n",
        "oney = int(onei[2])\r\n",
        "print(onep+oneo+oney)"
      ],
      "execution_count": 17,
      "outputs": [
        {
          "output_type": "stream",
          "text": [
            "['12:30:15', '13:41:07', '12:53:15', '00:59:25', '11:11:11', '16:06:09']\n",
            "45015\n"
          ],
          "name": "stdout"
        }
      ]
    },
    {
      "cell_type": "code",
      "metadata": {
        "id": "ijg4dQxJteJp"
      },
      "source": [
        "def time(datetime):\r\n",
        "    DT = datetime.split(':')\r\n",
        "    DT\r\n",
        "    hour = int(DT[0])*3600\r\n",
        "    minute = int(DT[1])*60\r\n",
        "    second = int(DT[2])\r\n",
        "    intre = hour+minute+second\r\n",
        "    dec = f'เวลา {datetime} ผลรวมเวลา {intre}'\r\n",
        "    print(dec)"
      ],
      "execution_count": 15,
      "outputs": []
    },
    {
      "cell_type": "code",
      "metadata": {
        "id": "H8KTe4DuuGrj",
        "outputId": "cf31c238-f297-45fb-e9d7-6a061946e5de",
        "colab": {
          "base_uri": "https://localhost:8080/"
        }
      },
      "source": [
        "time('12:30:15')\r\n",
        "time('13:41:07')\r\n",
        "time('12:53:15')\r\n",
        "time('00:59:25')\r\n",
        "time('11:11:11')\r\n",
        "time('16:06:09')"
      ],
      "execution_count": 16,
      "outputs": [
        {
          "output_type": "stream",
          "text": [
            "เวลา 12:30:15 ผลรวมเวลา 45015\n",
            "เวลา 13:41:07 ผลรวมเวลา 49267\n",
            "เวลา 12:53:15 ผลรวมเวลา 46395\n",
            "เวลา 00:59:25 ผลรวมเวลา 3565\n",
            "เวลา 11:11:11 ผลรวมเวลา 40271\n",
            "เวลา 16:06:09 ผลรวมเวลา 57969\n"
          ],
          "name": "stdout"
        }
      ]
    },
    {
      "cell_type": "code",
      "metadata": {
        "id": "LkAM8vn119nD",
        "outputId": "7adbe796-2ec4-435b-dab9-1a314e1e3234",
        "colab": {
          "base_uri": "https://localhost:8080/",
          "height": 128
        }
      },
      "source": [
        "for i in list_g :\r\n",
        "    def time(i):\r\n",
        "    DT = i.split(':')\r\n",
        "    DT\r\n",
        "    hour = int(DT[0])*3600\r\n",
        "    minute = int(DT[1])*60\r\n",
        "    second = int(DT[2])\r\n",
        "    intre = hour+minute+second\r\n",
        "    dec = f'เวลา {datetime} ผลรวมเวลา {intre}'\r\n",
        "    print(dec)"
      ],
      "execution_count": 19,
      "outputs": [
        {
          "output_type": "error",
          "ename": "IndentationError",
          "evalue": "ignored",
          "traceback": [
            "\u001b[0;36m  File \u001b[0;32m\"<ipython-input-19-3de24575f023>\"\u001b[0;36m, line \u001b[0;32m3\u001b[0m\n\u001b[0;31m    DT = i.split(':')\u001b[0m\n\u001b[0m     ^\u001b[0m\n\u001b[0;31mIndentationError\u001b[0m\u001b[0;31m:\u001b[0m expected an indented block\n"
          ]
        }
      ]
    },
    {
      "cell_type": "markdown",
      "metadata": {
        "id": "w-kbx-w416_c"
      },
      "source": [
        ""
      ]
    },
    {
      "cell_type": "code",
      "metadata": {
        "id": "nu8REk7cnktu",
        "colab": {
          "base_uri": "https://localhost:8080/"
        },
        "outputId": "0756b757-4b32-4377-edad-2cf70c6aed7b"
      },
      "source": [
        "twoi = two.split(':')\r\n",
        "twoi\r\n",
        "twop = int(twoi[0])*3600\r\n",
        "twoo = int(twoi[1])*60\r\n",
        "twoy = int(twoi[2])\r\n",
        "print(twop+twoo+twoy)"
      ],
      "execution_count": null,
      "outputs": [
        {
          "output_type": "stream",
          "text": [
            "49267\n"
          ],
          "name": "stdout"
        }
      ]
    },
    {
      "cell_type": "code",
      "metadata": {
        "id": "CvsOZ0eIUQp6",
        "colab": {
          "base_uri": "https://localhost:8080/"
        },
        "outputId": "dc9dc290-b1ce-4b30-e2be-b2e8811d0676"
      },
      "source": [
        "threei = three.split(':')\r\n",
        "threei\r\n",
        "threep = int(threei[0])*3600\r\n",
        "threeo = int(threei[1])*60\r\n",
        "threey = int(threei[2])\r\n",
        "print(threep+threeo+threey)"
      ],
      "execution_count": null,
      "outputs": [
        {
          "output_type": "stream",
          "text": [
            "46395\n"
          ],
          "name": "stdout"
        }
      ]
    },
    {
      "cell_type": "code",
      "metadata": {
        "id": "xdBWxf6Kikkv",
        "colab": {
          "base_uri": "https://localhost:8080/"
        },
        "outputId": "5d6562be-bdee-4215-c852-693a2127be4a"
      },
      "source": [
        "fouri = four.split(':')\r\n",
        "fouri\r\n",
        "fourp = int(fouri[0])*3600\r\n",
        "fouro = int(fouri[1])*60\r\n",
        "foury = int(fouri[2])\r\n",
        "print(fourp+fouro+foury)"
      ],
      "execution_count": null,
      "outputs": [
        {
          "output_type": "stream",
          "text": [
            "3565\n"
          ],
          "name": "stdout"
        }
      ]
    },
    {
      "cell_type": "code",
      "metadata": {
        "id": "2VMclT_win_n",
        "colab": {
          "base_uri": "https://localhost:8080/"
        },
        "outputId": "4577c0de-3a4b-456a-c556-91e2f74edc9f"
      },
      "source": [
        "fivei = five.split(':')\r\n",
        "fivei\r\n",
        "fivep = int(fivei[0])*3600\r\n",
        "fiveo = int(fivei[1])*60\r\n",
        "fivey = int(fivei[2])\r\n",
        "print(fivep+fiveo+fivey)"
      ],
      "execution_count": null,
      "outputs": [
        {
          "output_type": "stream",
          "text": [
            "40271\n"
          ],
          "name": "stdout"
        }
      ]
    },
    {
      "cell_type": "code",
      "metadata": {
        "id": "PkhTCySViq64",
        "colab": {
          "base_uri": "https://localhost:8080/"
        },
        "outputId": "315794be-e798-461f-e49f-f337d547f730"
      },
      "source": [
        "sixi = six.split(':')\r\n",
        "sixi\r\n",
        "sixp = int(sixi[0])*3600\r\n",
        "sixo = int(sixi[1])*60\r\n",
        "sixy = int(sixi[2])\r\n",
        "print(sixp+sixo+sixy)"
      ],
      "execution_count": null,
      "outputs": [
        {
          "output_type": "stream",
          "text": [
            "57969\n"
          ],
          "name": "stdout"
        }
      ]
    },
    {
      "cell_type": "code",
      "metadata": {
        "id": "jc0cKf_Liu3G",
        "colab": {
          "base_uri": "https://localhost:8080/",
          "height": 162
        },
        "outputId": "b61155f4-8253-46be-92d1-ed85166ad43d"
      },
      "source": [
        "i = int(list_g)"
      ],
      "execution_count": null,
      "outputs": [
        {
          "output_type": "error",
          "ename": "TypeError",
          "evalue": "ignored",
          "traceback": [
            "\u001b[0;31m---------------------------------------------------------------------------\u001b[0m",
            "\u001b[0;31mTypeError\u001b[0m                                 Traceback (most recent call last)",
            "\u001b[0;32m<ipython-input-23-2927beb7219e>\u001b[0m in \u001b[0;36m<module>\u001b[0;34m()\u001b[0m\n\u001b[0;32m----> 1\u001b[0;31m \u001b[0mi\u001b[0m \u001b[0;34m=\u001b[0m \u001b[0mint\u001b[0m\u001b[0;34m(\u001b[0m\u001b[0mlist_g\u001b[0m\u001b[0;34m)\u001b[0m\u001b[0;34m\u001b[0m\u001b[0;34m\u001b[0m\u001b[0m\n\u001b[0m",
            "\u001b[0;31mTypeError\u001b[0m: int() argument must be a string, a bytes-like object or a number, not 'list'"
          ]
        }
      ]
    },
    {
      "cell_type": "code",
      "metadata": {
        "id": "AkVsDLOppI5h"
      },
      "source": [
        ""
      ],
      "execution_count": null,
      "outputs": []
    }
  ]
}