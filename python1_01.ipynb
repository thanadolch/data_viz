{
  "nbformat": 4,
  "nbformat_minor": 0,
  "metadata": {
    "colab": {
      "name": "python1.01.ipynb",
      "provenance": [],
      "authorship_tag": "ABX9TyOlKkDERw+LxRgL5sOpTljA",
      "include_colab_link": true
    },
    "kernelspec": {
      "name": "python3",
      "display_name": "Python 3"
    }
  },
  "cells": [
    {
      "cell_type": "markdown",
      "metadata": {
        "id": "view-in-github",
        "colab_type": "text"
      },
      "source": [
        "<a href=\"https://colab.research.google.com/github/thanadolch/data_viz/blob/main/python1_01.ipynb\" target=\"_parent\"><img src=\"https://colab.research.google.com/assets/colab-badge.svg\" alt=\"Open In Colab\"/></a>"
      ]
    },
    {
      "cell_type": "markdown",
      "metadata": {
        "id": "8AHKDouKNIuI"
      },
      "source": [
        "Variables"
      ]
    },
    {
      "cell_type": "code",
      "metadata": {
        "colab": {
          "base_uri": "https://localhost:8080/"
        },
        "id": "agP0YdJDMyX_",
        "outputId": "62465c90-4e9b-44e7-aa73-72ead645f12d"
      },
      "source": [
        "3.14159265359"
      ],
      "execution_count": 1,
      "outputs": [
        {
          "output_type": "execute_result",
          "data": {
            "text/plain": [
              "3.14159265359"
            ]
          },
          "metadata": {
            "tags": []
          },
          "execution_count": 1
        }
      ]
    },
    {
      "cell_type": "markdown",
      "metadata": {
        "id": "2S_gG4pQNoaZ"
      },
      "source": [
        "หลักการตั้งชื่อตัวแปรเบื่องต้น\r\n",
        "1. ตั้งให้สื่อ\r\n",
        "2. ภาษาอังกฤษ\r\n",
        "3. ใช้ตัวเลขได้แต่ห้ามขึ้นต้นด้วยตัวเลข\r\n",
        "4. ห้ามเว้นวรรค"
      ]
    },
    {
      "cell_type": "code",
      "metadata": {
        "colab": {
          "base_uri": "https://localhost:8080/"
        },
        "id": "4FLn5fe3NkeM",
        "outputId": "78c41f57-743e-4833-b632-c3f7c3eeaa4a"
      },
      "source": [
        "pi = 3.14159265359\r\n",
        "pi"
      ],
      "execution_count": 2,
      "outputs": [
        {
          "output_type": "execute_result",
          "data": {
            "text/plain": [
              "3.14159265359"
            ]
          },
          "metadata": {
            "tags": []
          },
          "execution_count": 2
        }
      ]
    },
    {
      "cell_type": "markdown",
      "metadata": {
        "id": "7vKTja61NUbg"
      },
      "source": [
        "int : จำนวนเต็ม"
      ]
    },
    {
      "cell_type": "code",
      "metadata": {
        "id": "teD-W-6jNTkK"
      },
      "source": [
        "a = 10"
      ],
      "execution_count": 3,
      "outputs": []
    },
    {
      "cell_type": "code",
      "metadata": {
        "colab": {
          "base_uri": "https://localhost:8080/"
        },
        "id": "qSUvasFcNcD2",
        "outputId": "dbe7ab16-5d55-4700-fa3f-4f0a22bb12fe"
      },
      "source": [
        "print(a)"
      ],
      "execution_count": 4,
      "outputs": [
        {
          "output_type": "stream",
          "text": [
            "10\n"
          ],
          "name": "stdout"
        }
      ]
    },
    {
      "cell_type": "markdown",
      "metadata": {
        "id": "As1VyADnPQJk"
      },
      "source": [
        "float : จำนวนจริง(ทศนิยม)"
      ]
    },
    {
      "cell_type": "code",
      "metadata": {
        "colab": {
          "base_uri": "https://localhost:8080/"
        },
        "id": "hVNI5bq8NeN7",
        "outputId": "92936465-7854-4e59-b0ff-c3bb2489ce9f"
      },
      "source": [
        "b = 10.\r\n",
        "print(b)"
      ],
      "execution_count": 5,
      "outputs": [
        {
          "output_type": "stream",
          "text": [
            "10.0\n"
          ],
          "name": "stdout"
        }
      ]
    },
    {
      "cell_type": "markdown",
      "metadata": {
        "id": "Ip9nWfGjP9NM"
      },
      "source": [
        "char : ข้อความหรือตัวอักษร\r\n",
        "\r\n",
        "-> # hashtag, sharp ใช้สำหรับคอมเม้น"
      ]
    },
    {
      "cell_type": "code",
      "metadata": {
        "colab": {
          "base_uri": "https://localhost:8080/"
        },
        "id": "gejI1T--PbFU",
        "outputId": "97c7e5aa-5c90-447b-e06e-ae81cde6df50"
      },
      "source": [
        "c = 'king' # เราจะบอกว่าตัวแปรเป็นตัวอักษรข้อความโดยการใช้ single quote ' หรือ double quote \" ล้อมรอบ\r\n",
        "print(c)"
      ],
      "execution_count": 6,
      "outputs": [
        {
          "output_type": "stream",
          "text": [
            "king\n"
          ],
          "name": "stdout"
        }
      ]
    },
    {
      "cell_type": "markdown",
      "metadata": {
        "id": "4XNukRaEQqpH"
      },
      "source": [
        "การเปลี่ยนเป็น int"
      ]
    },
    {
      "cell_type": "code",
      "metadata": {
        "id": "eIjIgGZ5QiTS"
      },
      "source": [
        "d = '10'"
      ],
      "execution_count": 7,
      "outputs": []
    },
    {
      "cell_type": "markdown",
      "metadata": {
        "id": "cWyrINEnSFR9"
      },
      "source": [
        "ต้องเปลี่ยน d ให้เป็น int ก่อน"
      ]
    },
    {
      "cell_type": "code",
      "metadata": {
        "colab": {
          "base_uri": "https://localhost:8080/",
          "height": 162
        },
        "id": "OV5g_FqWR8z0",
        "outputId": "d1c63fc7-bfe1-4c36-dc69-5f027646739f"
      },
      "source": [
        "d + 1"
      ],
      "execution_count": 8,
      "outputs": [
        {
          "output_type": "error",
          "ename": "TypeError",
          "evalue": "ignored",
          "traceback": [
            "\u001b[0;31m---------------------------------------------------------------------------\u001b[0m",
            "\u001b[0;31mTypeError\u001b[0m                                 Traceback (most recent call last)",
            "\u001b[0;32m<ipython-input-8-2d39be9af043>\u001b[0m in \u001b[0;36m<module>\u001b[0;34m()\u001b[0m\n\u001b[0;32m----> 1\u001b[0;31m \u001b[0md\u001b[0m \u001b[0;34m+\u001b[0m \u001b[0;36m1\u001b[0m\u001b[0;34m\u001b[0m\u001b[0;34m\u001b[0m\u001b[0m\n\u001b[0m",
            "\u001b[0;31mTypeError\u001b[0m: must be str, not int"
          ]
        }
      ]
    },
    {
      "cell_type": "code",
      "metadata": {
        "colab": {
          "base_uri": "https://localhost:8080/"
        },
        "id": "Kn-OJBX_R-V9",
        "outputId": "702bbc5d-7f18-49ea-f240-aa10bb65561a"
      },
      "source": [
        "int(d)+1"
      ],
      "execution_count": 9,
      "outputs": [
        {
          "output_type": "execute_result",
          "data": {
            "text/plain": [
              "11"
            ]
          },
          "metadata": {
            "tags": []
          },
          "execution_count": 9
        }
      ]
    },
    {
      "cell_type": "code",
      "metadata": {
        "colab": {
          "base_uri": "https://localhost:8080/"
        },
        "id": "l5vFm33VSCx3",
        "outputId": "81d55a4b-816f-48f3-9af3-8d9cee6f7f04"
      },
      "source": [
        "print(a)\r\n",
        "print(float(a))\r\n",
        "print(str(a))"
      ],
      "execution_count": 10,
      "outputs": [
        {
          "output_type": "stream",
          "text": [
            "10\n",
            "10.0\n",
            "10\n"
          ],
          "name": "stdout"
        }
      ]
    },
    {
      "cell_type": "markdown",
      "metadata": {
        "id": "4YcDuzz9SxBD"
      },
      "source": [
        "Operation (Operators+,-,*,/,%)"
      ]
    },
    {
      "cell_type": "code",
      "metadata": {
        "colab": {
          "base_uri": "https://localhost:8080/"
        },
        "id": "dqHQSmL_SUGU",
        "outputId": "7fa3f0bd-5708-49b8-ee90-37fdf07b7fd4"
      },
      "source": [
        "a+b "
      ],
      "execution_count": 11,
      "outputs": [
        {
          "output_type": "execute_result",
          "data": {
            "text/plain": [
              "20.0"
            ]
          },
          "metadata": {
            "tags": []
          },
          "execution_count": 11
        }
      ]
    },
    {
      "cell_type": "code",
      "metadata": {
        "colab": {
          "base_uri": "https://localhost:8080/"
        },
        "id": "wAFdEt8xS7PA",
        "outputId": "ceba09bc-b009-40dd-cc02-7912887cec93"
      },
      "source": [
        "ab = a+b\r\n",
        "print(ab)"
      ],
      "execution_count": 12,
      "outputs": [
        {
          "output_type": "stream",
          "text": [
            "20.0\n"
          ],
          "name": "stdout"
        }
      ]
    },
    {
      "cell_type": "markdown",
      "metadata": {
        "id": "ZKBHOmq8TBa9"
      },
      "source": [
        "% หมายถึง modulo"
      ]
    },
    {
      "cell_type": "code",
      "metadata": {
        "colab": {
          "base_uri": "https://localhost:8080/"
        },
        "id": "VX-Yiz_vS-_W",
        "outputId": "1b6980f5-f9f8-44fa-dabf-1c107a6ef8e2"
      },
      "source": [
        "5%3"
      ],
      "execution_count": 13,
      "outputs": [
        {
          "output_type": "execute_result",
          "data": {
            "text/plain": [
              "2"
            ]
          },
          "metadata": {
            "tags": []
          },
          "execution_count": 13
        }
      ]
    },
    {
      "cell_type": "code",
      "metadata": {
        "colab": {
          "base_uri": "https://localhost:8080/"
        },
        "id": "kjdmM-WUTJSg",
        "outputId": "50756e41-5b39-4d93-8ae1-eef11d78cff8"
      },
      "source": [
        "7%2"
      ],
      "execution_count": 14,
      "outputs": [
        {
          "output_type": "execute_result",
          "data": {
            "text/plain": [
              "1"
            ]
          },
          "metadata": {
            "tags": []
          },
          "execution_count": 14
        }
      ]
    },
    {
      "cell_type": "markdown",
      "metadata": {
        "id": "obbzugjwTXcc"
      },
      "source": [
        "### คำสั่ง print แบบพิเศษ (การ format string)"
      ]
    },
    {
      "cell_type": "code",
      "metadata": {
        "colab": {
          "base_uri": "https://localhost:8080/"
        },
        "id": "Du5LFchaTKsE",
        "outputId": "de1f05b1-901c-4469-ec87-ff31e3f92143"
      },
      "source": [
        "print('ตัวแปร') #สิ่งที่อยู่ข้องในวงเล็บคือ ตัวแปร และ string"
      ],
      "execution_count": 15,
      "outputs": [
        {
          "output_type": "stream",
          "text": [
            "ตัวแปร\n"
          ],
          "name": "stdout"
        }
      ]
    },
    {
      "cell_type": "code",
      "metadata": {
        "colab": {
          "base_uri": "https://localhost:8080/"
        },
        "id": "6fTVwJ9IT1sw",
        "outputId": "32bbec38-9e64-44d3-98b1-92de68bd83b5"
      },
      "source": [
        "print(f'% การหารเอาเศษ เช่น 7%3 = {7%3}') # เพิ่ม f หน้า 'string' และใช้ {} ใส่โค้ด"
      ],
      "execution_count": 16,
      "outputs": [
        {
          "output_type": "stream",
          "text": [
            "% การหารเอาเศษ เช่น 7%3 = 1\n"
          ],
          "name": "stdout"
        }
      ]
    },
    {
      "cell_type": "code",
      "metadata": {
        "colab": {
          "base_uri": "https://localhost:8080/"
        },
        "id": "HeGZtM3TULAK",
        "outputId": "09f4ccc2-d166-453f-e4fd-ddf366c01f7e"
      },
      "source": [
        "print(f'% การหารเอาเศษ เช่น 7%3 = {7%3} แต่ \\n/ คือการหารปกติ เช่น 7/3 = {7/3}\\n// คือการหารเอาส่วน เช่น 7//3 = {7//3}') # \\n คือการขึ้นบรรทัดใหม่"
      ],
      "execution_count": 17,
      "outputs": [
        {
          "output_type": "stream",
          "text": [
            "% การหารเอาเศษ เช่น 7%3 = 1 แต่ \n",
            "/ คือการหารปกติ เช่น 7/3 = 2.3333333333333335\n",
            "// คือการหารเอาส่วน เช่น 7//3 = 2\n"
          ],
          "name": "stdout"
        }
      ]
    },
    {
      "cell_type": "markdown",
      "metadata": {
        "id": "1btNMVU9XOcS"
      },
      "source": [
        "โจทย์ เพิ่มอีกบรรทัด แสดงวิธีการหารเอาส่วน"
      ]
    },
    {
      "cell_type": "code",
      "metadata": {
        "colab": {
          "base_uri": "https://localhost:8080/"
        },
        "id": "9auTqMcQVOEx",
        "outputId": "3b8a2242-e34c-4ce3-d606-59f404b040ef"
      },
      "source": [
        "time = 9//5\r\n",
        "print(time)"
      ],
      "execution_count": 18,
      "outputs": [
        {
          "output_type": "stream",
          "text": [
            "1\n"
          ],
          "name": "stdout"
        }
      ]
    },
    {
      "cell_type": "code",
      "metadata": {
        "colab": {
          "base_uri": "https://localhost:8080/"
        },
        "id": "bFN3hPf9Wizo",
        "outputId": "7a83500d-b0d7-4ffb-d198-41f9dd348ca1"
      },
      "source": [
        "i = 7/3\r\n",
        "print(int(i))"
      ],
      "execution_count": 19,
      "outputs": [
        {
          "output_type": "stream",
          "text": [
            "2\n"
          ],
          "name": "stdout"
        }
      ]
    },
    {
      "cell_type": "markdown",
      "metadata": {
        "id": "-42IZoYcaknB"
      },
      "source": [
        "DATA STRUCTURE (โครงสร้างข้อมูล)"
      ]
    },
    {
      "cell_type": "markdown",
      "metadata": {
        "id": "vso27yjrayrQ"
      },
      "source": [
        "List คือการเอาตัวแปรหลายๆตัวมาเรียงกัน\r\n",
        "listสามารถแบ่งได้เป็น 2แบบ\r\n"
      ]
    },
    {
      "cell_type": "markdown",
      "metadata": {
        "id": "_sWIxpTQbA00"
      },
      "source": [
        "แบบที่1 > sqare brackets"
      ]
    },
    {
      "cell_type": "code",
      "metadata": {
        "id": "chIAU5a2ZZdF"
      },
      "source": [
        "list_a = []"
      ],
      "execution_count": 20,
      "outputs": []
    },
    {
      "cell_type": "code",
      "metadata": {
        "colab": {
          "base_uri": "https://localhost:8080/"
        },
        "id": "kCrir7LgbIh2",
        "outputId": "c0fa085d-fde0-44cc-c54a-ab1bbdc80917"
      },
      "source": [
        "list_b = [1,5,'v']\r\n",
        "print(list_b)"
      ],
      "execution_count": 21,
      "outputs": [
        {
          "output_type": "stream",
          "text": [
            "[1, 5, 'v']\n"
          ],
          "name": "stdout"
        }
      ]
    },
    {
      "cell_type": "markdown",
      "metadata": {
        "id": "aZ7tlHzmbbzH"
      },
      "source": [
        "###ลำดับที่อยู่ในlist มีความสำคัญ(ลำดับใน list เริ่มจาก 0,1,2,...)"
      ]
    },
    {
      "cell_type": "code",
      "metadata": {
        "colab": {
          "base_uri": "https://localhost:8080/"
        },
        "id": "hXG3Aus9bP7k",
        "outputId": "ad8dbfd3-0396-4099-dcc6-25947aaaf407"
      },
      "source": [
        "list_b[1]"
      ],
      "execution_count": 22,
      "outputs": [
        {
          "output_type": "execute_result",
          "data": {
            "text/plain": [
              "5"
            ]
          },
          "metadata": {
            "tags": []
          },
          "execution_count": 22
        }
      ]
    },
    {
      "cell_type": "markdown",
      "metadata": {
        "id": "_TzH2gezbwfY"
      },
      "source": [
        "แบบที่2"
      ]
    },
    {
      "cell_type": "code",
      "metadata": {
        "colab": {
          "base_uri": "https://localhost:8080/"
        },
        "id": "cM7sljFwbuDp",
        "outputId": "0412a07b-6d23-4394-e097-c640a6a73f31"
      },
      "source": [
        "list_c =list()\r\n",
        "print(list_c)"
      ],
      "execution_count": 23,
      "outputs": [
        {
          "output_type": "stream",
          "text": [
            "[]\n"
          ],
          "name": "stdout"
        }
      ]
    },
    {
      "cell_type": "markdown",
      "metadata": {
        "id": "6aKMmg-fcGnj"
      },
      "source": [
        "append() เพิ่มสมาชิกใน list"
      ]
    },
    {
      "cell_type": "code",
      "metadata": {
        "colab": {
          "base_uri": "https://localhost:8080/"
        },
        "id": "r_yziqOsb1ZS",
        "outputId": "67040b74-5137-4938-e921-054258be264a"
      },
      "source": [
        "list_b.append('u')\r\n",
        "print(list_b)"
      ],
      "execution_count": 24,
      "outputs": [
        {
          "output_type": "stream",
          "text": [
            "[1, 5, 'v', 'u']\n"
          ],
          "name": "stdout"
        }
      ]
    },
    {
      "cell_type": "code",
      "metadata": {
        "colab": {
          "base_uri": "https://localhost:8080/",
          "height": 35
        },
        "id": "THZi14c8cRMd",
        "outputId": "b679188c-514a-4776-ccaa-b025ed851ba9"
      },
      "source": [
        "list_b.pop() ###ดึงสมาชิกตัวสุดท้ายออกจาก list"
      ],
      "execution_count": 25,
      "outputs": [
        {
          "output_type": "execute_result",
          "data": {
            "application/vnd.google.colaboratory.intrinsic+json": {
              "type": "string"
            },
            "text/plain": [
              "'u'"
            ]
          },
          "metadata": {
            "tags": []
          },
          "execution_count": 25
        }
      ]
    },
    {
      "cell_type": "code",
      "metadata": {
        "colab": {
          "base_uri": "https://localhost:8080/"
        },
        "id": "y88TBHQFcaYP",
        "outputId": "38e56cb2-76f2-4d47-ff09-278aeeca0f92"
      },
      "source": [
        "list_b"
      ],
      "execution_count": 26,
      "outputs": [
        {
          "output_type": "execute_result",
          "data": {
            "text/plain": [
              "[1, 5, 'v']"
            ]
          },
          "metadata": {
            "tags": []
          },
          "execution_count": 26
        }
      ]
    },
    {
      "cell_type": "code",
      "metadata": {
        "colab": {
          "base_uri": "https://localhost:8080/"
        },
        "id": "BkuMXyo1cf_9",
        "outputId": "c6ba6a65-d6b7-466e-bbe5-fab9f9dbb1f4"
      },
      "source": [
        "list_b.append(list_a)\r\n",
        "list_b"
      ],
      "execution_count": 27,
      "outputs": [
        {
          "output_type": "execute_result",
          "data": {
            "text/plain": [
              "[1, 5, 'v', []]"
            ]
          },
          "metadata": {
            "tags": []
          },
          "execution_count": 27
        }
      ]
    },
    {
      "cell_type": "markdown",
      "metadata": {
        "id": "KPmb9tiYdCNo"
      },
      "source": [
        "String > list of characters"
      ]
    },
    {
      "cell_type": "code",
      "metadata": {
        "colab": {
          "base_uri": "https://localhost:8080/",
          "height": 35
        },
        "id": "kmu4AR7cc69q",
        "outputId": "7c18000a-233d-49c7-e237-48d220dccb64"
      },
      "source": [
        "t = 'python is easy'\r\n",
        "t"
      ],
      "execution_count": 28,
      "outputs": [
        {
          "output_type": "execute_result",
          "data": {
            "application/vnd.google.colaboratory.intrinsic+json": {
              "type": "string"
            },
            "text/plain": [
              "'python is easy'"
            ]
          },
          "metadata": {
            "tags": []
          },
          "execution_count": 28
        }
      ]
    },
    {
      "cell_type": "code",
      "metadata": {
        "colab": {
          "base_uri": "https://localhost:8080/"
        },
        "id": "TYCjzhx-dM5O",
        "outputId": "0fea6798-7d47-4326-d03c-5d6b63fb6444"
      },
      "source": [
        "len(list_c) #คำสั่งตรวจสอบความยาวของlist"
      ],
      "execution_count": 29,
      "outputs": [
        {
          "output_type": "execute_result",
          "data": {
            "text/plain": [
              "0"
            ]
          },
          "metadata": {
            "tags": []
          },
          "execution_count": 29
        }
      ]
    },
    {
      "cell_type": "code",
      "metadata": {
        "colab": {
          "base_uri": "https://localhost:8080/"
        },
        "id": "gGWd77eWdVJS",
        "outputId": "b7709277-1949-4628-c1f5-49f4f86f1fcd"
      },
      "source": [
        "len(list_b)"
      ],
      "execution_count": 30,
      "outputs": [
        {
          "output_type": "execute_result",
          "data": {
            "text/plain": [
              "4"
            ]
          },
          "metadata": {
            "tags": []
          },
          "execution_count": 30
        }
      ]
    },
    {
      "cell_type": "code",
      "metadata": {
        "colab": {
          "base_uri": "https://localhost:8080/"
        },
        "id": "UecP8ssgd8NM",
        "outputId": "44322d84-2460-4ffa-bf9a-95832bee036a"
      },
      "source": [
        "len(t)"
      ],
      "execution_count": 31,
      "outputs": [
        {
          "output_type": "execute_result",
          "data": {
            "text/plain": [
              "14"
            ]
          },
          "metadata": {
            "tags": []
          },
          "execution_count": 31
        }
      ]
    },
    {
      "cell_type": "markdown",
      "metadata": {
        "id": "p1iMs0M1eHez"
      },
      "source": [
        "access amember of a list (list&string)\r\n",
        "โดยการเริ่มนับจะเริ่มนับจาก 0\r\n",
        "0 คือสมาชิกตัวแรก, -1 คือสมาชิกตัวสุดท้าย"
      ]
    },
    {
      "cell_type": "code",
      "metadata": {
        "colab": {
          "base_uri": "https://localhost:8080/",
          "height": 35
        },
        "id": "BjEBk0uVd95d",
        "outputId": "f2e2b015-a4c2-4c99-db8c-a88012fb0fc0"
      },
      "source": [
        "t[1]"
      ],
      "execution_count": 32,
      "outputs": [
        {
          "output_type": "execute_result",
          "data": {
            "application/vnd.google.colaboratory.intrinsic+json": {
              "type": "string"
            },
            "text/plain": [
              "'y'"
            ]
          },
          "metadata": {
            "tags": []
          },
          "execution_count": 32
        }
      ]
    },
    {
      "cell_type": "code",
      "metadata": {
        "colab": {
          "base_uri": "https://localhost:8080/",
          "height": 35
        },
        "id": "A8jK-YkUegiV",
        "outputId": "548c1c16-c123-4cdd-aed1-4895ee0c6e91"
      },
      "source": [
        "t[-1]"
      ],
      "execution_count": 33,
      "outputs": [
        {
          "output_type": "execute_result",
          "data": {
            "application/vnd.google.colaboratory.intrinsic+json": {
              "type": "string"
            },
            "text/plain": [
              "'y'"
            ]
          },
          "metadata": {
            "tags": []
          },
          "execution_count": 33
        }
      ]
    },
    {
      "cell_type": "code",
      "metadata": {
        "colab": {
          "base_uri": "https://localhost:8080/",
          "height": 35
        },
        "id": "cxNAKF3ne2rP",
        "outputId": "2b40295a-e517-4e96-c319-2fe7ae559374"
      },
      "source": [
        "t[-3]"
      ],
      "execution_count": 34,
      "outputs": [
        {
          "output_type": "execute_result",
          "data": {
            "application/vnd.google.colaboratory.intrinsic+json": {
              "type": "string"
            },
            "text/plain": [
              "'a'"
            ]
          },
          "metadata": {
            "tags": []
          },
          "execution_count": 34
        }
      ]
    },
    {
      "cell_type": "markdown",
      "metadata": {
        "id": "Ctq2e9i3enfr"
      },
      "source": [
        "### ตัวที่อยู่ใน [ ] เราเรียกว่า index (ตัวชี้)"
      ]
    },
    {
      "cell_type": "markdown",
      "metadata": {
        "id": "SieCizX2faU3"
      },
      "source": [
        "List slicing สามารถทำได้โดยใช้ colon:\r\n",
        "\r\n",
        "[a:b]->[a,b)"
      ]
    },
    {
      "cell_type": "code",
      "metadata": {
        "colab": {
          "base_uri": "https://localhost:8080/",
          "height": 35
        },
        "id": "1BfhAa4fejIy",
        "outputId": "f031f2df-f86a-4958-f505-cf5e8198dce8"
      },
      "source": [
        "t[7:14]"
      ],
      "execution_count": 35,
      "outputs": [
        {
          "output_type": "execute_result",
          "data": {
            "application/vnd.google.colaboratory.intrinsic+json": {
              "type": "string"
            },
            "text/plain": [
              "'is easy'"
            ]
          },
          "metadata": {
            "tags": []
          },
          "execution_count": 35
        }
      ]
    },
    {
      "cell_type": "markdown",
      "metadata": {
        "id": "X885VlIWhJfY"
      },
      "source": [
        "ถ้าเว้นว่างหน้า : หมายความว่าหน้า : เป็นเลข 0\r\n",
        "\r\n",
        "ถ้าเว้นว่างหลัง : หมายความว่าไปจนถึงตัวสุดท้าย\r\n"
      ]
    },
    {
      "cell_type": "code",
      "metadata": {
        "colab": {
          "base_uri": "https://localhost:8080/",
          "height": 35
        },
        "id": "w8pCFh8zhXvX",
        "outputId": "7d40410f-f486-4e58-cc10-753fe4bf7548"
      },
      "source": [
        "t[:6]"
      ],
      "execution_count": 36,
      "outputs": [
        {
          "output_type": "execute_result",
          "data": {
            "application/vnd.google.colaboratory.intrinsic+json": {
              "type": "string"
            },
            "text/plain": [
              "'python'"
            ]
          },
          "metadata": {
            "tags": []
          },
          "execution_count": 36
        }
      ]
    },
    {
      "cell_type": "markdown",
      "metadata": {
        "id": "zbkU6XxsiOlN"
      },
      "source": [
        "เราสามารถเอา list มาต่อกันได้ด้วย +\r\n"
      ]
    },
    {
      "cell_type": "code",
      "metadata": {
        "colab": {
          "base_uri": "https://localhost:8080/"
        },
        "id": "hylsSS9ChXr8",
        "outputId": "832f9827-2e8e-4872-8d99-8d60f394801c"
      },
      "source": [
        "list_b + list_b"
      ],
      "execution_count": 37,
      "outputs": [
        {
          "output_type": "execute_result",
          "data": {
            "text/plain": [
              "[1, 5, 'v', [], 1, 5, 'v', []]"
            ]
          },
          "metadata": {
            "tags": []
          },
          "execution_count": 37
        }
      ]
    },
    {
      "cell_type": "code",
      "metadata": {
        "colab": {
          "base_uri": "https://localhost:8080/",
          "height": 162
        },
        "id": "3oKMZFtOgor8",
        "outputId": "739b4f99-98d4-4ec8-94aa-a0c45a42e913"
      },
      "source": [
        "t + list_b ###ไม่สามารถเอาlistมาต่อกับstring"
      ],
      "execution_count": 38,
      "outputs": [
        {
          "output_type": "error",
          "ename": "TypeError",
          "evalue": "ignored",
          "traceback": [
            "\u001b[0;31m---------------------------------------------------------------------------\u001b[0m",
            "\u001b[0;31mTypeError\u001b[0m                                 Traceback (most recent call last)",
            "\u001b[0;32m<ipython-input-38-aa08c6fe6906>\u001b[0m in \u001b[0;36m<module>\u001b[0;34m()\u001b[0m\n\u001b[0;32m----> 1\u001b[0;31m \u001b[0mt\u001b[0m \u001b[0;34m+\u001b[0m \u001b[0mlist_b\u001b[0m \u001b[0;31m###ไม่สามารถเอาlistมาต่อกับstring\u001b[0m\u001b[0;34m\u001b[0m\u001b[0;34m\u001b[0m\u001b[0m\n\u001b[0m",
            "\u001b[0;31mTypeError\u001b[0m: must be str, not list"
          ]
        }
      ]
    },
    {
      "cell_type": "markdown",
      "metadata": {
        "id": "JG3Lyizvi8YK"
      },
      "source": [
        "### การแบ่ง string ตามสัญลักษณ์ที่กำหนด -> split string "
      ]
    },
    {
      "cell_type": "code",
      "metadata": {
        "id": "Ilx_RVXRi33d"
      },
      "source": [
        "pt = t.split(' ')"
      ],
      "execution_count": 39,
      "outputs": []
    },
    {
      "cell_type": "code",
      "metadata": {
        "colab": {
          "base_uri": "https://localhost:8080/",
          "height": 35
        },
        "id": "H7kQQP5okZ9B",
        "outputId": "192f1fac-2d71-4874-9306-7d54155bbdcd"
      },
      "source": [
        "### วิธีรวมกลับ\r\n",
        "' '.join(pt)"
      ],
      "execution_count": 40,
      "outputs": [
        {
          "output_type": "execute_result",
          "data": {
            "application/vnd.google.colaboratory.intrinsic+json": {
              "type": "string"
            },
            "text/plain": [
              "'python is easy'"
            ]
          },
          "metadata": {
            "tags": []
          },
          "execution_count": 40
        }
      ]
    },
    {
      "cell_type": "code",
      "metadata": {
        "id": "KtfYh1IfjWpA"
      },
      "source": [
        "time = '12:30:15'"
      ],
      "execution_count": 41,
      "outputs": []
    },
    {
      "cell_type": "code",
      "metadata": {
        "colab": {
          "base_uri": "https://localhost:8080/"
        },
        "id": "CMFHk3vZjbtd",
        "outputId": "a1c443f3-2971-4efa-d8e1-c7affcdbeaa7"
      },
      "source": [
        "time.split(':')"
      ],
      "execution_count": 42,
      "outputs": [
        {
          "output_type": "execute_result",
          "data": {
            "text/plain": [
              "['12', '30', '15']"
            ]
          },
          "metadata": {
            "tags": []
          },
          "execution_count": 42
        }
      ]
    },
    {
      "cell_type": "markdown",
      "metadata": {
        "id": "MUpl6s_KjpMN"
      },
      "source": [
        "# Assignment"
      ]
    },
    {
      "cell_type": "markdown",
      "metadata": {
        "id": "l64rOcMRk6GG"
      },
      "source": [
        "คำนวณเวลาเป็นวินาทีของเวลาต่อไปนี้โดยใช้คำสั่ง split() ช่วย\r\n",
        "\r\n",
        "12:30:15\r\n",
        "\r\n",
        "13:41:07\r\n",
        "\r\n",
        "12:53:15\r\n",
        "\r\n",
        "00:59:25\r\n",
        "\r\n",
        "11:11:11\r\n",
        "\r\n",
        "16:06:09"
      ]
    },
    {
      "cell_type": "code",
      "metadata": {
        "colab": {
          "base_uri": "https://localhost:8080/"
        },
        "id": "4-ZtsPPcjlOY",
        "outputId": "da5d06a7-ed4c-4d3e-e023-02d49263003e"
      },
      "source": [
        "one = '12:30:15'\r\n",
        "two = '13:41:07'\r\n",
        "three = '12:53:15'\r\n",
        "four = '00:59:25'\r\n",
        "five = '11:11:11'\r\n",
        "six = '16:06:09'\r\n",
        "list_g = []\r\n",
        "list_g.append(one)\r\n",
        "list_g.append(two)\r\n",
        "list_g.append(three)\r\n",
        "list_g.append(four)\r\n",
        "list_g.append(five)\r\n",
        "list_g.append(six)\r\n",
        "print(list_g)\r\n",
        "onei = one.split(':')\r\n",
        "onei\r\n",
        "onep = int(onei[0])*3600\r\n",
        "oneo = int(onei[1])*60\r\n",
        "oney = int(onei[2])\r\n",
        "print(onep+oneo+oney)"
      ],
      "execution_count": 43,
      "outputs": [
        {
          "output_type": "stream",
          "text": [
            "['12:30:15', '13:41:07', '12:53:15', '00:59:25', '11:11:11', '16:06:09']\n",
            "45015\n"
          ],
          "name": "stdout"
        }
      ]
    },
    {
      "cell_type": "code",
      "metadata": {
        "id": "ijg4dQxJteJp"
      },
      "source": [
        "def time(datetime):\r\n",
        "    DT = datetime.split(':')\r\n",
        "    DT\r\n",
        "    hour = int(DT[0])*3600\r\n",
        "    minute = int(DT[1])*60\r\n",
        "    second = int(DT[2])\r\n",
        "    intre = hour+minute+second\r\n",
        "    dec = f'เวลา {datetime} ผลรวมเวลา {intre}'\r\n",
        "    print(dec)"
      ],
      "execution_count": 44,
      "outputs": []
    },
    {
      "cell_type": "code",
      "metadata": {
        "id": "H8KTe4DuuGrj",
        "colab": {
          "base_uri": "https://localhost:8080/"
        },
        "outputId": "a7734a26-823e-49b1-c673-bf9999aab28c"
      },
      "source": [
        "time('12:30:15')\r\n",
        "time('13:41:07')\r\n",
        "time('12:53:15')\r\n",
        "time('00:59:25')\r\n",
        "time('11:11:11')\r\n",
        "time('16:06:09')"
      ],
      "execution_count": 45,
      "outputs": [
        {
          "output_type": "stream",
          "text": [
            "เวลา 12:30:15 ผลรวมเวลา 45015\n",
            "เวลา 13:41:07 ผลรวมเวลา 49267\n",
            "เวลา 12:53:15 ผลรวมเวลา 46395\n",
            "เวลา 00:59:25 ผลรวมเวลา 3565\n",
            "เวลา 11:11:11 ผลรวมเวลา 40271\n",
            "เวลา 16:06:09 ผลรวมเวลา 57969\n"
          ],
          "name": "stdout"
        }
      ]
    },
    {
      "cell_type": "code",
      "metadata": {
        "id": "LkAM8vn119nD",
        "colab": {
          "base_uri": "https://localhost:8080/",
          "height": 128
        },
        "outputId": "5a22f7ad-8d27-4862-9ecc-23e297ac20ea"
      },
      "source": [
        "for i in list_g :\r\n",
        "    def time(i):\r\n",
        "    DT = i.split(':')\r\n",
        "    DT\r\n",
        "    hour = int(DT[0])*3600\r\n",
        "    minute = int(DT[1])*60\r\n",
        "    second = int(DT[2])\r\n",
        "    intre = hour+minute+second\r\n",
        "    dec = f'เวลา {datetime} ผลรวมเวลา {intre}'\r\n",
        "    print(dec)"
      ],
      "execution_count": 46,
      "outputs": [
        {
          "output_type": "error",
          "ename": "IndentationError",
          "evalue": "ignored",
          "traceback": [
            "\u001b[0;36m  File \u001b[0;32m\"<ipython-input-46-3de24575f023>\"\u001b[0;36m, line \u001b[0;32m3\u001b[0m\n\u001b[0;31m    DT = i.split(':')\u001b[0m\n\u001b[0m     ^\u001b[0m\n\u001b[0;31mIndentationError\u001b[0m\u001b[0;31m:\u001b[0m expected an indented block\n"
          ]
        }
      ]
    },
    {
      "cell_type": "markdown",
      "metadata": {
        "id": "w-kbx-w416_c"
      },
      "source": [
        ""
      ]
    },
    {
      "cell_type": "code",
      "metadata": {
        "id": "nu8REk7cnktu",
        "colab": {
          "base_uri": "https://localhost:8080/"
        },
        "outputId": "29fbb26b-c09a-4557-92df-8dd59486442e"
      },
      "source": [
        "twoi = two.split(':')\r\n",
        "twoi\r\n",
        "twop = int(twoi[0])*3600\r\n",
        "twoo = int(twoi[1])*60\r\n",
        "twoy = int(twoi[2])\r\n",
        "print(twop+twoo+twoy)"
      ],
      "execution_count": 47,
      "outputs": [
        {
          "output_type": "stream",
          "text": [
            "49267\n"
          ],
          "name": "stdout"
        }
      ]
    },
    {
      "cell_type": "code",
      "metadata": {
        "id": "CvsOZ0eIUQp6",
        "colab": {
          "base_uri": "https://localhost:8080/"
        },
        "outputId": "6cf769e0-2e93-4026-9871-f5e014e82fac"
      },
      "source": [
        "threei = three.split(':')\r\n",
        "threei\r\n",
        "threep = int(threei[0])*3600\r\n",
        "threeo = int(threei[1])*60\r\n",
        "threey = int(threei[2])\r\n",
        "print(threep+threeo+threey)"
      ],
      "execution_count": 48,
      "outputs": [
        {
          "output_type": "stream",
          "text": [
            "46395\n"
          ],
          "name": "stdout"
        }
      ]
    },
    {
      "cell_type": "code",
      "metadata": {
        "id": "xdBWxf6Kikkv",
        "colab": {
          "base_uri": "https://localhost:8080/"
        },
        "outputId": "35c1fbff-d618-4c86-b619-e57f5b4c6314"
      },
      "source": [
        "fouri = four.split(':')\r\n",
        "fouri\r\n",
        "fourp = int(fouri[0])*3600\r\n",
        "fouro = int(fouri[1])*60\r\n",
        "foury = int(fouri[2])\r\n",
        "print(fourp+fouro+foury)"
      ],
      "execution_count": 49,
      "outputs": [
        {
          "output_type": "stream",
          "text": [
            "3565\n"
          ],
          "name": "stdout"
        }
      ]
    },
    {
      "cell_type": "code",
      "metadata": {
        "id": "2VMclT_win_n",
        "colab": {
          "base_uri": "https://localhost:8080/"
        },
        "outputId": "28c6b522-7f5e-4446-b851-2657ebe69fa6"
      },
      "source": [
        "fivei = five.split(':')\r\n",
        "fivei\r\n",
        "fivep = int(fivei[0])*3600\r\n",
        "fiveo = int(fivei[1])*60\r\n",
        "fivey = int(fivei[2])\r\n",
        "print(fivep+fiveo+fivey)"
      ],
      "execution_count": 50,
      "outputs": [
        {
          "output_type": "stream",
          "text": [
            "40271\n"
          ],
          "name": "stdout"
        }
      ]
    },
    {
      "cell_type": "code",
      "metadata": {
        "id": "PkhTCySViq64",
        "colab": {
          "base_uri": "https://localhost:8080/"
        },
        "outputId": "966b434f-91b6-4b86-8ee8-15db785e2c29"
      },
      "source": [
        "sixi = six.split(':')\r\n",
        "sixi\r\n",
        "sixp = int(sixi[0])*3600\r\n",
        "sixo = int(sixi[1])*60\r\n",
        "sixy = int(sixi[2])\r\n",
        "print(sixp+sixo+sixy)"
      ],
      "execution_count": 51,
      "outputs": [
        {
          "output_type": "stream",
          "text": [
            "57969\n"
          ],
          "name": "stdout"
        }
      ]
    },
    {
      "cell_type": "code",
      "metadata": {
        "id": "jc0cKf_Liu3G",
        "colab": {
          "base_uri": "https://localhost:8080/",
          "height": 178
        },
        "outputId": "b8600cff-2689-4eac-ddb3-6b53cea138d3"
      },
      "source": [
        "i = int(list_g)"
      ],
      "execution_count": 52,
      "outputs": [
        {
          "output_type": "error",
          "ename": "TypeError",
          "evalue": "ignored",
          "traceback": [
            "\u001b[0;31m---------------------------------------------------------------------------\u001b[0m",
            "\u001b[0;31mTypeError\u001b[0m                                 Traceback (most recent call last)",
            "\u001b[0;32m<ipython-input-52-2927beb7219e>\u001b[0m in \u001b[0;36m<module>\u001b[0;34m()\u001b[0m\n\u001b[0;32m----> 1\u001b[0;31m \u001b[0mi\u001b[0m \u001b[0;34m=\u001b[0m \u001b[0mint\u001b[0m\u001b[0;34m(\u001b[0m\u001b[0mlist_g\u001b[0m\u001b[0;34m)\u001b[0m\u001b[0;34m\u001b[0m\u001b[0;34m\u001b[0m\u001b[0m\n\u001b[0m",
            "\u001b[0;31mTypeError\u001b[0m: int() argument must be a string, a bytes-like object or a number, not 'list'"
          ]
        }
      ]
    },
    {
      "cell_type": "code",
      "metadata": {
        "id": "AkVsDLOppI5h"
      },
      "source": [
        ""
      ],
      "execution_count": 52,
      "outputs": []
    }
  ]
}